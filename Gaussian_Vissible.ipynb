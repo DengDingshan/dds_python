{
 "cells": [
  {
   "cell_type": "markdown",
   "metadata": {},
   "source": [
    "# 用高斯分布计算一列波的反射是否会被吸收\n",
    "\n",
    "输入的值：粗糙表面的高斯分布 均值hm 方差sigma 反射点的高度h0 反射角度theta\n",
    "\n",
    "输出的值：透过概率大约的值\n",
    "\n",
    "如果非标准正态分布X~N(μ,σ^2)，那么关于X的一个一次函数 (X-μ)/σ ，就一定是服从标准正态分布N(0,1)\n",
    "\n",
    "### 也可以import scipy.stats as ss\n",
    "(2，1)正态分布下 2(中值)-3曲线下的面积;\n",
    "\n",
    "如：cdf(x)表示从-inf 到 x 的分布值底下的面积\n",
    "```ss.norm(2.1,1).cdf(3)-0.5```\n",
    "\n"
   ]
  },
  {
   "cell_type": "code",
   "execution_count": null,
   "metadata": {
    "collapsed": true
   },
   "outputs": [],
   "source": [
    "import numpy as np\n",
    "import scipy.stats as ss"
   ]
  },
  {
   "cell_type": "code",
   "execution_count": 36,
   "metadata": {},
   "outputs": [],
   "source": [
    "def Gaussian_Vissible(hm,sigma,h0,theta):\n",
    "    # 用高斯分布计算一列波的反射是否会被吸收(计算透过概率)\n",
    "    # 输入的值：粗糙表面的高斯分布 均值hm 方差sigma 反射点的高度h0 反射角度theta(用弧度制)\n",
    "    # 输出的值：吸收率大约的值\n",
    "    import numpy as np\n",
    "    import scipy.stats as ss\n",
    "    def line(h0,theta,x):\n",
    "        y = h0 + x*np.tan(np.pi/2-theta)\n",
    "        return y\n",
    "    # 3*sigma 以外就都不考虑了\n",
    "    h_max = hm + 3*sigma\n",
    "    delta_x = 0.5\n",
    "    x = 0;\n",
    "    # 对于每一个x，生成一个p,最后所有的p相乘就是待求的p\n",
    "    output = 1\n",
    "    if h0 > h_max:\n",
    "        key = 0\n",
    "    else:\n",
    "        key = 1\n",
    "    while key:\n",
    "        h_ew = line(h0,theta,x)\n",
    "        output *= ss.norm(hm,sigma).cdf(h_ew)\n",
    "        if h_ew >= h_max:\n",
    "            key = 0\n",
    "        x += delta_x\n",
    "        print(x,h_ew)\n",
    "        \n",
    "    return output\n",
    "        "
   ]
  },
  {
   "cell_type": "code",
   "execution_count": 43,
   "metadata": {
    "scrolled": true
   },
   "outputs": [
    {
     "name": "stdout",
     "output_type": "stream",
     "text": [
      "0.5 1.0\n",
      "1.0 2.5388417685876266\n"
     ]
    },
    {
     "data": {
      "text/plain": [
       "0.49999992736122106"
      ]
     },
     "execution_count": 43,
     "metadata": {},
     "output_type": "execute_result"
    }
   ],
   "source": [
    "Gaussian_Vissible(1,0.3,1,np.pi/10)"
   ]
  },
  {
   "cell_type": "code",
   "execution_count": null,
   "metadata": {
    "collapsed": true
   },
   "outputs": [],
   "source": []
  }
 ],
 "metadata": {
  "kernelspec": {
   "display_name": "Python 3",
   "language": "python",
   "name": "python3"
  },
  "language_info": {
   "codemirror_mode": {
    "name": "ipython",
    "version": 3
   },
   "file_extension": ".py",
   "mimetype": "text/x-python",
   "name": "python",
   "nbconvert_exporter": "python",
   "pygments_lexer": "ipython3",
   "version": "3.6.3"
  }
 },
 "nbformat": 4,
 "nbformat_minor": 2
}
