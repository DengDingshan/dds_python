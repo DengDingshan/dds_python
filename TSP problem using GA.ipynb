{
 "cells": [
  {
   "cell_type": "markdown",
   "metadata": {},
   "source": [
    "# 遗传算法解决旅行商问题。（TSP problem)\n",
    "the problem is from this site [TSP problem](http://blog.csdn.net/larry233/article/details/50847387)\n",
    "\n",
    "\n",
    "1. 定义基因序列 gene\n",
    "2. 定义判定函数 $F = distance $\n",
    "3. 定义遗传数量（存活数量判定函数）$ P = \\frac{F_i}{\\sum_{j=1}^NF_j} $\n",
    "4. 定义交叉\n",
    "5. 定义变异\n",
    "6. 获得下一代\n",
    "\n",
    "got it~"
   ]
  },
  {
   "cell_type": "code",
   "execution_count": 15,
   "metadata": {
    "collapsed": true
   },
   "outputs": [],
   "source": [
    "import pandas as pd\n",
    "import numpy as np\n",
    "import random\n",
    "import math\n",
    "import time"
   ]
  },
  {
   "cell_type": "code",
   "execution_count": 16,
   "metadata": {
    "collapsed": true
   },
   "outputs": [],
   "source": [
    "# set the cities number 1 2 3 4, and get the transfer matrix\n",
    "T = np.array([[0,2,6,5],[2,0,4,4],[6,4,0,2],[5,4,2,0]])\n",
    "N = 10**3\n",
    "q_mutation = 0.1\n",
    "q_wantsex = 1"
   ]
  },
  {
   "cell_type": "code",
   "execution_count": 17,
   "metadata": {
    "collapsed": true
   },
   "outputs": [],
   "source": [
    "def F(T,gene):\n",
    "    # the judgement Function = \\sum{distance}\n",
    "    distance = []\n",
    "    for i in range(len(gene) - 1):\n",
    "        distance.append(T[gene[i]][gene[i+1]])\n",
    "    output = sum(distance) + T[gene[0]][gene[-1]]\n",
    "    return output\n",
    "\n",
    "def FP(generation):\n",
    "    # count the total F and P for each generation\n",
    "    cur_F = []\n",
    "    for i in range(len(generation)):\n",
    "        cur_F.append(F(T,generation[i])) # give each single routes a F to judge it\n",
    "    cur_F_ar = np.array(cur_F)\n",
    "    sigma_F = sum(cur_F_ar)\n",
    "    P = []\n",
    "    for i in range(len(cur_F)):\n",
    "        P.append(np.array(cur_F_ar[i])/sigma_F)\n",
    "    P_ar = np.array(P)\n",
    "    # set the max P to 1\n",
    "    P_ar_fil = P_ar*(1/max(P_ar))\n",
    "    return generation, cur_F_ar, P_ar_fil"
   ]
  },
  {
   "cell_type": "code",
   "execution_count": 18,
   "metadata": {
    "collapsed": true
   },
   "outputs": [],
   "source": [
    "def firstgeneration(N,T):\n",
    "    # set the initial gene series.\n",
    "    # numbers of routes = N\n",
    "    gene_lens = len(T[1]) # number of cities\n",
    "    cur_generation = []\n",
    "    cur_F = []\n",
    "    for i in range(N):\n",
    "        gene_single = list(range(gene_lens))\n",
    "        random.shuffle(gene_single)\n",
    "        cur_generation.append(gene_single)\n",
    "        cur_F.append(F(T,gene_single)) # give each single routes a F to judge it\n",
    "\n",
    "    cur_F_ar = np.array(cur_F)\n",
    "    sigma_F = sum(cur_F_ar)\n",
    "    P = []\n",
    "    for i in range(N):\n",
    "        P.append(np.array(cur_F_ar[i])/sigma_F)\n",
    "    P_ar = np.array(P)\n",
    "    # set the max P to 1\n",
    "    P_ar_fil = P_ar*(1/max(P_ar))\n",
    "    return cur_generation, cur_F_ar, P_ar_fil"
   ]
  },
  {
   "cell_type": "code",
   "execution_count": 19,
   "metadata": {
    "collapsed": true
   },
   "outputs": [],
   "source": [
    "def nextgeneration(cur_generation,T,cur_P):\n",
    "    # the good one lives and they will have the chance to have sex\n",
    "    # suppose every year they want to have sex.\n",
    "    N = len(cur_generation)\n",
    "    new_generation = []\n",
    "    new_F = []\n",
    "    new_N = 0\n",
    "    for i in range(N):\n",
    "        u = random.random() # sample from 0~1\n",
    "        if u <= cur_P[i]:\n",
    "            \n",
    "            new_generation.append(cur_generation[i])\n",
    "            new_N += 1\n",
    "            new_F.append(F(T,cur_generation[i]))\n",
    "\n",
    "        else:\n",
    "            continue\n",
    "\n",
    "    new_F_ar = np.array(new_F)\n",
    "    sigma_F = sum(new_F_ar)\n",
    "    P = []\n",
    "    for i in range(new_N):\n",
    "        P.append(np.array(new_F_ar[i])/sigma_F)\n",
    "    P_ar = np.array(P)\n",
    "    # set the max P to 1\n",
    "    P_ar_fil = P_ar*(1/max(P_ar))\n",
    "\n",
    "    return new_generation, new_F_ar, P_ar_fil"
   ]
  },
  {
   "cell_type": "code",
   "execution_count": 20,
   "metadata": {
    "collapsed": true
   },
   "outputs": [],
   "source": [
    "def mutation(generation,q):\n",
    "    # some of the genes switch 2 of its gene\n",
    "    max_figure = len(generation[0])\n",
    "    cards = list(range(max_figure))\n",
    "    for i in range(len(generation)):\n",
    "        u = random.random()\n",
    "        if u <= q:\n",
    "            random.shuffle(cards)\n",
    "            t1,t2 = cards[0:2]\n",
    "            generation[i][t1],generation[i][t2] = generation[i][t2],generation[i][t1]\n",
    "        else:\n",
    "            continue\n",
    "    return generation"
   ]
  },
  {
   "cell_type": "code",
   "execution_count": 21,
   "metadata": {
    "collapsed": true
   },
   "outputs": [],
   "source": [
    "def cross(generation,q):\n",
    "    wantsex = []\n",
    "    for i in range(len(generation)):\n",
    "        u = random.random()\n",
    "        if u <= q:\n",
    "            wantsex.append(generation[i])\n",
    "    random.shuffle(wantsex)\n",
    "    for i in range(math.floor(len(wantsex)/2)):\n",
    "        loc = random.randint(0,len(wantsex[i])-1)\n",
    "        \n",
    "        s1_loc = wantsex[2*i].index(wantsex[2*i + 1][loc]) \n",
    "        s2_loc = wantsex[2*i + 1].index(wantsex[2*i][loc])\n",
    "        # 把原来的这两个选定的数交换\n",
    "        wantsex[2*i][loc],wantsex[2*i+1][loc] = wantsex[2*i+1][loc],wantsex[2*i][loc] \n",
    "        # 接下来对调他们本来位置上的这两个值。\n",
    "        wantsex[2*i][s1_loc],wantsex[2*i+1][s2_loc] = wantsex[2*i+1][s2_loc],wantsex[2*i][s1_loc]\n",
    "        \n",
    "    new_generation = generation + wantsex\n",
    "    return new_generation"
   ]
  },
  {
   "cell_type": "code",
   "execution_count": 22,
   "metadata": {
    "scrolled": true
   },
   "outputs": [
    {
     "name": "stdout",
     "output_type": "stream",
     "text": [
      "1628 1628\n",
      "2582 2582\n",
      "4122 4122\n",
      "6554 6554\n",
      "10570 10570\n",
      "17304 17304\n",
      "28094 28094\n",
      "45644 45644\n",
      "73924 73924\n",
      "120920 120920\n",
      "[0, 3, 2, 1] 13\n",
      "2.810149908065796\n"
     ]
    }
   ],
   "source": [
    "start_time = time.time()\n",
    "\n",
    "yrs = 10\n",
    "cur_generation,cur_F,cur_P = firstgeneration(N,T)\n",
    "\n",
    "for i in range(yrs):\n",
    "    new_generation,new_F,new_P = nextgeneration(cur_generation,T,cur_P)\n",
    "    new_generation = cross(new_generation,q_wantsex)\n",
    "    new_generation = mutation(new_generation,q_mutation)\n",
    "    cur_generation,cur_F,cur_P = FP(new_generation)\n",
    "    print(len(cur_generation),len(cur_P))\n",
    "\n",
    "FF = cur_F.tolist()\n",
    "location = FF.index(min(FF))\n",
    "best_route = cur_generation[location]\n",
    "print(best_route,min(FF))\n",
    "\n",
    "print(time.time() - start_time)"
   ]
  },
  {
   "cell_type": "code",
   "execution_count": null,
   "metadata": {
    "collapsed": true
   },
   "outputs": [],
   "source": []
  }
 ],
 "metadata": {
  "kernelspec": {
   "display_name": "Python 3",
   "language": "python",
   "name": "python3"
  },
  "language_info": {
   "codemirror_mode": {
    "name": "ipython",
    "version": 3
   },
   "file_extension": ".py",
   "mimetype": "text/x-python",
   "name": "python",
   "nbconvert_exporter": "python",
   "pygments_lexer": "ipython3",
   "version": "3.6.3"
  }
 },
 "nbformat": 4,
 "nbformat_minor": 2
}
