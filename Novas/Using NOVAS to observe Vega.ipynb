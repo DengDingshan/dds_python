{
 "cells": [
  {
   "cell_type": "markdown",
   "metadata": {},
   "source": [
    "# 使用NOVAS 观测织女星\n",
    "\n",
    "按照笔记步骤归算织女星在某个UTC时间的地平坐标位置"
   ]
  },
  {
   "cell_type": "markdown",
   "metadata": {},
   "source": [
    "# Now, waiting to do:\n",
    "\n",
    "## How to use Novas to calculate: some Earth Motivate Parameters?\n",
    "\n",
    "> the Parameters has:\n",
    "> 1. 自行 ——> Hippaku\n",
    "> * 周年视差\n",
    "> * 光线引力弯曲\n",
    "> * 周年光行差\n",
    "> * 岁差\n",
    "> * 章动\n",
    "\n"
   ]
  },
  {
   "cell_type": "markdown",
   "metadata": {},
   "source": [
    "## How it shows in the guidebook\n",
    "* Proper motion (generalized): the three-dimensional space motion of the star, relative to that of the solar system barycenter, between the catalog epoch and the date of interest. Assumed linear and computed from the catalog proper motion components, radial velocity, and parallax. Projected onto the sky, the motion amounts to less than 1 arcsecond per year (usually much less) except for a few nearby stars. [starvectors, proper_motion]\n",
    "  \n",
    "* Parallax: the change in our perspective on stars in the solar neighborhood due to the position of the Earth in its orbit. Its magnitude is (distance in parsecs)-1 and, hence, is always less than 1 arcsecond. [bary2obs]\n",
    "* Gravitational light bending: the apparent deflection of the light path in the gravitational field of the Sun and, to a much lesser extent, the other planets. Although it reaches 1.8 arcsecond at the limb of the Sun, it falls to 0.05 arcsecond 10o from the Sun and amounts to no more than a few milliarcseconds over the hemisphere of the sky opposite the Sun. [grav_def, grav_vec]\n",
    "* Aberration: the change in the apparent direction of light caused by the observer’s velocity (v) with respect to the solar system barycenter. Independent of distance, it is approximately equal to v/c, expressed as an angle. Therefore, it can reach 21 arcseconds for observers on the surface of the Earth and somewhat more for instruments in orbit. [aberration]\n",
    "* Atmospheric refraction: the total angular change in the direction of the light path through the Earth’s atmosphere; applies only to an observer on, or near, the surface of the Earth. The direction of refraction is always assumed to be parallel to the local vertical and a function only of zenith distance although these assumptions may not be true in all cases. At optical wavelengths, its magnitude is zero at the zenith, about 1 arcminute at a zenith distance of 45°, and 0.5° at the horizon. Refraction is roughly proportional to the atmospheric pressure at the observer, but it also depends on other atmospheric parameters and the observational wavelength. [equ2hor, refract]\n"
   ]
  },
  {
   "cell_type": "code",
   "execution_count": 1,
   "metadata": {
    "collapsed": true
   },
   "outputs": [],
   "source": [
    "import numpy as np\n",
    "import pandas as pd\n",
    "\n",
    "from novas import compat as novas\n",
    "from novas.compat import eph_manager\n",
    "\n",
    "import de405"
   ]
  },
  {
   "cell_type": "code",
   "execution_count": 5,
   "metadata": {},
   "outputs": [],
   "source": [
    "Vega_catalog = pd.read_csv('/Users/dengdingshan/Documents/data/VEGA.csv')"
   ]
  },
  {
   "cell_type": "code",
   "execution_count": 6,
   "metadata": {},
   "outputs": [
    {
     "data": {
      "text/html": [
       "<div>\n",
       "<style>\n",
       "    .dataframe thead tr:only-child th {\n",
       "        text-align: right;\n",
       "    }\n",
       "\n",
       "    .dataframe thead th {\n",
       "        text-align: left;\n",
       "    }\n",
       "\n",
       "    .dataframe tbody tr th {\n",
       "        vertical-align: top;\n",
       "    }\n",
       "</style>\n",
       "<table border=\"1\" class=\"dataframe\">\n",
       "  <thead>\n",
       "    <tr style=\"text-align: right;\">\n",
       "      <th></th>\n",
       "      <th>RA(ICRS,J1991.25)</th>\n",
       "      <th>DE(ICRS,J1991.25)</th>\n",
       "      <th>e_RA(ICRS,J1991.25)</th>\n",
       "      <th>e_DE(ICRS,J1991.25)</th>\n",
       "      <th>pmRA</th>\n",
       "      <th>pmDE</th>\n",
       "      <th>Plx</th>\n",
       "      <th>RV</th>\n",
       "    </tr>\n",
       "  </thead>\n",
       "  <tbody>\n",
       "    <tr>\n",
       "      <th>0</th>\n",
       "      <td>279.234108</td>\n",
       "      <td>38.782993</td>\n",
       "      <td>0.48</td>\n",
       "      <td>0.47</td>\n",
       "      <td>201.02</td>\n",
       "      <td>287.46</td>\n",
       "      <td>128.93</td>\n",
       "      <td>-20.6</td>\n",
       "    </tr>\n",
       "  </tbody>\n",
       "</table>\n",
       "</div>"
      ],
      "text/plain": [
       "   RA(ICRS,J1991.25)  DE(ICRS,J1991.25)  e_RA(ICRS,J1991.25)  \\\n",
       "0         279.234108          38.782993                 0.48   \n",
       "\n",
       "   e_DE(ICRS,J1991.25)    pmRA    pmDE     Plx    RV  \n",
       "0                 0.47  201.02  287.46  128.93 -20.6  "
      ]
     },
     "execution_count": 6,
     "metadata": {},
     "output_type": "execute_result"
    }
   ],
   "source": [
    "Vega_catalog"
   ]
  },
  {
   "cell_type": "code",
   "execution_count": 11,
   "metadata": {},
   "outputs": [],
   "source": [
    "Cat_Vega = novas.make_cat_entry('VEGA','HIP',91262,\\\n",
    "                                Vega_catalog.loc[0,'RA(ICRS,J1991.25)']*24/360,\\\n",
    "                               Vega_catalog.loc[0,'DE(ICRS,J1991.25)'],\\\n",
    "                                Vega_catalog.loc[0,'pmRA'],\\\n",
    "                               Vega_catalog.loc[0,'pmDE'],\\\n",
    "                               Vega_catalog.loc[0,'Plx'],\\\n",
    "                               Vega_catalog.loc[0,'RV'])"
   ]
  },
  {
   "cell_type": "code",
   "execution_count": 14,
   "metadata": {
    "collapsed": true
   },
   "outputs": [],
   "source": [
    "?novas.make_on_surface"
   ]
  },
  {
   "cell_type": "code",
   "execution_count": null,
   "metadata": {
    "collapsed": true
   },
   "outputs": [],
   "source": []
  }
 ],
 "metadata": {
  "kernelspec": {
   "display_name": "Python 3",
   "language": "python",
   "name": "python3"
  },
  "language_info": {
   "codemirror_mode": {
    "name": "ipython",
    "version": 3
   },
   "file_extension": ".py",
   "mimetype": "text/x-python",
   "name": "python",
   "nbconvert_exporter": "python",
   "pygments_lexer": "ipython3",
   "version": "3.6.3"
  },
  "toc": {
   "base_numbering": 1,
   "nav_menu": {},
   "number_sections": true,
   "sideBar": true,
   "skip_h1_title": false,
   "title_cell": "Table of Contents",
   "title_sidebar": "Contents",
   "toc_cell": false,
   "toc_position": {},
   "toc_section_display": true,
   "toc_window_display": false
  }
 },
 "nbformat": 4,
 "nbformat_minor": 2
}
