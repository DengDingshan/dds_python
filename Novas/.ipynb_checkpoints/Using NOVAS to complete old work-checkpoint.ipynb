{
 "cells": [
  {
   "cell_type": "markdown",
   "metadata": {},
   "source": [
    "# 使用NOVAS 完成上机作业\n"
   ]
  },
  {
   "cell_type": "markdown",
   "metadata": {},
   "source": [
    "# Now, waiting to do:\n",
    "\n",
    "## How to use Novas to calculate: some Earth Motivate Parameters?\n",
    "\n",
    "> the Parameters has:\n",
    "> 1. 自行 ——> Hippaku\n",
    "> * 周年视差\n",
    "> * 光线引力弯曲\n",
    "> * 周年光行差\n",
    "> * 岁差\n",
    "> * 章动\n",
    "\n"
   ]
  },
  {
   "cell_type": "markdown",
   "metadata": {},
   "source": [
    "## How it shows in the guidebook\n",
    "* Proper motion (generalized): the three-dimensional space motion of the star, relative to that of the solar system barycenter, between the catalog epoch and the date of interest. Assumed linear and computed from the catalog proper motion components, radial velocity, and parallax. Projected onto the sky, the motion amounts to less than 1 arcsecond per year (usually much less) except for a few nearby stars. [starvectors, proper_motion]\n",
    "  \n",
    "* Parallax: the change in our perspective on stars in the solar neighborhood due to the position of the Earth in its orbit. Its magnitude is (distance in parsecs)-1 and, hence, is always less than 1 arcsecond. [bary2obs]\n",
    "* Gravitational light bending: the apparent deflection of the light path in the gravitational field of the Sun and, to a much lesser extent, the other planets. Although it reaches 1.8 arcsecond at the limb of the Sun, it falls to 0.05 arcsecond 10o from the Sun and amounts to no more than a few milliarcseconds over the hemisphere of the sky opposite the Sun. [grav_def, grav_vec]\n",
    "* Aberration: the change in the apparent direction of light caused by the observer’s velocity (v) with respect to the solar system barycenter. Independent of distance, it is approximately equal to v/c, expressed as an angle. Therefore, it can reach 21 arcseconds for observers on the surface of the Earth and somewhat more for instruments in orbit. [aberration]\n",
    "* Atmospheric refraction: the total angular change in the direction of the light path through the Earth’s atmosphere; applies only to an observer on, or near, the surface of the Earth. The direction of refraction is always assumed to be parallel to the local vertical and a function only of zenith distance although these assumptions may not be true in all cases. At optical wavelengths, its magnitude is zero at the zenith, about 1 arcminute at a zenith distance of 45°, and 0.5° at the horizon. Refraction is roughly proportional to the atmospheric pressure at the observer, but it also depends on other atmospheric parameters and the observational wavelength. [equ2hor, refract]\n"
   ]
  },
  {
   "cell_type": "code",
   "execution_count": 1,
   "metadata": {
    "collapsed": true
   },
   "outputs": [],
   "source": [
    "import numpy as np\n",
    "import pandas as pd\n",
    "\n",
    "from novas import compat as novas\n",
    "from novas.compat import eph_manager\n",
    "\n",
    "import de405"
   ]
  },
  {
   "cell_type": "code",
   "execution_count": 2,
   "metadata": {},
   "outputs": [
    {
     "name": "stderr",
     "output_type": "stream",
     "text": [
      "\r",
      "[#################################] 100% deltat.preds\n"
     ]
    }
   ],
   "source": [
    "# 使用skyfield包（注意需要科学上网下载deltat表）\n",
    "from skyfield.api import load\n",
    "import skyfield\n",
    "import datetime\n",
    "\n",
    "ts = skyfield.api.load.timescale()"
   ]
  },
  {
   "cell_type": "code",
   "execution_count": 4,
   "metadata": {},
   "outputs": [
    {
     "name": "stdout",
     "output_type": "stream",
     "text": [
      "1599-12-08 23:59:17.817000+00:00\n"
     ]
    }
   ],
   "source": [
    "# Example for using Skyfield\n",
    "\n",
    "t = ts.tdb(jd=2305424.5)\n",
    "tt = t.utc_datetime()\n",
    "print(tt)"
   ]
  },
  {
   "cell_type": "code",
   "execution_count": 25,
   "metadata": {},
   "outputs": [
    {
     "data": {
      "text/plain": [
       "(2305424.5, 2525008.5, 405)"
      ]
     },
     "execution_count": 25,
     "metadata": {},
     "output_type": "execute_result"
    }
   ],
   "source": [
    "jd_start, jd_end, number = eph_manager.ephem_open()"
   ]
  },
  {
   "cell_type": "markdown",
   "metadata": {},
   "source": [
    "## Exercise 1\n",
    "已知某天体的星表位置为ICRS；14h34m16.81183s RA, -12d31'10.3965''DEC.\n",
    "\n",
    "自行:=354. 45 mas/y,=+595. 35 mas/y；\n",
    "\n",
    "视差=0\". 16499，径向速度(退行速度)=0 km/s,\n",
    "\n",
    "观测时刻为2013年4月2日，UTC；\n",
    "\n",
    "地球指向参数为：极移=+50. 995 mas, y=+376. 723 mas，UTl—UTC=+155. 067 5 ms；\n",
    "\n",
    "试求：\n",
    "\n",
    "1. 求该星地心视位置\n",
    "2. 设测站坐标为：\n",
    "\n",
    "经度和纬度=W70°44'11\". 560\tS 30°14'26\". 731，参考椭球面高度2378 m.\n",
    "\n",
    "**求该星的站心位置、地平坐标。**\n",
    "\n",
    "*注：要求结果的赤经以小时，分，秒表示，赤纬以度，角分，角秒表示，精确到毫角秒。*\n"
   ]
  },
  {
   "cell_type": "code",
   "execution_count": 18,
   "metadata": {
    "collapsed": true
   },
   "outputs": [],
   "source": [
    "## Input Parameters\n",
    "\n",
    "ICRS_RA = 14 + 34/60 + 16.81183/3600 # hours\n",
    "ICRS_DEC = -(12 + 31/60 + 10.3965/3600) # degrees\n",
    "\n",
    "pm_RA = 354.45 # mas/y,\n",
    "pm_DEC = +595.35 # mas/y\n",
    "plx = 0.16499 # mas\n",
    "Vr =0 #km/s\n",
    "jd_tt = novas.julian_date(day=2,hour=0,month=4,year=2013)\n",
    "UT1_UTC = 155.0675 # ms, UT1 - UTC\n",
    "\n",
    "Epp_x = 50.995 # mas\n",
    "Epp_y = 376.723 # mas\n",
    "\n",
    "Latitude = -(30 + 14/60 + 26.731/3600) # degree\n",
    "Longitude = -(70 + 44/60 + 11/3600) # degree\n",
    "Altitude = 2378 # m"
   ]
  },
  {
   "cell_type": "code",
   "execution_count": 19,
   "metadata": {
    "collapsed": true
   },
   "outputs": [],
   "source": [
    "# delta_t = tt - ut1\n",
    "\n",
    "Time = ts.tt(jd=jd_tt)\n",
    "delta_t = Time.tt - Time.ut1 # days\n",
    "delta_t = delta_t*(24*3600) # s"
   ]
  },
  {
   "cell_type": "code",
   "execution_count": null,
   "metadata": {
    "collapsed": true
   },
   "outputs": [],
   "source": []
  },
  {
   "cell_type": "code",
   "execution_count": 20,
   "metadata": {
    "collapsed": true
   },
   "outputs": [],
   "source": [
    "# Cat_Entry\n",
    "\n",
    "Exercise_I_Cat = novas.make_cat_entry('ExerciseI','HIP',0,ICRS_RA,ICRS_DEC,pm_RA,pm_DEC,plx,Vr)\n",
    "\n"
   ]
  },
  {
   "cell_type": "code",
   "execution_count": 21,
   "metadata": {
    "collapsed": true
   },
   "outputs": [],
   "source": [
    "# Parameters for calculate Apparent Position\n",
    "\n",
    "jd_tt = jd_tt\n",
    "delta_t = delta_t\n",
    "cel_object = novas.make_object(name='ExerciseI',type=2,number=0,star_data=Exercise_I_Cat)\n",
    "Exercise_I_obs = novas.make_observer_on_surface(height=Altitude,latitude=Latitude,longitude=Longitude,\\\n",
    "                                                pressure=1010,temperature=20) \n",
    "# pressure 1010mbar, temperature 20 degrees Celcius\n",
    "coord_sys = 1\n",
    "accuracy = 0"
   ]
  },
  {
   "cell_type": "code",
   "execution_count": 24,
   "metadata": {},
   "outputs": [
    {
     "data": {
      "text/plain": [
       "(nan, nan)"
      ]
     },
     "execution_count": 24,
     "metadata": {},
     "output_type": "execute_result"
    }
   ],
   "source": [
    "# Exercise_I_app = novas.place(jd_tt,delta_t,cel_object,Exercise_I_obs,coord_sys,accuracy)\n",
    "Exercise_I_app = novas.app_star(jd_tt,Exercise_I_Cat,accuracy=0)\n",
    "Exercise_I_app"
   ]
  },
  {
   "cell_type": "code",
   "execution_count": 22,
   "metadata": {
    "collapsed": true
   },
   "outputs": [],
   "source": [
    "?novas.app_star"
   ]
  },
  {
   "cell_type": "code",
   "execution_count": 11,
   "metadata": {
    "collapsed": true
   },
   "outputs": [],
   "source": [
    "# Parameter (OnSurface) for calculate Topo Position\n",
    "Exercise_I_OnSurface = novas.make_on_surface(height=Altitude,\\\n",
    "                                             latitude=Latitude,\\\n",
    "                                             longitude=Longitude,\\\n",
    "                                             pressure=1010,\\\n",
    "                                             temperature=20)"
   ]
  },
  {
   "cell_type": "code",
   "execution_count": 12,
   "metadata": {
    "collapsed": true
   },
   "outputs": [],
   "source": [
    "RA_topo,DEC_topo = novas.topo_star(jd_tt, delta_t, Exercise_I_Cat, Exercise_I_OnSurface,accuracy)"
   ]
  },
  {
   "cell_type": "code",
   "execution_count": 15,
   "metadata": {},
   "outputs": [
    {
     "data": {
      "text/plain": [
       "14.581293195922166"
      ]
     },
     "execution_count": 15,
     "metadata": {},
     "output_type": "execute_result"
    }
   ],
   "source": [
    "Exercise_I_app.ra"
   ]
  },
  {
   "cell_type": "code",
   "execution_count": 16,
   "metadata": {},
   "outputs": [
    {
     "data": {
      "text/plain": [
       "14.581293195922166"
      ]
     },
     "execution_count": 16,
     "metadata": {},
     "output_type": "execute_result"
    }
   ],
   "source": [
    "RA_topo"
   ]
  },
  {
   "cell_type": "code",
   "execution_count": 13,
   "metadata": {
    "collapsed": true
   },
   "outputs": [],
   "source": [
    "jd_ut1 = Time.ut1\n",
    "\n",
    "(zd,az),(rar,decr) = \\\n",
    "              novas.equ2hor(jd_ut1=jd_ut1,\\\n",
    "              delta_t=delta_t,\\\n",
    "              xp=Epp_x ,yp=Epp_y ,\\\n",
    "              location=Exercise_I_OnSurface,\\\n",
    "              ra=RA_topo,dec=DEC_topo,\\\n",
    "              ref_option=1,accuracy=0)\n",
    "    \n",
    "\n",
    "# (zd, az) : tuple of floats\n",
    "#     Topocentric (zenith distance, azimuth) in degrees. Zenith\n",
    "#     distance is affected by refraction if 'ref_option', is\n",
    "#     non-zero. Azimuth is measured east from north.\n",
    "# (rar, decr) : tuple of floats\n",
    "#     Topocentric (right ascension in hours, declination in\n",
    "#     degrees) of object of interest, referred to true equator and\n",
    "#     equinox of date, affected by refraction if 'ref_option' is\n",
    "#     non-zero.\n"
   ]
  },
  {
   "cell_type": "code",
   "execution_count": 108,
   "metadata": {
    "collapsed": true
   },
   "outputs": [],
   "source": []
  },
  {
   "cell_type": "code",
   "execution_count": null,
   "metadata": {
    "collapsed": true
   },
   "outputs": [],
   "source": []
  }
 ],
 "metadata": {
  "kernelspec": {
   "display_name": "Python 3",
   "language": "python",
   "name": "python3"
  },
  "language_info": {
   "codemirror_mode": {
    "name": "ipython",
    "version": 3
   },
   "file_extension": ".py",
   "mimetype": "text/x-python",
   "name": "python",
   "nbconvert_exporter": "python",
   "pygments_lexer": "ipython3",
   "version": "3.6.3"
  },
  "toc": {
   "base_numbering": 1,
   "nav_menu": {},
   "number_sections": true,
   "sideBar": true,
   "skip_h1_title": false,
   "title_cell": "Table of Contents",
   "title_sidebar": "Contents",
   "toc_cell": false,
   "toc_position": {},
   "toc_section_display": true,
   "toc_window_display": false
  }
 },
 "nbformat": 4,
 "nbformat_minor": 2
}
