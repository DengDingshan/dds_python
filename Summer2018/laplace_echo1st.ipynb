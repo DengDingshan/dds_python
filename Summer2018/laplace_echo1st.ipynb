{
 "cells": [
  {
   "cell_type": "code",
   "execution_count": 1,
   "metadata": {
    "collapsed": true
   },
   "outputs": [],
   "source": [
    "import pandas as pd\n",
    "import numpy as np\n",
    "import matplotlib.pyplot as plt\n",
    "import datetime\n",
    "import time\n",
    "import math\n",
    "\n",
    "import DDS_CMpack as CM\n",
    "\n",
    "%matplotlib inline\n",
    "\n",
    "data_dir = '/Users/dengdingshan/Documents/GitHub/dds_python/Summer2018/data/'"
   ]
  },
  {
   "cell_type": "markdown",
   "metadata": {},
   "source": [
    "# Step1 解t0时刻的位置和速度"
   ]
  },
  {
   "cell_type": "code",
   "execution_count": 2,
   "metadata": {
    "collapsed": true
   },
   "outputs": [],
   "source": [
    "position_fram = pd.read_csv(data_dir + 'Echo1st.csv')\n",
    "observe_times = len(position_fram)"
   ]
  },
  {
   "cell_type": "code",
   "execution_count": 3,
   "metadata": {},
   "outputs": [
    {
     "data": {
      "text/html": [
       "<div>\n",
       "<style>\n",
       "    .dataframe thead tr:only-child th {\n",
       "        text-align: right;\n",
       "    }\n",
       "\n",
       "    .dataframe thead th {\n",
       "        text-align: left;\n",
       "    }\n",
       "\n",
       "    .dataframe tbody tr th {\n",
       "        vertical-align: top;\n",
       "    }\n",
       "</style>\n",
       "<table border=\"1\" class=\"dataframe\">\n",
       "  <thead>\n",
       "    <tr style=\"text-align: right;\">\n",
       "      <th></th>\n",
       "      <th>UT1_hours</th>\n",
       "      <th>alpha</th>\n",
       "      <th>delta</th>\n",
       "      <th>year</th>\n",
       "      <th>month</th>\n",
       "      <th>days</th>\n",
       "    </tr>\n",
       "  </thead>\n",
       "  <tbody>\n",
       "    <tr>\n",
       "      <th>0</th>\n",
       "      <td>21.575128</td>\n",
       "      <td>142.935000</td>\n",
       "      <td>8.521111</td>\n",
       "      <td>1965</td>\n",
       "      <td>1</td>\n",
       "      <td>14</td>\n",
       "    </tr>\n",
       "    <tr>\n",
       "      <th>1</th>\n",
       "      <td>21.603111</td>\n",
       "      <td>157.274167</td>\n",
       "      <td>-2.395000</td>\n",
       "      <td>1965</td>\n",
       "      <td>1</td>\n",
       "      <td>14</td>\n",
       "    </tr>\n",
       "    <tr>\n",
       "      <th>2</th>\n",
       "      <td>21.631420</td>\n",
       "      <td>171.817917</td>\n",
       "      <td>-14.508333</td>\n",
       "      <td>1965</td>\n",
       "      <td>1</td>\n",
       "      <td>14</td>\n",
       "    </tr>\n",
       "    <tr>\n",
       "      <th>3</th>\n",
       "      <td>21.654491</td>\n",
       "      <td>183.134167</td>\n",
       "      <td>-23.563333</td>\n",
       "      <td>1965</td>\n",
       "      <td>1</td>\n",
       "      <td>14</td>\n",
       "    </tr>\n",
       "    <tr>\n",
       "      <th>4</th>\n",
       "      <td>21.714094</td>\n",
       "      <td>208.640417</td>\n",
       "      <td>-40.020278</td>\n",
       "      <td>1965</td>\n",
       "      <td>1</td>\n",
       "      <td>14</td>\n",
       "    </tr>\n",
       "    <tr>\n",
       "      <th>5</th>\n",
       "      <td>21.742876</td>\n",
       "      <td>219.102083</td>\n",
       "      <td>-44.998611</td>\n",
       "      <td>1965</td>\n",
       "      <td>1</td>\n",
       "      <td>14</td>\n",
       "    </tr>\n",
       "  </tbody>\n",
       "</table>\n",
       "</div>"
      ],
      "text/plain": [
       "   UT1_hours       alpha      delta  year  month  days\n",
       "0  21.575128  142.935000   8.521111  1965      1    14\n",
       "1  21.603111  157.274167  -2.395000  1965      1    14\n",
       "2  21.631420  171.817917 -14.508333  1965      1    14\n",
       "3  21.654491  183.134167 -23.563333  1965      1    14\n",
       "4  21.714094  208.640417 -40.020278  1965      1    14\n",
       "5  21.742876  219.102083 -44.998611  1965      1    14"
      ]
     },
     "execution_count": 3,
     "metadata": {},
     "output_type": "execute_result"
    }
   ],
   "source": [
    "position_fram"
   ]
  },
  {
   "cell_type": "code",
   "execution_count": 4,
   "metadata": {
    "collapsed": true
   },
   "outputs": [],
   "source": [
    "# 常数表\n",
    "R_earth = 6371\n",
    "au = 149597870\n",
    "r_station_earth = 0.999102 #*R_earth\n",
    "r_earth_sun = 1*au\n",
    "\n",
    "time_unit = 806.81163 #806.8116 # SI \n",
    "\n",
    "# 测站的地理位置\n",
    "lam = 118.82091666 # degrees\n",
    "phi = 31.893611111 # degrees\n",
    "\n",
    "# headers index: UT1_hours  alpha  delta  year  month  days\n",
    "\n",
    "UT1_hours = position_fram['UT1_hours']\n",
    "alpha = position_fram['alpha']\n",
    "delta = position_fram['delta']\n",
    "year = position_fram['year']\n",
    "month = position_fram['month']\n",
    "days = position_fram['days']\n"
   ]
  },
  {
   "cell_type": "code",
   "execution_count": 5,
   "metadata": {
    "collapsed": true
   },
   "outputs": [],
   "source": [
    "# 进行拉普拉斯方法所需要的星表归算\n",
    "\n",
    "P = []\n",
    "Q = []\n",
    "Lambda_all = []\n",
    "Niu_all = []\n",
    "Miu_all = []\n",
    "X_all = [];Y_all = [];Z_all = []\n",
    "\n",
    "for i in range(observe_times):   \n",
    "    # 计算观测数据的儒略日时间和恒星时\n",
    "    SG_s,jd_s = CM.UTC2SG(year[i],month[i],days[i],UT1_hours[i])\n",
    "    SG_degree = SG_s%(3600*24)/(3600*24)*360\n",
    "    \n",
    "    # 通过每一个恒星时去归算出测站到地心的RA,DEC\n",
    "    RA_station = SG_degree + lam\n",
    "    DEC_station = phi\n",
    "    station_earth = CM.RADEC2xyz(r_station_earth,RA_station,DEC_station)\n",
    "    \n",
    "    X,Y,Z = station_earth\n",
    "    X_all.append(X);\n",
    "    Y_all.append(Y);\n",
    "    Z_all.append(Z)\n",
    "    \n",
    "    # 再根据测站到地心的位置最终算出Pj,Qj\n",
    "    delta_rad = np.deg2rad(delta[i])\n",
    "    alpha_rad = np.deg2rad(alpha[i])\n",
    "    \n",
    "    Lambda = np.cos(delta_rad)*np.cos(alpha_rad)\n",
    "    Miu = np.cos(delta_rad)*np.sin(alpha_rad)\n",
    "    Niu = np.sin(delta_rad)\n",
    "    Lambda_all.append(Lambda)\n",
    "    Miu_all.append(Miu)\n",
    "    Niu_all.append(Niu)\n",
    "    \n",
    "    P_j = Niu*X - Lambda*Z\n",
    "    Q_j = Niu*Y - Miu*Z\n",
    "    \n",
    "    P.append(P_j);Q.append(Q_j)\n",
    "\n",
    "PF_fill = position_fram\n",
    "PF_fill['P'] = np.array(P)\n",
    "PF_fill['Q'] = np.array(Q)\n",
    "PF_fill['Lambda'] = np.array(Lambda_all)\n",
    "PF_fill['Miu'] = np.array(Miu_all)\n",
    "PF_fill['Niu'] = np.array(Niu_all)\n",
    "PF_fill['X'] = np.array(X_all)\n",
    "PF_fill['Y'] = np.array(Y_all)\n",
    "PF_fill['Z'] = np.array(Z_all)\n",
    "\n",
    "# 为了避免和底下计算轨道根数时用到的P,Q（坐标轴指向）产生冲突，此处将P,Q重新命名为Pj,Qj以便使用\n",
    "Pj = P; Qj = Q"
   ]
  },
  {
   "cell_type": "code",
   "execution_count": 6,
   "metadata": {},
   "outputs": [
    {
     "data": {
      "text/html": [
       "<div>\n",
       "<style>\n",
       "    .dataframe thead tr:only-child th {\n",
       "        text-align: right;\n",
       "    }\n",
       "\n",
       "    .dataframe thead th {\n",
       "        text-align: left;\n",
       "    }\n",
       "\n",
       "    .dataframe tbody tr th {\n",
       "        vertical-align: top;\n",
       "    }\n",
       "</style>\n",
       "<table border=\"1\" class=\"dataframe\">\n",
       "  <thead>\n",
       "    <tr style=\"text-align: right;\">\n",
       "      <th></th>\n",
       "      <th>UT1_hours</th>\n",
       "      <th>alpha</th>\n",
       "      <th>delta</th>\n",
       "      <th>year</th>\n",
       "      <th>month</th>\n",
       "      <th>days</th>\n",
       "      <th>P</th>\n",
       "      <th>Q</th>\n",
       "      <th>Lambda</th>\n",
       "      <th>Miu</th>\n",
       "      <th>Niu</th>\n",
       "      <th>X</th>\n",
       "      <th>Y</th>\n",
       "      <th>Z</th>\n",
       "    </tr>\n",
       "  </thead>\n",
       "  <tbody>\n",
       "    <tr>\n",
       "      <th>0</th>\n",
       "      <td>21.575128</td>\n",
       "      <td>142.935000</td>\n",
       "      <td>8.521111</td>\n",
       "      <td>1965</td>\n",
       "      <td>1</td>\n",
       "      <td>14</td>\n",
       "      <td>0.296272</td>\n",
       "      <td>-0.351086</td>\n",
       "      <td>-0.789144</td>\n",
       "      <td>0.596067</td>\n",
       "      <td>0.148174</td>\n",
       "      <td>-0.811836</td>\n",
       "      <td>-0.245928</td>\n",
       "      <td>0.527869</td>\n",
       "    </tr>\n",
       "    <tr>\n",
       "      <th>1</th>\n",
       "      <td>21.603111</td>\n",
       "      <td>157.274167</td>\n",
       "      <td>-2.395000</td>\n",
       "      <td>1965</td>\n",
       "      <td>1</td>\n",
       "      <td>14</td>\n",
       "      <td>0.520311</td>\n",
       "      <td>-0.193223</td>\n",
       "      <td>-0.921558</td>\n",
       "      <td>0.385984</td>\n",
       "      <td>-0.041788</td>\n",
       "      <td>-0.810008</td>\n",
       "      <td>-0.251885</td>\n",
       "      <td>0.527869</td>\n",
       "    </tr>\n",
       "    <tr>\n",
       "      <th>2</th>\n",
       "      <td>21.631420</td>\n",
       "      <td>171.817917</td>\n",
       "      <td>-14.508333</td>\n",
       "      <td>1965</td>\n",
       "      <td>1</td>\n",
       "      <td>14</td>\n",
       "      <td>0.708283</td>\n",
       "      <td>-0.008122</td>\n",
       "      <td>-0.958257</td>\n",
       "      <td>0.137781</td>\n",
       "      <td>-0.250521</td>\n",
       "      <td>-0.808114</td>\n",
       "      <td>-0.257898</td>\n",
       "      <td>0.527869</td>\n",
       "    </tr>\n",
       "    <tr>\n",
       "      <th>3</th>\n",
       "      <td>21.654491</td>\n",
       "      <td>183.134167</td>\n",
       "      <td>-23.563333</td>\n",
       "      <td>1965</td>\n",
       "      <td>1</td>\n",
       "      <td>14</td>\n",
       "      <td>0.805554</td>\n",
       "      <td>0.131507</td>\n",
       "      <td>-0.915248</td>\n",
       "      <td>-0.050115</td>\n",
       "      <td>-0.399763</td>\n",
       "      <td>-0.806537</td>\n",
       "      <td>-0.262787</td>\n",
       "      <td>0.527869</td>\n",
       "    </tr>\n",
       "    <tr>\n",
       "      <th>4</th>\n",
       "      <td>21.714094</td>\n",
       "      <td>208.640417</td>\n",
       "      <td>-40.020278</td>\n",
       "      <td>1965</td>\n",
       "      <td>1</td>\n",
       "      <td>14</td>\n",
       "      <td>0.870732</td>\n",
       "      <td>0.370844</td>\n",
       "      <td>-0.672115</td>\n",
       "      <td>-0.367065</td>\n",
       "      <td>-0.643059</td>\n",
       "      <td>-0.802327</td>\n",
       "      <td>-0.275374</td>\n",
       "      <td>0.527869</td>\n",
       "    </tr>\n",
       "    <tr>\n",
       "      <th>5</th>\n",
       "      <td>21.742876</td>\n",
       "      <td>219.102083</td>\n",
       "      <td>-44.998611</td>\n",
       "      <td>1965</td>\n",
       "      <td>1</td>\n",
       "      <td>14</td>\n",
       "      <td>0.855495</td>\n",
       "      <td>0.434417</td>\n",
       "      <td>-0.548745</td>\n",
       "      <td>-0.445986</td>\n",
       "      <td>-0.707090</td>\n",
       "      <td>-0.800223</td>\n",
       "      <td>-0.281429</td>\n",
       "      <td>0.527869</td>\n",
       "    </tr>\n",
       "  </tbody>\n",
       "</table>\n",
       "</div>"
      ],
      "text/plain": [
       "   UT1_hours       alpha      delta  year  month  days         P         Q  \\\n",
       "0  21.575128  142.935000   8.521111  1965      1    14  0.296272 -0.351086   \n",
       "1  21.603111  157.274167  -2.395000  1965      1    14  0.520311 -0.193223   \n",
       "2  21.631420  171.817917 -14.508333  1965      1    14  0.708283 -0.008122   \n",
       "3  21.654491  183.134167 -23.563333  1965      1    14  0.805554  0.131507   \n",
       "4  21.714094  208.640417 -40.020278  1965      1    14  0.870732  0.370844   \n",
       "5  21.742876  219.102083 -44.998611  1965      1    14  0.855495  0.434417   \n",
       "\n",
       "     Lambda       Miu       Niu         X         Y         Z  \n",
       "0 -0.789144  0.596067  0.148174 -0.811836 -0.245928  0.527869  \n",
       "1 -0.921558  0.385984 -0.041788 -0.810008 -0.251885  0.527869  \n",
       "2 -0.958257  0.137781 -0.250521 -0.808114 -0.257898  0.527869  \n",
       "3 -0.915248 -0.050115 -0.399763 -0.806537 -0.262787  0.527869  \n",
       "4 -0.672115 -0.367065 -0.643059 -0.802327 -0.275374  0.527869  \n",
       "5 -0.548745 -0.445986 -0.707090 -0.800223 -0.281429  0.527869  "
      ]
     },
     "execution_count": 6,
     "metadata": {},
     "output_type": "execute_result"
    }
   ],
   "source": [
    "PF_fill"
   ]
  },
  {
   "cell_type": "code",
   "execution_count": 7,
   "metadata": {
    "collapsed": true
   },
   "outputs": [],
   "source": [
    "# t0的值要预先给定，这个值在这种写法底下使用24小时的单位值（粗略的换算）\n",
    "# t0 = (PF_fill['UT1_hours'].values[0]+PF_fill['UT1_hours'].values[5])/2\n",
    "t0 = (PF_fill['UT1_hours'].sum())/6\n",
    "\n",
    "# 给定所需要的按照理论单位的时间值\n",
    "T = (PF_fill['UT1_hours'] - t0)*3600/time_unit\n",
    "F0 = np.ones(observe_times).tolist()\n",
    "G0 = T.tolist()"
   ]
  },
  {
   "cell_type": "code",
   "execution_count": 8,
   "metadata": {
    "collapsed": true
   },
   "outputs": [],
   "source": [
    "def F_expansion(r,v,t):\n",
    "    s = np.dot(r,v)\n",
    "    u = 1/r\n",
    "    \n",
    "    Out = 1 - 0.5*(u**3)*(t**2) + 0.5*(u**5)*s*(t**3) + 1/24*(u**5)*(3*(v**2) - 2*u - 15*(u**2)*(s**2))\n",
    "    return Out\n",
    "\n",
    "def G_expansion(r,v,t):\n",
    "    s = np.dot(r,v)\n",
    "    u = 1/r\n",
    "    \n",
    "    Out = t - 1/6*(u**3)*(t**3) + 1/4*(u**5)*s*(t**4) + 1/120*(u**5)*(9*(v**2) - 8*u -45*(u**2)*(s**2))*(t**5)\n",
    "    return Out"
   ]
  },
  {
   "cell_type": "code",
   "execution_count": 9,
   "metadata": {
    "scrolled": true
   },
   "outputs": [
    {
     "name": "stdout",
     "output_type": "stream",
     "text": [
      "end:  79\n",
      "[-1.12399156 -0.27932053  0.39153599] [-0.03181413 -0.6382986  -0.58350346]\n"
     ]
    }
   ],
   "source": [
    "# 选定用于归算轨道六根数的数据点（观测序数）\n",
    "Ob_index = [i for i in range(6)]\n",
    "# Ob_index = [1,3,5]\n",
    "\n",
    "############################################\n",
    "\n",
    "# Laplace循环长数值和初值\n",
    "F = [ F0[i] for i in Ob_index ]\n",
    "G = [ G0[i] for i in Ob_index ]\n",
    "Niu = Niu_all\n",
    "Miu = Miu_all\n",
    "Lambda = Lambda_all\n",
    "\n",
    "# Laplace循环\n",
    "Nwind = 0\n",
    "key = 0\n",
    "while key == 0:\n",
    "    A = []\n",
    "    b = []\n",
    "    nwind = 0 # 用于索引循环中的F,G的list\n",
    "    # 构造系数矩阵和常数阵\n",
    "    for j in Ob_index:\n",
    "         \n",
    "        A.append([Niu[j]*F[nwind],0,-Lambda[j]*F[nwind],Niu[j]*G[nwind],0,-Lambda[j]*G[nwind]])\n",
    "        A.append([0,Niu[j]*F[nwind],-Miu[j]*F[nwind],0,Niu[j]*G[nwind],-Miu[j]*G[nwind]])\n",
    "        b.append(Pj[j])\n",
    "        b.append(Qj[j])\n",
    "        \n",
    "        nwind += 1\n",
    "    \n",
    "    AA = np.array(A)\n",
    "    b = np.array(b)\n",
    "    \n",
    "    # 解出r0和V0\n",
    "    ans = np.linalg.solve(np.dot(AA.T.copy(),AA),np.dot(AA.T.copy(),b))\n",
    "    r0 = ans[:3]\n",
    "    v0 = ans[3:]\n",
    "        \n",
    "    # 用r0和v0求出新的F和G\n",
    "    norm_r0 = np.sqrt(np.dot(r0,r0))\n",
    "    norm_v0 = np.sqrt(np.dot(v0,v0))\n",
    "    \n",
    "    F_old = F; G_old = G\n",
    "    F = [];G = []\n",
    "    for k in Ob_index:\n",
    "        F.append(CM.F(norm_r0,norm_v0,T[k]))\n",
    "        G.append(CM.G(norm_r0,norm_v0,T[k]))\n",
    "    \n",
    "    # 上述循环完成，计数一次\n",
    "    Nwind += 1\n",
    "    \n",
    "    # 判断是否跳出循环\n",
    "    # 取F,G的二范数的最大值判断是否小于我们所需的精度\n",
    "    delta_F = np.linalg.norm(np.array(F) - np.array(F_old), 2)\n",
    "    delta_G = np.linalg.norm(np.array(G) - np.array(G_old), 2)\n",
    "    biggest = np.max([delta_F,delta_G])\n",
    "    if biggest < 1e-13:\n",
    "        print('end: ',int(Nwind))\n",
    "        print(r0,v0)\n",
    "        key = 1"
   ]
  },
  {
   "cell_type": "code",
   "execution_count": 10,
   "metadata": {
    "scrolled": false
   },
   "outputs": [
    {
     "name": "stdout",
     "output_type": "stream",
     "text": [
      "[-7160.95022294 -1779.55112547  2494.47581014] 7788.993508210909 1423.7146662109083\n",
      "[-0.25122073 -5.04033439 -4.6076437 ] 6.833627372532913\n",
      "77952.67183199999\n"
     ]
    }
   ],
   "source": [
    "print(r0*R_earth, norm_r0*R_earth, (norm_r0-r_station_earth)*R_earth)\n",
    "\n",
    "print(v0*R_earth/time_unit, norm_v0*R_earth/time_unit)\n",
    "\n",
    "print(t0*3600)"
   ]
  },
  {
   "cell_type": "markdown",
   "metadata": {},
   "source": [
    "# Step 2 解轨道六根数"
   ]
  },
  {
   "cell_type": "code",
   "execution_count": 11,
   "metadata": {
    "collapsed": true
   },
   "outputs": [],
   "source": [
    "# # 取轨国际单位制的常数表\n",
    "\n",
    "# R_earth = 6371e3 # m\n",
    "\n",
    "# M_earth = 5.965e24 # kg\n",
    "# G_graviation = 6.672e-11 # N·m^2 /kg^2 \n",
    "\n",
    "# au = 149597870e3 # m\n",
    "# r_station_earth = 0.999102 #*R_earth\n",
    "# r_earth_sun = 1*au\n",
    "\n",
    "# # time_unit = 806.81163 #806.8116 # SI \n",
    "\n",
    "# # miu_GM = 398600.5e-6 # km^3/SI^2\n",
    "\n",
    "# miu_GM = G_graviation*M_earth # m^3/SI^2\n",
    "\n",
    "## 还是先继续使用已经在使用的理论单位！\n",
    "\n",
    "miu_GM = 1\n",
    "\n",
    "R_earth = 1"
   ]
  },
  {
   "cell_type": "code",
   "execution_count": 12,
   "metadata": {
    "collapsed": true
   },
   "outputs": [],
   "source": [
    "# rg = r0*R_earth\n",
    "# norm_rg = np.sqrt(np.dot(rg,rg))\n",
    "# vg = v0*R_earth/time_unit\n",
    "# norm_vg = np.sqrt(np.dot(vg,vg))\n",
    "# tg = t0*time_unit\n",
    "\n",
    "rg = r0\n",
    "norm_rg = np.sqrt(rg.dot(rg))\n",
    "vg = v0\n",
    "norm_vg = np.sqrt(vg.dot(vg))"
   ]
  },
  {
   "cell_type": "code",
   "execution_count": 13,
   "metadata": {},
   "outputs": [
    {
     "data": {
      "text/plain": [
       "1.1274152764273662"
      ]
     },
     "execution_count": 13,
     "metadata": {},
     "output_type": "execute_result"
    }
   ],
   "source": [
    "a = (2/norm_rg - (norm_vg**2)/miu_GM)**(-1)\n",
    "a"
   ]
  },
  {
   "cell_type": "code",
   "execution_count": 14,
   "metadata": {},
   "outputs": [
    {
     "data": {
      "text/plain": [
       "0.8353608681485124"
      ]
     },
     "execution_count": 14,
     "metadata": {},
     "output_type": "execute_result"
    }
   ],
   "source": [
    "n = np.sqrt(miu_GM/(a**3))\n",
    "n"
   ]
  },
  {
   "cell_type": "code",
   "execution_count": 15,
   "metadata": {},
   "outputs": [
    {
     "data": {
      "text/plain": [
       "0.08548550663709367"
      ]
     },
     "execution_count": 15,
     "metadata": {},
     "output_type": "execute_result"
    }
   ],
   "source": [
    "e = np.sqrt( (1 - norm_rg/a)**2 + (rg.dot(vg) / (n*a**2))**2)\n",
    "e"
   ]
  },
  {
   "cell_type": "code",
   "execution_count": 16,
   "metadata": {},
   "outputs": [
    {
     "data": {
      "text/plain": [
       "-2.9821189589938917"
      ]
     },
     "execution_count": 16,
     "metadata": {},
     "output_type": "execute_result"
    }
   ],
   "source": [
    "cos_E = (1 - norm_rg/a)/e\n",
    "sin_E = (rg.dot(vg) / ((a**2)*n))/e\n",
    "E = math.atan2(sin_E,cos_E)\n",
    "\n",
    "E"
   ]
  },
  {
   "cell_type": "code",
   "execution_count": 17,
   "metadata": {
    "collapsed": true
   },
   "outputs": [],
   "source": [
    "M = E - e*math.sin(E)"
   ]
  },
  {
   "cell_type": "code",
   "execution_count": 18,
   "metadata": {},
   "outputs": [
    {
     "data": {
      "text/plain": [
       "(array([ 0.90233774,  0.11794607, -0.41457848]),\n",
       " array([0.18183231, 0.76590091, 0.61643677]))"
      ]
     },
     "execution_count": 18,
     "metadata": {},
     "output_type": "execute_result"
    }
   ],
   "source": [
    "P = (cos_E/norm_rg)*rg - (sin_E/(a*n))*vg\n",
    "Q = (sin_E/(norm_rg)*np.sqrt(1-e**2))*rg + ((cos_E - e)/(a*n*np.sqrt(1-e**2)))*vg\n",
    "R = np.cross(P,Q)\n",
    "P,Q"
   ]
  },
  {
   "cell_type": "code",
   "execution_count": 19,
   "metadata": {
    "collapsed": true
   },
   "outputs": [],
   "source": [
    "pz = P[2]; qz = Q[2]\n",
    "tan_w_raw = pz/qz\n",
    "if pz >=0 and qz >= 0:\n",
    "    # w I\n",
    "    w = math.atan(tan_w_raw)\n",
    "elif pz >= 0 and qz < 0:\n",
    "    # w II\n",
    "    w = math.atan(tan_w_raw) + np.pi\n",
    "elif pz < 0 and qz < 0:\n",
    "    # w III\n",
    "    w = math.atan(tan_w_raw) + np.pi\n",
    "elif pz < 0 and qz >= 0:\n",
    "    # w IV\n",
    "    w = math.atan(tan_w_raw) + 2*np.pi"
   ]
  },
  {
   "cell_type": "code",
   "execution_count": 20,
   "metadata": {
    "collapsed": true
   },
   "outputs": [],
   "source": [
    "h = np.cross(rg,vg)\n",
    "norm_h = np.sqrt(np.dot(h,h))\n",
    "\n",
    "h_A, h_B, h_C = h[0:3]\n",
    "\n",
    "# get cos_i, sin_i\n",
    "cos_i = (h_C/norm_h)\n",
    "tan_i = np.sqrt(h_A**2 + h_B**2) / h_C\n",
    "\n",
    "sin_i = tan_i*cos_i\n",
    "\n",
    "# get cos_\\sin_Omega\n",
    "sin_Omega = h_A/(norm_h*sin_i)\n",
    "cos_Omega = -h_B/(norm_h*sin_i)\n",
    "\n",
    "i_fin = math.atan2(sin_i,cos_i)\n",
    "Omega = math.atan2(sin_Omega,cos_Omega)"
   ]
  },
  {
   "cell_type": "code",
   "execution_count": 21,
   "metadata": {
    "scrolled": true
   },
   "outputs": [
    {
     "name": "stdout",
     "output_type": "stream",
     "text": [
      "1.1274152764273662 0.08548550663709367 -2.968543980089816 0.8368990606009702 0.5534265399652797 5.691127456981064\n"
     ]
    }
   ],
   "source": [
    "print(a,e,M,i_fin,Omega,w)"
   ]
  },
  {
   "cell_type": "code",
   "execution_count": 22,
   "metadata": {},
   "outputs": [
    {
     "data": {
      "text/plain": [
       "array([-170.08504136,   47.95078405,   31.70900501,  326.07758396])"
      ]
     },
     "execution_count": 22,
     "metadata": {},
     "output_type": "execute_result"
    }
   ],
   "source": [
    "np.rad2deg([M,i_fin,Omega,w])"
   ]
  },
  {
   "cell_type": "markdown",
   "metadata": {},
   "source": [
    "# Step 3 反算星历表\n"
   ]
  },
  {
   "cell_type": "code",
   "execution_count": 23,
   "metadata": {
    "collapsed": true
   },
   "outputs": [],
   "source": [
    "t3 = t0\n",
    "T3 = (PF_fill['UT1_hours'] - t3)*3600/time_unit"
   ]
  },
  {
   "cell_type": "code",
   "execution_count": 24,
   "metadata": {
    "collapsed": true
   },
   "outputs": [],
   "source": [
    "M_total = M + n*T3"
   ]
  },
  {
   "cell_type": "code",
   "execution_count": 25,
   "metadata": {
    "collapsed": true,
    "scrolled": false
   },
   "outputs": [],
   "source": [
    "# 迭代 开普勒方程解 E\n",
    "E_total = []\n",
    "for i in range(len(M_total)):\n",
    "    epsilon = 1e-10\n",
    "    key = 0\n",
    "    En0 = M_total[i]\n",
    "    \n",
    "    En_new = En0\n",
    "    while key == 0:\n",
    "        En_old = En_new\n",
    "        En_new = En_old - (En_old - M_total[i] - e*np.sin(En_old))/(1-e*np.cos(En_old))\n",
    "        delta_En = np.abs(En_new - En_old)\n",
    "\n",
    "        if delta_En < epsilon:\n",
    "            key = 1;\n",
    "\n",
    "    E_total.append(En_new)"
   ]
  },
  {
   "cell_type": "code",
   "execution_count": 26,
   "metadata": {},
   "outputs": [
    {
     "data": {
      "text/plain": [
       "(array([ 0.90238898,  0.11816085, -0.41440577]),\n",
       " array([0.18265016, 0.76613392, 0.61617996]))"
      ]
     },
     "execution_count": 26,
     "metadata": {},
     "output_type": "execute_result"
    }
   ],
   "source": [
    "# 计算新的 P,Q \n",
    "\n",
    "P_new = np.array([np.cos(Omega)*np.cos(w-2*np.pi) - np.sin(Omega)*np.sin(w)*np.cos(i_fin),\\\n",
    "                 np.sin(Omega)*np.cos(w-2*np.pi) + np.cos(Omega)*np.sin(w)*np.cos(i_fin),\\\n",
    "                 np.sin(w)*np.sin(i_fin)])\n",
    "Q_new = np.array([-np.cos(Omega)*np.sin(w) - np.sin(Omega)*np.cos(w)*np.cos(i_fin),\\\n",
    "                 -np.sin(Omega)*np.sin(w) + np.cos(Omega)*np.cos(w)*np.cos(i_fin),\\\n",
    "                 np.cos(w)*np.sin(i_fin)])\n",
    "\n",
    "P_new,Q_new"
   ]
  },
  {
   "cell_type": "code",
   "execution_count": 27,
   "metadata": {},
   "outputs": [
    {
     "data": {
      "text/plain": [
       "(array([ 0.90233774,  0.11794607, -0.41457848]),\n",
       " array([0.18183231, 0.76590091, 0.61643677]))"
      ]
     },
     "execution_count": 27,
     "metadata": {},
     "output_type": "execute_result"
    }
   ],
   "source": [
    "P,Q"
   ]
  },
  {
   "cell_type": "code",
   "execution_count": 28,
   "metadata": {
    "scrolled": true
   },
   "outputs": [
    {
     "name": "stdout",
     "output_type": "stream",
     "text": [
      "1.223212756281499 0.8649011099863617\n",
      "1.2237839278025013 0.8644598402472898\n",
      "1.2234568359641753 0.8647125185910632\n",
      "1.2225183708417766 0.8654378228771759\n",
      "1.2173378029754711 0.8694508237610745\n",
      "1.2134478861443727 0.8724743141114455\n"
     ]
    }
   ],
   "source": [
    "# 计算新的 r,v\n",
    "Rt = [];Vt = []\n",
    "for Et in E_total:\n",
    "    rt = a*(np.cos(Et) - e)*P_new + a*np.sqrt(1 - e**2)*np.sin(Et)*Q_new\n",
    "    rt_norm = np.sqrt( np.dot(rt,rt) )\n",
    "\n",
    "    vt = -a**2*n/rt_norm*np.sin(Et)*P_new + a**2*n/rt_norm*np.sqrt(1 - e**2)*np.cos(Et)*Q_new\n",
    "    vt_norm = np.sqrt( np.dot(vt,vt) )\n",
    "\n",
    "    L_rt = rt/ np.sqrt( np.dot(rt,rt))\n",
    "\n",
    "    print(rt_norm,vt_norm)\n",
    "    \n",
    "    Rt.append(rt)\n",
    "    Vt.append(vt)"
   ]
  },
  {
   "cell_type": "code",
   "execution_count": 29,
   "metadata": {},
   "outputs": [
    {
     "data": {
      "text/plain": [
       "-0.8100079092120175"
      ]
     },
     "execution_count": 29,
     "metadata": {},
     "output_type": "execute_result"
    }
   ],
   "source": [
    "PF_fill.loc[1,'X']"
   ]
  },
  {
   "cell_type": "code",
   "execution_count": 30,
   "metadata": {
    "scrolled": true
   },
   "outputs": [
    {
     "data": {
      "text/plain": [
       "array([[-0.79225023,  0.58965222,  0.15700266],\n",
       "       [-0.92512605,  0.37796183, -0.03586983],\n",
       "       [-0.95994348,  0.12998264, -0.24821971],\n",
       "       [-0.91455266, -0.05630093, -0.40052919],\n",
       "       [-0.66482509, -0.36723484, -0.65049686],\n",
       "       [-0.53811828, -0.44333787, -0.71685442]])"
      ]
     },
     "execution_count": 30,
     "metadata": {},
     "output_type": "execute_result"
    }
   ],
   "source": [
    "# 归算最终的赤经赤纬\n",
    "# 先获得方向矢量L，再从L归算预测的alpha和delta值\n",
    "P_earth = Rt\n",
    "P_station = []\n",
    "L_forecast_total = []\n",
    "\n",
    "for j in range(observe_times):\n",
    "    station_earth = np.array([PF_fill.loc[j,'X'],PF_fill.loc[j,'Y'],PF_fill.loc[j,'Z']])*R_earth\n",
    "    P_station = np.array(P_earth[j] - station_earth)\n",
    "    L_forecast = np.true_divide(P_station,np.linalg.norm(P_station,2))\n",
    "    L_forecast_total.append(L_forecast)\n",
    "\n",
    "L_fa = np.array(L_forecast_total)\n",
    "\n",
    "L_fa"
   ]
  },
  {
   "cell_type": "code",
   "execution_count": 31,
   "metadata": {
    "collapsed": true,
    "scrolled": true
   },
   "outputs": [],
   "source": [
    "# 计算delta 和alpha\n",
    "# delta in [-180,180]\n",
    "Delta_forecast = np.rad2deg(np.arcsin(L_fa[:,2]))\n",
    "\n",
    "# alpha in [0,360]\n",
    "Alpha_forecast_raw = np.rad2deg(np.arctan2(L_fa[:,1],L_fa[:,0]))\n",
    "Alpha_forecast = []\n",
    "for a in Alpha_forecast_raw:\n",
    "    if a > 0:\n",
    "        Alpha_forecast.append(a)\n",
    "    else:\n",
    "        Alpha_forecast.append(360 + a)\n",
    "    \n",
    "Alpha_forecast = np.array(Alpha_forecast)"
   ]
  },
  {
   "cell_type": "code",
   "execution_count": 32,
   "metadata": {
    "scrolled": false
   },
   "outputs": [
    {
     "data": {
      "text/html": [
       "<div>\n",
       "<style>\n",
       "    .dataframe thead tr:only-child th {\n",
       "        text-align: right;\n",
       "    }\n",
       "\n",
       "    .dataframe thead th {\n",
       "        text-align: left;\n",
       "    }\n",
       "\n",
       "    .dataframe tbody tr th {\n",
       "        vertical-align: top;\n",
       "    }\n",
       "</style>\n",
       "<table border=\"1\" class=\"dataframe\">\n",
       "  <thead>\n",
       "    <tr style=\"text-align: right;\">\n",
       "      <th></th>\n",
       "      <th>UT1_hours</th>\n",
       "      <th>alpha</th>\n",
       "      <th>delta</th>\n",
       "      <th>year</th>\n",
       "      <th>month</th>\n",
       "      <th>days</th>\n",
       "      <th>P</th>\n",
       "      <th>Q</th>\n",
       "      <th>Lambda</th>\n",
       "      <th>Miu</th>\n",
       "      <th>Niu</th>\n",
       "      <th>X</th>\n",
       "      <th>Y</th>\n",
       "      <th>Z</th>\n",
       "    </tr>\n",
       "  </thead>\n",
       "  <tbody>\n",
       "    <tr>\n",
       "      <th>0</th>\n",
       "      <td>21.575128</td>\n",
       "      <td>142.935000</td>\n",
       "      <td>8.521111</td>\n",
       "      <td>1965</td>\n",
       "      <td>1</td>\n",
       "      <td>14</td>\n",
       "      <td>0.296272</td>\n",
       "      <td>-0.351086</td>\n",
       "      <td>-0.789144</td>\n",
       "      <td>0.596067</td>\n",
       "      <td>0.148174</td>\n",
       "      <td>-0.811836</td>\n",
       "      <td>-0.245928</td>\n",
       "      <td>0.527869</td>\n",
       "    </tr>\n",
       "    <tr>\n",
       "      <th>1</th>\n",
       "      <td>21.603111</td>\n",
       "      <td>157.274167</td>\n",
       "      <td>-2.395000</td>\n",
       "      <td>1965</td>\n",
       "      <td>1</td>\n",
       "      <td>14</td>\n",
       "      <td>0.520311</td>\n",
       "      <td>-0.193223</td>\n",
       "      <td>-0.921558</td>\n",
       "      <td>0.385984</td>\n",
       "      <td>-0.041788</td>\n",
       "      <td>-0.810008</td>\n",
       "      <td>-0.251885</td>\n",
       "      <td>0.527869</td>\n",
       "    </tr>\n",
       "    <tr>\n",
       "      <th>2</th>\n",
       "      <td>21.631420</td>\n",
       "      <td>171.817917</td>\n",
       "      <td>-14.508333</td>\n",
       "      <td>1965</td>\n",
       "      <td>1</td>\n",
       "      <td>14</td>\n",
       "      <td>0.708283</td>\n",
       "      <td>-0.008122</td>\n",
       "      <td>-0.958257</td>\n",
       "      <td>0.137781</td>\n",
       "      <td>-0.250521</td>\n",
       "      <td>-0.808114</td>\n",
       "      <td>-0.257898</td>\n",
       "      <td>0.527869</td>\n",
       "    </tr>\n",
       "    <tr>\n",
       "      <th>3</th>\n",
       "      <td>21.654491</td>\n",
       "      <td>183.134167</td>\n",
       "      <td>-23.563333</td>\n",
       "      <td>1965</td>\n",
       "      <td>1</td>\n",
       "      <td>14</td>\n",
       "      <td>0.805554</td>\n",
       "      <td>0.131507</td>\n",
       "      <td>-0.915248</td>\n",
       "      <td>-0.050115</td>\n",
       "      <td>-0.399763</td>\n",
       "      <td>-0.806537</td>\n",
       "      <td>-0.262787</td>\n",
       "      <td>0.527869</td>\n",
       "    </tr>\n",
       "    <tr>\n",
       "      <th>4</th>\n",
       "      <td>21.714094</td>\n",
       "      <td>208.640417</td>\n",
       "      <td>-40.020278</td>\n",
       "      <td>1965</td>\n",
       "      <td>1</td>\n",
       "      <td>14</td>\n",
       "      <td>0.870732</td>\n",
       "      <td>0.370844</td>\n",
       "      <td>-0.672115</td>\n",
       "      <td>-0.367065</td>\n",
       "      <td>-0.643059</td>\n",
       "      <td>-0.802327</td>\n",
       "      <td>-0.275374</td>\n",
       "      <td>0.527869</td>\n",
       "    </tr>\n",
       "    <tr>\n",
       "      <th>5</th>\n",
       "      <td>21.742876</td>\n",
       "      <td>219.102083</td>\n",
       "      <td>-44.998611</td>\n",
       "      <td>1965</td>\n",
       "      <td>1</td>\n",
       "      <td>14</td>\n",
       "      <td>0.855495</td>\n",
       "      <td>0.434417</td>\n",
       "      <td>-0.548745</td>\n",
       "      <td>-0.445986</td>\n",
       "      <td>-0.707090</td>\n",
       "      <td>-0.800223</td>\n",
       "      <td>-0.281429</td>\n",
       "      <td>0.527869</td>\n",
       "    </tr>\n",
       "  </tbody>\n",
       "</table>\n",
       "</div>"
      ],
      "text/plain": [
       "   UT1_hours       alpha      delta  year  month  days         P         Q  \\\n",
       "0  21.575128  142.935000   8.521111  1965      1    14  0.296272 -0.351086   \n",
       "1  21.603111  157.274167  -2.395000  1965      1    14  0.520311 -0.193223   \n",
       "2  21.631420  171.817917 -14.508333  1965      1    14  0.708283 -0.008122   \n",
       "3  21.654491  183.134167 -23.563333  1965      1    14  0.805554  0.131507   \n",
       "4  21.714094  208.640417 -40.020278  1965      1    14  0.870732  0.370844   \n",
       "5  21.742876  219.102083 -44.998611  1965      1    14  0.855495  0.434417   \n",
       "\n",
       "     Lambda       Miu       Niu         X         Y         Z  \n",
       "0 -0.789144  0.596067  0.148174 -0.811836 -0.245928  0.527869  \n",
       "1 -0.921558  0.385984 -0.041788 -0.810008 -0.251885  0.527869  \n",
       "2 -0.958257  0.137781 -0.250521 -0.808114 -0.257898  0.527869  \n",
       "3 -0.915248 -0.050115 -0.399763 -0.806537 -0.262787  0.527869  \n",
       "4 -0.672115 -0.367065 -0.643059 -0.802327 -0.275374  0.527869  \n",
       "5 -0.548745 -0.445986 -0.707090 -0.800223 -0.281429  0.527869  "
      ]
     },
     "execution_count": 32,
     "metadata": {},
     "output_type": "execute_result"
    }
   ],
   "source": [
    "PF_fill"
   ]
  },
  {
   "cell_type": "markdown",
   "metadata": {
    "collapsed": true
   },
   "source": [
    "# Step 4 计算残差数据"
   ]
  },
  {
   "cell_type": "code",
   "execution_count": 33,
   "metadata": {},
   "outputs": [
    {
     "data": {
      "text/html": [
       "<div>\n",
       "<style>\n",
       "    .dataframe thead tr:only-child th {\n",
       "        text-align: right;\n",
       "    }\n",
       "\n",
       "    .dataframe thead th {\n",
       "        text-align: left;\n",
       "    }\n",
       "\n",
       "    .dataframe tbody tr th {\n",
       "        vertical-align: top;\n",
       "    }\n",
       "</style>\n",
       "<table border=\"1\" class=\"dataframe\">\n",
       "  <thead>\n",
       "    <tr style=\"text-align: right;\">\n",
       "      <th></th>\n",
       "      <th>$ \\Delta a\\cos\\delta $</th>\n",
       "      <th>$ \\Delta\\delta $</th>\n",
       "    </tr>\n",
       "  </thead>\n",
       "  <tbody>\n",
       "    <tr>\n",
       "      <th>0</th>\n",
       "      <td>0.205730</td>\n",
       "      <td>0.511851</td>\n",
       "    </tr>\n",
       "    <tr>\n",
       "      <th>1</th>\n",
       "      <td>0.539127</td>\n",
       "      <td>0.339369</td>\n",
       "    </tr>\n",
       "    <tr>\n",
       "      <th>2</th>\n",
       "      <td>0.557837</td>\n",
       "      <td>0.136145</td>\n",
       "    </tr>\n",
       "    <tr>\n",
       "      <th>3</th>\n",
       "      <td>0.294749</td>\n",
       "      <td>-0.047931</td>\n",
       "    </tr>\n",
       "    <tr>\n",
       "      <th>4</th>\n",
       "      <td>-1.107319</td>\n",
       "      <td>-0.558796</td>\n",
       "    </tr>\n",
       "    <tr>\n",
       "      <th>5</th>\n",
       "      <td>-1.903070</td>\n",
       "      <td>-0.796771</td>\n",
       "    </tr>\n",
       "  </tbody>\n",
       "</table>\n",
       "</div>"
      ],
      "text/plain": [
       "   $ \\Delta a\\cos\\delta $  $ \\Delta\\delta $ \n",
       "0                0.205730           0.511851\n",
       "1                0.539127           0.339369\n",
       "2                0.557837           0.136145\n",
       "3                0.294749          -0.047931\n",
       "4               -1.107319          -0.558796\n",
       "5               -1.903070          -0.796771"
      ]
     },
     "execution_count": 33,
     "metadata": {},
     "output_type": "execute_result"
    }
   ],
   "source": [
    "delta_AlphaCosDelta = Alpha_forecast*np.cos(np.deg2rad(Delta_forecast)) \\\n",
    "                    - PF_fill['alpha']*np.cos(np.deg2rad(PF_fill['delta']))\n",
    "delta_Delta = Delta_forecast - PF_fill['delta']\n",
    "\n",
    "pd.DataFrame({'$ \\Delta a\\cos\\delta $': np.array(delta_AlphaCosDelta),\n",
    "             '$ \\Delta\\delta $ ':np.array(delta_Delta)})"
   ]
  },
  {
   "cell_type": "code",
   "execution_count": 34,
   "metadata": {},
   "outputs": [
    {
     "data": {
      "image/png": "[encoded data removed]",
      "text/plain": [
       "<matplotlib.figure.Figure at 0x111ffb4e0>"
      ]
     },
     "metadata": {},
     "output_type": "display_data"
    }
   ],
   "source": [
    "plt.figure()\n",
    "\n",
    "plt.xlabel('Alpha')\n",
    "plt.ylabel('Delta')\n",
    "\n",
    "plt.scatter(PF_fill['alpha'],PF_fill['delta'],c = 'orange')\n",
    "plt.scatter(Alpha_forecast,Delta_forecast,c = 'b')\n",
    "\n",
    "plt.show()"
   ]
  },
  {
   "cell_type": "code",
   "execution_count": 35,
   "metadata": {},
   "outputs": [
    {
     "data": {
      "image/png": "[encoded data removed]",
      "text/plain": [
       "<matplotlib.figure.Figure at 0x112080eb8>"
      ]
     },
     "metadata": {},
     "output_type": "display_data"
    }
   ],
   "source": [
    "from mpl_toolkits.mplot3d import Axes3D\n",
    "ax = plt.subplot(111, projection='3d')  # 创建一个三维的绘图工程\n",
    "#  将数据点分成三部分画，在颜色上有区分度\n",
    "ax.plot(L_fa[:,0], L_fa[:,1], L_fa[:,2], c='y')  # 绘制数据点\n",
    "ax.scatter(0,0,0,c= 'b',s = 10)\n",
    "\n",
    "ax.set_zlabel('Z')  # 坐标轴\n",
    "ax.set_ylabel('Y')\n",
    "ax.set_xlabel('X')\n",
    "plt.show()"
   ]
  },
  {
   "cell_type": "code",
   "execution_count": null,
   "metadata": {
    "collapsed": true
   },
   "outputs": [],
   "source": []
  }
 ],
 "metadata": {
  "kernelspec": {
   "display_name": "Python 3",
   "language": "python",
   "name": "python3"
  },
  "language_info": {
   "codemirror_mode": {
    "name": "ipython",
    "version": 3
   },
   "file_extension": ".py",
   "mimetype": "text/x-python",
   "name": "python",
   "nbconvert_exporter": "python",
   "pygments_lexer": "ipython3",
   "version": "3.6.3"
  },
  "toc": {
   "base_numbering": 1,
   "nav_menu": {},
   "number_sections": false,
   "sideBar": true,
   "skip_h1_title": false,
   "title_cell": "Table of Contents",
   "title_sidebar": "Contents",
   "toc_cell": false,
   "toc_position": {},
   "toc_section_display": true,
   "toc_window_display": false
  },
  "varInspector": {
   "cols": {
    "lenName": 16,
    "lenType": 16,
    "lenVar": 40
   },
   "kernels_config": {
    "python": {
     "delete_cmd_postfix": "",
     "delete_cmd_prefix": "del ",
     "library": "var_list.py",
     "varRefreshCmd": "print(var_dic_list())"
    },
    "r": {
     "delete_cmd_postfix": ") ",
     "delete_cmd_prefix": "rm(",
     "library": "var_list.r",
     "varRefreshCmd": "cat(var_dic_list()) "
    }
   },
   "oldHeight": 507,
   "position": {
    "height": "507px",
    "left": "712px",
    "right": "14px",
    "top": "84px",
    "width": "599px"
   },
   "types_to_exclude": [
    "module",
    "function",
    "builtin_function_or_method",
    "instance",
    "_Feature"
   ],
   "varInspector_section_display": "block",
   "window_display": false
  }
 },
 "nbformat": 4,
 "nbformat_minor": 2
}
