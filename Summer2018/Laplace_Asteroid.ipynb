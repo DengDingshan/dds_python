{
 "cells": [
  {
   "cell_type": "code",
   "execution_count": 33,
   "metadata": {
    "collapsed": true
   },
   "outputs": [],
   "source": [
    "import pandas as pd\n",
    "import numpy as np\n",
    "import matplotlib.pyplot as plt\n",
    "import datetime\n",
    "import time\n",
    "import math\n",
    "\n",
    "import DDS_CMpack as CM\n",
    "\n",
    "%matplotlib inline\n",
    "\n",
    "data_dir = '/Users/dengdingshan/Documents/GitHub/dds_python/Summer2018/data/'"
   ]
  },
  {
   "cell_type": "markdown",
   "metadata": {},
   "source": [
    "# Step1 解t0时刻的位置和速度"
   ]
  },
  {
   "cell_type": "code",
   "execution_count": 34,
   "metadata": {
    "collapsed": true
   },
   "outputs": [],
   "source": [
    "position_fram = pd.read_csv(data_dir + 'Asteroid.csv')\n",
    "observe_times = len(position_fram)"
   ]
  },
  {
   "cell_type": "code",
   "execution_count": 35,
   "metadata": {
    "collapsed": true
   },
   "outputs": [],
   "source": [
    "# 常数表\n",
    "R_earth = 6378.137e3 #meters\n",
    "au = 149597870700 #meters\n",
    "\n",
    "r_earth_sun = 1*au\n",
    "\n",
    "### unit for time -> asteroid\n",
    "time_unit_day = 58.1324409 # Mean solar day\n",
    "time_unit = time_unit_day * 3600*24# SI \n",
    "\n",
    "J2000 = 2451545.0 # days\n",
    "\n",
    "### from tdt(tt) to utc: utc = tdt(tt) + delta_tt2utc\n",
    "\n",
    "delta_tdt2utc = -0.0039 - 32.184 # SI\n",
    "\n",
    "# tt = tai + 32.184\n",
    "# ut = tai - 0.0039 => tai = ut + 0.0039\n",
    "# ut = tt - 32.184 - 0.0039 # SI\n",
    "\n",
    "### headers index: Numbers lambda Rcos_fai Rsin_fai month day alpha delta\n",
    "\n",
    "lam = position_fram['lambda']\n",
    "Rcos_phi = position_fram['Rcos_phi']\n",
    "Rsin_phi = position_fram['Rsin_phi']\n",
    "\n",
    "alpha = position_fram['alpha']\n",
    "delta = position_fram['delta']\n",
    "year = 1998*np.ones(observe_times)\n",
    "month = position_fram['month']\n",
    "days = position_fram['day']\n",
    "UT1_hours = 0*np.ones(observe_times)"
   ]
  },
  {
   "cell_type": "code",
   "execution_count": 36,
   "metadata": {
    "collapsed": true
   },
   "outputs": [],
   "source": [
    "## 假设此处已经知道我们需要计算的t0的时间具体是多少\n",
    "\n",
    "t0_SG,t0_jd = CM.UTC2SG(1998,12,4,0)\n",
    "t0_jd_s = t0_jd * 24*3600"
   ]
  },
  {
   "cell_type": "code",
   "execution_count": 37,
   "metadata": {
    "collapsed": true
   },
   "outputs": [],
   "source": [
    "####################################\n",
    "# add JD and SG to Asteriod_fram\n",
    "Asteriod_fram = position_fram\n",
    "SG_t = []; SG_d_t = []; jd_t = []; jd_s_t = []\n",
    "\n",
    "for i in range(len(Asteriod_fram)):\n",
    "    year_int = int(year[i])\n",
    "    month_int = Asteriod_fram.loc[i,'month']\n",
    "    day_hour = Asteriod_fram.loc[i,'day']\n",
    "    day_int = int(day_hour)\n",
    "    hours = (day_hour - day_int)*24\n",
    "    SG,jd = CM.UTC2SG(int(year[i]),month_int,day_int,hours)\n",
    "    \n",
    "    SG_t.append(SG); jd_t.append(jd)\n",
    "    SG_d_t.append(SG%(3600*24)/(3600*24)*360)\n",
    "    jd_s_t.append( (jd)*24*3600 )\n",
    "    \n",
    "Asteriod_fram_right = pd.DataFrame({'SG':np.array(SG_t),'SG_d':np.array(SG_d_t),\n",
    "                                    'jd':np.array(jd_t),'jd_s':np.array(jd_s_t)})\n",
    "\n",
    "Asteriod_fram_fil = pd.concat([Asteriod_fram,Asteriod_fram_right],axis = 1)\n",
    "Asteriod_fram_fil['delta_T_s'] = Asteriod_fram_fil['jd_s'] - t0_jd_s\n",
    "Asteriod_fram_fil['delta_T_unit'] = Asteriod_fram_fil['delta_T_s']/time_unit"
   ]
  },
  {
   "cell_type": "code",
   "execution_count": 38,
   "metadata": {
    "collapsed": true,
    "scrolled": false
   },
   "outputs": [],
   "source": [
    "## 我们需要先获得在观测时间内（1998年11月25日 至 12月6日）的太阳位置——需要插值\n",
    "from scipy import interpolate \n",
    "\n",
    "####################################\n",
    "# Sun's position in tdt = 0\n",
    "Sun_fram = pd.read_csv(data_dir + 'Sun.csv')\n",
    "\n",
    "# 求出地球相对于太阳的坐标（观测值归算）\n",
    "# R_earth_sun\n",
    "Earth_sun_fram = Sun_fram.loc[:,['month','day']]\n",
    "Earth_sun_fram[['x','y','z']] = Sun_fram.loc[:,['x','y','z']]*(-1)\n",
    "\n",
    "Earth_sun_fram['hours'] = np.ones(len(Earth_sun_fram))*delta_tdt2utc/(24*3600)\n",
    "\n",
    "# utc,au to utc,jd,au\n",
    "\n",
    "SG_total = [];jd_total = [];SG_d_total = [];jd_s_total = [];\n",
    "for i in range(len(Earth_sun_fram)):\n",
    "    year_int = int(year[i])\n",
    "    SG,jd = CM.UTC2SG(year_int,Earth_sun_fram.loc[i,'month'],\\\n",
    "                       Earth_sun_fram.loc[i,'day'],Earth_sun_fram.loc[i,'hours'])\n",
    "    SG_total.append(SG)\n",
    "    SG_d_total.append(SG%(3600*24)/(3600*24)*360)\n",
    "    jd_total.append(jd)\n",
    "    jd_s_total.append( (jd)*24*3600 )\n",
    "\n",
    "Earth_sun_fram_right = pd.DataFrame({'SG':np.array(SG_total),\n",
    "                                     'SG_d':np.array(SG_d_total),\n",
    "                                     'jd':np.array(jd_total),\n",
    "                                    'jd_s':np.array(jd_s_total)})\n",
    "\n",
    "Earth_sun_fram_fil = pd.concat([Earth_sun_fram,Earth_sun_fram_right],axis=1)\n",
    "\n",
    "####################################\n",
    "# 插值获得所有太阳坐标\n",
    "\n",
    "# from scipy import interpolate \n",
    "\n",
    "# x,y,z三个方向分别独立插值 -- 因为运动的独立性，所以可以直接分开用样条插值\n",
    "\n",
    "axis = ['x','y','z']\n",
    "xyz_bspline = []\n",
    "for ax in axis:\n",
    "    y = Earth_sun_fram_fil[ax]\n",
    "    x = (Earth_sun_fram_fil['jd_s'].values - t0_jd_s)/time_unit\n",
    "    \n",
    "    x_new = Asteriod_fram_fil['delta_T_unit'].values\n",
    "    \n",
    "    f_linear = interpolate.interp1d(x, y, kind='cubic')\n",
    "    \n",
    "#     tck = interpolate.splrep(x, y)\n",
    "#     y_bspline = interpolate.splev(x_new, tck) # 插值得到的太阳相对于地球的xyz坐标\n",
    "\n",
    "    y_bspline = f_linear(x_new)\n",
    "    \n",
    "    xyz_bspline.append(y_bspline)\n",
    "\n",
    "XYZ_fram = pd.DataFrame({'X_e_s':xyz_bspline[0],\n",
    "                       'Y_e_s':xyz_bspline[1],\n",
    "                       'Z_e_s':xyz_bspline[2]})\n",
    "\n",
    "\n",
    "Earth_sun_fram_bspline = pd.concat([XYZ_fram,Asteriod_fram_fil[['delta_T_s','delta_T_unit','jd']]],axis=1)\n",
    "\n",
    "#################################################################\n",
    "### 此处插值不同，最终会得到截然不同的结果，这可能源于计算上面有一些误差 ###\n",
    "#################################################################"
   ]
  },
  {
   "cell_type": "code",
   "execution_count": 39,
   "metadata": {
    "scrolled": true
   },
   "outputs": [
    {
     "data": {
      "text/html": [
       "<div>\n",
       "<style>\n",
       "    .dataframe thead tr:only-child th {\n",
       "        text-align: right;\n",
       "    }\n",
       "\n",
       "    .dataframe thead th {\n",
       "        text-align: left;\n",
       "    }\n",
       "\n",
       "    .dataframe tbody tr th {\n",
       "        vertical-align: top;\n",
       "    }\n",
       "</style>\n",
       "<table border=\"1\" class=\"dataframe\">\n",
       "  <thead>\n",
       "    <tr style=\"text-align: right;\">\n",
       "      <th></th>\n",
       "      <th>X_e_s</th>\n",
       "      <th>Y_e_s</th>\n",
       "      <th>Z_e_s</th>\n",
       "      <th>delta_T_s</th>\n",
       "      <th>delta_T_unit</th>\n",
       "      <th>jd</th>\n",
       "    </tr>\n",
       "  </thead>\n",
       "  <tbody>\n",
       "    <tr>\n",
       "      <th>0</th>\n",
       "      <td>0.308215</td>\n",
       "      <td>0.858946</td>\n",
       "      <td>0.372404</td>\n",
       "      <td>11691.648</td>\n",
       "      <td>0.002328</td>\n",
       "      <td>-393.363937</td>\n",
       "    </tr>\n",
       "    <tr>\n",
       "      <th>1</th>\n",
       "      <td>0.308049</td>\n",
       "      <td>0.858995</td>\n",
       "      <td>0.372426</td>\n",
       "      <td>12557.376</td>\n",
       "      <td>0.002500</td>\n",
       "      <td>-393.353917</td>\n",
       "    </tr>\n",
       "    <tr>\n",
       "      <th>2</th>\n",
       "      <td>0.292221</td>\n",
       "      <td>0.863505</td>\n",
       "      <td>0.374381</td>\n",
       "      <td>94645.152</td>\n",
       "      <td>0.018844</td>\n",
       "      <td>-392.403827</td>\n",
       "    </tr>\n",
       "    <tr>\n",
       "      <th>3</th>\n",
       "      <td>0.292167</td>\n",
       "      <td>0.863520</td>\n",
       "      <td>0.374387</td>\n",
       "      <td>94925.952</td>\n",
       "      <td>0.018900</td>\n",
       "      <td>-392.400577</td>\n",
       "    </tr>\n",
       "    <tr>\n",
       "      <th>4</th>\n",
       "      <td>0.320908</td>\n",
       "      <td>0.855136</td>\n",
       "      <td>0.370753</td>\n",
       "      <td>-54463.104</td>\n",
       "      <td>-0.010844</td>\n",
       "      <td>-394.129617</td>\n",
       "    </tr>\n",
       "    <tr>\n",
       "      <th>5</th>\n",
       "      <td>0.320856</td>\n",
       "      <td>0.855152</td>\n",
       "      <td>0.370760</td>\n",
       "      <td>-54192.672</td>\n",
       "      <td>-0.010790</td>\n",
       "      <td>-394.126487</td>\n",
       "    </tr>\n",
       "    <tr>\n",
       "      <th>6</th>\n",
       "      <td>0.320681</td>\n",
       "      <td>0.855206</td>\n",
       "      <td>0.370783</td>\n",
       "      <td>-53275.968</td>\n",
       "      <td>-0.010607</td>\n",
       "      <td>-394.115877</td>\n",
       "    </tr>\n",
       "    <tr>\n",
       "      <th>7</th>\n",
       "      <td>0.320629</td>\n",
       "      <td>0.855222</td>\n",
       "      <td>0.370790</td>\n",
       "      <td>-53007.264</td>\n",
       "      <td>-0.010554</td>\n",
       "      <td>-394.112767</td>\n",
       "    </tr>\n",
       "    <tr>\n",
       "      <th>8</th>\n",
       "      <td>0.320454</td>\n",
       "      <td>0.855276</td>\n",
       "      <td>0.370813</td>\n",
       "      <td>-52093.152</td>\n",
       "      <td>-0.010372</td>\n",
       "      <td>-394.102187</td>\n",
       "    </tr>\n",
       "    <tr>\n",
       "      <th>9</th>\n",
       "      <td>0.304287</td>\n",
       "      <td>0.860091</td>\n",
       "      <td>0.372901</td>\n",
       "      <td>32108.832</td>\n",
       "      <td>0.006393</td>\n",
       "      <td>-393.127627</td>\n",
       "    </tr>\n",
       "    <tr>\n",
       "      <th>10</th>\n",
       "      <td>0.304130</td>\n",
       "      <td>0.860136</td>\n",
       "      <td>0.372920</td>\n",
       "      <td>32922.720</td>\n",
       "      <td>0.006555</td>\n",
       "      <td>-393.118207</td>\n",
       "    </tr>\n",
       "    <tr>\n",
       "      <th>11</th>\n",
       "      <td>0.304079</td>\n",
       "      <td>0.860151</td>\n",
       "      <td>0.372927</td>\n",
       "      <td>33188.832</td>\n",
       "      <td>0.006608</td>\n",
       "      <td>-393.115127</td>\n",
       "    </tr>\n",
       "    <tr>\n",
       "      <th>12</th>\n",
       "      <td>0.304026</td>\n",
       "      <td>0.860166</td>\n",
       "      <td>0.372933</td>\n",
       "      <td>33460.128</td>\n",
       "      <td>0.006662</td>\n",
       "      <td>-393.111987</td>\n",
       "    </tr>\n",
       "    <tr>\n",
       "      <th>13</th>\n",
       "      <td>0.303974</td>\n",
       "      <td>0.860181</td>\n",
       "      <td>0.372940</td>\n",
       "      <td>33732.288</td>\n",
       "      <td>0.006716</td>\n",
       "      <td>-393.108837</td>\n",
       "    </tr>\n",
       "    <tr>\n",
       "      <th>14</th>\n",
       "      <td>0.309903</td>\n",
       "      <td>0.858450</td>\n",
       "      <td>0.372189</td>\n",
       "      <td>2909.952</td>\n",
       "      <td>0.000579</td>\n",
       "      <td>-393.465577</td>\n",
       "    </tr>\n",
       "    <tr>\n",
       "      <th>15</th>\n",
       "      <td>0.309881</td>\n",
       "      <td>0.858456</td>\n",
       "      <td>0.372192</td>\n",
       "      <td>3029.184</td>\n",
       "      <td>0.000603</td>\n",
       "      <td>-393.464197</td>\n",
       "    </tr>\n",
       "    <tr>\n",
       "      <th>16</th>\n",
       "      <td>0.309863</td>\n",
       "      <td>0.858461</td>\n",
       "      <td>0.372194</td>\n",
       "      <td>3119.040</td>\n",
       "      <td>0.000621</td>\n",
       "      <td>-393.463157</td>\n",
       "    </tr>\n",
       "    <tr>\n",
       "      <th>17</th>\n",
       "      <td>0.309841</td>\n",
       "      <td>0.858468</td>\n",
       "      <td>0.372197</td>\n",
       "      <td>3235.680</td>\n",
       "      <td>0.000644</td>\n",
       "      <td>-393.461807</td>\n",
       "    </tr>\n",
       "    <tr>\n",
       "      <th>18</th>\n",
       "      <td>0.302936</td>\n",
       "      <td>0.860481</td>\n",
       "      <td>0.373070</td>\n",
       "      <td>39121.920</td>\n",
       "      <td>0.007789</td>\n",
       "      <td>-393.046457</td>\n",
       "    </tr>\n",
       "    <tr>\n",
       "      <th>19</th>\n",
       "      <td>0.302721</td>\n",
       "      <td>0.860543</td>\n",
       "      <td>0.373096</td>\n",
       "      <td>40237.344</td>\n",
       "      <td>0.008011</td>\n",
       "      <td>-393.033547</td>\n",
       "    </tr>\n",
       "    <tr>\n",
       "      <th>20</th>\n",
       "      <td>0.302509</td>\n",
       "      <td>0.860604</td>\n",
       "      <td>0.373123</td>\n",
       "      <td>41336.352</td>\n",
       "      <td>0.008230</td>\n",
       "      <td>-393.020827</td>\n",
       "    </tr>\n",
       "    <tr>\n",
       "      <th>21</th>\n",
       "      <td>0.302268</td>\n",
       "      <td>0.860673</td>\n",
       "      <td>0.373153</td>\n",
       "      <td>42589.152</td>\n",
       "      <td>0.008479</td>\n",
       "      <td>-393.006327</td>\n",
       "    </tr>\n",
       "    <tr>\n",
       "      <th>22</th>\n",
       "      <td>0.448327</td>\n",
       "      <td>0.806869</td>\n",
       "      <td>0.349823</td>\n",
       "      <td>-738198.144</td>\n",
       "      <td>-0.146974</td>\n",
       "      <td>-402.043217</td>\n",
       "    </tr>\n",
       "    <tr>\n",
       "      <th>23</th>\n",
       "      <td>0.448162</td>\n",
       "      <td>0.806944</td>\n",
       "      <td>0.349855</td>\n",
       "      <td>-737289.216</td>\n",
       "      <td>-0.146793</td>\n",
       "      <td>-402.032697</td>\n",
       "    </tr>\n",
       "    <tr>\n",
       "      <th>24</th>\n",
       "      <td>0.447997</td>\n",
       "      <td>0.807019</td>\n",
       "      <td>0.349888</td>\n",
       "      <td>-736374.240</td>\n",
       "      <td>-0.146611</td>\n",
       "      <td>-402.022107</td>\n",
       "    </tr>\n",
       "    <tr>\n",
       "      <th>25</th>\n",
       "      <td>0.447832</td>\n",
       "      <td>0.807094</td>\n",
       "      <td>0.349920</td>\n",
       "      <td>-735460.992</td>\n",
       "      <td>-0.146429</td>\n",
       "      <td>-402.011537</td>\n",
       "    </tr>\n",
       "    <tr>\n",
       "      <th>26</th>\n",
       "      <td>0.345533</td>\n",
       "      <td>0.847251</td>\n",
       "      <td>0.367334</td>\n",
       "      <td>-183683.808</td>\n",
       "      <td>-0.036571</td>\n",
       "      <td>-395.625227</td>\n",
       "    </tr>\n",
       "    <tr>\n",
       "      <th>27</th>\n",
       "      <td>0.345360</td>\n",
       "      <td>0.847309</td>\n",
       "      <td>0.367359</td>\n",
       "      <td>-182773.152</td>\n",
       "      <td>-0.036390</td>\n",
       "      <td>-395.614687</td>\n",
       "    </tr>\n",
       "    <tr>\n",
       "      <th>28</th>\n",
       "      <td>0.345177</td>\n",
       "      <td>0.847370</td>\n",
       "      <td>0.367385</td>\n",
       "      <td>-181807.200</td>\n",
       "      <td>-0.036198</td>\n",
       "      <td>-395.603507</td>\n",
       "    </tr>\n",
       "    <tr>\n",
       "      <th>29</th>\n",
       "      <td>0.330186</td>\n",
       "      <td>0.852243</td>\n",
       "      <td>0.369498</td>\n",
       "      <td>-103012.128</td>\n",
       "      <td>-0.020510</td>\n",
       "      <td>-394.691527</td>\n",
       "    </tr>\n",
       "    <tr>\n",
       "      <th>30</th>\n",
       "      <td>0.330113</td>\n",
       "      <td>0.852266</td>\n",
       "      <td>0.369508</td>\n",
       "      <td>-102626.784</td>\n",
       "      <td>-0.020433</td>\n",
       "      <td>-394.687067</td>\n",
       "    </tr>\n",
       "    <tr>\n",
       "      <th>31</th>\n",
       "      <td>0.330043</td>\n",
       "      <td>0.852288</td>\n",
       "      <td>0.369518</td>\n",
       "      <td>-102263.904</td>\n",
       "      <td>-0.020361</td>\n",
       "      <td>-394.682867</td>\n",
       "    </tr>\n",
       "    <tr>\n",
       "      <th>32</th>\n",
       "      <td>0.328712</td>\n",
       "      <td>0.852709</td>\n",
       "      <td>0.369700</td>\n",
       "      <td>-95286.240</td>\n",
       "      <td>-0.018971</td>\n",
       "      <td>-394.602107</td>\n",
       "    </tr>\n",
       "    <tr>\n",
       "      <th>33</th>\n",
       "      <td>0.328567</td>\n",
       "      <td>0.852754</td>\n",
       "      <td>0.369720</td>\n",
       "      <td>-94529.376</td>\n",
       "      <td>-0.018821</td>\n",
       "      <td>-394.593347</td>\n",
       "    </tr>\n",
       "    <tr>\n",
       "      <th>34</th>\n",
       "      <td>0.328421</td>\n",
       "      <td>0.852800</td>\n",
       "      <td>0.369740</td>\n",
       "      <td>-93763.008</td>\n",
       "      <td>-0.018668</td>\n",
       "      <td>-394.584477</td>\n",
       "    </tr>\n",
       "    <tr>\n",
       "      <th>35</th>\n",
       "      <td>0.297218</td>\n",
       "      <td>0.862110</td>\n",
       "      <td>0.373776</td>\n",
       "      <td>68776.992</td>\n",
       "      <td>0.013693</td>\n",
       "      <td>-392.703227</td>\n",
       "    </tr>\n",
       "    <tr>\n",
       "      <th>36</th>\n",
       "      <td>0.297154</td>\n",
       "      <td>0.862128</td>\n",
       "      <td>0.373783</td>\n",
       "      <td>69109.632</td>\n",
       "      <td>0.013760</td>\n",
       "      <td>-392.699377</td>\n",
       "    </tr>\n",
       "    <tr>\n",
       "      <th>37</th>\n",
       "      <td>0.297088</td>\n",
       "      <td>0.862146</td>\n",
       "      <td>0.373791</td>\n",
       "      <td>69448.320</td>\n",
       "      <td>0.013827</td>\n",
       "      <td>-392.695457</td>\n",
       "    </tr>\n",
       "    <tr>\n",
       "      <th>38</th>\n",
       "      <td>0.295661</td>\n",
       "      <td>0.862547</td>\n",
       "      <td>0.373965</td>\n",
       "      <td>76843.296</td>\n",
       "      <td>0.015299</td>\n",
       "      <td>-392.609867</td>\n",
       "    </tr>\n",
       "    <tr>\n",
       "      <th>39</th>\n",
       "      <td>0.295595</td>\n",
       "      <td>0.862566</td>\n",
       "      <td>0.373973</td>\n",
       "      <td>77182.848</td>\n",
       "      <td>0.015367</td>\n",
       "      <td>-392.605937</td>\n",
       "    </tr>\n",
       "    <tr>\n",
       "      <th>40</th>\n",
       "      <td>0.295528</td>\n",
       "      <td>0.862585</td>\n",
       "      <td>0.373981</td>\n",
       "      <td>77530.176</td>\n",
       "      <td>0.015436</td>\n",
       "      <td>-392.601917</td>\n",
       "    </tr>\n",
       "  </tbody>\n",
       "</table>\n",
       "</div>"
      ],
      "text/plain": [
       "       X_e_s     Y_e_s     Z_e_s   delta_T_s  delta_T_unit          jd\n",
       "0   0.308215  0.858946  0.372404   11691.648      0.002328 -393.363937\n",
       "1   0.308049  0.858995  0.372426   12557.376      0.002500 -393.353917\n",
       "2   0.292221  0.863505  0.374381   94645.152      0.018844 -392.403827\n",
       "3   0.292167  0.863520  0.374387   94925.952      0.018900 -392.400577\n",
       "4   0.320908  0.855136  0.370753  -54463.104     -0.010844 -394.129617\n",
       "5   0.320856  0.855152  0.370760  -54192.672     -0.010790 -394.126487\n",
       "6   0.320681  0.855206  0.370783  -53275.968     -0.010607 -394.115877\n",
       "7   0.320629  0.855222  0.370790  -53007.264     -0.010554 -394.112767\n",
       "8   0.320454  0.855276  0.370813  -52093.152     -0.010372 -394.102187\n",
       "9   0.304287  0.860091  0.372901   32108.832      0.006393 -393.127627\n",
       "10  0.304130  0.860136  0.372920   32922.720      0.006555 -393.118207\n",
       "11  0.304079  0.860151  0.372927   33188.832      0.006608 -393.115127\n",
       "12  0.304026  0.860166  0.372933   33460.128      0.006662 -393.111987\n",
       "13  0.303974  0.860181  0.372940   33732.288      0.006716 -393.108837\n",
       "14  0.309903  0.858450  0.372189    2909.952      0.000579 -393.465577\n",
       "15  0.309881  0.858456  0.372192    3029.184      0.000603 -393.464197\n",
       "16  0.309863  0.858461  0.372194    3119.040      0.000621 -393.463157\n",
       "17  0.309841  0.858468  0.372197    3235.680      0.000644 -393.461807\n",
       "18  0.302936  0.860481  0.373070   39121.920      0.007789 -393.046457\n",
       "19  0.302721  0.860543  0.373096   40237.344      0.008011 -393.033547\n",
       "20  0.302509  0.860604  0.373123   41336.352      0.008230 -393.020827\n",
       "21  0.302268  0.860673  0.373153   42589.152      0.008479 -393.006327\n",
       "22  0.448327  0.806869  0.349823 -738198.144     -0.146974 -402.043217\n",
       "23  0.448162  0.806944  0.349855 -737289.216     -0.146793 -402.032697\n",
       "24  0.447997  0.807019  0.349888 -736374.240     -0.146611 -402.022107\n",
       "25  0.447832  0.807094  0.349920 -735460.992     -0.146429 -402.011537\n",
       "26  0.345533  0.847251  0.367334 -183683.808     -0.036571 -395.625227\n",
       "27  0.345360  0.847309  0.367359 -182773.152     -0.036390 -395.614687\n",
       "28  0.345177  0.847370  0.367385 -181807.200     -0.036198 -395.603507\n",
       "29  0.330186  0.852243  0.369498 -103012.128     -0.020510 -394.691527\n",
       "30  0.330113  0.852266  0.369508 -102626.784     -0.020433 -394.687067\n",
       "31  0.330043  0.852288  0.369518 -102263.904     -0.020361 -394.682867\n",
       "32  0.328712  0.852709  0.369700  -95286.240     -0.018971 -394.602107\n",
       "33  0.328567  0.852754  0.369720  -94529.376     -0.018821 -394.593347\n",
       "34  0.328421  0.852800  0.369740  -93763.008     -0.018668 -394.584477\n",
       "35  0.297218  0.862110  0.373776   68776.992      0.013693 -392.703227\n",
       "36  0.297154  0.862128  0.373783   69109.632      0.013760 -392.699377\n",
       "37  0.297088  0.862146  0.373791   69448.320      0.013827 -392.695457\n",
       "38  0.295661  0.862547  0.373965   76843.296      0.015299 -392.609867\n",
       "39  0.295595  0.862566  0.373973   77182.848      0.015367 -392.605937\n",
       "40  0.295528  0.862585  0.373981   77530.176      0.015436 -392.601917"
      ]
     },
     "execution_count": 39,
     "metadata": {},
     "output_type": "execute_result"
    }
   ],
   "source": [
    "Earth_sun_fram_bspline"
   ]
  },
  {
   "cell_type": "code",
   "execution_count": 40,
   "metadata": {
    "collapsed": true
   },
   "outputs": [],
   "source": [
    "# 进行拉普拉斯方法所需要的星表归算——给出最终所需要的P,Q\n",
    "\n",
    "P = []\n",
    "Q = []\n",
    "Lambda_all = []\n",
    "Niu_all = []\n",
    "Miu_all = []\n",
    "station_sun = []\n",
    "X_all = [];Y_all = [];Z_all = []\n",
    "\n",
    "for i in range(observe_times):    \n",
    "    # 现求出测站相对于太阳的坐标(au为单位)\n",
    "    \n",
    "    # 需要根据alpha和delta求出所需的测站到地心的RA(u),DEC(v)-不用求v——(星表中自带了R*sin/cos phi')\n",
    "\n",
    "    RA_station_earth = Asteriod_fram_fil.loc[i,'SG_d'] + Asteriod_fram_fil.loc[i,'lambda']\n",
    "    u = np.deg2rad(RA_station_earth)\n",
    "\n",
    "    # 加号前面的是测站到地心的矢量，加上地心到日心的矢量，即可求的测站到日心的矢量\n",
    "\n",
    "    X = np.cos(u)*Asteriod_fram_fil.loc[i,'Rcos_phi']*R_earth/au + Earth_sun_fram_bspline.loc[i,'X_e_s']\n",
    "    Y = np.sin(u)*Asteriod_fram_fil.loc[i,'Rcos_phi']*R_earth/au + Earth_sun_fram_bspline.loc[i,'Y_e_s']\n",
    "    Z = Asteriod_fram_fil.loc[i,'Rsin_phi']*R_earth/au + Earth_sun_fram_bspline.loc[i,'Z_e_s']\n",
    "\n",
    "    station_sun.append([X,Y,Z])\n",
    "    X_all.append(X);\n",
    "    Y_all.append(Y);\n",
    "    Z_all.append(Z)\n",
    "    \n",
    "    # 再根据测站到日心的位置最终算出Pj,Qj\n",
    "    delta_rad = np.deg2rad(delta[i])\n",
    "    alpha_rad = np.deg2rad(alpha[i])\n",
    "    \n",
    "    Lambda = np.cos(delta_rad)*np.cos(alpha_rad)\n",
    "    Miu = np.cos(delta_rad)*np.sin(alpha_rad)\n",
    "    Niu = np.sin(delta_rad)\n",
    "    Lambda_all.append(Lambda)\n",
    "    Miu_all.append(Miu)\n",
    "    Niu_all.append(Niu)\n",
    "    \n",
    "    P_j = Niu*X - Lambda*Z\n",
    "    Q_j = Niu*Y - Miu*Z\n",
    "    \n",
    "    P.append(P_j);Q.append(Q_j)\n",
    "\n",
    "PF_fill = position_fram\n",
    "PF_fill['P'] = np.array(P)\n",
    "PF_fill['Q'] = np.array(Q)\n",
    "PF_fill['Lambda'] = np.array(Lambda_all)\n",
    "PF_fill['Miu'] = np.array(Miu_all)\n",
    "PF_fill['Niu'] = np.array(Niu_all)\n",
    "PF_fill['X'] = np.array(X_all)\n",
    "PF_fill['Y'] = np.array(Y_all)\n",
    "PF_fill['Z'] = np.array(Z_all)\n",
    "\n",
    "# 为了避免和底下计算轨道根数时用到的P,Q（坐标轴指向）产生冲突，此处将P,Q重新命名为Pj,Qj以便使用\n",
    "Pj = P; Qj = Q"
   ]
  },
  {
   "cell_type": "code",
   "execution_count": 41,
   "metadata": {
    "collapsed": true
   },
   "outputs": [],
   "source": [
    "# 使用unix时间戳标记拥有的时间单位，并且计算时间间隔\n",
    "\n",
    "# t0的值要预先给定\n",
    "t0 = datetime.datetime.strptime(\"1998-12-4 0:0:0\",\"%Y-%m-%d %H:%M:%S\")\n",
    "unix_t0 = time.mktime(t0.timetuple())\n",
    "\n",
    "# 用unix时间戳计算\n",
    "unix_T = []\n",
    "for i in range(observe_times):\n",
    "    day_int = math.floor(days[i])\n",
    "    day_plus = days[i] - day_int\n",
    "    Date_str = str(int(year[i])) +'-'+ str(month[i]) +'-'+ str(day_int)\n",
    "    Date = datetime.datetime.strptime(Date_str,\"%Y-%m-%d\")\n",
    "    unix_Date = time.mktime(Date.timetuple())\n",
    "    unix_T.append(unix_Date + day_plus*3600*24) # unix时间戳起点为1971年，所以此处多余的时间用加法\n",
    "    \n",
    "# 给定所需要的按照理论单位的时间值\n",
    "T = (np.array(unix_T) - unix_t0)/time_unit\n",
    "F0 = np.ones(observe_times).tolist()\n",
    "G0 = T.tolist()"
   ]
  },
  {
   "cell_type": "code",
   "execution_count": 42,
   "metadata": {
    "collapsed": true,
    "scrolled": false
   },
   "outputs": [],
   "source": [
    "PF_fill['delta_T_unit'] = T\n",
    "# PF_fill"
   ]
  },
  {
   "cell_type": "code",
   "execution_count": 43,
   "metadata": {
    "collapsed": true
   },
   "outputs": [],
   "source": [
    "def F_expansion(r,v,t):\n",
    "    s = np.dot(r,v)\n",
    "    u = 1/r\n",
    "    \n",
    "    Out = 1 - 0.5*(u**3)*(t**2) + 0.5*(u**5)*s*(t**3) + 1/24*(u**5)*(3*(v**2) - 2*u - 15*(u**2)*(s**2))\n",
    "    return Out\n",
    "\n",
    "def G_expansion(r,v,t):\n",
    "    s = np.dot(r,v)\n",
    "    u = 1/r\n",
    "    \n",
    "    Out = t - 1/6*(u**3)*(t**3) + 1/4*(u**5)*s*(t**4) + 1/120*(u**5)*(9*(v**2) - 8*u -45*(u**2)*(s**2))*(t**5)\n",
    "    return Out"
   ]
  },
  {
   "cell_type": "code",
   "execution_count": 44,
   "metadata": {
    "scrolled": true
   },
   "outputs": [
    {
     "name": "stdout",
     "output_type": "stream",
     "text": [
      "end:  7\n",
      "[0.31158079 0.85853142 0.37255691] [-0.89969004  0.29784626  0.14790714]\n"
     ]
    }
   ],
   "source": [
    "# 选定用于归算轨道六根数的数据点（观测序数）\n",
    "# Ob_index = [i for i in range(observe_times)] # if i != 6]\n",
    "# Ob_index = [0,1,2]\n",
    "Ob_index = [i for i in range(observe_times) if i not in [1,2,22,23,24,25,26,27,28,29,30,31,32,\\\n",
    "                                                         33,34,35,36,37,38,39]]\n",
    "\n",
    "############################################\n",
    "\n",
    "# Laplace循环长数值和初值\n",
    "F = [ F0[i] for i in Ob_index ]\n",
    "G = [ G0[i] for i in Ob_index ]\n",
    "Niu = Niu_all\n",
    "Miu = Miu_all\n",
    "Lambda = Lambda_all\n",
    "\n",
    "# Laplace循环\n",
    "Nwind = 0\n",
    "key = 0\n",
    "while key == 0:\n",
    "    A = []\n",
    "    b = []\n",
    "    nwind = 0 # 用于索引循环中的F,G的list\n",
    "    # 构造系数矩阵和常数阵\n",
    "    for j in Ob_index:\n",
    "        \n",
    "        A.append([Niu[j]*F[nwind],0,-Lambda[j]*F[nwind],Niu[j]*G[nwind],0,-Lambda[j]*G[nwind]])\n",
    "        A.append([0,Niu[j]*F[nwind],-Miu[j]*F[nwind],0,Niu[j]*G[nwind],-Miu[j]*G[nwind]])\n",
    "        b.append(Pj[j])\n",
    "        b.append(Qj[j])\n",
    "        \n",
    "        nwind += 1\n",
    "    \n",
    "    AA = np.array(A)\n",
    "    b = np.array(b)\n",
    "    \n",
    "    # 解出r0和V0\n",
    "    ans = np.linalg.solve(np.dot(AA.T.copy(),AA),np.dot(AA.T.copy(),b))\n",
    "#     ans=np.linalg.lstsq(AA,b)\n",
    "\n",
    "#     r0=ans[0].T[0][0:3]\n",
    "#     v0=ans[0].T[0][3:6]\n",
    "    r0 = ans[:3]\n",
    "    v0 = ans[3:]\n",
    "#     print(r0,v0)\n",
    "    # 用r0和v0求出新的F和G\n",
    "    norm_r0 = np.sqrt(np.dot(r0,r0))\n",
    "    norm_v0 = np.sqrt(np.dot(v0,v0))\n",
    "    \n",
    "    F_old = F; G_old = G\n",
    "    F = [];G = []\n",
    "    for k in Ob_index:\n",
    "        F.append(CM.F(norm_r0,norm_v0,T[k]))\n",
    "        G.append(CM.G(norm_r0,norm_v0,T[k]))\n",
    "        \n",
    "    # 上述循环完成，计数一次\n",
    "    Nwind += 1\n",
    "    \n",
    "    # 判断是否跳出循环\n",
    "    # 取F,G的二范数的最大值判断是否小于我们所需的精度\n",
    "    delta_F = np.linalg.norm(np.array(F) - np.array(F_old), 2)\n",
    "    delta_G = np.linalg.norm(np.array(G) - np.array(G_old), 2)\n",
    "#     delta_F = np.abs(np.max(np.array(F) - np.array(F_old)))\n",
    "#     delta_G = np.abs(np.max(np.array(G) - np.array(G_old)))\n",
    "    biggest = np.max([delta_F,delta_G])\n",
    "\n",
    "    if biggest < 1e-13:\n",
    "        print('end: ',int(Nwind))\n",
    "        print(r0,v0)\n",
    "        key = 1\n",
    "    elif Nwind > 1e4:\n",
    "        print('Nan')\n",
    "        print(norm_r0,norm_v0)\n",
    "        key = 1"
   ]
  },
  {
   "cell_type": "code",
   "execution_count": 45,
   "metadata": {
    "scrolled": false
   },
   "outputs": [
    {
     "name": "stdout",
     "output_type": "stream",
     "text": [
      "[0.31158079 0.85853142 0.37255691] r0: 147561253192.06863 km =  0.9863860528334955 au;\n",
      "[-0.89969004  0.29784626  0.14790714] v0: 28.568955380933787 km/s = 0.9591825074432266 au/[T];\n"
     ]
    }
   ],
   "source": [
    "print(r0,'r0:',norm_r0*au,'km = ',norm_r0,'au;')\n",
    "\n",
    "print(v0,'v0:',norm_v0*au/1e3/time_unit,'km/s =',norm_v0,'au/[T];')\n",
    "\n",
    "# print(t0*time_unit,'s')"
   ]
  },
  {
   "cell_type": "markdown",
   "metadata": {},
   "source": [
    "# Step 2 解轨道六根数"
   ]
  },
  {
   "cell_type": "code",
   "execution_count": 46,
   "metadata": {
    "collapsed": true
   },
   "outputs": [],
   "source": [
    "# # 取轨国际单位制的常数表\n",
    "\n",
    "# R_earth = 6371e3 # m\n",
    "\n",
    "# M_earth = 5.965e24 # kg\n",
    "# G_graviation = 6.672e-11 # N·m^2 /kg^2 \n",
    "\n",
    "# au = 149597870e3 # m\n",
    "# r_station_earth = 0.999102 #*R_earth\n",
    "# r_earth_sun = 1*au\n",
    "\n",
    "# # time_unit = 806.81163 #806.8116 # SI \n",
    "\n",
    "# # miu_GM = 398600.5e-6 # km^3/SI^2\n",
    "\n",
    "# miu_GM = G_graviation*M_earth # m^3/SI^2\n",
    "\n",
    "## 还是先继续使用已经在使用的理论单位！\n",
    "\n",
    "miu_GM = 1"
   ]
  },
  {
   "cell_type": "code",
   "execution_count": 47,
   "metadata": {
    "collapsed": true
   },
   "outputs": [],
   "source": [
    "# rg = r0*R_earth\n",
    "# norm_rg = np.sqrt(np.dot(rg,rg))\n",
    "# vg = v0*R_earth/time_unit\n",
    "# norm_vg = np.sqrt(np.dot(vg,vg))\n",
    "# tg = t0*time_unit\n",
    "\n",
    "rg = r0\n",
    "norm_rg = np.sqrt(rg.dot(rg))\n",
    "vg = v0\n",
    "norm_vg = np.sqrt(vg.dot(vg))"
   ]
  },
  {
   "cell_type": "code",
   "execution_count": 48,
   "metadata": {},
   "outputs": [
    {
     "data": {
      "text/plain": [
       "0.9028753453755679"
      ]
     },
     "execution_count": 48,
     "metadata": {},
     "output_type": "execute_result"
    }
   ],
   "source": [
    "a = (2/norm_rg - (norm_vg**2)/miu_GM)**(-1)\n",
    "a"
   ]
  },
  {
   "cell_type": "code",
   "execution_count": 49,
   "metadata": {},
   "outputs": [
    {
     "data": {
      "text/plain": [
       "1.1656235386262666"
      ]
     },
     "execution_count": 49,
     "metadata": {},
     "output_type": "execute_result"
    }
   ],
   "source": [
    "n = np.sqrt(miu_GM/(a**3))\n",
    "n"
   ]
  },
  {
   "cell_type": "code",
   "execution_count": 50,
   "metadata": {},
   "outputs": [
    {
     "data": {
      "text/plain": [
       "0.09790140761299161"
      ]
     },
     "execution_count": 50,
     "metadata": {},
     "output_type": "execute_result"
    }
   ],
   "source": [
    "e = np.sqrt( (1 - norm_rg/a)**2 + (rg.dot(vg) / (n*a**2))**2)\n",
    "e"
   ]
  },
  {
   "cell_type": "code",
   "execution_count": 51,
   "metadata": {},
   "outputs": [
    {
     "data": {
      "text/plain": [
       "2.8076840382540014"
      ]
     },
     "execution_count": 51,
     "metadata": {},
     "output_type": "execute_result"
    }
   ],
   "source": [
    "cos_E = (1 - norm_rg/a)/e\n",
    "sin_E = (rg.dot(vg) / ((a**2)*n))/e\n",
    "E = math.atan2(sin_E,cos_E)\n",
    "\n",
    "E"
   ]
  },
  {
   "cell_type": "code",
   "execution_count": 52,
   "metadata": {
    "collapsed": true
   },
   "outputs": [],
   "source": [
    "M = E - e*math.sin(E)"
   ]
  },
  {
   "cell_type": "code",
   "execution_count": 53,
   "metadata": {},
   "outputs": [
    {
     "data": {
      "text/plain": [
       "(array([-0.01825665, -0.91506248, -0.40289869]),\n",
       " array([ 0.99869277, -0.01262661, -0.02405351]))"
      ]
     },
     "execution_count": 53,
     "metadata": {},
     "output_type": "execute_result"
    }
   ],
   "source": [
    "P = (cos_E/norm_rg)*rg - (sin_E/(a*n))*vg\n",
    "Q = (sin_E/(norm_rg)*np.sqrt(1-e**2))*rg + ((cos_E - e)/(a*n*np.sqrt(1-e**2)))*vg\n",
    "R = np.cross(P,Q)\n",
    "P,Q"
   ]
  },
  {
   "cell_type": "code",
   "execution_count": 54,
   "metadata": {
    "collapsed": true
   },
   "outputs": [],
   "source": [
    "pz = P[2]; qz = Q[2]\n",
    "tan_w_raw = pz/qz\n",
    "if pz >=0 and qz >= 0:\n",
    "    # w I\n",
    "    w = math.atan(tan_w_raw)\n",
    "elif pz >= 0 and qz < 0:\n",
    "    # w II\n",
    "    w = math.atan(tan_w_raw) + np.pi\n",
    "elif pz < 0 and qz < 0:\n",
    "    # w III\n",
    "    w = math.atan(tan_w_raw) + np.pi\n",
    "elif pz < 0 and qz >= 0:\n",
    "    # w IV\n",
    "    w = math.atan(tan_w_raw) + 2*np.pi"
   ]
  },
  {
   "cell_type": "code",
   "execution_count": 55,
   "metadata": {
    "collapsed": true
   },
   "outputs": [],
   "source": [
    "h = np.cross(rg,vg)\n",
    "norm_h = np.sqrt(np.dot(h,h))\n",
    "\n",
    "h_A, h_B, h_C = h[0:3]\n",
    "\n",
    "# get cos_i, sin_i\n",
    "cos_i = (h_C/norm_h)\n",
    "tan_i = np.sqrt(h_A**2 + h_B**2) / h_C\n",
    "\n",
    "sin_i = tan_i*cos_i\n",
    "\n",
    "# get cos_\\sin_Omega\n",
    "sin_Omega = h_A/(norm_h*sin_i)\n",
    "cos_Omega = -h_B/(norm_h*sin_i)\n",
    "\n",
    "i_fin = math.atan2(sin_i,cos_i)\n",
    "Omega = math.atan2(sin_Omega,cos_Omega)"
   ]
  },
  {
   "cell_type": "code",
   "execution_count": 56,
   "metadata": {},
   "outputs": [
    {
     "name": "stdout",
     "output_type": "stream",
     "text": [
      "0.9028753453755679 0.09790140761299161 2.7755980013351964 0.4153899741560154 0.0419880823205519 4.652758631722838\n"
     ]
    }
   ],
   "source": [
    "print(a,e,M,i_fin,Omega,w)"
   ]
  },
  {
   "cell_type": "code",
   "execution_count": 57,
   "metadata": {},
   "outputs": [
    {
     "data": {
      "text/plain": [
       "23.800092371188025"
      ]
     },
     "execution_count": 57,
     "metadata": {},
     "output_type": "execute_result"
    }
   ],
   "source": [
    "np.rad2deg(i_fin)"
   ]
  },
  {
   "cell_type": "markdown",
   "metadata": {},
   "source": [
    "# Step 3 反算星历表\n"
   ]
  },
  {
   "cell_type": "code",
   "execution_count": 58,
   "metadata": {
    "collapsed": true
   },
   "outputs": [],
   "source": [
    "t3 = 0\n",
    "T3 = Asteriod_fram_fil['delta_T_unit']"
   ]
  },
  {
   "cell_type": "code",
   "execution_count": 59,
   "metadata": {
    "collapsed": true
   },
   "outputs": [],
   "source": [
    "M_total = M + n*T3"
   ]
  },
  {
   "cell_type": "code",
   "execution_count": 60,
   "metadata": {
    "collapsed": true,
    "scrolled": false
   },
   "outputs": [],
   "source": [
    "# 迭代 开普勒方程解 E\n",
    "E_total = []\n",
    "for i in range(len(M_total)):\n",
    "    epsilon = 1e-10\n",
    "    key = 0\n",
    "    En0 = M_total[i]\n",
    "    \n",
    "    En_new = En0\n",
    "    while key == 0:\n",
    "        En_old = En_new\n",
    "        En_new = En_old - (En_old - M_total[i] - e*np.sin(En_old))/(1-e*np.cos(En_old))\n",
    "        delta_En = np.abs(En_new - En_old)\n",
    "\n",
    "        if delta_En < epsilon:\n",
    "            key = 1;\n",
    "\n",
    "    E_total.append(En_new)"
   ]
  },
  {
   "cell_type": "code",
   "execution_count": 61,
   "metadata": {},
   "outputs": [
    {
     "data": {
      "text/plain": [
       "(array([-0.01802753, -0.91489588, -0.40282952]),\n",
       " array([ 0.99963165, -0.0125778 , -0.02404938]))"
      ]
     },
     "execution_count": 61,
     "metadata": {},
     "output_type": "execute_result"
    }
   ],
   "source": [
    "# 计算新的 P,Q \n",
    "\n",
    "P_new = np.array([np.cos(Omega)*np.cos(w-6.28) - np.sin(Omega)*np.sin(w)*np.cos(i_fin),\\\n",
    "                 np.sin(Omega)*np.cos(w-6.28) + np.cos(Omega)*np.sin(w)*np.cos(i_fin),\\\n",
    "                 np.sin(w)*np.sin(i_fin)])\n",
    "Q_new = np.array([-np.cos(Omega)*np.sin(w) - np.sin(Omega)*np.cos(w)*np.cos(i_fin),\\\n",
    "                 -np.sin(Omega)*np.sin(w) + np.cos(Omega)*np.cos(w)*np.cos(i_fin),\\\n",
    "                 np.cos(w)*np.sin(i_fin)])\n",
    "\n",
    "### 新算出来的P_new,Q_new有误！\n",
    "P_new,Q_new"
   ]
  },
  {
   "cell_type": "code",
   "execution_count": 62,
   "metadata": {},
   "outputs": [
    {
     "data": {
      "text/plain": [
       "(array([-0.01825665, -0.91506248, -0.40289869]),\n",
       " array([ 0.99869277, -0.01262661, -0.02405351]))"
      ]
     },
     "execution_count": 62,
     "metadata": {},
     "output_type": "execute_result"
    }
   ],
   "source": [
    "P,Q"
   ]
  },
  {
   "cell_type": "code",
   "execution_count": 63,
   "metadata": {
    "collapsed": true
   },
   "outputs": [],
   "source": [
    "# 计算新的 r,v\n",
    "Rt = [];Vt = []\n",
    "for Et in E_total:\n",
    "    rt = a*(np.cos(Et) - e)*P_new + a*np.sqrt(1 - e**2)*np.sin(Et)*Q_new\n",
    "    rt_norm = np.sqrt( np.dot(rt,rt) )\n",
    "\n",
    "    vt = -a**2*n/rt_norm*np.sin(Et)*P_new + a**2*n/rt_norm*np.sqrt(1 - e**2)*np.cos(Et)*Q_new\n",
    "    vt_norm = np.sqrt( np.dot(vt,vt) )\n",
    "\n",
    "    L_rt = rt/ np.sqrt( np.dot(rt,rt))\n",
    "\n",
    "#     print(rt_norm,vt_norm)\n",
    "    \n",
    "    Rt.append(rt)\n",
    "    Vt.append(vt)"
   ]
  },
  {
   "cell_type": "code",
   "execution_count": 64,
   "metadata": {
    "scrolled": true
   },
   "outputs": [
    {
     "data": {
      "text/plain": [
       "array([[-0.31267083, -0.87147324, -0.37785095],\n",
       "       [-0.31250221, -0.87152381, -0.37787382],\n",
       "       [-0.2964876 , -0.87622267, -0.37990648],\n",
       "       [-0.2964324 , -0.8762383 , -0.37991352],\n",
       "       [-0.32551727, -0.86750783, -0.37612321],\n",
       "       [-0.32546449, -0.86752443, -0.37613059],\n",
       "       [-0.32528563, -0.86758066, -0.37615564],\n",
       "       [-0.32523322, -0.86759712, -0.37616299],\n",
       "       [-0.32505502, -0.86765306, -0.37618798],\n",
       "       [-0.30870227, -0.87266643, -0.37835988],\n",
       "       [-0.30854246, -0.87271379, -0.37838101],\n",
       "       [-0.30849023, -0.87272926, -0.37838793],\n",
       "       [-0.308437  , -0.87274502, -0.37839497],\n",
       "       [-0.3083836 , -0.87276082, -0.37840205],\n",
       "       [-0.31440052, -0.87094752, -0.37762776],\n",
       "       [-0.31437713, -0.87095462, -0.37763085],\n",
       "       [-0.31435951, -0.87095997, -0.37763319],\n",
       "       [-0.31433662, -0.87096692, -0.37763622],\n",
       "       [-0.30733684, -0.87306852, -0.37854382],\n",
       "       [-0.30711814, -0.873133  , -0.37857259],\n",
       "       [-0.30690282, -0.87319642, -0.37860094],\n",
       "       [-0.30665758, -0.87326856, -0.37863327],\n",
       "       [-0.4541451 , -0.81740572, -0.35440107],\n",
       "       [-0.45397856, -0.81748338, -0.35443533],\n",
       "       [-0.45381101, -0.81756144, -0.35446982],\n",
       "       [-0.4536439 , -0.81763926, -0.35450425],\n",
       "       [-0.35041209, -0.85930057, -0.37257736],\n",
       "       [-0.35023695, -0.85936039, -0.37260407],\n",
       "       [-0.3500513 , -0.85942375, -0.3726324 ],\n",
       "       [-0.33490436, -0.86449168, -0.37482423],\n",
       "       [-0.33482946, -0.86451603, -0.37483499],\n",
       "       [-0.33475893, -0.86453894, -0.37484513],\n",
       "       [-0.33340608, -0.86497695, -0.37504035],\n",
       "       [-0.33325974, -0.86502416, -0.37506153],\n",
       "       [-0.33311165, -0.8650719 , -0.37508296],\n",
       "       [-0.30155531, -0.87476453, -0.37927748],\n",
       "       [-0.3014898 , -0.87478348, -0.37928586],\n",
       "       [-0.30142311, -0.87480276, -0.37929439],\n",
       "       [-0.29997052, -0.87522097, -0.37948116],\n",
       "       [-0.299904  , -0.87524004, -0.37948974],\n",
       "       [-0.29983598, -0.87525954, -0.37949852]])"
      ]
     },
     "execution_count": 64,
     "metadata": {},
     "output_type": "execute_result"
    }
   ],
   "source": [
    "# 归算最终的赤经赤纬\n",
    "# 先获得方向矢量L，再从L归算预测的alpha和delta值\n",
    "P_earth = Rt\n",
    "P_station = []\n",
    "L_forecast_total = []\n",
    "\n",
    "for j in range(observe_times):\n",
    "    station_earth = np.array([PF_fill.loc[j,'X'],PF_fill.loc[j,'Y'],PF_fill.loc[j,'Z']])*r_earth_sun\n",
    "    P_station = np.array(P_earth[j] - station_earth)\n",
    "    L_forecast = np.true_divide(P_station,np.linalg.norm(P_station,2))\n",
    "    L_forecast_total.append(L_forecast)\n",
    "\n",
    "L_fa = np.array(L_forecast_total)\n",
    "\n",
    "L_fa"
   ]
  },
  {
   "cell_type": "code",
   "execution_count": 65,
   "metadata": {
    "collapsed": true,
    "scrolled": true
   },
   "outputs": [],
   "source": [
    "# 计算delta 和alpha\n",
    "# delta in [-180,180]\n",
    "Delta_forecast = np.rad2deg(np.arcsin(L_fa[:,2]))\n",
    "\n",
    "# alpha in [0,360]\n",
    "Alpha_forecast_raw = np.rad2deg(np.arctan2(L_fa[:,1],L_fa[:,0]))\n",
    "Alpha_forecast = []\n",
    "for a in Alpha_forecast_raw:\n",
    "    if a > 0:\n",
    "        Alpha_forecast.append(a)\n",
    "    else:\n",
    "        Alpha_forecast.append(360 + a)\n",
    "    \n",
    "Alpha_forecast = np.array(Alpha_forecast)"
   ]
  },
  {
   "cell_type": "code",
   "execution_count": 74,
   "metadata": {
    "scrolled": false
   },
   "outputs": [],
   "source": [
    "# PF_fill"
   ]
  },
  {
   "cell_type": "markdown",
   "metadata": {
    "collapsed": true
   },
   "source": [
    "# Step 4 计算残差数据"
   ]
  },
  {
   "cell_type": "code",
   "execution_count": 73,
   "metadata": {},
   "outputs": [],
   "source": [
    "delta_AlphaCosDelta = Alpha_forecast*np.cos(np.deg2rad(Delta_forecast)) \\\n",
    "                    - PF_fill['alpha']*np.cos(np.deg2rad(PF_fill['delta']))\n",
    "delta_Delta = Delta_forecast - PF_fill['delta']\n",
    "\n",
    "# pd.DataFrame({'$ \\Delta a\\cos\\delta $': np.array(delta_AlphaCosDelta),\n",
    "#              '$ \\Delta\\delta $ ':np.array(delta_Delta)})"
   ]
  },
  {
   "cell_type": "code",
   "execution_count": 68,
   "metadata": {
    "scrolled": true
   },
   "outputs": [
    {
     "data": {
      "image/png": "[encoded data removed]",
      "text/plain": [
       "<matplotlib.figure.Figure at 0x10e6a9978>"
      ]
     },
     "metadata": {},
     "output_type": "display_data"
    }
   ],
   "source": [
    "plt.figure()\n",
    "\n",
    "plt.xlabel('Alpha')\n",
    "plt.ylabel('Delta')\n",
    "\n",
    "plt.scatter(PF_fill['alpha'],PF_fill['delta'],c = 'orange')\n",
    "plt.scatter(Alpha_forecast,Delta_forecast,c = 'b')\n",
    "\n",
    "plt.show()"
   ]
  },
  {
   "cell_type": "code",
   "execution_count": null,
   "metadata": {
    "collapsed": true
   },
   "outputs": [],
   "source": []
  }
 ],
 "metadata": {
  "kernelspec": {
   "display_name": "Python 3",
   "language": "python",
   "name": "python3"
  },
  "language_info": {
   "codemirror_mode": {
    "name": "ipython",
    "version": 3
   },
   "file_extension": ".py",
   "mimetype": "text/x-python",
   "name": "python",
   "nbconvert_exporter": "python",
   "pygments_lexer": "ipython3",
   "version": "3.6.3"
  },
  "toc": {
   "base_numbering": 1,
   "nav_menu": {},
   "number_sections": false,
   "sideBar": true,
   "skip_h1_title": false,
   "title_cell": "Table of Contents",
   "title_sidebar": "Contents",
   "toc_cell": false,
   "toc_position": {},
   "toc_section_display": true,
   "toc_window_display": false
  },
  "varInspector": {
   "cols": {
    "lenName": 16,
    "lenType": 16,
    "lenVar": 40
   },
   "kernels_config": {
    "python": {
     "delete_cmd_postfix": "",
     "delete_cmd_prefix": "del ",
     "library": "var_list.py",
     "varRefreshCmd": "print(var_dic_list())"
    },
    "r": {
     "delete_cmd_postfix": ") ",
     "delete_cmd_prefix": "rm(",
     "library": "var_list.r",
     "varRefreshCmd": "cat(var_dic_list()) "
    }
   },
   "oldHeight": 500,
   "position": {
    "height": "522px",
    "left": "529px",
    "right": "157px",
    "top": "102px",
    "width": "639px"
   },
   "types_to_exclude": [
    "module",
    "function",
    "builtin_function_or_method",
    "instance",
    "_Feature"
   ],
   "varInspector_section_display": "block",
   "window_display": false
  }
 },
 "nbformat": 4,
 "nbformat_minor": 2
}
