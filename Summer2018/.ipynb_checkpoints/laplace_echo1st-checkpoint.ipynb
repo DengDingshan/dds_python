{
 "cells": [
  {
   "cell_type": "code",
   "execution_count": 75,
   "metadata": {
    "collapsed": true
   },
   "outputs": [],
   "source": [
    "import pandas as pd\n",
    "import numpy as np\n",
    "import matplotlib.pyplot as plt\n",
    "import datetime\n",
    "import time\n",
    "import math\n",
    "\n",
    "import DDS_CMpack as CM\n",
    "\n",
    "%matplotlib inline\n",
    "\n",
    "data_dir = '/Users/dengdingshan/Documents/GitHub/dds_python/Summer2018/data/'"
   ]
  },
  {
   "cell_type": "markdown",
   "metadata": {},
   "source": [
    "# Step1 解t0时刻的位置和速度"
   ]
  },
  {
   "cell_type": "code",
   "execution_count": 76,
   "metadata": {
    "collapsed": true
   },
   "outputs": [],
   "source": [
    "position_fram = pd.read_csv(data_dir + 'Echo1st.csv')\n",
    "observe_times = len(position_fram)"
   ]
  },
  {
   "cell_type": "code",
   "execution_count": 77,
   "metadata": {},
   "outputs": [
    {
     "data": {
      "text/html": [
       "<div>\n",
       "<style>\n",
       "    .dataframe thead tr:only-child th {\n",
       "        text-align: right;\n",
       "    }\n",
       "\n",
       "    .dataframe thead th {\n",
       "        text-align: left;\n",
       "    }\n",
       "\n",
       "    .dataframe tbody tr th {\n",
       "        vertical-align: top;\n",
       "    }\n",
       "</style>\n",
       "<table border=\"1\" class=\"dataframe\">\n",
       "  <thead>\n",
       "    <tr style=\"text-align: right;\">\n",
       "      <th></th>\n",
       "      <th>UT1_hours</th>\n",
       "      <th>alpha</th>\n",
       "      <th>delta</th>\n",
       "      <th>year</th>\n",
       "      <th>month</th>\n",
       "      <th>days</th>\n",
       "    </tr>\n",
       "  </thead>\n",
       "  <tbody>\n",
       "    <tr>\n",
       "      <th>0</th>\n",
       "      <td>21.575128</td>\n",
       "      <td>142.935000</td>\n",
       "      <td>8.521111</td>\n",
       "      <td>1965</td>\n",
       "      <td>1</td>\n",
       "      <td>14</td>\n",
       "    </tr>\n",
       "    <tr>\n",
       "      <th>1</th>\n",
       "      <td>21.603111</td>\n",
       "      <td>157.274167</td>\n",
       "      <td>-2.395000</td>\n",
       "      <td>1965</td>\n",
       "      <td>1</td>\n",
       "      <td>14</td>\n",
       "    </tr>\n",
       "    <tr>\n",
       "      <th>2</th>\n",
       "      <td>21.631420</td>\n",
       "      <td>171.817917</td>\n",
       "      <td>-14.508333</td>\n",
       "      <td>1965</td>\n",
       "      <td>1</td>\n",
       "      <td>14</td>\n",
       "    </tr>\n",
       "    <tr>\n",
       "      <th>3</th>\n",
       "      <td>21.654491</td>\n",
       "      <td>183.134167</td>\n",
       "      <td>-23.563333</td>\n",
       "      <td>1965</td>\n",
       "      <td>1</td>\n",
       "      <td>14</td>\n",
       "    </tr>\n",
       "    <tr>\n",
       "      <th>4</th>\n",
       "      <td>21.714094</td>\n",
       "      <td>208.640417</td>\n",
       "      <td>-40.020278</td>\n",
       "      <td>1965</td>\n",
       "      <td>1</td>\n",
       "      <td>14</td>\n",
       "    </tr>\n",
       "    <tr>\n",
       "      <th>5</th>\n",
       "      <td>21.742876</td>\n",
       "      <td>219.102083</td>\n",
       "      <td>-44.998611</td>\n",
       "      <td>1965</td>\n",
       "      <td>1</td>\n",
       "      <td>14</td>\n",
       "    </tr>\n",
       "  </tbody>\n",
       "</table>\n",
       "</div>"
      ],
      "text/plain": [
       "   UT1_hours       alpha      delta  year  month  days\n",
       "0  21.575128  142.935000   8.521111  1965      1    14\n",
       "1  21.603111  157.274167  -2.395000  1965      1    14\n",
       "2  21.631420  171.817917 -14.508333  1965      1    14\n",
       "3  21.654491  183.134167 -23.563333  1965      1    14\n",
       "4  21.714094  208.640417 -40.020278  1965      1    14\n",
       "5  21.742876  219.102083 -44.998611  1965      1    14"
      ]
     },
     "execution_count": 77,
     "metadata": {},
     "output_type": "execute_result"
    }
   ],
   "source": [
    "position_fram"
   ]
  },
  {
   "cell_type": "code",
   "execution_count": 78,
   "metadata": {
    "collapsed": true
   },
   "outputs": [],
   "source": [
    "# 常数表\n",
    "R_earth = 6371\n",
    "au = 149597870\n",
    "r_station_earth = 0.999102 #*R_earth\n",
    "r_earth_sun = 1*au\n",
    "\n",
    "time_unit = 806.81163 #806.8116 # SI \n",
    "\n",
    "# 测站的地理位置\n",
    "lam = 118.82091666 # degrees\n",
    "phi = 31.893611111 # degrees\n",
    "\n",
    "# headers index: UT1_hours  alpha  delta  year  month  days\n",
    "\n",
    "UT1_hours = position_fram['UT1_hours']\n",
    "alpha = position_fram['alpha']\n",
    "delta = position_fram['delta']\n",
    "year = position_fram['year']\n",
    "month = position_fram['month']\n",
    "days = position_fram['days']\n"
   ]
  },
  {
   "cell_type": "code",
   "execution_count": 79,
   "metadata": {
    "collapsed": true
   },
   "outputs": [],
   "source": [
    "# 进行拉普拉斯方法所需要的星表归算\n",
    "\n",
    "P = []\n",
    "Q = []\n",
    "Lambda_all = []\n",
    "Niu_all = []\n",
    "Miu_all = []\n",
    "\n",
    "for i in range(observe_times):   \n",
    "    # 计算观测数据的儒略日时间和恒星时\n",
    "    SG_s,jd_s = CM.UTC2SG(year[i],month[i],days[i],UT1_hours[i])\n",
    "    SG_degree = SG_s%(3600*24)/(3600*24)*360\n",
    "    \n",
    "    # 通过每一个恒星时去归算出测站到地心的RA,DEC\n",
    "    RA_station = SG_degree + lam\n",
    "    DEC_station = phi\n",
    "    station_earth = CM.RADEC2xyz(r_station_earth,RA_station,DEC_station)\n",
    "    \n",
    "    X,Y,Z = station_earth\n",
    "    \n",
    "    # 再根据测站到地心的位置最终酸楚Pj,Qj\n",
    "    delta_pi = delta[i]*2*np.pi/360\n",
    "    alpha_pi = alpha[i]*2*np.pi/360\n",
    "    \n",
    "    Lambda = np.cos(delta_pi)*np.cos(alpha_pi)\n",
    "    Miu = np.cos(delta_pi)*np.sin(alpha_pi)\n",
    "    Niu = np.sin(delta_pi)\n",
    "    Lambda_all.append(Lambda)\n",
    "    Miu_all.append(Miu)\n",
    "    Niu_all.append(Niu)\n",
    "    \n",
    "    P_j = Niu*X - Lambda*Z\n",
    "    Q_j = Niu*Y - Miu*Z\n",
    "    \n",
    "    P.append(P_j);Q.append(Q_j)\n",
    "\n",
    "PF_fill = position_fram\n",
    "PF_fill['P'] = np.array(P)\n",
    "PF_fill['Q'] = np.array(Q)\n",
    "PF_fill['Lambda'] = np.array(Lambda_all)\n",
    "PF_fill['Miu'] = np.array(Miu_all)\n",
    "PF_fill['Niu'] = np.array(Niu_all)\n"
   ]
  },
  {
   "cell_type": "code",
   "execution_count": 80,
   "metadata": {},
   "outputs": [
    {
     "data": {
      "text/html": [
       "<div>\n",
       "<style>\n",
       "    .dataframe thead tr:only-child th {\n",
       "        text-align: right;\n",
       "    }\n",
       "\n",
       "    .dataframe thead th {\n",
       "        text-align: left;\n",
       "    }\n",
       "\n",
       "    .dataframe tbody tr th {\n",
       "        vertical-align: top;\n",
       "    }\n",
       "</style>\n",
       "<table border=\"1\" class=\"dataframe\">\n",
       "  <thead>\n",
       "    <tr style=\"text-align: right;\">\n",
       "      <th></th>\n",
       "      <th>UT1_hours</th>\n",
       "      <th>alpha</th>\n",
       "      <th>delta</th>\n",
       "      <th>year</th>\n",
       "      <th>month</th>\n",
       "      <th>days</th>\n",
       "      <th>P</th>\n",
       "      <th>Q</th>\n",
       "      <th>Lambda</th>\n",
       "      <th>Miu</th>\n",
       "      <th>Niu</th>\n",
       "    </tr>\n",
       "  </thead>\n",
       "  <tbody>\n",
       "    <tr>\n",
       "      <th>0</th>\n",
       "      <td>21.575128</td>\n",
       "      <td>142.935000</td>\n",
       "      <td>8.521111</td>\n",
       "      <td>1965</td>\n",
       "      <td>1</td>\n",
       "      <td>14</td>\n",
       "      <td>0.296272</td>\n",
       "      <td>-0.351086</td>\n",
       "      <td>-0.789144</td>\n",
       "      <td>0.596067</td>\n",
       "      <td>0.148174</td>\n",
       "    </tr>\n",
       "    <tr>\n",
       "      <th>1</th>\n",
       "      <td>21.603111</td>\n",
       "      <td>157.274167</td>\n",
       "      <td>-2.395000</td>\n",
       "      <td>1965</td>\n",
       "      <td>1</td>\n",
       "      <td>14</td>\n",
       "      <td>0.520311</td>\n",
       "      <td>-0.193223</td>\n",
       "      <td>-0.921558</td>\n",
       "      <td>0.385984</td>\n",
       "      <td>-0.041788</td>\n",
       "    </tr>\n",
       "    <tr>\n",
       "      <th>2</th>\n",
       "      <td>21.631420</td>\n",
       "      <td>171.817917</td>\n",
       "      <td>-14.508333</td>\n",
       "      <td>1965</td>\n",
       "      <td>1</td>\n",
       "      <td>14</td>\n",
       "      <td>0.708283</td>\n",
       "      <td>-0.008122</td>\n",
       "      <td>-0.958257</td>\n",
       "      <td>0.137781</td>\n",
       "      <td>-0.250521</td>\n",
       "    </tr>\n",
       "    <tr>\n",
       "      <th>3</th>\n",
       "      <td>21.654491</td>\n",
       "      <td>183.134167</td>\n",
       "      <td>-23.563333</td>\n",
       "      <td>1965</td>\n",
       "      <td>1</td>\n",
       "      <td>14</td>\n",
       "      <td>0.805554</td>\n",
       "      <td>0.131507</td>\n",
       "      <td>-0.915248</td>\n",
       "      <td>-0.050115</td>\n",
       "      <td>-0.399763</td>\n",
       "    </tr>\n",
       "    <tr>\n",
       "      <th>4</th>\n",
       "      <td>21.714094</td>\n",
       "      <td>208.640417</td>\n",
       "      <td>-40.020278</td>\n",
       "      <td>1965</td>\n",
       "      <td>1</td>\n",
       "      <td>14</td>\n",
       "      <td>0.870732</td>\n",
       "      <td>0.370844</td>\n",
       "      <td>-0.672115</td>\n",
       "      <td>-0.367065</td>\n",
       "      <td>-0.643059</td>\n",
       "    </tr>\n",
       "    <tr>\n",
       "      <th>5</th>\n",
       "      <td>21.742876</td>\n",
       "      <td>219.102083</td>\n",
       "      <td>-44.998611</td>\n",
       "      <td>1965</td>\n",
       "      <td>1</td>\n",
       "      <td>14</td>\n",
       "      <td>0.855495</td>\n",
       "      <td>0.434417</td>\n",
       "      <td>-0.548745</td>\n",
       "      <td>-0.445986</td>\n",
       "      <td>-0.707090</td>\n",
       "    </tr>\n",
       "  </tbody>\n",
       "</table>\n",
       "</div>"
      ],
      "text/plain": [
       "   UT1_hours       alpha      delta  year  month  days         P         Q  \\\n",
       "0  21.575128  142.935000   8.521111  1965      1    14  0.296272 -0.351086   \n",
       "1  21.603111  157.274167  -2.395000  1965      1    14  0.520311 -0.193223   \n",
       "2  21.631420  171.817917 -14.508333  1965      1    14  0.708283 -0.008122   \n",
       "3  21.654491  183.134167 -23.563333  1965      1    14  0.805554  0.131507   \n",
       "4  21.714094  208.640417 -40.020278  1965      1    14  0.870732  0.370844   \n",
       "5  21.742876  219.102083 -44.998611  1965      1    14  0.855495  0.434417   \n",
       "\n",
       "     Lambda       Miu       Niu  \n",
       "0 -0.789144  0.596067  0.148174  \n",
       "1 -0.921558  0.385984 -0.041788  \n",
       "2 -0.958257  0.137781 -0.250521  \n",
       "3 -0.915248 -0.050115 -0.399763  \n",
       "4 -0.672115 -0.367065 -0.643059  \n",
       "5 -0.548745 -0.445986 -0.707090  "
      ]
     },
     "execution_count": 80,
     "metadata": {},
     "output_type": "execute_result"
    }
   ],
   "source": [
    "PF_fill"
   ]
  },
  {
   "cell_type": "code",
   "execution_count": 81,
   "metadata": {
    "collapsed": true
   },
   "outputs": [],
   "source": [
    "# t0的值要预先给定，这个值在这种写法底下使用24小时的单位值（粗略的换算）\n",
    "t0 = PF_fill['UT1_hours'].sum()/6\n",
    "\n",
    "# 给定所需要的按照理论单位的时间值\n",
    "T = (PF_fill['UT1_hours'] - t0)*3600/time_unit\n",
    "F0 = np.ones(observe_times).tolist()\n",
    "G0 = T.tolist()\n"
   ]
  },
  {
   "cell_type": "code",
   "execution_count": 82,
   "metadata": {},
   "outputs": [
    {
     "data": {
      "text/plain": [
       "[-0.224927164225417, 0.0043345582413262425, 0.39870543760012317]"
      ]
     },
     "execution_count": 82,
     "metadata": {},
     "output_type": "execute_result"
    }
   ],
   "source": [
    "G"
   ]
  },
  {
   "cell_type": "code",
   "execution_count": 83,
   "metadata": {
    "scrolled": true
   },
   "outputs": [
    {
     "name": "stdout",
     "output_type": "stream",
     "text": [
      "end:  77\n",
      "[-1.12749382 -0.27757062  0.39017866] [-0.02214238 -0.64540905 -0.58476384]\n"
     ]
    }
   ],
   "source": [
    "# 选定用于归算轨道六根数的数据点（观测序数）\n",
    "# Ob_index = [i for i in range(6)]\n",
    "Ob_index = [1,3,5]\n",
    "\n",
    "############################################\n",
    "\n",
    "# Laplace循环长数值和初值\n",
    "F = [ F0[i] for i in Ob_index ]\n",
    "G = [ G0[i] for i in Ob_index ]\n",
    "Niu = Niu_all\n",
    "Miu = Miu_all\n",
    "Lambda = Lambda_all\n",
    "\n",
    "# Laplace循环\n",
    "Nwind = 0\n",
    "key = 0\n",
    "while key == 0:\n",
    "    A = []\n",
    "    b = []\n",
    "    nwind = 0\n",
    "    # 构造系数矩阵和常数阵\n",
    "    for j in Ob_index:\n",
    "         \n",
    "        A.append([Niu[j]*F[nwind],0,-Lambda[j]*F[nwind],Niu[j]*G[nwind],0,-Lambda[j]*G[nwind]])\n",
    "        A.append([0,Niu[j]*F[nwind],-Miu[j]*F[nwind],0,Niu[j]*G[nwind],-Miu[j]*G[nwind]])\n",
    "        b.append(P[j])\n",
    "        b.append(Q[j])\n",
    "        nwind += 1\n",
    "    \n",
    "    AA = np.array(A)\n",
    "    b = np.array(b)\n",
    "    \n",
    "    # 解出r0和V0\n",
    "    ans = np.linalg.solve(np.dot(AA.T.copy(),AA),np.dot(AA.T.copy(),b))\n",
    "    r0 = ans[:3]\n",
    "    v0 = ans[3:]\n",
    "        \n",
    "    # 用r0和v0求出新的F和G\n",
    "    norm_r0 = np.sqrt(np.dot(r0,r0))\n",
    "    norm_v0 = np.sqrt(np.dot(v0,v0))\n",
    "    \n",
    "    F_old = F; G_old = G\n",
    "    F = [];G = []\n",
    "    for k in Ob_index:\n",
    "        F.append(CM.F(norm_r0,norm_v0,T[k]))\n",
    "        G.append(CM.G(norm_r0,norm_v0,T[k]))\n",
    "    \n",
    "    # 上述循环完成，计数一次\n",
    "    Nwind += 1\n",
    "    \n",
    "    # 判断是否跳出循环\n",
    "    delta_F = np.abs(np.array(F) - np.array(F_old))\n",
    "    delta_G = np.abs(np.array(G) - np.array(G_old))\n",
    "    biggest = np.max([np.max(delta_F),np.max(delta_G)])\n",
    "    if biggest < 1e-13:\n",
    "        print('end: ',int(Nwind))\n",
    "        print(r0,v0)\n",
    "        key = 1"
   ]
  },
  {
   "cell_type": "code",
   "execution_count": 84,
   "metadata": {
    "scrolled": false
   },
   "outputs": [
    {
     "name": "stdout",
     "output_type": "stream",
     "text": [
      "[-7183.26313001 -1768.40243814  2485.82825775] 7804.220557185129 1438.941715185129\n",
      "[-0.17484762 -5.0964821  -4.61759632] 6.879454721223272\n",
      "77952.67183199999\n"
     ]
    }
   ],
   "source": [
    "print(r0*R_earth,norm_r0*R_earth,(norm_r0-r_station_earth)*R_earth)\n",
    "\n",
    "print(v0*R_earth/time_unit,norm_v0*R_earth/time_unit)\n",
    "\n",
    "print(t0*3600)"
   ]
  },
  {
   "cell_type": "markdown",
   "metadata": {},
   "source": [
    "# Step 2 解轨道六根数"
   ]
  },
  {
   "cell_type": "code",
   "execution_count": 85,
   "metadata": {
    "collapsed": true
   },
   "outputs": [],
   "source": [
    "# 取轨国际单位制的常数表\n",
    "\n",
    "R_earth = 6371e3 # m\n",
    "\n",
    "M_earth = 5.965e24 # kg\n",
    "G_graviation = 6.672e-11 # N·m^2 /kg^2 \n",
    "\n",
    "au = 149597870e3 # m\n",
    "r_station_earth = 0.999102 #*R_earth\n",
    "r_earth_sun = 1*au\n",
    "\n",
    "# time_unit = 806.81163 #806.8116 # SI \n",
    "\n",
    "# miu_GM = 398600.5e-6 # km^3/SI^2\n",
    "\n",
    "miu_GM = G_graviation*M_earth # m^3/SI^2"
   ]
  },
  {
   "cell_type": "code",
   "execution_count": 86,
   "metadata": {
    "collapsed": true
   },
   "outputs": [],
   "source": [
    "rg = r0*R_earth\n",
    "norm_rg = np.sqrt(np.dot(rg,rg))\n",
    "vg = v0*R_earth/time_unit\n",
    "norm_vg = np.sqrt(np.dot(vg,vg))\n",
    "tg = t0*time_unit"
   ]
  },
  {
   "cell_type": "code",
   "execution_count": 87,
   "metadata": {
    "collapsed": true
   },
   "outputs": [],
   "source": [
    "a = 1/(2/norm_rg - norm_vg**2/miu_GM)"
   ]
  },
  {
   "cell_type": "code",
   "execution_count": 88,
   "metadata": {
    "collapsed": true
   },
   "outputs": [],
   "source": [
    "n = np.sqrt(miu_GM/(a**3))"
   ]
  },
  {
   "cell_type": "code",
   "execution_count": 89,
   "metadata": {
    "collapsed": true
   },
   "outputs": [],
   "source": [
    "e = np.sqrt( (1 - norm_rg/a)**2 + (np.dot(rg,vg) / (n*a**2))**2)"
   ]
  },
  {
   "cell_type": "code",
   "execution_count": 90,
   "metadata": {
    "collapsed": true
   },
   "outputs": [],
   "source": [
    "cos_E = (1 - norm_rg/a)/e\n",
    "sin_E = (np.dot(rg,vg) / (a**2*n))/e\n",
    "E = math.atan2(sin_E,cos_E)"
   ]
  },
  {
   "cell_type": "code",
   "execution_count": 91,
   "metadata": {
    "collapsed": true
   },
   "outputs": [],
   "source": [
    "M = E - e*math.sin(E)"
   ]
  },
  {
   "cell_type": "code",
   "execution_count": 128,
   "metadata": {},
   "outputs": [
    {
     "data": {
      "text/plain": [
       "(array([ 0.87150656,  0.01073892, -0.49026624]),\n",
       " array([0.29811113, 0.77931308, 0.55032816]))"
      ]
     },
     "execution_count": 128,
     "metadata": {},
     "output_type": "execute_result"
    }
   ],
   "source": [
    "P = (cos_E/norm_rg)*rg - (sin_E/(a*n))*vg\n",
    "Q = (sin_E/(norm_rg)*np.sqrt(1-e**2))*rg + ((cos_E - e)/(a*n*np.sqrt(1-e**2)))*vg\n",
    "R = np.cross(P,Q)\n",
    "P,Q"
   ]
  },
  {
   "cell_type": "code",
   "execution_count": 93,
   "metadata": {
    "collapsed": true
   },
   "outputs": [],
   "source": [
    "pz = P[2]; qz = Q[2]\n",
    "tan_w_raw = pz/qz\n",
    "if pz >=0 and qz >= 0:\n",
    "    # w I\n",
    "    w = math.atan(tan_w_raw)\n",
    "elif pz >= 0 and qz < 0:\n",
    "    # w II\n",
    "    w = math.atan(tan_w_raw + np.pi)\n",
    "elif pz < 0 and qz < 0:\n",
    "    # w III\n",
    "    w = math.atan(tan_w_raw + np.pi)\n",
    "elif pz < 0 and qz >= 0:\n",
    "    # w IV\n",
    "    w = math.atan(2*np.pi - tan_w_raw)"
   ]
  },
  {
   "cell_type": "code",
   "execution_count": 94,
   "metadata": {
    "collapsed": true
   },
   "outputs": [],
   "source": [
    "h = np.cross(rg,vg)\n",
    "norm_h = np.sqrt(np.dot(h,h))\n",
    "\n",
    "h_A, h_B, h_C = h[0:3]\n",
    "\n",
    "# get cos_i, sin_i\n",
    "cos_i = (h_C/norm_h)\n",
    "tan_i = np.sqrt(h_A**2 + h_B**2) / h_C\n",
    "\n",
    "sin_i = tan_i*cos_i\n",
    "\n",
    "# get cos_\\sin_Omega\n",
    "sin_Omega = h_A/(norm_h*sin_i)\n",
    "cos_Omega = -h_B/(norm_h*sin_i)\n",
    "\n",
    "i = math.atan2(sin_i,cos_i)\n",
    "Omega = math.atan2(sin_Omega,cos_Omega)"
   ]
  },
  {
   "cell_type": "code",
   "execution_count": 95,
   "metadata": {},
   "outputs": [
    {
     "name": "stdout",
     "output_type": "stream",
     "text": [
      "1.1427392574526176 0.07538000853508695 -2.816315224978294 0.8280766091331286 0.555000809691323 1.4322973968788328\n"
     ]
    }
   ],
   "source": [
    "print(a/R_earth,e,M,i,Omega,w)"
   ]
  },
  {
   "cell_type": "code",
   "execution_count": 96,
   "metadata": {},
   "outputs": [
    {
     "data": {
      "text/plain": [
       "47.44529481683259"
      ]
     },
     "execution_count": 96,
     "metadata": {},
     "output_type": "execute_result"
    }
   ],
   "source": [
    "np.rad2deg(i)"
   ]
  },
  {
   "cell_type": "markdown",
   "metadata": {},
   "source": [
    "# Step 3 反算星历表\n"
   ]
  },
  {
   "cell_type": "code",
   "execution_count": 101,
   "metadata": {},
   "outputs": [],
   "source": [
    "t3 = t0\n",
    "T3 = (PF_fill['UT1_hours'] - t3)*3600/24"
   ]
  },
  {
   "cell_type": "code",
   "execution_count": 116,
   "metadata": {},
   "outputs": [],
   "source": [
    "M_total = M + n*T3"
   ]
  },
  {
   "cell_type": "code",
   "execution_count": 117,
   "metadata": {},
   "outputs": [],
   "source": [
    "# 迭代 开普勒方程解 E\n",
    "E_total = []\n",
    "for i in range(len(Mt)):\n",
    "    epsilon = 1e-20\n",
    "    key = 0\n",
    "    En0 = M_total[i]\n",
    "    \n",
    "    En_new = En0\n",
    "    while key == 0:\n",
    "        En_old = En_new\n",
    "        En_new = M_total[i] + e*np.sin(En_old)\n",
    "        delta_En = np.abs(En_new - En_old)\n",
    "\n",
    "        if delta_En < epsilon:\n",
    "            key = 1;\n",
    "\n",
    "    E_total.append(En_new)"
   ]
  },
  {
   "cell_type": "code",
   "execution_count": 129,
   "metadata": {},
   "outputs": [
    {
     "data": {
      "text/plain": [
       "(array([-0.03070849,  0.31152404, -0.94974195]),\n",
       " array([-0.86239754, -0.48861485, -0.1323858 ]))"
      ]
     },
     "execution_count": 129,
     "metadata": {},
     "output_type": "execute_result"
    }
   ],
   "source": [
    "# 计算新的 P,Q\n",
    "P_new = np.array([np.cos(Omega)*np.cos(w) - np.sin(Omega)*np.sin(w)*np.cos(i),\\\n",
    "                 np.sin(Omega)*np.cos(w) + np.cos(Omega)*np.sin(w)*np.cos(i),\\\n",
    "                 np.sin(w)*np.sin(i) ])\n",
    "Q_new = np.array([-np.cos(Omega)*np.sin(w) - np.sin(Omega)*np.cos(w)*np.cos(i),\\\n",
    "                 -np.sin(Omega)*np.sin(w) + np.cos(Omega)*np.cos(w)*np.cos(i),\\\n",
    "                 np.cos(w)*np.sin(i)])\n",
    "\n",
    "### 新算出来的P_new,Q_new有误！\n",
    "P_new,Q_new"
   ]
  },
  {
   "cell_type": "code",
   "execution_count": 125,
   "metadata": {},
   "outputs": [
    {
     "name": "stdout",
     "output_type": "stream",
     "text": [
      "7806.010854468222 6.877754393602712\n",
      "7805.37932030171 6.878354149565239\n",
      "7804.731909615432 6.878969029614856\n",
      "7804.197960855345 6.879476184295364\n",
      "7802.7923478627445 6.880811415294666\n",
      "7802.10007522515 6.881469105956507\n"
     ]
    }
   ],
   "source": [
    "# 计算新的 r,v\n",
    "RV = []\n",
    "for Et in E_total:\n",
    "    rt = a*(np.cos(Et) - e)*P_new + a*np.sqrt(1 - e**2)*np.sin(Et)*Q_new\n",
    "    rt_norm = np.sqrt( np.dot(rt,rt) )\n",
    "\n",
    "    vt = -a**2*n/rt_norm*np.sin(Et)*P_new + a**2*n/rt_norm*np.sqrt(1 - e**2)*np.cos(Et)*Q_new\n",
    "    vt_norm = np.sqrt( np.dot(vt,vt) )\n",
    "\n",
    "    L_rt = rt/ np.sqrt( np.dot(rt,rt))\n",
    "\n",
    "    print(rt_norm/10**3,vt_norm/10**3)\n",
    "    \n",
    "    RV.append([rt,vt])"
   ]
  },
  {
   "cell_type": "code",
   "execution_count": 126,
   "metadata": {},
   "outputs": [
    {
     "data": {
      "text/plain": [
       "array([0.87549008, 0.04517822, 0.48111958])"
      ]
     },
     "execution_count": 126,
     "metadata": {},
     "output_type": "execute_result"
    }
   ],
   "source": [
    "# 归算最终的赤经赤纬\n",
    "P_earth = rt\n",
    "station_earth = np.array([-0.81000791, -0.25188507,  0.52786921])*R_earth\n",
    "\n",
    "P_station = P_earth - station_earth\n",
    "\n",
    "L_forecast = P_station/np.sqrt(np.dot(P_station,P_station))\n",
    "\n",
    "L_forecast"
   ]
  },
  {
   "cell_type": "code",
   "execution_count": 127,
   "metadata": {},
   "outputs": [
    {
     "data": {
      "text/html": [
       "<div>\n",
       "<style>\n",
       "    .dataframe thead tr:only-child th {\n",
       "        text-align: right;\n",
       "    }\n",
       "\n",
       "    .dataframe thead th {\n",
       "        text-align: left;\n",
       "    }\n",
       "\n",
       "    .dataframe tbody tr th {\n",
       "        vertical-align: top;\n",
       "    }\n",
       "</style>\n",
       "<table border=\"1\" class=\"dataframe\">\n",
       "  <thead>\n",
       "    <tr style=\"text-align: right;\">\n",
       "      <th></th>\n",
       "      <th>UT1_hours</th>\n",
       "      <th>alpha</th>\n",
       "      <th>delta</th>\n",
       "      <th>year</th>\n",
       "      <th>month</th>\n",
       "      <th>days</th>\n",
       "      <th>P</th>\n",
       "      <th>Q</th>\n",
       "      <th>Lambda</th>\n",
       "      <th>Miu</th>\n",
       "      <th>Niu</th>\n",
       "    </tr>\n",
       "  </thead>\n",
       "  <tbody>\n",
       "    <tr>\n",
       "      <th>0</th>\n",
       "      <td>21.575128</td>\n",
       "      <td>142.935000</td>\n",
       "      <td>8.521111</td>\n",
       "      <td>1965</td>\n",
       "      <td>1</td>\n",
       "      <td>14</td>\n",
       "      <td>0.296272</td>\n",
       "      <td>-0.351086</td>\n",
       "      <td>-0.789144</td>\n",
       "      <td>0.596067</td>\n",
       "      <td>0.148174</td>\n",
       "    </tr>\n",
       "    <tr>\n",
       "      <th>1</th>\n",
       "      <td>21.603111</td>\n",
       "      <td>157.274167</td>\n",
       "      <td>-2.395000</td>\n",
       "      <td>1965</td>\n",
       "      <td>1</td>\n",
       "      <td>14</td>\n",
       "      <td>0.520311</td>\n",
       "      <td>-0.193223</td>\n",
       "      <td>-0.921558</td>\n",
       "      <td>0.385984</td>\n",
       "      <td>-0.041788</td>\n",
       "    </tr>\n",
       "    <tr>\n",
       "      <th>2</th>\n",
       "      <td>21.631420</td>\n",
       "      <td>171.817917</td>\n",
       "      <td>-14.508333</td>\n",
       "      <td>1965</td>\n",
       "      <td>1</td>\n",
       "      <td>14</td>\n",
       "      <td>0.708283</td>\n",
       "      <td>-0.008122</td>\n",
       "      <td>-0.958257</td>\n",
       "      <td>0.137781</td>\n",
       "      <td>-0.250521</td>\n",
       "    </tr>\n",
       "    <tr>\n",
       "      <th>3</th>\n",
       "      <td>21.654491</td>\n",
       "      <td>183.134167</td>\n",
       "      <td>-23.563333</td>\n",
       "      <td>1965</td>\n",
       "      <td>1</td>\n",
       "      <td>14</td>\n",
       "      <td>0.805554</td>\n",
       "      <td>0.131507</td>\n",
       "      <td>-0.915248</td>\n",
       "      <td>-0.050115</td>\n",
       "      <td>-0.399763</td>\n",
       "    </tr>\n",
       "    <tr>\n",
       "      <th>4</th>\n",
       "      <td>21.714094</td>\n",
       "      <td>208.640417</td>\n",
       "      <td>-40.020278</td>\n",
       "      <td>1965</td>\n",
       "      <td>1</td>\n",
       "      <td>14</td>\n",
       "      <td>0.870732</td>\n",
       "      <td>0.370844</td>\n",
       "      <td>-0.672115</td>\n",
       "      <td>-0.367065</td>\n",
       "      <td>-0.643059</td>\n",
       "    </tr>\n",
       "    <tr>\n",
       "      <th>5</th>\n",
       "      <td>21.742876</td>\n",
       "      <td>219.102083</td>\n",
       "      <td>-44.998611</td>\n",
       "      <td>1965</td>\n",
       "      <td>1</td>\n",
       "      <td>14</td>\n",
       "      <td>0.855495</td>\n",
       "      <td>0.434417</td>\n",
       "      <td>-0.548745</td>\n",
       "      <td>-0.445986</td>\n",
       "      <td>-0.707090</td>\n",
       "    </tr>\n",
       "  </tbody>\n",
       "</table>\n",
       "</div>"
      ],
      "text/plain": [
       "   UT1_hours       alpha      delta  year  month  days         P         Q  \\\n",
       "0  21.575128  142.935000   8.521111  1965      1    14  0.296272 -0.351086   \n",
       "1  21.603111  157.274167  -2.395000  1965      1    14  0.520311 -0.193223   \n",
       "2  21.631420  171.817917 -14.508333  1965      1    14  0.708283 -0.008122   \n",
       "3  21.654491  183.134167 -23.563333  1965      1    14  0.805554  0.131507   \n",
       "4  21.714094  208.640417 -40.020278  1965      1    14  0.870732  0.370844   \n",
       "5  21.742876  219.102083 -44.998611  1965      1    14  0.855495  0.434417   \n",
       "\n",
       "     Lambda       Miu       Niu  \n",
       "0 -0.789144  0.596067  0.148174  \n",
       "1 -0.921558  0.385984 -0.041788  \n",
       "2 -0.958257  0.137781 -0.250521  \n",
       "3 -0.915248 -0.050115 -0.399763  \n",
       "4 -0.672115 -0.367065 -0.643059  \n",
       "5 -0.548745 -0.445986 -0.707090  "
      ]
     },
     "execution_count": 127,
     "metadata": {},
     "output_type": "execute_result"
    }
   ],
   "source": [
    "PF_fill"
   ]
  },
  {
   "cell_type": "code",
   "execution_count": null,
   "metadata": {
    "collapsed": true
   },
   "outputs": [],
   "source": []
  }
 ],
 "metadata": {
  "kernelspec": {
   "display_name": "Python 3",
   "language": "python",
   "name": "python3"
  },
  "language_info": {
   "codemirror_mode": {
    "name": "ipython",
    "version": 3
   },
   "file_extension": ".py",
   "mimetype": "text/x-python",
   "name": "python",
   "nbconvert_exporter": "python",
   "pygments_lexer": "ipython3",
   "version": "3.6.3"
  },
  "toc": {
   "base_numbering": 1,
   "nav_menu": {},
   "number_sections": true,
   "sideBar": true,
   "skip_h1_title": false,
   "title_cell": "Table of Contents",
   "title_sidebar": "Contents",
   "toc_cell": false,
   "toc_position": {},
   "toc_section_display": true,
   "toc_window_display": false
  },
  "varInspector": {
   "cols": {
    "lenName": 16,
    "lenType": 16,
    "lenVar": 40
   },
   "kernels_config": {
    "python": {
     "delete_cmd_postfix": "",
     "delete_cmd_prefix": "del ",
     "library": "var_list.py",
     "varRefreshCmd": "print(var_dic_list())"
    },
    "r": {
     "delete_cmd_postfix": ") ",
     "delete_cmd_prefix": "rm(",
     "library": "var_list.r",
     "varRefreshCmd": "cat(var_dic_list()) "
    }
   },
   "position": {
    "height": "529px",
    "left": "766px",
    "right": "321px",
    "top": "72px",
    "width": "353px"
   },
   "types_to_exclude": [
    "module",
    "function",
    "builtin_function_or_method",
    "instance",
    "_Feature"
   ],
   "window_display": false
  }
 },
 "nbformat": 4,
 "nbformat_minor": 2
}
