{
 "cells": [
  {
   "cell_type": "code",
   "execution_count": 21,
   "metadata": {
    "collapsed": true
   },
   "outputs": [],
   "source": [
    "import pandas as pd\n",
    "import numpy as np\n",
    "import matplotlib.pyplot as plt\n",
    "import datetime\n",
    "import time\n",
    "\n",
    "import DDS_CMpack as CM\n",
    "\n",
    "%matplotlib inline\n",
    "\n",
    "data_dir = '/Users/dengdingshan/Documents/GitHub/dds_python/Summer2018/data/'"
   ]
  },
  {
   "cell_type": "code",
   "execution_count": 17,
   "metadata": {
    "collapsed": true
   },
   "outputs": [],
   "source": [
    "position_fram = pd.read_csv(data_dir + 'Echo1st.csv')\n",
    "observe_times = len(position_fram)"
   ]
  },
  {
   "cell_type": "code",
   "execution_count": 83,
   "metadata": {},
   "outputs": [
    {
     "data": {
      "text/html": [
       "<div>\n",
       "<style>\n",
       "    .dataframe thead tr:only-child th {\n",
       "        text-align: right;\n",
       "    }\n",
       "\n",
       "    .dataframe thead th {\n",
       "        text-align: left;\n",
       "    }\n",
       "\n",
       "    .dataframe tbody tr th {\n",
       "        vertical-align: top;\n",
       "    }\n",
       "</style>\n",
       "<table border=\"1\" class=\"dataframe\">\n",
       "  <thead>\n",
       "    <tr style=\"text-align: right;\">\n",
       "      <th></th>\n",
       "      <th>UT1_hours</th>\n",
       "      <th>alpha</th>\n",
       "      <th>delta</th>\n",
       "      <th>year</th>\n",
       "      <th>month</th>\n",
       "      <th>days</th>\n",
       "    </tr>\n",
       "  </thead>\n",
       "  <tbody>\n",
       "    <tr>\n",
       "      <th>0</th>\n",
       "      <td>21.575128</td>\n",
       "      <td>142.935000</td>\n",
       "      <td>8.521111</td>\n",
       "      <td>1965</td>\n",
       "      <td>1</td>\n",
       "      <td>14</td>\n",
       "    </tr>\n",
       "    <tr>\n",
       "      <th>1</th>\n",
       "      <td>21.603111</td>\n",
       "      <td>157.274167</td>\n",
       "      <td>-2.395000</td>\n",
       "      <td>1965</td>\n",
       "      <td>1</td>\n",
       "      <td>14</td>\n",
       "    </tr>\n",
       "    <tr>\n",
       "      <th>2</th>\n",
       "      <td>21.631420</td>\n",
       "      <td>171.817917</td>\n",
       "      <td>-14.508333</td>\n",
       "      <td>1965</td>\n",
       "      <td>1</td>\n",
       "      <td>14</td>\n",
       "    </tr>\n",
       "    <tr>\n",
       "      <th>3</th>\n",
       "      <td>21.654491</td>\n",
       "      <td>183.134167</td>\n",
       "      <td>-23.563333</td>\n",
       "      <td>1965</td>\n",
       "      <td>1</td>\n",
       "      <td>14</td>\n",
       "    </tr>\n",
       "    <tr>\n",
       "      <th>4</th>\n",
       "      <td>21.714094</td>\n",
       "      <td>208.640417</td>\n",
       "      <td>-40.020278</td>\n",
       "      <td>1965</td>\n",
       "      <td>1</td>\n",
       "      <td>14</td>\n",
       "    </tr>\n",
       "    <tr>\n",
       "      <th>5</th>\n",
       "      <td>21.742876</td>\n",
       "      <td>219.102083</td>\n",
       "      <td>-44.998611</td>\n",
       "      <td>1965</td>\n",
       "      <td>1</td>\n",
       "      <td>14</td>\n",
       "    </tr>\n",
       "  </tbody>\n",
       "</table>\n",
       "</div>"
      ],
      "text/plain": [
       "   UT1_hours       alpha      delta  year  month  days\n",
       "0  21.575128  142.935000   8.521111  1965      1    14\n",
       "1  21.603111  157.274167  -2.395000  1965      1    14\n",
       "2  21.631420  171.817917 -14.508333  1965      1    14\n",
       "3  21.654491  183.134167 -23.563333  1965      1    14\n",
       "4  21.714094  208.640417 -40.020278  1965      1    14\n",
       "5  21.742876  219.102083 -44.998611  1965      1    14"
      ]
     },
     "execution_count": 83,
     "metadata": {},
     "output_type": "execute_result"
    }
   ],
   "source": [
    "position_fram"
   ]
  },
  {
   "cell_type": "code",
   "execution_count": 84,
   "metadata": {
    "collapsed": true
   },
   "outputs": [],
   "source": [
    "# 常数表\n",
    "R_earth = 6371\n",
    "au = 149597870\n",
    "r_station_earth = 0.999102 #*R_earth\n",
    "r_earth_sun = 1*au\n",
    "\n",
    "time_unit = 806.81163 #806.8116 # SI \n",
    "\n",
    "# 测站的地理位置\n",
    "lam = 118.82091666 # degrees\n",
    "phi = 31.893611111 # degrees\n",
    "\n",
    "# headers index: UT1_hours  alpha  delta  year  month  days\n",
    "\n",
    "UT1_hours = position_fram['UT1_hours']\n",
    "alpha = position_fram['alpha']\n",
    "delta = position_fram['delta']\n",
    "year = position_fram['year']\n",
    "month = position_fram['month']\n",
    "days = position_fram['days']\n"
   ]
  },
  {
   "cell_type": "code",
   "execution_count": 97,
   "metadata": {},
   "outputs": [],
   "source": [
    "# 进行拉普拉斯方法所需要的星表归算\n",
    "\n",
    "P = []\n",
    "Q = []\n",
    "\n",
    "for i in range(observe_times):   \n",
    "    # 计算观测数据的儒略日时间和恒星时\n",
    "    SG_s,jd_s = CM.UTC2SG(year[i],month[i],days[i],UT1_hours[i])\n",
    "    SG_degree = SG_s%(3600*24)/(3600*24)*360\n",
    "    \n",
    "    # 通过每一个恒星时去归算出测站到地心的RA,DEC\n",
    "    RA_station = SG_degree + lam\n",
    "    DEC_station = phi\n",
    "    station_earth = CM.RADEC2xyz(r_station_earth,RA_station,DEC_station)\n",
    "    \n",
    "    X,Y,Z = station_earth\n",
    "    \n",
    "    # 再根据测站到地心的位置最终酸楚Pj,Qj\n",
    "    delta_pi = delta[i]*2*np.pi/360\n",
    "    alpha_pi = alpha[i]*2*np.pi/360\n",
    "    \n",
    "    Lambda = np.cos(delta_pi)*np.cos(alpha_pi)\n",
    "    Miu = np.cos(delta_pi)*np.sin(alpha_pi)\n",
    "    Niu = np.sin(delta_pi)\n",
    "    \n",
    "    P_j = Niu*X - Lambda*Z\n",
    "    Q_j = Niu*Y - Miu*Z\n",
    "    \n",
    "    P.append(P_j);Q.append(Q_j)\n",
    "\n",
    "PF_fill = position_fram\n",
    "PF_fill['P'] = np.array(P)\n",
    "PF_fill['Q'] = np.array(Q)\n"
   ]
  },
  {
   "cell_type": "code",
   "execution_count": 98,
   "metadata": {},
   "outputs": [
    {
     "data": {
      "text/html": [
       "<div>\n",
       "<style>\n",
       "    .dataframe thead tr:only-child th {\n",
       "        text-align: right;\n",
       "    }\n",
       "\n",
       "    .dataframe thead th {\n",
       "        text-align: left;\n",
       "    }\n",
       "\n",
       "    .dataframe tbody tr th {\n",
       "        vertical-align: top;\n",
       "    }\n",
       "</style>\n",
       "<table border=\"1\" class=\"dataframe\">\n",
       "  <thead>\n",
       "    <tr style=\"text-align: right;\">\n",
       "      <th></th>\n",
       "      <th>UT1_hours</th>\n",
       "      <th>alpha</th>\n",
       "      <th>delta</th>\n",
       "      <th>year</th>\n",
       "      <th>month</th>\n",
       "      <th>days</th>\n",
       "      <th>P</th>\n",
       "      <th>Q</th>\n",
       "    </tr>\n",
       "  </thead>\n",
       "  <tbody>\n",
       "    <tr>\n",
       "      <th>0</th>\n",
       "      <td>21.575128</td>\n",
       "      <td>142.935000</td>\n",
       "      <td>8.521111</td>\n",
       "      <td>1965</td>\n",
       "      <td>1</td>\n",
       "      <td>14</td>\n",
       "      <td>0.296272</td>\n",
       "      <td>-0.351086</td>\n",
       "    </tr>\n",
       "    <tr>\n",
       "      <th>1</th>\n",
       "      <td>21.603111</td>\n",
       "      <td>157.274167</td>\n",
       "      <td>-2.395000</td>\n",
       "      <td>1965</td>\n",
       "      <td>1</td>\n",
       "      <td>14</td>\n",
       "      <td>0.520311</td>\n",
       "      <td>-0.193223</td>\n",
       "    </tr>\n",
       "    <tr>\n",
       "      <th>2</th>\n",
       "      <td>21.631420</td>\n",
       "      <td>171.817917</td>\n",
       "      <td>-14.508333</td>\n",
       "      <td>1965</td>\n",
       "      <td>1</td>\n",
       "      <td>14</td>\n",
       "      <td>0.708283</td>\n",
       "      <td>-0.008122</td>\n",
       "    </tr>\n",
       "    <tr>\n",
       "      <th>3</th>\n",
       "      <td>21.654491</td>\n",
       "      <td>183.134167</td>\n",
       "      <td>-23.563333</td>\n",
       "      <td>1965</td>\n",
       "      <td>1</td>\n",
       "      <td>14</td>\n",
       "      <td>0.805554</td>\n",
       "      <td>0.131507</td>\n",
       "    </tr>\n",
       "    <tr>\n",
       "      <th>4</th>\n",
       "      <td>21.714094</td>\n",
       "      <td>208.640417</td>\n",
       "      <td>-40.020278</td>\n",
       "      <td>1965</td>\n",
       "      <td>1</td>\n",
       "      <td>14</td>\n",
       "      <td>0.870732</td>\n",
       "      <td>0.370844</td>\n",
       "    </tr>\n",
       "    <tr>\n",
       "      <th>5</th>\n",
       "      <td>21.742876</td>\n",
       "      <td>219.102083</td>\n",
       "      <td>-44.998611</td>\n",
       "      <td>1965</td>\n",
       "      <td>1</td>\n",
       "      <td>14</td>\n",
       "      <td>0.855495</td>\n",
       "      <td>0.434417</td>\n",
       "    </tr>\n",
       "  </tbody>\n",
       "</table>\n",
       "</div>"
      ],
      "text/plain": [
       "   UT1_hours       alpha      delta  year  month  days         P         Q\n",
       "0  21.575128  142.935000   8.521111  1965      1    14  0.296272 -0.351086\n",
       "1  21.603111  157.274167  -2.395000  1965      1    14  0.520311 -0.193223\n",
       "2  21.631420  171.817917 -14.508333  1965      1    14  0.708283 -0.008122\n",
       "3  21.654491  183.134167 -23.563333  1965      1    14  0.805554  0.131507\n",
       "4  21.714094  208.640417 -40.020278  1965      1    14  0.870732  0.370844\n",
       "5  21.742876  219.102083 -44.998611  1965      1    14  0.855495  0.434417"
      ]
     },
     "execution_count": 98,
     "metadata": {},
     "output_type": "execute_result"
    }
   ],
   "source": [
    "PF_fill"
   ]
  },
  {
   "cell_type": "code",
   "execution_count": 103,
   "metadata": {},
   "outputs": [
    {
     "data": {
      "text/plain": [
       "[0, 1, 2, 3, 4, 5]"
      ]
     },
     "execution_count": 103,
     "metadata": {},
     "output_type": "execute_result"
    }
   ],
   "source": [
    "Nwind = 0\n",
    "Ob_index = [i for i in range(6)]\n",
    "\n",
    "t0 = PF_fill['UT1_hours'].sum()/6\n",
    "\n",
    "# 给定所需要的按照理论单位的时间值\n",
    "T = (PF_fill['UT1_hours'] - t0)\n",
    "\n",
    "t0 = "
   ]
  },
  {
   "cell_type": "code",
   "execution_count": null,
   "metadata": {
    "collapsed": true
   },
   "outputs": [],
   "source": []
  }
 ],
 "metadata": {
  "kernelspec": {
   "display_name": "Python 3",
   "language": "python",
   "name": "python3"
  },
  "language_info": {
   "codemirror_mode": {
    "name": "ipython",
    "version": 3
   },
   "file_extension": ".py",
   "mimetype": "text/x-python",
   "name": "python",
   "nbconvert_exporter": "python",
   "pygments_lexer": "ipython3",
   "version": "3.6.3"
  },
  "toc": {
   "base_numbering": 1,
   "nav_menu": {},
   "number_sections": true,
   "sideBar": true,
   "skip_h1_title": false,
   "title_cell": "Table of Contents",
   "title_sidebar": "Contents",
   "toc_cell": false,
   "toc_position": {},
   "toc_section_display": true,
   "toc_window_display": false
  },
  "varInspector": {
   "cols": {
    "lenName": 16,
    "lenType": 16,
    "lenVar": 40
   },
   "kernels_config": {
    "python": {
     "delete_cmd_postfix": "",
     "delete_cmd_prefix": "del ",
     "library": "var_list.py",
     "varRefreshCmd": "print(var_dic_list())"
    },
    "r": {
     "delete_cmd_postfix": ") ",
     "delete_cmd_prefix": "rm(",
     "library": "var_list.r",
     "varRefreshCmd": "cat(var_dic_list()) "
    }
   },
   "position": {
    "height": "529px",
    "left": "846px",
    "right": "46px",
    "top": "96px",
    "width": "353px"
   },
   "types_to_exclude": [
    "module",
    "function",
    "builtin_function_or_method",
    "instance",
    "_Feature"
   ],
   "window_display": false
  }
 },
 "nbformat": 4,
 "nbformat_minor": 2
}
