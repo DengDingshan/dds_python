{
 "cells": [
  {
   "cell_type": "code",
   "execution_count": 1,
   "metadata": {
    "collapsed": true
   },
   "outputs": [],
   "source": [
    "import smtplib\n",
    "from email.mime.text import MIMEText\n",
    "from email.utils import formataddr\n",
    "from email.header import Header"
   ]
  },
  {
   "cell_type": "code",
   "execution_count": 16,
   "metadata": {},
   "outputs": [
    {
     "name": "stdout",
     "output_type": "stream",
     "text": [
      "邮件发送成功！\n"
     ]
    }
   ],
   "source": [
    "import smtplib \n",
    "import time \n",
    "from email.mime.text import MIMEText \n",
    "import requests \n",
    "\n",
    "subject = \"Hello World\"\n",
    "body = 'Hello World: \\n This is the first E-mail sent by Python \\n Have a nice day~'\n",
    "\n",
    "smtpserver = \"smtp.163.com\"\n",
    "smtpport = 465\n",
    "from_mail = \"dsastro@163.com\"\n",
    "to_mail = [\"dengdingshan123@live.com\",\"455151128@qq.com\"]\n",
    "password = \"hgbfiuf70523\"   # 授权码\n",
    "\n",
    "try:\n",
    "    # 发送邮件 \n",
    "    msg = MIMEText(body) \n",
    "    msg[\"Subject\"] = subject \n",
    "    msg[\"From\"] = \"dsastro@163.com\" # from \n",
    "    msg[\"To\"] = \"DS\" # to \n",
    "\n",
    "    smtp = smtplib.SMTP_SSL(smtpserver,smtpport)\n",
    "    smtp.login(from_mail,password) \n",
    "    smtp.sendmail(from_mail,to_mail,msg.as_string())\n",
    "    smtp.quit() \n",
    "    \n",
    "    print(\"邮件发送成功！\") \n",
    "except Exception as e: \n",
    "    print(\"邮件发送失败~~\" + e.message)\n"
   ]
  },
  {
   "cell_type": "code",
   "execution_count": null,
   "metadata": {
    "collapsed": true
   },
   "outputs": [],
   "source": []
  }
 ],
 "metadata": {
  "kernelspec": {
   "display_name": "Python 3",
   "language": "python",
   "name": "python3"
  },
  "language_info": {
   "codemirror_mode": {
    "name": "ipython",
    "version": 3
   },
   "file_extension": ".py",
   "mimetype": "text/x-python",
   "name": "python",
   "nbconvert_exporter": "python",
   "pygments_lexer": "ipython3",
   "version": "3.6.3"
  },
  "toc": {
   "base_numbering": 1,
   "nav_menu": {},
   "number_sections": true,
   "sideBar": true,
   "skip_h1_title": false,
   "title_cell": "Table of Contents",
   "title_sidebar": "Contents",
   "toc_cell": false,
   "toc_position": {},
   "toc_section_display": true,
   "toc_window_display": false
  },
  "varInspector": {
   "cols": {
    "lenName": 16,
    "lenType": 16,
    "lenVar": 40
   },
   "kernels_config": {
    "python": {
     "delete_cmd_postfix": "",
     "delete_cmd_prefix": "del ",
     "library": "var_list.py",
     "varRefreshCmd": "print(var_dic_list())"
    },
    "r": {
     "delete_cmd_postfix": ") ",
     "delete_cmd_prefix": "rm(",
     "library": "var_list.r",
     "varRefreshCmd": "cat(var_dic_list()) "
    }
   },
   "types_to_exclude": [
    "module",
    "function",
    "builtin_function_or_method",
    "instance",
    "_Feature"
   ],
   "window_display": false
  }
 },
 "nbformat": 4,
 "nbformat_minor": 2
}
