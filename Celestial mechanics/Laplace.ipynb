{
 "cells": [
  {
   "cell_type": "markdown",
   "metadata": {},
   "source": [
    "# 拉普拉斯方法定轨道六根数\n",
    "\n",
    "## 1. 已知三次观测的观测坐标，定出某一时刻的位置矢量和速度矢量\n",
    "按照笔记的方法分别推出各个量"
   ]
  },
  {
   "cell_type": "code",
   "execution_count": 1,
   "metadata": {
    "collapsed": true
   },
   "outputs": [],
   "source": [
    "import pandas as pd\n",
    "import numpy as np\n",
    "import math\n",
    "import matplotlib.pyplot as plt\n",
    "import datetime\n",
    "import time\n",
    "\n",
    "import DDS_CMpack as DDS\n",
    "\n",
    "%matplotlib inline"
   ]
  },
  {
   "cell_type": "code",
   "execution_count": 2,
   "metadata": {
    "collapsed": true
   },
   "outputs": [],
   "source": [
    "# astronomy constants\n",
    "R_earth = 6371\n",
    "au = 149597870\n",
    "r_station_earth = 0.999102*R_earth\n",
    "r_earth_sun = 1*au\n"
   ]
  },
  {
   "cell_type": "code",
   "execution_count": 3,
   "metadata": {},
   "outputs": [
    {
     "data": {
      "text/plain": [
       "array([-2605.27807175,  4734.88792247,  3363.05475229])"
      ]
     },
     "execution_count": 3,
     "metadata": {},
     "output_type": "execute_result"
    }
   ],
   "source": [
    "# give the station's lam and phi\n",
    "lam = 118.82091666\n",
    "phi = 31.893611111\n",
    "\n",
    "station = DDS.RADEC2xyz(r_station_earth,lam,phi)\n",
    "station"
   ]
  },
  {
   "cell_type": "code",
   "execution_count": 4,
   "metadata": {},
   "outputs": [
    {
     "data": {
      "text/plain": [
       "array([  0.       , 100.7359812, 202.6490004, 285.706998 , 500.2769988,\n",
       "       603.8899992])"
      ]
     },
     "execution_count": 4,
     "metadata": {},
     "output_type": "execute_result"
    }
   ],
   "source": [
    "# 计算观测数据的儒略日时间和恒星时\n",
    "year = 1965; month = 1; days = 14;\n",
    "UT1_hours = np.array([21.575128333,21.60311055,21.631419722,21.654491388,21.714094166,21.742875555])\n",
    "jd_t = []\n",
    "SG_t = []\n",
    "for i in range(len(UT1_hours)):\n",
    "    SG_s,jd_s = DDS.UTC2SG(year,month,days,UT1_hours[i])\n",
    "    SG_t.append(SG_s); jd_t.append(jd_s);\n",
    "    \n",
    "SG_array = np.array(SG_t); jd_array = np.array(jd_t)\n",
    "delta_t = (UT1_hours - UT1_hours[0])*3600\n",
    "delta_t"
   ]
  },
  {
   "cell_type": "code",
   "execution_count": 5,
   "metadata": {
    "collapsed": true
   },
   "outputs": [],
   "source": [
    "# give 3 observed position\n",
    "position_fram = pd.DataFrame({'alpha':\\\n",
    "                        np.array([142.935,157.274166667,171.817916667,183.134166667,\\\n",
    "                                  208.640416667,219.102083333]),\\\n",
    "                       'delta':\\\n",
    "                       np.array([8.521111111,-2.395,-14.508333333,-23.56333333,-40.020277777,-44.998611111]),\\\n",
    "                       'jd':jd_array,\\\n",
    "                        'deltaT':delta_t,\\\n",
    "                        'SG': SG_array})"
   ]
  },
  {
   "cell_type": "code",
   "execution_count": 6,
   "metadata": {},
   "outputs": [
    {
     "data": {
      "text/html": [
       "<div>\n",
       "<style>\n",
       "    .dataframe thead tr:only-child th {\n",
       "        text-align: right;\n",
       "    }\n",
       "\n",
       "    .dataframe thead th {\n",
       "        text-align: left;\n",
       "    }\n",
       "\n",
       "    .dataframe tbody tr th {\n",
       "        vertical-align: top;\n",
       "    }\n",
       "</style>\n",
       "<table border=\"1\" class=\"dataframe\">\n",
       "  <thead>\n",
       "    <tr style=\"text-align: right;\">\n",
       "      <th></th>\n",
       "      <th>SG</th>\n",
       "      <th>alpha</th>\n",
       "      <th>delta</th>\n",
       "      <th>deltaT</th>\n",
       "      <th>jd</th>\n",
       "    </tr>\n",
       "  </thead>\n",
       "  <tbody>\n",
       "    <tr>\n",
       "      <th>0</th>\n",
       "      <td>-1.106247e+09</td>\n",
       "      <td>142.935000</td>\n",
       "      <td>8.521111</td>\n",
       "      <td>0.000000</td>\n",
       "      <td>-12769.600293</td>\n",
       "    </tr>\n",
       "    <tr>\n",
       "      <th>1</th>\n",
       "      <td>-1.106247e+09</td>\n",
       "      <td>157.274167</td>\n",
       "      <td>-2.395000</td>\n",
       "      <td>100.735981</td>\n",
       "      <td>-12769.599128</td>\n",
       "    </tr>\n",
       "    <tr>\n",
       "      <th>2</th>\n",
       "      <td>-1.106247e+09</td>\n",
       "      <td>171.817917</td>\n",
       "      <td>-14.508333</td>\n",
       "      <td>202.649000</td>\n",
       "      <td>-12769.597948</td>\n",
       "    </tr>\n",
       "    <tr>\n",
       "      <th>3</th>\n",
       "      <td>-1.106247e+09</td>\n",
       "      <td>183.134167</td>\n",
       "      <td>-23.563333</td>\n",
       "      <td>285.706998</td>\n",
       "      <td>-12769.596987</td>\n",
       "    </tr>\n",
       "    <tr>\n",
       "      <th>4</th>\n",
       "      <td>-1.106246e+09</td>\n",
       "      <td>208.640417</td>\n",
       "      <td>-40.020278</td>\n",
       "      <td>500.276999</td>\n",
       "      <td>-12769.594503</td>\n",
       "    </tr>\n",
       "    <tr>\n",
       "      <th>5</th>\n",
       "      <td>-1.106246e+09</td>\n",
       "      <td>219.102083</td>\n",
       "      <td>-44.998611</td>\n",
       "      <td>603.889999</td>\n",
       "      <td>-12769.593304</td>\n",
       "    </tr>\n",
       "  </tbody>\n",
       "</table>\n",
       "</div>"
      ],
      "text/plain": [
       "             SG       alpha      delta      deltaT            jd\n",
       "0 -1.106247e+09  142.935000   8.521111    0.000000 -12769.600293\n",
       "1 -1.106247e+09  157.274167  -2.395000  100.735981 -12769.599128\n",
       "2 -1.106247e+09  171.817917 -14.508333  202.649000 -12769.597948\n",
       "3 -1.106247e+09  183.134167 -23.563333  285.706998 -12769.596987\n",
       "4 -1.106246e+09  208.640417 -40.020278  500.276999 -12769.594503\n",
       "5 -1.106246e+09  219.102083 -44.998611  603.889999 -12769.593304"
      ]
     },
     "execution_count": 6,
     "metadata": {},
     "output_type": "execute_result"
    }
   ],
   "source": [
    "position_fram"
   ]
  },
  {
   "cell_type": "code",
   "execution_count": 8,
   "metadata": {},
   "outputs": [],
   "source": [
    "# add Pj ,Qj to positon_fram_fil\n",
    "Lt = []; Pt = []; Qt = []\n",
    "Lambda = []; Miu = []; Niu = [];\n",
    "for j in range(len(position_fram)):\n",
    "    delta = position_fram['delta'].values[j] ; \n",
    "    alpha = position_fram['alpha'].values[j];\n",
    "    L = [np.cos(delta)*np.cos(alpha),\\\n",
    "         np.cos(delta)*np.sin(alpha),\\\n",
    "         np.sin(delta)]\n",
    "    \n",
    "    Lambda.append(L[0]); \n",
    "    Miu.append(L[1]);\n",
    "    Niu.append(L[2]);\n",
    "    \n",
    "    Pj = L[2]*station[0] - L[0]*station[2]\n",
    "    Qj = L[2]*station[1] - L[1]*station[2]\n",
    "    \n",
    "    Lt.append(L)\n",
    "    Pt.append(Pj)\n",
    "    Qt.append(Qj)\n",
    "#     print(Lt,Pt,Qt)\n",
    "\n",
    "position_fram_fil = pd.DataFrame({'alpha':\\\n",
    "                        np.array([142.935,157.274166667,171.817916667,183.134166667,\\\n",
    "                                  208.640416667,219.102083333]),\\\n",
    "                       'delta':\\\n",
    "                       np.array([8.521111111,-2.395,-14.508333333,-23.56333333,-40.020277777,-44.998611111]),\\\n",
    "                       'jd':jd_array,\\\n",
    "                        'SG': SG_array,\\\n",
    "                        'deltaT':delta_t,\\\n",
    "                        'P':np.array(Pt),'Q':np.array(Qt),\\\n",
    "                        'Lambda':np.array(Lambda),\\\n",
    "                        'Miu':np.array(Miu),'Niu':np.array(Niu)})\n",
    "    \n",
    "    "
   ]
  },
  {
   "cell_type": "code",
   "execution_count": 9,
   "metadata": {
    "scrolled": true
   },
   "outputs": [
    {
     "name": "stdout",
     "output_type": "stream",
     "text": [
      "[[0.004619259152949292, 0.6187162104263949, 0.7856009886707621], [-0.7201622502846097, -0.14189044188209657, -0.6791416904943406], [0.20513157999811293, -0.2991224555179867, -0.9319049262088746], [0.0008391557493394374, 0.0011061414527015806, 0.999999036133893], [-0.1854950469560597, -0.6561948472881242, -0.7314368803576181], [0.3632510117185204, -0.3811225777821724, -0.8501730901352638]]\n"
     ]
    },
    {
     "data": {
      "text/html": [
       "<div>\n",
       "<style>\n",
       "    .dataframe thead tr:only-child th {\n",
       "        text-align: right;\n",
       "    }\n",
       "\n",
       "    .dataframe thead th {\n",
       "        text-align: left;\n",
       "    }\n",
       "\n",
       "    .dataframe tbody tr th {\n",
       "        vertical-align: top;\n",
       "    }\n",
       "</style>\n",
       "<table border=\"1\" class=\"dataframe\">\n",
       "  <thead>\n",
       "    <tr style=\"text-align: right;\">\n",
       "      <th></th>\n",
       "      <th>Lambda</th>\n",
       "      <th>Miu</th>\n",
       "      <th>Niu</th>\n",
       "      <th>P</th>\n",
       "      <th>Q</th>\n",
       "      <th>SG</th>\n",
       "      <th>alpha</th>\n",
       "      <th>delta</th>\n",
       "      <th>deltaT</th>\n",
       "      <th>jd</th>\n",
       "    </tr>\n",
       "  </thead>\n",
       "  <tbody>\n",
       "    <tr>\n",
       "      <th>0</th>\n",
       "      <td>0.004619</td>\n",
       "      <td>0.618716</td>\n",
       "      <td>0.785601</td>\n",
       "      <td>-2062.243850</td>\n",
       "      <td>1638.956141</td>\n",
       "      <td>-1.106247e+09</td>\n",
       "      <td>142.935000</td>\n",
       "      <td>8.521111</td>\n",
       "      <td>0.000000</td>\n",
       "      <td>-12769.600293</td>\n",
       "    </tr>\n",
       "    <tr>\n",
       "      <th>1</th>\n",
       "      <td>-0.720162</td>\n",
       "      <td>-0.141890</td>\n",
       "      <td>-0.679142</td>\n",
       "      <td>4191.298032</td>\n",
       "      <td>-2738.474463</td>\n",
       "      <td>-1.106247e+09</td>\n",
       "      <td>157.274167</td>\n",
       "      <td>-2.395000</td>\n",
       "      <td>100.735981</td>\n",
       "      <td>-12769.599128</td>\n",
       "    </tr>\n",
       "    <tr>\n",
       "      <th>2</th>\n",
       "      <td>0.205132</td>\n",
       "      <td>-0.299122</td>\n",
       "      <td>-0.931905</td>\n",
       "      <td>1738.002734</td>\n",
       "      <td>-3406.500184</td>\n",
       "      <td>-1.106247e+09</td>\n",
       "      <td>171.817917</td>\n",
       "      <td>-14.508333</td>\n",
       "      <td>202.649000</td>\n",
       "      <td>-12769.597948</td>\n",
       "    </tr>\n",
       "    <tr>\n",
       "      <th>3</th>\n",
       "      <td>0.000839</td>\n",
       "      <td>0.001106</td>\n",
       "      <td>0.999999</td>\n",
       "      <td>-2608.097687</td>\n",
       "      <td>4731.163344</td>\n",
       "      <td>-1.106247e+09</td>\n",
       "      <td>183.134167</td>\n",
       "      <td>-23.563333</td>\n",
       "      <td>285.706998</td>\n",
       "      <td>-12769.596987</td>\n",
       "    </tr>\n",
       "    <tr>\n",
       "      <th>4</th>\n",
       "      <td>-0.185495</td>\n",
       "      <td>-0.656195</td>\n",
       "      <td>-0.731437</td>\n",
       "      <td>2529.426464</td>\n",
       "      <td>-1256.452451</td>\n",
       "      <td>-1.106246e+09</td>\n",
       "      <td>208.640417</td>\n",
       "      <td>-40.020278</td>\n",
       "      <td>500.276999</td>\n",
       "      <td>-12769.594503</td>\n",
       "    </tr>\n",
       "    <tr>\n",
       "      <th>5</th>\n",
       "      <td>0.363251</td>\n",
       "      <td>-0.381123</td>\n",
       "      <td>-0.850173</td>\n",
       "      <td>993.304268</td>\n",
       "      <td>-2743.738200</td>\n",
       "      <td>-1.106246e+09</td>\n",
       "      <td>219.102083</td>\n",
       "      <td>-44.998611</td>\n",
       "      <td>603.889999</td>\n",
       "      <td>-12769.593304</td>\n",
       "    </tr>\n",
       "  </tbody>\n",
       "</table>\n",
       "</div>"
      ],
      "text/plain": [
       "     Lambda       Miu       Niu            P            Q            SG  \\\n",
       "0  0.004619  0.618716  0.785601 -2062.243850  1638.956141 -1.106247e+09   \n",
       "1 -0.720162 -0.141890 -0.679142  4191.298032 -2738.474463 -1.106247e+09   \n",
       "2  0.205132 -0.299122 -0.931905  1738.002734 -3406.500184 -1.106247e+09   \n",
       "3  0.000839  0.001106  0.999999 -2608.097687  4731.163344 -1.106247e+09   \n",
       "4 -0.185495 -0.656195 -0.731437  2529.426464 -1256.452451 -1.106246e+09   \n",
       "5  0.363251 -0.381123 -0.850173   993.304268 -2743.738200 -1.106246e+09   \n",
       "\n",
       "        alpha      delta      deltaT            jd  \n",
       "0  142.935000   8.521111    0.000000 -12769.600293  \n",
       "1  157.274167  -2.395000  100.735981 -12769.599128  \n",
       "2  171.817917 -14.508333  202.649000 -12769.597948  \n",
       "3  183.134167 -23.563333  285.706998 -12769.596987  \n",
       "4  208.640417 -40.020278  500.276999 -12769.594503  \n",
       "5  219.102083 -44.998611  603.889999 -12769.593304  "
      ]
     },
     "execution_count": 9,
     "metadata": {},
     "output_type": "execute_result"
    }
   ],
   "source": [
    "print(Lt)\n",
    "position_fram_fil"
   ]
  },
  {
   "cell_type": "code",
   "execution_count": 11,
   "metadata": {},
   "outputs": [],
   "source": [
    "# 为循环重新format，取出需要的数据\n",
    "Observe_time = len(position_fram)\n",
    "\n",
    "obs = [0,2,4] # 取1，2，4次观测\n",
    "\n",
    "# 取定t0 \n",
    "index = 2\n",
    "t0 = position_fram_fil['deltaT'].values[index]\n",
    "\n",
    "# set F0 and G0 to begin the loop\n",
    "\n",
    "F0 = np.ones(Observe_time).tolist()\n",
    "G0 = (position_fram_fil['deltaT'].values - position_fram_fil['deltaT'].values[index]).tolist()\n",
    "\n",
    "FN0 = []; GN0 = []\n",
    "P = []; Q = []\n",
    "Lambda = []; Niu = []; Miu = []\n",
    "tao = [];\n",
    "for i in range(len(obs)): # 把要用的那几次观测数据提取出来：\n",
    "    j = obs[i]\n",
    "    FN0.append(F0[j])\n",
    "    GN0.append(G0[j])\n",
    "    P.append(position_fram_fil['P'].values[j])\n",
    "    Q.append(position_fram_fil['Q'].values[j])\n",
    "    Niu.append(position_fram_fil['Niu'].values[j])\n",
    "    Miu.append(position_fram_fil['Miu'].values[j])\n",
    "    Lambda.append(position_fram_fil['Lambda'].values[j])\n",
    "    tao.append(position_fram_fil['deltaT'].values[j] - position_fram_fil['deltaT'].values[index])\n",
    "    "
   ]
  },
  {
   "cell_type": "code",
   "execution_count": 22,
   "metadata": {},
   "outputs": [
    {
     "name": "stdout",
     "output_type": "stream",
     "text": [
      "6365.2788420000015 3.5958310906017226e-14\n",
      "0\n",
      "1\n",
      "2\n",
      "[ 5.37811241e-06  0.00000000e+00 -1.70379704e-05]\n"
     ]
    }
   ],
   "source": [
    "# 循环次数 \n",
    "\n",
    "Nwind = 0\n",
    "key = 0\n",
    "F = [FN0]; G = [GN0]\n",
    "\n",
    "while key == 0:\n",
    "    # 在一次循环中:\n",
    "    # 最终的目的是解(A,b)的增广矩阵 - 对应(x,y,z,vx,vy,vz)\n",
    "    A = []\n",
    "    b = []\n",
    "\n",
    "    # we have : Lt, position_fram_fil\n",
    "    ## 从F,G 解r0,v0\n",
    "    for j in range(len(obs)): # 三次观测(现在的F,G已经只剩我们需要的那几次观测的值了)\n",
    "\n",
    "        A.append([Niu[j]*F[Nwind][j],0,-1*Lambda[j]*F[Nwind][j],Niu[j]*G[Nwind][j],0,-1*Lambda[j]*G[Nwind][j]])\n",
    "        A.append([0,Niu[j]*F[Nwind][j],-1*Miu[j]*F[Nwind][j],0,Niu[j]*G[Nwind][j],-1*Miu[j]*G[Nwind][j]])\n",
    "        b.append(P[j])\n",
    "        b.append(Q[j])\n",
    "\n",
    "    AA = np.array(A)\n",
    "    bb = np.array(b)\n",
    "    ans = np.linalg.solve(AA,bb) #ans 6 位对应(x,y,z,vx,vy,vz)\n",
    "    \n",
    "    r0 = np.sqrt(ans[0]**2 + ans[1]**2 + ans[2]**2)\n",
    "    v0 = np.sqrt(ans[3]**2 + ans[4]**2 + ans[5]**2)\n",
    "    print(r0,v0)\n",
    "    \n",
    "    Nwind += 1\n",
    "\n",
    "    ## r0,v0获得F,G\n",
    "    FNw = []; GNw = [];\n",
    "    for j in range(len(obs)):\n",
    "        print(j)\n",
    "        FNw.append(DDS.F(r0,v0,tao[j]))\n",
    "        GNw.append(DDS.G(r0,v0,tao[j]))\n",
    "#     print(FNw)\n",
    "    \n",
    "    F.append(FNw); G.append(GNw)\n",
    "    delta_F = np.array(F[Nwind]) - np.array(F[Nwind - 1]);\n",
    "    delta_G = np.array(G[Nwind]) - np.array(G[Nwind - 1])\n",
    "    \n",
    "    print(delta_G)\n",
    "    key = 1\n",
    "\n",
    "# deltaF 和 deltaG 都太小了！"
   ]
  },
  {
   "cell_type": "code",
   "execution_count": 12,
   "metadata": {},
   "outputs": [
    {
     "data": {
      "text/plain": [
       "-145.25"
      ]
     },
     "execution_count": 12,
     "metadata": {},
     "output_type": "execute_result"
    }
   ],
   "source": [
    "DDS.F(1,2,3)"
   ]
  },
  {
   "cell_type": "code",
   "execution_count": 33,
   "metadata": {},
   "outputs": [
    {
     "name": "stdout",
     "output_type": "stream",
     "text": [
      "[[1 2 3]\n",
      " [4 5 6]\n",
      " [7 8 9]]\n",
      "[2 3 4]\n"
     ]
    },
    {
     "data": {
      "text/plain": [
       "array([ 0.06666667, -1.13333333,  1.4       ])"
      ]
     },
     "execution_count": 33,
     "metadata": {},
     "output_type": "execute_result"
    }
   ],
   "source": [
    "# 解矩阵\n",
    "A = [[1,2,3],[4,5,6],[7,8,9]]\n",
    "AA = np.array(A)\n",
    "b = np.array([2,3,4])\n",
    "print(AA)\n",
    "print(b)\n",
    "np.linalg.solve(AA,b)"
   ]
  },
  {
   "cell_type": "code",
   "execution_count": 44,
   "metadata": {},
   "outputs": [
    {
     "data": {
      "text/plain": [
       "array([1., 1., 1., 1.])"
      ]
     },
     "execution_count": 44,
     "metadata": {},
     "output_type": "execute_result"
    }
   ],
   "source": [
    "f = np.ones(4)\n",
    "f"
   ]
  },
  {
   "cell_type": "code",
   "execution_count": null,
   "metadata": {
    "collapsed": true
   },
   "outputs": [],
   "source": []
  },
  {
   "cell_type": "code",
   "execution_count": null,
   "metadata": {
    "collapsed": true
   },
   "outputs": [],
   "source": []
  }
 ],
 "metadata": {
  "kernelspec": {
   "display_name": "Python 3",
   "language": "python",
   "name": "python3"
  },
  "language_info": {
   "codemirror_mode": {
    "name": "ipython",
    "version": 3
   },
   "file_extension": ".py",
   "mimetype": "text/x-python",
   "name": "python",
   "nbconvert_exporter": "python",
   "pygments_lexer": "ipython3",
   "version": "3.6.3"
  }
 },
 "nbformat": 4,
 "nbformat_minor": 2
}
