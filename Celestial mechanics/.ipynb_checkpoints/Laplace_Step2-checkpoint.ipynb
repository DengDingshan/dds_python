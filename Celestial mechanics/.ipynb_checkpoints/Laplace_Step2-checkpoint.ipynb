{
 "cells": [
  {
   "cell_type": "markdown",
   "metadata": {},
   "source": [
    "# 拉普拉斯方法定轨道六根数\n",
    "\n",
    "## 1. 已知三次观测的观测坐标，定出某一时刻的位置矢量和速度矢量 ok\n",
    "按照笔记的方法分别推出各个量\n",
    "\n",
    "注意时间单位的选取!\n",
    "\n",
    "## 2. 已知某一时刻的位置矢量和速度矢量，求轨道六根数\n",
    "\n",
    "按照笔记方法,逐步求得：\n",
    "a\n",
    "n()\n",
    "E()\n",
    "e\n",
    "M\n",
    "i Omega w"
   ]
  },
  {
   "cell_type": "code",
   "execution_count": 1,
   "metadata": {
    "collapsed": true
   },
   "outputs": [],
   "source": [
    "import pandas as pd\n",
    "import numpy as np\n",
    "import math\n",
    "import matplotlib.pyplot as plt\n",
    "import datetime\n",
    "import time\n",
    "\n",
    "import DDS_CMpack as DDS\n",
    "\n",
    "%matplotlib inline"
   ]
  },
  {
   "cell_type": "code",
   "execution_count": 5,
   "metadata": {
    "collapsed": true
   },
   "outputs": [],
   "source": [
    "# astronomy constants\n",
    "R_earth = 6371e3 # m\n",
    "M_earth = 5.965e24 # kg\n",
    "G_graviation = 6.672e-11 # N·m^2 /kg^2 \n",
    "\n",
    "au = 149597870e3 # m\n",
    "r_station_earth = 0.999102 #*R_earth\n",
    "r_earth_sun = 1*au\n",
    "\n",
    "time_unit = 806.81163 #806.8116 # SI \n",
    "\n",
    "# miu_GM = 398600.5e-6 # km^3/SI^2"
   ]
  },
  {
   "cell_type": "code",
   "execution_count": 7,
   "metadata": {},
   "outputs": [],
   "source": [
    "miu_GM = G_graviation*M_earth"
   ]
  },
  {
   "cell_type": "code",
   "execution_count": 19,
   "metadata": {},
   "outputs": [
    {
     "data": {
      "text/plain": [
       "(7919217.8206913015, 7348.863811227464)"
      ]
     },
     "execution_count": 19,
     "metadata": {},
     "output_type": "execute_result"
    }
   ],
   "source": [
    "# input r0,v0,t0\n",
    "r0 = np.array([-7199.15816347,-877.10859939,3180.69381327])*10**3 # unit= m\n",
    "r0_norm = np.sqrt(sum([ i*i for i in r0])) # m\n",
    "\n",
    "v0 = np.array([-1.28961015,-5.64878693,-4.52038839])*10**3 # unit= m/SI\n",
    "v0_norm = np.sqrt(sum([ i*i for i in v0])) # m/SI\n",
    "\n",
    "t0 = 121.0217445 # unit = SI from the first data we have\n",
    "## t0 感觉应该要填别的\n",
    "\n",
    "r0_norm,v0_norm"
   ]
  },
  {
   "cell_type": "code",
   "execution_count": 20,
   "metadata": {},
   "outputs": [
    {
     "data": {
      "text/plain": [
       "8557.830264321163"
      ]
     },
     "execution_count": 20,
     "metadata": {},
     "output_type": "execute_result"
    }
   ],
   "source": [
    "# get a \n",
    "\n",
    "a = 1/(2/r0_norm - v0_norm**2/miu_GM) # unit = m\n",
    "\n",
    "a/10**3"
   ]
  },
  {
   "cell_type": "code",
   "execution_count": 28,
   "metadata": {},
   "outputs": [
    {
     "data": {
      "text/plain": [
       "0.07462317245205598"
      ]
     },
     "execution_count": 28,
     "metadata": {},
     "output_type": "execute_result"
    }
   ],
   "source": [
    "# get n\\E then a\n",
    "n = np.sqrt(miu_GM/(a**3))\n",
    "\n",
    "tan_E = (1 - r0_norm/a)*(a**2*n)/(np.dot(r0,v0))\n",
    "\n",
    "e = np.sqrt( (1-r0_norm/a)**2 + (np.dot(r0,v0) / a**2*n)**2 )\n",
    "\n",
    "sin_E = (1 - r0_norm/a)/e\n",
    "cos_E = (np.dot(r0,v0) / a**2*n)/e\n",
    "\n",
    "e"
   ]
  },
  {
   "cell_type": "code",
   "execution_count": 59,
   "metadata": {
    "collapsed": true
   },
   "outputs": [],
   "source": [
    "def arctan2(sinE,cosE):\n",
    "    if sinE >=0 and cosE >=0: # I\n",
    "        output = np.arcsin(sinE)\n",
    "    elif sinE >=0 and cosE <=0: # II\n",
    "        output = np.pi - np.arcsin(sinE)\n",
    "    elif sinE <=0 and cosE >=0: # IV\n",
    "        output = 2*np.pi + np.arcsin(sinE)\n",
    "    else: # III\n",
    "        output = np.pi - np.arcsin(sinE)\n",
    "    return output\n"
   ]
  },
  {
   "cell_type": "code",
   "execution_count": 60,
   "metadata": {},
   "outputs": [
    {
     "name": "stdout",
     "output_type": "stream",
     "text": [
      "1.5707963057214724 1.5707963471010034 -1.5388292286525118\n"
     ]
    },
    {
     "data": {
      "text/plain": [
       "1.5707963478683207"
      ]
     },
     "execution_count": 60,
     "metadata": {},
     "output_type": "execute_result"
    }
   ],
   "source": [
    "E1 = np.arcsin(sin_E)\n",
    "E2 = np.arccos(cos_E)\n",
    "E3 = np.arctan(tan_E)\n",
    "\n",
    "print(E1,E2,E3)\n",
    "\n",
    "E = arctan2(sin_E,cos_E)\n",
    "\n",
    "E"
   ]
  },
  {
   "cell_type": "code",
   "execution_count": 61,
   "metadata": {},
   "outputs": [
    {
     "data": {
      "text/plain": [
       "1.4961731754162648"
      ]
     },
     "execution_count": 61,
     "metadata": {},
     "output_type": "execute_result"
    }
   ],
   "source": [
    "# keplar 定 M\n",
    "M = E - e*sin_E\n",
    "M"
   ]
  },
  {
   "cell_type": "code",
   "execution_count": 97,
   "metadata": {},
   "outputs": [
    {
     "data": {
      "text/plain": [
       "array([47.20821398, 30.90051259, 58.78749158])"
      ]
     },
     "execution_count": 97,
     "metadata": {},
     "output_type": "execute_result"
    }
   ],
   "source": [
    "# 定 i Omega w\n",
    "\n",
    "# method 1\n",
    "P = (cos_E/r0_norm)*r0 - (sin_E/(a*n))*v0\n",
    "Q = (sin_E/(r0_norm)*np.sqrt(1-e**2))*r0 + ((cos_E - e)/(a*n*np.sqrt(1-e**2)))*v0\n",
    "R = np.cross(P,Q)\n",
    "\n",
    "cos_i = R[2]\n",
    "tan_Omega = -1*R[0]/R[1]\n",
    "\n",
    "# get w ->[-90,+90]\n",
    "tan_w = P[2]/Q[2]\n",
    "\n",
    "# # method 2\n",
    "h = np.cross(r0,v0)\n",
    "h_norm = np.sqrt(sum([ i*i for i in h]))\n",
    "\n",
    "# get cos_i, sin_i\n",
    "cos_i_check = (h[2]/h_norm)\n",
    "tan_i = np.sqrt(h[0]**2 + h[1]**2)/h[2]\n",
    "sin_i = tan_i*cos_i_check\n",
    "\n",
    "\n",
    "# get cos_\\sin_Omega\n",
    "sin_Omega = h[0]/(h_norm*sin_i)\n",
    "cos_Omega = -h[1]/(h_norm*sin_i)\n",
    "\n",
    "# finally get i Omega w\n",
    "\n",
    "i = arctan2(sin_i,cos_i_check)\n",
    "\n",
    "Omega = arctan2(sin_Omega,cos_Omega)\n",
    "\n",
    "w = np.arctan(tan_w)\n",
    "\n",
    "np.degrees(np.array([i,Omega,w]))"
   ]
  },
  {
   "cell_type": "markdown",
   "metadata": {},
   "source": [
    "## 3. 由轨道6根数归算星历表\n",
    "\n",
    "已知：\n",
    "a, n(), E(), e, M, [i, Omega, w] = P,Q\n",
    "\n",
    "t0 = 121.0217445 **# unit = SI from the first data we have**\n",
    "\n",
    "M = M0 + n(t-t0)\n",
    "\n",
    "M = E - esin(E)"
   ]
  },
  {
   "cell_type": "code",
   "execution_count": 112,
   "metadata": {},
   "outputs": [
    {
     "data": {
      "text/plain": [
       "9.98398085856847e-21"
      ]
     },
     "execution_count": 112,
     "metadata": {},
     "output_type": "execute_result"
    }
   ],
   "source": [
    "# calculate keplar equation\n",
    "# 设置初值t0 和我们需要归算的时间t\n",
    "\n",
    "t = 0.354119*time_unit\n",
    "\n",
    "Mt = M + n*(t - t0)\n",
    "t-t0\n",
    "\n",
    "e*np.sin(Mt)"
   ]
  },
  {
   "cell_type": "code",
   "execution_count": 109,
   "metadata": {
    "scrolled": true
   },
   "outputs": [
    {
     "name": "stdout",
     "output_type": "stream",
     "text": [
      "1.6274062555017839\n",
      "0.0\n",
      "------------\n",
      "end: 1.6274062555017839\n"
     ]
    }
   ],
   "source": [
    "# 迭代 开普勒方程解 E\n",
    "e = 1e-20\n",
    "key = 0\n",
    "En0 = Mt\n",
    "Enw = [En0]\n",
    "Nwind = 0\n",
    "while key == 0:\n",
    "    Enw.append(Mt + e*np.sin(Enw[Nwind]))\n",
    "\n",
    "    Nwind += 1\n",
    "    print(Enw[Nwind])\n",
    "    \n",
    "    delta_Enw = np.abs(Enw[Nwind] - Enw[Nwind - 1])\n",
    "    print(delta_Enw)\n",
    "    print('------------')\n",
    "    \n",
    "    if delta_Enw < e:\n",
    "        key = 1;\n",
    "        \n",
    "Et = Enw[Nwind]\n",
    "\n",
    "print('end:',Et)"
   ]
  },
  {
   "cell_type": "code",
   "execution_count": 107,
   "metadata": {},
   "outputs": [
    {
     "data": {
      "text/plain": [
       "(array([-7871269.74575185, -1348916.52930314,  3116229.46573139]),\n",
       " array([ -935.18282056, -5587.44070887, -4660.14304375]))"
      ]
     },
     "execution_count": 107,
     "metadata": {},
     "output_type": "execute_result"
    }
   ],
   "source": [
    "# 归算rt, vt\n",
    "\n",
    "rt = a*(np.cos(Et) - e)*P + a*np.sqrt(1 - e**2)*Q\n",
    "rt_norm = np.sqrt( np.dot(rt,rt) )\n",
    "\n",
    "vt = -a**2*n/rt_norm*np.sin(Et)*P + a**2*n/rt_norm*np.sqrt(1 - e**2)*np.cos(Et)*Q\n",
    "\n",
    "L_rt = rt/ np.sqrt( np.dot(rt,rt))\n",
    "\n",
    "rt,vt"
   ]
  },
  {
   "cell_type": "code",
   "execution_count": 105,
   "metadata": {},
   "outputs": [
    {
     "data": {
      "text/plain": [
       "array([-0.91820258, -0.15735435,  0.36351565])"
      ]
     },
     "execution_count": 105,
     "metadata": {},
     "output_type": "execute_result"
    }
   ],
   "source": [
    "# 计算赤经赤纬：\n",
    "P_earth = rt\n",
    "station_earth = np.array([-0.80653683, -0.26278746,  0.52786921])\n",
    "\n",
    "P_station = P_earth - station_earth\n",
    "\n",
    "L_forecast = P_station/np.sqrt(np.dot(P_station,P_station))\n",
    "\n",
    "L_forecast"
   ]
  },
  {
   "cell_type": "code",
   "execution_count": 106,
   "metadata": {},
   "outputs": [
    {
     "data": {
      "text/plain": [
       "[-0.9152477093203553, -0.0501154444748697, -0.39976252051552885]"
      ]
     },
     "execution_count": 106,
     "metadata": {},
     "output_type": "execute_result"
    }
   ],
   "source": [
    "L = [-0.9152477093203553, -0.0501154444748697, -0.39976252051552885]\n",
    "L"
   ]
  },
  {
   "cell_type": "code",
   "execution_count": null,
   "metadata": {
    "collapsed": true
   },
   "outputs": [],
   "source": [
    "\n",
    "\n",
    "\n",
    "\n",
    "\n",
    "\n",
    "\n",
    "\n",
    "\n",
    "\n",
    "\n"
   ]
  }
 ],
 "metadata": {
  "kernelspec": {
   "display_name": "Python 3",
   "language": "python",
   "name": "python3"
  },
  "language_info": {
   "codemirror_mode": {
    "name": "ipython",
    "version": 3
   },
   "file_extension": ".py",
   "mimetype": "text/x-python",
   "name": "python",
   "nbconvert_exporter": "python",
   "pygments_lexer": "ipython3",
   "version": "3.6.3"
  }
 },
 "nbformat": 4,
 "nbformat_minor": 2
}
