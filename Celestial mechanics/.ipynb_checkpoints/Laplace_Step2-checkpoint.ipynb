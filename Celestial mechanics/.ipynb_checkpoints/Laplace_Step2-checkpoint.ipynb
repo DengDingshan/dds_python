{
 "cells": [
  {
   "cell_type": "markdown",
   "metadata": {},
   "source": [
    "# 拉普拉斯方法定轨道六根数\n",
    "\n",
    "## 1. 已知三次观测的观测坐标，定出某一时刻的位置矢量和速度矢量 ok\n",
    "按照笔记的方法分别推出各个量\n",
    "\n",
    "注意时间单位的选取!\n",
    "\n",
    "## 2. 已知某一时刻的位置矢量和速度矢量，求轨道六根数\n",
    "\n",
    "按照笔记方法,逐步求得：\n",
    "a\n",
    "n()\n",
    "E()\n",
    "e\n",
    "M\n",
    "i Omega w"
   ]
  },
  {
   "cell_type": "code",
   "execution_count": 97,
   "metadata": {
    "collapsed": true
   },
   "outputs": [],
   "source": [
    "import pandas as pd\n",
    "import numpy as np\n",
    "import math\n",
    "import matplotlib.pyplot as plt\n",
    "import datetime\n",
    "import time\n",
    "\n",
    "import DDS_CMpack as DDS\n",
    "\n",
    "%matplotlib inline"
   ]
  },
  {
   "cell_type": "code",
   "execution_count": 117,
   "metadata": {
    "collapsed": true
   },
   "outputs": [],
   "source": [
    "# astronomy constants\n",
    "R_earth = 6371e3 # m\n",
    "\n",
    "M_earth = 5.965e24 # kg\n",
    "G_graviation = 6.672e-11 # N·m^2 /kg^2 \n",
    "\n",
    "au = 149597870e3 # m\n",
    "r_station_earth = 0.999102 #*R_earth\n",
    "r_earth_sun = 1*au\n",
    "\n",
    "time_unit = 806.81163 #806.8116 # SI \n",
    "\n",
    "# miu_GM = 398600.5e-6 # km^3/SI^2"
   ]
  },
  {
   "cell_type": "code",
   "execution_count": 118,
   "metadata": {},
   "outputs": [
    {
     "data": {
      "text/plain": [
       "397984800000000.0"
      ]
     },
     "execution_count": 118,
     "metadata": {},
     "output_type": "execute_result"
    }
   ],
   "source": [
    "miu_GM = G_graviation*M_earth # 国际单位制\n",
    "\n",
    "miu_GM"
   ]
  },
  {
   "cell_type": "code",
   "execution_count": 119,
   "metadata": {},
   "outputs": [
    {
     "data": {
      "text/plain": [
       "(7854.767375159511, 7.0820913039862115)"
      ]
     },
     "execution_count": 119,
     "metadata": {},
     "output_type": "execute_result"
    }
   ],
   "source": [
    "# input r0,v0,t0\n",
    "r0 = np.array([-7121.76646542,-904.76855999,3187.35106048])*10**3 # unit= m\n",
    "r0_norm = np.sqrt(sum([ i*i for i in r0])) # m\n",
    "\n",
    "v0 = np.array([-1.21447382,-5.44512524,-4.36253157])*10**3 # unit= m/SI\n",
    "v0_norm = np.sqrt(sum([ i*i for i in v0])) # m/SI\n",
    "\n",
    "t0 = 121.0217445 # unit = SI from the first data we have\n",
    "## t0 感觉应该要填别的\n",
    "\n",
    "r0_norm/10**3,v0_norm/10**3"
   ]
  },
  {
   "cell_type": "code",
   "execution_count": 120,
   "metadata": {},
   "outputs": [
    {
     "data": {
      "text/plain": [
       "7776.202221679585"
      ]
     },
     "execution_count": 120,
     "metadata": {},
     "output_type": "execute_result"
    }
   ],
   "source": [
    "# get a \n",
    "\n",
    "a = 1/(2/r0_norm - v0_norm**2/miu_GM) # unit = m\n",
    "\n",
    "a/10**3"
   ]
  },
  {
   "cell_type": "code",
   "execution_count": 130,
   "metadata": {},
   "outputs": [
    {
     "name": "stdout",
     "output_type": "stream",
     "text": [
      "-0.010103280655548108\n",
      "-0.005916529745154699\n"
     ]
    },
    {
     "data": {
      "text/plain": [
       "0.011708185351713259"
      ]
     },
     "execution_count": 130,
     "metadata": {},
     "output_type": "execute_result"
    }
   ],
   "source": [
    "# get n\\E then a\n",
    "n = np.sqrt(miu_GM/(a**3))\n",
    "\n",
    "tan_E = (1 - r0_norm/a)*(a**2*n)/(np.dot(r0,v0))\n",
    "\n",
    "e = np.sqrt( (1 - r0_norm/a)**2 + (np.dot(r0,v0) / (n*a**2))**2 )\n",
    "# e = 0.01002\n",
    "\n",
    "print(1 - r0_norm/a)\n",
    "print(np.dot(r0,v0) / (n*a**2))\n",
    "\n",
    "cos_E = (1 - r0_norm/a)/e\n",
    "sin_E = (np.dot(r0,v0) / a**2*n)/e\n",
    "\n",
    "e"
   ]
  },
  {
   "cell_type": "code",
   "execution_count": 131,
   "metadata": {
    "collapsed": true
   },
   "outputs": [],
   "source": [
    "def arctan2(sinE,cosE):\n",
    "    if sinE >=0 and cosE >=0: # I\n",
    "        output = np.arcsin(sinE)\n",
    "    elif sinE >=0 and cosE <=0: # II\n",
    "        output = np.pi - np.arcsin(sinE)\n",
    "    elif sinE <=0 and cosE >=0: # IV\n",
    "        output = 2*np.pi + np.arcsin(sinE)\n",
    "    else: # III\n",
    "        output = np.pi - np.arcsin(sinE)\n",
    "    return output\n"
   ]
  },
  {
   "cell_type": "code",
   "execution_count": 132,
   "metadata": {},
   "outputs": [
    {
     "name": "stdout",
     "output_type": "stream",
     "text": [
      "-4.277020293051238e-07 -0.8629245567990342 1.707636248059451\n"
     ]
    },
    {
     "data": {
      "text/plain": [
       "180.00002450552117"
      ]
     },
     "execution_count": 132,
     "metadata": {},
     "output_type": "execute_result"
    }
   ],
   "source": [
    "# E1 = np.arcsin(sin_E)\n",
    "# E2 = np.arccos(cos_E)\n",
    "# E3 = np.arctan(tan_E)\n",
    "\n",
    "print(sin_E,cos_E,tan_E)\n",
    "\n",
    "E = arctan2(sin_E,cos_E)\n",
    "\n",
    "np.degrees(E)"
   ]
  },
  {
   "cell_type": "code",
   "execution_count": 124,
   "metadata": {},
   "outputs": [
    {
     "data": {
      "text/plain": [
       "3.1415930862994372"
      ]
     },
     "execution_count": 124,
     "metadata": {},
     "output_type": "execute_result"
    }
   ],
   "source": [
    "# keplar 定 M\n",
    "M = E - e*sin_E\n",
    "M"
   ]
  },
  {
   "cell_type": "code",
   "execution_count": 125,
   "metadata": {},
   "outputs": [
    {
     "data": {
      "text/plain": [
       "array([ 47.36168524,  31.3703739 , -33.28432527])"
      ]
     },
     "execution_count": 125,
     "metadata": {},
     "output_type": "execute_result"
    }
   ],
   "source": [
    "# 定 i Omega w\n",
    "\n",
    "# method 1\n",
    "P = (cos_E/r0_norm)*r0 - (sin_E/(a*n))*v0\n",
    "Q = (sin_E/(r0_norm)*np.sqrt(1-e**2))*r0 + ((cos_E - e)/(a*n*np.sqrt(1-e**2)))*v0\n",
    "R = np.cross(P,Q)\n",
    "\n",
    "cos_i = R[2]\n",
    "tan_Omega = -1*R[0]/R[1]\n",
    "\n",
    "# get w ->[-90,+90]\n",
    "tan_w = P[2]/Q[2]\n",
    "\n",
    "# # method 2\n",
    "h = np.cross(r0,v0)\n",
    "h_norm = np.sqrt(sum([ i*i for i in h]))\n",
    "\n",
    "# get cos_i, sin_i\n",
    "cos_i_check = (h[2]/h_norm)\n",
    "tan_i = np.sqrt(h[0]**2 + h[1]**2)/h[2]\n",
    "sin_i = tan_i*cos_i_check\n",
    "\n",
    "\n",
    "# get cos_\\sin_Omega\n",
    "sin_Omega = h[0]/(h_norm*sin_i)\n",
    "cos_Omega = -h[1]/(h_norm*sin_i)\n",
    "\n",
    "# finally get i Omega w\n",
    "\n",
    "i = arctan2(sin_i,cos_i_check)\n",
    "\n",
    "Omega = arctan2(sin_Omega,cos_Omega)\n",
    "\n",
    "w = np.arctan(tan_w)\n",
    "\n",
    "np.degrees(np.array([i,Omega,w]))"
   ]
  },
  {
   "cell_type": "markdown",
   "metadata": {},
   "source": [
    "## 3. 由轨道6根数归算星历表\n",
    "\n",
    "已知：\n",
    "a, n(), E(), e, M, [i, Omega, w] = P,Q\n",
    "\n",
    "t0 = 121.0217445 **# unit = SI from the first data we have**\n",
    "\n",
    "M = M0 + n(t-t0)\n",
    "\n",
    "M = E - esin(E)"
   ]
  },
  {
   "cell_type": "code",
   "execution_count": 126,
   "metadata": {},
   "outputs": [
    {
     "name": "stdout",
     "output_type": "stream",
     "text": [
      "0.0002184869384912764\n",
      "3.1229305283589124\n"
     ]
    }
   ],
   "source": [
    "# calculate keplar equation\n",
    "# 设置初值t0 和我们需要归算的时间t\n",
    "\n",
    "t = 0.124857*time_unit\n",
    "\n",
    "Mt = M + n*(t - t0)\n",
    "\n",
    "print(e*np.sin(Mt))\n",
    "print(Mt)"
   ]
  },
  {
   "cell_type": "code",
   "execution_count": 127,
   "metadata": {
    "scrolled": true
   },
   "outputs": [
    {
     "name": "stdout",
     "output_type": "stream",
     "text": [
      "3.1231490152974035\n",
      "0.00021848693849113587\n",
      "------------\n",
      "3.1231464576520818\n",
      "2.5576453217546202e-06\n",
      "------------\n",
      "3.123146487592374\n",
      "2.994029202341153e-08\n",
      "------------\n",
      "3.1231464872418866\n",
      "3.5048719482233537e-10\n",
      "------------\n",
      "3.1231464872459895\n",
      "4.1029402098047285e-12\n",
      "------------\n",
      "3.1231464872459416\n",
      "4.796163466380676e-14\n",
      "------------\n",
      "3.123146487245942\n",
      "4.440892098500626e-16\n",
      "------------\n",
      "3.123146487245942\n",
      "0.0\n",
      "------------\n",
      "end: 3.123146487245942\n"
     ]
    }
   ],
   "source": [
    "# 迭代 开普勒方程解 E\n",
    "epsilon = 1e-20\n",
    "key = 0\n",
    "En0 = Mt\n",
    "Enw = [En0]\n",
    "Nwind = 0\n",
    "while key == 0:\n",
    "    Enw.append(Mt + e*np.sin(Enw[Nwind]))\n",
    "\n",
    "    Nwind += 1\n",
    "    print(Enw[Nwind])\n",
    "    \n",
    "    delta_Enw = np.abs(Enw[Nwind] - Enw[Nwind - 1])\n",
    "    print(delta_Enw)\n",
    "    print('------------')\n",
    "    \n",
    "    if delta_Enw < epsilon:\n",
    "        key = 1;\n",
    "        \n",
    "Et = Enw[Nwind]\n",
    "\n",
    "print('end:',Et)"
   ]
  },
  {
   "cell_type": "code",
   "execution_count": 128,
   "metadata": {},
   "outputs": [
    {
     "data": {
      "text/plain": [
       "(array([-4999671.79776087,  4394831.24269462,  6901812.76786752]),\n",
       " array([ -945.00018468, -3872.17380401, -3056.31790065]))"
      ]
     },
     "execution_count": 128,
     "metadata": {},
     "output_type": "execute_result"
    }
   ],
   "source": [
    "# 归算rt, vt\n",
    "\n",
    "rt = a*(np.cos(Et) - e)*P + a*np.sqrt(1 - e**2)*Q\n",
    "rt_norm = np.sqrt( np.dot(rt,rt) )\n",
    "\n",
    "vt = -a**2*n/rt_norm*np.sin(Et)*P + a**2*n/rt_norm*np.sqrt(1 - e**2)*np.cos(Et)*Q\n",
    "\n",
    "L_rt = rt/ np.sqrt( np.dot(rt,rt))\n",
    "\n",
    "rt,vt"
   ]
  },
  {
   "cell_type": "code",
   "execution_count": 129,
   "metadata": {},
   "outputs": [
    {
     "data": {
      "text/plain": [
       "array([0.02309183, 0.86110245, 0.50790682])"
      ]
     },
     "execution_count": 129,
     "metadata": {},
     "output_type": "execute_result"
    }
   ],
   "source": [
    "# 计算赤经赤纬：\n",
    "P_earth = rt\n",
    "station_earth = np.array([-0.81000791, -0.25188507,  0.52786921])*R_earth\n",
    "\n",
    "P_station = P_earth - station_earth\n",
    "\n",
    "L_forecast = P_station/np.sqrt(np.dot(P_station,P_station))\n",
    "\n",
    "L_forecast"
   ]
  },
  {
   "cell_type": "code",
   "execution_count": 116,
   "metadata": {},
   "outputs": [
    {
     "data": {
      "text/plain": [
       "[-0.921558, 0.385984, -0.041788]"
      ]
     },
     "execution_count": 116,
     "metadata": {},
     "output_type": "execute_result"
    }
   ],
   "source": [
    "L = [-0.9152477093203553, -0.0501154444748697, -0.39976252051552885]\n",
    "L = [-0.921558,0.385984,-0.041788]\n",
    "L"
   ]
  },
  {
   "cell_type": "code",
   "execution_count": null,
   "metadata": {
    "collapsed": true
   },
   "outputs": [],
   "source": [
    "\n",
    "\n",
    "\n",
    "\n",
    "\n",
    "\n",
    "\n",
    "\n",
    "\n",
    "\n",
    "\n"
   ]
  }
 ],
 "metadata": {
  "kernelspec": {
   "display_name": "Python 3",
   "language": "python",
   "name": "python3"
  },
  "language_info": {
   "codemirror_mode": {
    "name": "ipython",
    "version": 3
   },
   "file_extension": ".py",
   "mimetype": "text/x-python",
   "name": "python",
   "nbconvert_exporter": "python",
   "pygments_lexer": "ipython3",
   "version": "3.6.3"
  }
 },
 "nbformat": 4,
 "nbformat_minor": 2
}
