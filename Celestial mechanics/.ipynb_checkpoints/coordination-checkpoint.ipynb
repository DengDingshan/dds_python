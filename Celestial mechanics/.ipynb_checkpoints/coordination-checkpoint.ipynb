{
 "cells": [
  {
   "cell_type": "markdown",
   "metadata": {},
   "source": [
    "# 天体力学第一次上机\n",
    "我们需要完成以下任务：\n",
    "1. 站心、地心、日心坐标系的转换 \n",
    "2. 平太阳时和平恒星时的转换\n",
    "\n",
    "> 时角和赤经方向相反"
   ]
  },
  {
   "cell_type": "code",
   "execution_count": 1,
   "metadata": {
    "collapsed": true
   },
   "outputs": [],
   "source": [
    "import pandas as pd\n",
    "import numpy as np\n",
    "import math\n",
    "import matplotlib.pyplot as plt\n",
    "import datetime\n",
    "import time\n",
    "%matplotlib inline"
   ]
  },
  {
   "cell_type": "code",
   "execution_count": 77,
   "metadata": {},
   "outputs": [],
   "source": [
    "def UTC2SG(yyyy,mm,dd,hours):\n",
    "    # J2000，从UTC计算对应的jd_目的是最终算出儒略世纪数\n",
    "    J2000 = 2451545.0\n",
    "    # J2000：UTC时间2000年1月1日11:58:55.816。\n",
    "    date_start = datetime.datetime.strptime(\"2000-1-1 11:58:55\",\"%Y-%m-%d %H:%M:%S\")\n",
    "    Date_str = str(yyyy) +'-'+ str(mm) +'-'+ str(dd)\n",
    "    Date = datetime.datetime.strptime(Date_str,\"%Y-%m-%d\")\n",
    "    \n",
    "    # 用unix时间戳计算到J2000的时间差\n",
    "    un_start = time.mktime(date_start.timetuple()) + 0.816\n",
    "    un_this = time.mktime(Date.timetuple()) + hours*3600\n",
    "    \n",
    "    # 返回儒略世纪数（1儒略年=31557600 SI秒）\n",
    "    t = (un_this - un_start)/(31557600*100)\n",
    "    # 给出平恒星时(s为单位)\n",
    "    SG = 18.6973746*3600 + 879000.0513367*3600*t + 0.093104*t**2 - 6.2e-6*t**3\n",
    "    # degree = SG%(3600*24)/(3600*24)*360\n",
    "    return SG,t"
   ]
  },
  {
   "cell_type": "code",
   "execution_count": 78,
   "metadata": {
    "scrolled": false
   },
   "outputs": [
    {
     "data": {
      "text/plain": [
       "269.57287335637955"
      ]
     },
     "execution_count": 78,
     "metadata": {},
     "output_type": "execute_result"
    }
   ],
   "source": [
    "# example，得出的SG去整除每天的秒数就可以得到当天的恒星时，最后再由恒星时算出相应的角度\n",
    "SG,t = UTC2SG(1999,3,22,6)\n",
    "degree = SG%(3600*24)/(3600*24)*360\n",
    "degree"
   ]
  },
  {
   "cell_type": "code",
   "execution_count": 79,
   "metadata": {
    "collapsed": true
   },
   "outputs": [],
   "source": [
    "## 坐标系转换\n",
    "# 从 A 到 B， 以下程序中 P_I 即 相对于I坐标系P的位置。同理 A_B 指的是在 B 坐标系中 A 的位置。P_B = A_B + P_A\n",
    "# 本次我们需要计算人造卫星以及小行星的初轨:\n",
    "# 对于人造卫星，我们需要用到 站心-地心 的转换。\n",
    "# 对于小行星，我们需要用到 站心-地心-日心，最后在日心：赤道-黄道"
   ]
  },
  {
   "cell_type": "code",
   "execution_count": null,
   "metadata": {
    "collapsed": true
   },
   "outputs": [],
   "source": []
  }
 ],
 "metadata": {
  "kernelspec": {
   "display_name": "Python 3",
   "language": "python",
   "name": "python3"
  },
  "language_info": {
   "codemirror_mode": {
    "name": "ipython",
    "version": 3
   },
   "file_extension": ".py",
   "mimetype": "text/x-python",
   "name": "python",
   "nbconvert_exporter": "python",
   "pygments_lexer": "ipython3",
   "version": "3.6.3"
  }
 },
 "nbformat": 4,
 "nbformat_minor": 2
}
