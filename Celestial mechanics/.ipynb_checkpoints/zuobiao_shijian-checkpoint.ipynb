{
 "cells": [
  {
   "cell_type": "code",
   "execution_count": 1,
   "metadata": {
    "collapsed": true
   },
   "outputs": [],
   "source": [
    "# 天力第一次上机\n",
    "# 坐标系和时间的转换\n",
    "\n",
    "\n",
    "#先根据坐标系原点的位置进行转换，再进行赤道与黄道坐标系的转换\n",
    "\n",
    "#时间是从平太阳时到平恒星时\n"
   ]
  },
  {
   "cell_type": "code",
   "execution_count": 2,
   "metadata": {
    "collapsed": true
   },
   "outputs": [],
   "source": [
    "import numpy as np\n",
    "import pandas as pd\n",
    "import math\n",
    "import datetime \n",
    "from scipy.optimize import root,fsolve\n",
    "import matplotlib.pyplot as plt"
   ]
  },
  {
   "cell_type": "markdown",
   "metadata": {},
   "source": [
    "# 时间转换"
   ]
  },
  {
   "cell_type": "markdown",
   "metadata": {},
   "source": [
    "## UT1转恒星时 表达为时角"
   ]
  },
  {
   "cell_type": "code",
   "execution_count": 3,
   "metadata": {
    "collapsed": true
   },
   "outputs": [],
   "source": [
    "#TT转UT\n",
    "def TT1(TT):\n",
    "    UT = TT-32.184#+0.0039 #以秒为单位\n",
    "    return UT\n",
    "    "
   ]
  },
  {
   "cell_type": "code",
   "execution_count": 4,
   "metadata": {
    "collapsed": true,
    "scrolled": true
   },
   "outputs": [],
   "source": [
    "#时间转换\n",
    "\n",
    "def time(date,UT1):\n",
    "    \n",
    "    UT1_change = math.modf(UT1)\n",
    "    UT1_strtime=str(int(UT1_change[1]))+':'+str(int(math.modf(UT1_change[0]*60)[1]))+':'+str(int(math.modf\\\n",
    "                                                                                       ((math.modf\\\n",
    "                                                                                         (UT1_change[0]*60)[0])*60)\\\n",
    "                                                                                                 [1]))\n",
    "    day2_strtime=str(int(date[0]))+'-'+str(int(date[1]))+'-'+str(int(date[2]))+' '+UT1_strtime\n",
    "    day1 = datetime.datetime.strptime('2000-1-1 11:58:55', '%Y-%m-%d %H:%M:%S')\n",
    "\n",
    "    day2 = datetime.datetime.strptime(day2_strtime, '%Y-%m-%d %H:%M:%S')\n",
    "    delta_second = (day1-day2).total_seconds()\n",
    "\n",
    "    if date[0]<2000:\n",
    "        delta_second = -delta_second\n",
    "\n",
    "\n",
    "    JDcentry = delta_second/(36525*24*60*60)#儒略世纪数\n",
    "\n",
    "    SG=18.6973746*3600+879000.0513367*3600*JDcentry+0.093104*(JDcentry**2)-(6.2*10**(-6))*JDcentry**3\n",
    "    real_S = SG%(60*60*24)\n",
    "    real_t = real_S/(24*3600)*24\n",
    "    real_angle=real_t/24*360\n",
    "    return real_t,real_angle,delta_second\n",
    "\n",
    "    \n",
    "    \n"
   ]
  },
  {
   "cell_type": "markdown",
   "metadata": {},
   "source": [
    "## 检验"
   ]
  },
  {
   "cell_type": "code",
   "execution_count": 5,
   "metadata": {},
   "outputs": [
    {
     "name": "stdout",
     "output_type": "stream",
     "text": [
      "17.727140667703416 265.9071100155512 -3155677135.0\n"
     ]
    }
   ],
   "source": [
    "date = np.array([1900,1,1])    \n",
    "real_t,real_angle,delta_second = time(date,11)\n",
    "\n",
    "\n",
    "print(real_t,real_angle,delta_second)"
   ]
  },
  {
   "cell_type": "markdown",
   "metadata": {},
   "source": [
    "# 坐标转换"
   ]
  },
  {
   "cell_type": "markdown",
   "metadata": {},
   "source": [
    "## 赤道坐标系下站心地心日心的相互转换"
   ]
  },
  {
   "cell_type": "code",
   "execution_count": 6,
   "metadata": {
    "collapsed": true
   },
   "outputs": [],
   "source": [
    "#zhanxin_digu=[lamuda,fai,H] 经度 纬度 高度; xyz为天体在站心坐标的位置（必须为np.array）\n",
    "#站心=1 地心=2 日心=3 \n",
    "#sun_location 为J2000地心赤道坐标系下的值\n",
    "#没有值就输入0\n",
    "def zuobiao(real_angle,name_number,change_number,xyz,zhanxin_digu,sun_location):\n",
    "    \n",
    "    #站心在赤道坐标系下的位置\n",
    "    lamuda = zhanxin_digu[0]\n",
    "    fai = zhanxin_digu[1]\n",
    "    H = zhanxin_digu[2]\n",
    "    alpha_local = real_angle + lamuda #站心赤经\n",
    "    if alpha_local >= 360:\n",
    "        alpha_local = alpha_local - 360\n",
    "    alpha_local = alpha_local/360*(2*(np.pi))\n",
    "    deta_local = fai/360*(2*(np.pi))#站心赤纬\n",
    "    \n",
    "    #站心相对于地心的坐标R\n",
    "    Rx = H*np.cos(deta_local)*np.cos(alpha_local)\n",
    "    Ry = H*np.cos(deta_local)*np.sin(alpha_local)\n",
    "    Rz = H*np.sin(deta_local)\n",
    "    R = np.array([Rx,Ry,Rz])\n",
    "    if name_number == 0 and change_number == 0: #只输出站心xyz坐标\n",
    "        return R\n",
    "        \n",
    "    if name_number == 1:#\n",
    "        ##先转换到地心##\n",
    "        r_dixin = R + xyz\n",
    "        if change_number == 2:\n",
    "            return r_dixin\n",
    "        else:\n",
    "            #地心转日心\n",
    "            r_rixin = r_dixin - sun_location\n",
    "            return r_rixin\n",
    "        \n",
    "    if name_number == 2:#地心坐标\n",
    "        if change_number == 1:\n",
    "            #地心转站心\n",
    "            r_zhanxin = xyz  - R\n",
    "            return r_zhanxin\n",
    "        else:\n",
    "            #地心转日心\n",
    "            r_rixin = xyz - sun_location\n",
    "            return r_rixin\n",
    "        \n",
    "    if name_number == 3:#日心坐标\n",
    "        ##先转到地心##\n",
    "        r_dixin = xyz + sun_location\n",
    "        if change_number == 2:\n",
    "            return r_dixin\n",
    "        else:\n",
    "            #地心转站心\n",
    "            r_zhanxin = r_dixin - R\n",
    "            return r_zhanxin\n"
   ]
  },
  {
   "cell_type": "markdown",
   "metadata": {},
   "source": [
    "## 赤道黄道坐标的相互转化"
   ]
  },
  {
   "cell_type": "code",
   "execution_count": 7,
   "metadata": {
    "collapsed": true
   },
   "outputs": [],
   "source": [
    "#赤道黄道的转化\n",
    "#赤道=1 黄道=2\n",
    "def chihuang(name_number,change_number,xyz):\n",
    "    huangchi_angle = 23.43333333333333335 \n",
    "    if name_number == 1:#赤道坐标\n",
    "        rot = np.array([[1,0,0],\\\n",
    "                      [0,np.cos(huangchi_angle),np.sin(huangchi_angle)],\\\n",
    "                     [0,-np.sin(huangchi_angle),np.cos(huangchi_angle)]])\n",
    "        xyz_huang = np.dot(xyz,rot.T)\n",
    "        return xyz_huang\n",
    "    else: #黄道坐标\n",
    "        rot = np.array([[1,0,0],\\\n",
    "                      [0,np.cos(-huangchi_angle),np.sin(-huangchi_angle)],\\\n",
    "                     [0,-np.sin(-huangchi_angle),np.cos(-huangchi_angle)]])\n",
    "        xyz_chi = np.dot(xyz,rot.T)\n",
    "        return xyz_chi\n",
    "    \n",
    "        \n",
    "    \n",
    "        \n"
   ]
  },
  {
   "cell_type": "markdown",
   "metadata": {},
   "source": [
    "# 位置速度与轨道根数的转换"
   ]
  },
  {
   "cell_type": "code",
   "execution_count": 8,
   "metadata": {
    "collapsed": true
   },
   "outputs": [],
   "source": [
    "##位置速度与轨道根数的互相转换\n",
    "#r,v=[x,y,z]\n",
    "#genshu=[a,e,i,da_omiga,xiao_omega,M]\n",
    "#没值就输0\n",
    "def genshu_change(r,v,genshu):\n",
    "    miu = 1 #理论单位\n",
    "    if genshu == 0: #r,v转轨道根数\n",
    "        r_mo = ((r.dot(r))**(1/2))\n",
    "        v_mo = ((v.dot(v))**(1/2))\n",
    "        \n",
    "        #确定a\n",
    "        a = miu/(miu*(2/r_mo)-(v.dot(v)))\n",
    "        \n",
    "        #确定n\n",
    "        n = (miu/(a**3))**(1/2)\n",
    "        \n",
    "        #确定eE\n",
    "        e = ((1-(r_mo/a))**2+((r.dot(v))/(n*(a**2)))**2)**(1/2)\n",
    "        sinE = ((r.dot(v))/(n*(a**2)))/e\n",
    "        cosE = (1-(r_mo/a))/e\n",
    "        #print(sinE,cosE)\n",
    "#         if sinE >=0 and cosE >=0:#判断E的象限\n",
    "#             E = np.arcsin(sinE)\n",
    "#         elif sinE >=0 and cosE <=0:\n",
    "#             E = np.pi - np.arcsin(sinE)\n",
    "#         elif sinE <=0 and cosE >=0:\n",
    "#             E = 2*np.pi + np.arcsin(sinE)\n",
    "#         else:\n",
    "#             E = np.pi - np.arcsin(sinE)\n",
    "        E = math.atan2(sinE,cosE)\n",
    "        print('E,cosE,sinE:',E,sinE,cosE)\n",
    "        \n",
    "        #确定M\n",
    "        M = E - e*np.sin(E)\n",
    "        \n",
    "        #确定i,da_omiga,xiao_omiga\n",
    "        P = (cosE/r_mo)*r - (sinE/(a*n))*v\n",
    "        Q = (sinE/(r_mo*((1-e**2)**(1/2))))*r + ((cosE-e)/(a*n*((1-e**2)**(1/2))))*v\n",
    "        R = np.cross(P,Q)\n",
    "        print('P,Q,R:',P,Q,R)\n",
    "        xiao_omiga = np.arctan(P[2]/Q[2])\n",
    "        da_omiga = np.arctan(-R[0]/R[1])\n",
    "        i =np.arccos(R[2])\n",
    "        \n",
    "        genshu_final = [a,n,e,E,M,da_omiga,xiao_omiga,i]\n",
    "        return genshu_final\n",
    "    \n",
    "    \n",
    "    else:  #轨道根数转r,v\n",
    "        [a,n,e,E_all,M,da_omiga,xiao_omiga,i] = genshu\n",
    "        #print(genshu)\n",
    "        \n",
    "        P = np.array([np.cos(da_omiga)*np.cos(xiao_omiga)-np.sin(da_omiga)*np.sin(xiao_omiga)*np.cos(i),\\\n",
    "                     np.sin(da_omiga)*np.cos(xiao_omiga)+np.cos(da_omiga)*np.sin(xiao_omiga)*np.cos(i),\\\n",
    "                     np.sin(xiao_omiga)*np.sin(i)])\n",
    "        Q = np.array([-np.cos(da_omiga)*np.sin(xiao_omiga)-np.sin(da_omiga)*np.cos(xiao_omiga)*np.cos(i),\\\n",
    "                     -np.sin(da_omiga)*np.sin(xiao_omiga)+np.cos(da_omiga)*np.cos(xiao_omiga)*np.cos(i),\\\n",
    "                     np.cos(xiao_omiga)*np.sin(i)])\n",
    "        #print(P,Q)\n",
    "        \n",
    "        r_fff = []\n",
    "        v_fff = []\n",
    "        \n",
    "        for E in E_all:# 不同时刻的r,v\n",
    "            \n",
    "            r_final = [a*(np.cos(E)-e)]*P+[a*np.sqrt((1-(e**2)))*np.sin(E)]*Q\n",
    "            v_final = [-(n*(a**2)*np.sin(E))/(np.sqrt(r_final.dot(r_final)))]*P+\\\n",
    "            [(n*(a**2)*np.sqrt((1-(e**2)))*np.cos(E))/(np.sqrt((r_final.dot(r_final))))]*Q\n",
    "            r_fff.append(r_final)\n",
    "            v_fff.append(v_final)\n",
    "            #print(np.sqrt(r_final.dot(r_final)))\n",
    "        \n",
    "        return r_fff,v_fff\n",
    "        \n",
    "            \n",
    "        \n",
    "        "
   ]
  },
  {
   "cell_type": "markdown",
   "metadata": {},
   "source": [
    "# 三点定轨函数"
   ]
  },
  {
   "cell_type": "markdown",
   "metadata": {},
   "source": [
    "## 输出所有观测的儒略秒"
   ]
  },
  {
   "cell_type": "code",
   "execution_count": 9,
   "metadata": {
    "collapsed": true
   },
   "outputs": [],
   "source": [
    "#输出所有观测的儒略秒\n",
    "def ruluesecond(data,date):\n",
    "    shape = date.reshape(-1,3).shape[0]\n",
    "    lens = data.iloc[:,0].size\n",
    "    second_all=[]\n",
    "    real_angle_all=[]\n",
    "    if shape ==1:\n",
    "        for i in range(lens):\n",
    "            real_t,real_angle,second = time(date,data['UT1'].values[i])#格林尼治世界时\n",
    "            second_all.append(second)\n",
    "            real_angle_all.append(real_angle)\n",
    "        #print(second_all)\n",
    "    else:\n",
    "        for i in range(lens):\n",
    "            real_t,real_angle,second = time(date[i,:],data['UT1'].values[i])#格林尼治世界时\n",
    "            second_all.append(second)\n",
    "            real_angle_all.append(real_angle)\n",
    "    return second_all,real_angle_all\n",
    "    "
   ]
  },
  {
   "cell_type": "markdown",
   "metadata": {},
   "source": [
    "## 改进拉普拉斯算法"
   ]
  },
  {
   "cell_type": "code",
   "execution_count": 10,
   "metadata": {
    "collapsed": true
   },
   "outputs": [],
   "source": [
    "\n",
    "#改进拉普拉斯算法\n",
    "def Laplace(data,date,zhanxin_digu,sun_location,t0,second_all,real_angle,key,t_p,index):\n",
    "    shape1 = date.reshape(-1,3).shape[0]\n",
    "    shape2 = zhanxin_digu.reshape(-1,3).shape[0]\n",
    "    lens = data.iloc[:,0].size\n",
    "    \n",
    "    afa = data['afa'].values/360*(2*np.pi) #换算弧度\n",
    "    deta = data['deta'].values/360*(2*np.pi)\n",
    "    #print(shape1)\n",
    "    if index == 0: #同一天 同一个地方 观测\n",
    "        \n",
    "        #测站坐标转xyz\n",
    "        R = []\n",
    "        for i in range(lens):\n",
    "            #real_t,real_angle,second = time(date,data['UT1'].values[i])#格林尼治世界时\n",
    "            #second_all.append(second)\n",
    "            R.append(list(zuobiao(real_angle[i],0,0,0,zhanxin_digu,0)))\n",
    "        #print(second_all)\n",
    "        R = np.array(R)\n",
    "      \n",
    "    else: #小行星观测\n",
    "        \n",
    "        #测站坐标转xyz\n",
    "        R = []\n",
    "        for i in range(lens):\n",
    "            #real_t,real_angle,second = time(date[i,:],data['UT1'].values[i])#格林尼治世界时\n",
    "            #second_all.append(second)\n",
    "            R.append(list(zuobiao(real_angle[i],1,3,0,zhanxin_digu[i,:],sun_location[i,:])))\n",
    "            #print(zhanxin_digu[i,:])\n",
    "        #print(second_all)\n",
    "        R = np.array(R)\n",
    "    L = []\n",
    "    for i in range(lens): #站心坐标的L\n",
    "        L1 = np.cos(deta[i])*np.cos(afa[i])\n",
    "        L2 = np.cos(deta[i])*np.sin(afa[i])\n",
    "        L3 = np.sin(deta[i])\n",
    "        L.append([L1,L2,L3])\n",
    "    L = np.array(L)\n",
    "        \n",
    "    print('R,L:',R,L)    \n",
    "\n",
    "    #print(L)\n",
    "    #迭代FG的初值\n",
    "    \n",
    "    \n",
    "    F = np.ones((1,lens))[0]\n",
    "    G = []\n",
    "    delta_t = []\n",
    "    for i in range(lens):\n",
    "        delta = (2451545.0*24*3600+second_all[i] - t0)/t_p\n",
    "        delta_t.append(delta)\n",
    "        G.append(delta)\n",
    "    G = np.array(G)\n",
    "    #print(G)\n",
    "    delta_t = np.array(delta_t) \n",
    "    #print(delta_t)\n",
    "    \n",
    "\n",
    "\n",
    "    delta_f = 1\n",
    "    delta_g = 1\n",
    "    s = 0\n",
    "    while np.max([delta_f,delta_g])>10**(-15) and s<3:\n",
    "\n",
    "        s = s+1\n",
    "        #创建运算矩阵\n",
    "        AA = np.zeros((lens*2,6))\n",
    "        p = np.zeros((lens,1))\n",
    "        q = np.zeros((lens,1))\n",
    "\n",
    "\n",
    "        for i in range(lens):\n",
    "\n",
    "            aa = np.array([[L[i][2]*F[i],0,-L[i][0]*F[i],L[i][2]*G[i],0,-L[i][0]*G[i]],\\\n",
    "                          [0,L[i][2]*F[i],-L[i][1]*F[i],0,L[i][2]*G[i],-L[i][1]*G[i]]])\n",
    "\n",
    "            p[i,0] = L[i][2]*R[i][0]-L[i][0]*R[i][2] #计算Pj Qj\n",
    "            q[i,0] = L[i][2]*R[i][1]-L[i][1]*R[i][2]\n",
    "            AA[2*i:2*i+2,:] = aa\n",
    "        #print('p,q:',p,q)\n",
    "\n",
    "\n",
    "        b = np.zeros((1,lens*2))\n",
    "        for i in range(lens):\n",
    "            b[0,2*i] = p[i,0]\n",
    "            b[0,2*i+1] = q[i,0]\n",
    "        print('AA,b',AA,b)\n",
    "        #计算 r v\n",
    "        \n",
    "#         AA = AA[[2*(key[0]-1),2*(key[0]-1)+1,2*(key[1]-1),2*(key[1]-1)+1,2*(key[2]-1),2*(key[2]-1)+1],:]\n",
    "#         b = b[0,[2*(key[0]-1),2*(key[0]-1)+1,2*(key[1]-1),2*(key[1]-1)+1,2*(key[2]-1),2*(key[2]-1)+1]]\n",
    "#         r1 = np.linalg.solve(AA,b)[0:3] #解方程\n",
    "#         v1 = np.linalg.solve(AA,b)[3:6]\n",
    "        if index == 0: \n",
    "            AA = AA[[2*(key[0]-1),2*(key[0]-1)+1,2*(key[1]-1),2*(key[1]-1)+1,2*(key[2]-1),2*(key[2]-1)+1],:]\n",
    "            b = b[0,[2*(key[0]-1),2*(key[0]-1)+1,2*(key[1]-1),2*(key[1]-1)+1,2*(key[2]-1),2*(key[2]-1)+1]]\n",
    "            r1 = np.linalg.solve(AA,b)[0:3] #解方程\n",
    "            v1 = np.linalg.solve(AA,b)[3:6]\n",
    "        else:\n",
    "        \n",
    "            ans = np.linalg.lstsq(AA,b.T)\n",
    "            #print(ans)\n",
    "            r1 = ans[0].T[0][0:3]\n",
    "            v1 = ans[0].T[0][3:6]\n",
    "        #print('rv',r1,v1)\n",
    "    \n",
    "        r_mo = (r1.dot(r1))**(1/2) #取模\n",
    "        v_mo = (v1.dot(v1))**(1/2)\n",
    "\n",
    "        #print(r_mo,v_mo)\n",
    "\n",
    "\n",
    "        #迭代fg\n",
    "        u = 1/(r_mo**3);\n",
    "        p1 = (r_mo*v_mo)/(r_mo**2);\n",
    "        q1 = (v_mo**2)/(r_mo**2)\n",
    "\n",
    "        F1 = 1 - (0.5*u)*delta_t**2 + (0.5*u*p1)*delta_t**3 \\\n",
    "        + (1/8*u*q1 - 1/12*u**2 - 5/8*u*p1**2)*delta_t**4 \n",
    "        G1 = delta_t - (1/6*u)*delta_t**3 + (1/4*u*p1)*delta_t**4 \\\n",
    "            + (3/40*u*q1 - 1/15*u**2 - 3/8*u*p1**2)*delta_t**5 \n",
    "\n",
    "        #print(F1,F,G1,G)\n",
    "        #计算f,g的改变量\n",
    "        delta_f = abs(np.max(F1-F))\n",
    "        delta_g = abs(np.max(G1-G))\n",
    "        #print(delta_f,delta_g)\n",
    "        #print(F1,G1)\n",
    "\n",
    "        F = F1\n",
    "        G = G1\n",
    "    r_final = r1\n",
    "    v_final = v1\n",
    "    #print(r_final,v_final)\n",
    "    if index ==0:\n",
    "        r_mo = r_mo * 6471 -6471 #转化回国际单位\n",
    "        v_mo = v_mo * 6471 / t_p\n",
    "\n",
    "    else:\n",
    "        r_mo = r_mo * 149597870 #转化回国际单位\n",
    "        v_mo = v_mo * 149597870 / t_p\n",
    "        r_final = chihuang(1,2,r_final)\n",
    "        v_final = chihuang(1,2,v_final)\n",
    "\n",
    "        \n",
    "\n",
    "    #r0 v0 求轨道根数\n",
    "    genshu_final = genshu_change(r_final,v_final,0)\n",
    "    #a,n,e,E,M,da_omiga,xiao_omiga,i\n",
    "    \n",
    "    return R,r_mo,v_mo,r_final,v_final,genshu_final,delta_t\n",
    "\n",
    "\n",
    "\n"
   ]
  },
  {
   "cell_type": "markdown",
   "metadata": {},
   "source": [
    "## 牛顿迭代法"
   ]
  },
  {
   "cell_type": "code",
   "execution_count": 11,
   "metadata": {
    "collapsed": true
   },
   "outputs": [],
   "source": [
    "#牛顿迭代法算不同时刻的E\n",
    "def Newton(M0,n,t0,t_p,e,delta_t):\n",
    "    M_all=[]\n",
    "    t_all=[]\n",
    "    for dt in delta_t:\n",
    "        t = t0 + dt\n",
    "        t_all.append(t)\n",
    "        M = M0+n*(dt/t_p)\n",
    "        M_all.append(M)\n",
    "    E1_all=[]\n",
    "    for m in M_all:\n",
    "        E0 = 0\n",
    "        E1 = 1\n",
    "        tem = 0\n",
    "        n0 = 0\n",
    "        while abs(E1-E0)>10**(-6):\n",
    "            E0 = tem\n",
    "            E1 = E0-(E0-m-e*np.sin(E0))/(1-e*np.cos(E0))\n",
    "            tem = E1\n",
    "            n0 = n0+1\n",
    "        E1_all.append(E1)\n",
    "    return(E1_all,t_all)"
   ]
  },
  {
   "cell_type": "markdown",
   "metadata": {},
   "source": [
    "## 星历表计算：用t0时刻的r0,v0求轨道根数（定初轨），用其中的M为起点变化时间用牛顿迭代法求得不同时刻的E，算出不同时刻的r,v"
   ]
  },
  {
   "cell_type": "code",
   "execution_count": 12,
   "metadata": {
    "collapsed": true,
    "scrolled": true
   },
   "outputs": [],
   "source": [
    "#星历表计算子函数，t_p为理论单位\n",
    "def xinlibiao(genshu,t_p,t0,delta_t,index):\n",
    "    #a,n,e,E,M,da_omiga,xiao_omiga,i\n",
    "    [a,n,e,E,M,da_omiga,xiao_omiga,i_fin] = genshu_final\n",
    "    #用M求不同时刻的E\n",
    "    E1_all,t_all = Newton(M,n,t0,t_p,e,delta_t)\n",
    "    #print(E1_all)\n",
    "    #用轨道根数求不同时刻的r,v\n",
    "    genshu_all = [a,n,e,E1_all,0,da_omiga,xiao_omiga,i_fin]\n",
    "    [r_all,v_all]=genshu_change(0,0,genshu_all)\n",
    "    r_all = np.array(r_all)\n",
    "    v_all = np.array(v_all)\n",
    "    size = r_all.shape[0]\n",
    "    r_mo_all2=[]\n",
    "    v_mo_all2=[]\n",
    "    for i in range(size):\n",
    "        r_mo_all = np.sqrt(r_all[i,:].dot(r_all[i,:]))#取模\n",
    "        v_mo_all = np.sqrt(v_all[i,:].dot(v_all[i,:]))\n",
    "        if index == 0: #近地小行星\n",
    "            r_mo_all = r_mo_all * 6471 -6471#国际单位\n",
    "            v_mo_all = v_mo_all * 6471 / t_p\n",
    "        else:\n",
    "            r_mo_all = r_mo_all * 149597870#国际单位\n",
    "            v_mo_all = v_mo_all * 149597870 / t_p\n",
    "        r_mo_all2.append(r_mo_all)\n",
    "        v_mo_all2.append(v_mo_all)\n",
    "    r_mo_all2 = np.array(r_mo_all2)\n",
    "    v_mo_all2 = np.array(v_mo_all2)\n",
    "    #print(r_all,v_all)\n",
    "    return r_all,v_all,r_mo_all2,v_mo_all2,t_all\n",
    "\n"
   ]
  },
  {
   "cell_type": "markdown",
   "metadata": {},
   "source": [
    "## rv推回赤经赤纬"
   ]
  },
  {
   "cell_type": "code",
   "execution_count": 13,
   "metadata": {
    "collapsed": true
   },
   "outputs": [],
   "source": [
    "def afadeta(R,r,sun_location,index):\n",
    "    lens = R.shape[0]\n",
    "    if index == 0: #近地小行星\n",
    "    #站心xyz = 地心xyz(r) - 站心地固xyz(R)\n",
    "        zhanxin_xyz = r-R\n",
    "    else:\n",
    "        #站心xyz = 日心xyz(r) +太阳坐标 -站心地固xyz(R)\n",
    "        zhanxin_xyz = r + sun_location - R\n",
    "        \n",
    "    #站心xyz转赤经赤纬\n",
    "    #先归一化变成单位矢量\n",
    "    for i in range(lens):\n",
    "        mo = np.sqrt(zhanxin_xyz[i,:].dot(zhanxin_xyz[i,:]))\n",
    "        zhanxin_xyz[i,:] = zhanxin_xyz[i,:]/mo\n",
    "        #print(np.sqrt(zhanxin_xyz[i,:].dot(zhanxin_xyz[i,:])))\n",
    "    #print(zhanxin_xyz)\n",
    "    sindeta = zhanxin_xyz[:,2]\n",
    "    cosdeta = np.sqrt(1-sindeta**2)\n",
    "    deta = np.arcsin(sindeta)\n",
    "    sinafa = zhanxin_xyz[:,1]/cosdeta\n",
    "    cosafa = np.sqrt(1-sinafa**2)\n",
    "    for j in range(lens):\n",
    "        if zhanxin_xyz[j,0] <=0 :\n",
    "            cosafa[j] = -cosafa[j]\n",
    "    afa=np.zeros(lens)\n",
    "    for k in range(lens):\n",
    "        if sinafa[k] >=0 and cosafa[k] >=0:#判断E的象限\n",
    "            afa[k] = np.arcsin(sinafa[k])\n",
    "        elif sinafa[k] >=0 and cosafa[k] <=0:\n",
    "            afa[k] = np.pi - np.arcsin(sinafa[k])\n",
    "        elif sinafa[k] <=0 and cosafa[k] >=0:\n",
    "            afa[k] = 2*np.pi + np.arcsin(sinafa[k])\n",
    "        else:\n",
    "            afa[k] = np.pi - np.arcsin(sinafa[k])\n",
    "    deta = deta/np.pi*180\n",
    "    afa = afa/np.pi*180\n",
    "    #print(afa,deta)\n",
    "    return afa,deta\n",
    "\n"
   ]
  },
  {
   "cell_type": "markdown",
   "metadata": {},
   "source": [
    "# 回声一号\n",
    "## 取echo第2 4 6次观测定初轨求根数"
   ]
  },
  {
   "cell_type": "code",
   "execution_count": 15,
   "metadata": {},
   "outputs": [
    {
     "ename": "KeyError",
     "evalue": "'UT1'",
     "output_type": "error",
     "traceback": [
      "\u001b[0;31m---------------------------------------------------------------------------\u001b[0m",
      "\u001b[0;31mKeyError\u001b[0m                                  Traceback (most recent call last)",
      "\u001b[0;32m~/anaconda3/lib/python3.6/site-packages/pandas/core/indexes/base.py\u001b[0m in \u001b[0;36mget_loc\u001b[0;34m(self, key, method, tolerance)\u001b[0m\n\u001b[1;32m   2441\u001b[0m             \u001b[0;32mtry\u001b[0m\u001b[0;34m:\u001b[0m\u001b[0;34m\u001b[0m\u001b[0m\n\u001b[0;32m-> 2442\u001b[0;31m                 \u001b[0;32mreturn\u001b[0m \u001b[0mself\u001b[0m\u001b[0;34m.\u001b[0m\u001b[0m_engine\u001b[0m\u001b[0;34m.\u001b[0m\u001b[0mget_loc\u001b[0m\u001b[0;34m(\u001b[0m\u001b[0mkey\u001b[0m\u001b[0;34m)\u001b[0m\u001b[0;34m\u001b[0m\u001b[0m\n\u001b[0m\u001b[1;32m   2443\u001b[0m             \u001b[0;32mexcept\u001b[0m \u001b[0mKeyError\u001b[0m\u001b[0;34m:\u001b[0m\u001b[0;34m\u001b[0m\u001b[0m\n",
      "\u001b[0;32mpandas/_libs/index.pyx\u001b[0m in \u001b[0;36mpandas._libs.index.IndexEngine.get_loc\u001b[0;34m()\u001b[0m\n",
      "\u001b[0;32mpandas/_libs/index.pyx\u001b[0m in \u001b[0;36mpandas._libs.index.IndexEngine.get_loc\u001b[0;34m()\u001b[0m\n",
      "\u001b[0;32mpandas/_libs/hashtable_class_helper.pxi\u001b[0m in \u001b[0;36mpandas._libs.hashtable.PyObjectHashTable.get_item\u001b[0;34m()\u001b[0m\n",
      "\u001b[0;32mpandas/_libs/hashtable_class_helper.pxi\u001b[0m in \u001b[0;36mpandas._libs.hashtable.PyObjectHashTable.get_item\u001b[0;34m()\u001b[0m\n",
      "\u001b[0;31mKeyError\u001b[0m: 'UT1'",
      "\nDuring handling of the above exception, another exception occurred:\n",
      "\u001b[0;31mKeyError\u001b[0m                                  Traceback (most recent call last)",
      "\u001b[0;32m<ipython-input-15-ebc2ed4fcf95>\u001b[0m in \u001b[0;36m<module>\u001b[0;34m()\u001b[0m\n\u001b[1;32m     10\u001b[0m \u001b[0mfai\u001b[0m \u001b[0;34m=\u001b[0m \u001b[0;36m31.893611111\u001b[0m\u001b[0;34m\u001b[0m\u001b[0m\n\u001b[1;32m     11\u001b[0m \u001b[0mzhanxin_digu\u001b[0m \u001b[0;34m=\u001b[0m \u001b[0mnp\u001b[0m\u001b[0;34m.\u001b[0m\u001b[0marray\u001b[0m\u001b[0;34m(\u001b[0m\u001b[0;34m[\u001b[0m\u001b[0mlamuda\u001b[0m\u001b[0;34m,\u001b[0m\u001b[0mfai\u001b[0m\u001b[0;34m,\u001b[0m\u001b[0mH\u001b[0m\u001b[0;34m]\u001b[0m\u001b[0;34m)\u001b[0m\u001b[0;34m\u001b[0m\u001b[0m\n\u001b[0;32m---> 12\u001b[0;31m \u001b[0msecond_all\u001b[0m\u001b[0;34m,\u001b[0m\u001b[0mreal_angle_all\u001b[0m \u001b[0;34m=\u001b[0m \u001b[0mruluesecond\u001b[0m\u001b[0;34m(\u001b[0m\u001b[0mecho_data\u001b[0m\u001b[0;34m,\u001b[0m\u001b[0mdate\u001b[0m\u001b[0;34m)\u001b[0m\u001b[0;34m\u001b[0m\u001b[0m\n\u001b[0m\u001b[1;32m     13\u001b[0m \u001b[0;31m#print(second_all)\u001b[0m\u001b[0;34m\u001b[0m\u001b[0;34m\u001b[0m\u001b[0m\n\u001b[1;32m     14\u001b[0m \u001b[0mt_p\u001b[0m \u001b[0;34m=\u001b[0m \u001b[0;36m806.8116\u001b[0m \u001b[0;31m#地球卫星T理论单位为806.8116s\u001b[0m\u001b[0;34m\u001b[0m\u001b[0m\n",
      "\u001b[0;32m<ipython-input-9-ff94d4338eac>\u001b[0m in \u001b[0;36mruluesecond\u001b[0;34m(data, date)\u001b[0m\n\u001b[1;32m      7\u001b[0m     \u001b[0;32mif\u001b[0m \u001b[0mshape\u001b[0m \u001b[0;34m==\u001b[0m\u001b[0;36m1\u001b[0m\u001b[0;34m:\u001b[0m\u001b[0;34m\u001b[0m\u001b[0m\n\u001b[1;32m      8\u001b[0m         \u001b[0;32mfor\u001b[0m \u001b[0mi\u001b[0m \u001b[0;32min\u001b[0m \u001b[0mrange\u001b[0m\u001b[0;34m(\u001b[0m\u001b[0mlens\u001b[0m\u001b[0;34m)\u001b[0m\u001b[0;34m:\u001b[0m\u001b[0;34m\u001b[0m\u001b[0m\n\u001b[0;32m----> 9\u001b[0;31m             \u001b[0mreal_t\u001b[0m\u001b[0;34m,\u001b[0m\u001b[0mreal_angle\u001b[0m\u001b[0;34m,\u001b[0m\u001b[0msecond\u001b[0m \u001b[0;34m=\u001b[0m \u001b[0mtime\u001b[0m\u001b[0;34m(\u001b[0m\u001b[0mdate\u001b[0m\u001b[0;34m,\u001b[0m\u001b[0mdata\u001b[0m\u001b[0;34m[\u001b[0m\u001b[0;34m'UT1'\u001b[0m\u001b[0;34m]\u001b[0m\u001b[0;34m.\u001b[0m\u001b[0mvalues\u001b[0m\u001b[0;34m[\u001b[0m\u001b[0mi\u001b[0m\u001b[0;34m]\u001b[0m\u001b[0;34m)\u001b[0m\u001b[0;31m#格林尼治世界时\u001b[0m\u001b[0;34m\u001b[0m\u001b[0m\n\u001b[0m\u001b[1;32m     10\u001b[0m             \u001b[0msecond_all\u001b[0m\u001b[0;34m.\u001b[0m\u001b[0mappend\u001b[0m\u001b[0;34m(\u001b[0m\u001b[0msecond\u001b[0m\u001b[0;34m)\u001b[0m\u001b[0;34m\u001b[0m\u001b[0m\n\u001b[1;32m     11\u001b[0m             \u001b[0mreal_angle_all\u001b[0m\u001b[0;34m.\u001b[0m\u001b[0mappend\u001b[0m\u001b[0;34m(\u001b[0m\u001b[0mreal_angle\u001b[0m\u001b[0;34m)\u001b[0m\u001b[0;34m\u001b[0m\u001b[0m\n",
      "\u001b[0;32m~/anaconda3/lib/python3.6/site-packages/pandas/core/frame.py\u001b[0m in \u001b[0;36m__getitem__\u001b[0;34m(self, key)\u001b[0m\n\u001b[1;32m   1962\u001b[0m             \u001b[0;32mreturn\u001b[0m \u001b[0mself\u001b[0m\u001b[0;34m.\u001b[0m\u001b[0m_getitem_multilevel\u001b[0m\u001b[0;34m(\u001b[0m\u001b[0mkey\u001b[0m\u001b[0;34m)\u001b[0m\u001b[0;34m\u001b[0m\u001b[0m\n\u001b[1;32m   1963\u001b[0m         \u001b[0;32melse\u001b[0m\u001b[0;34m:\u001b[0m\u001b[0;34m\u001b[0m\u001b[0m\n\u001b[0;32m-> 1964\u001b[0;31m             \u001b[0;32mreturn\u001b[0m \u001b[0mself\u001b[0m\u001b[0;34m.\u001b[0m\u001b[0m_getitem_column\u001b[0m\u001b[0;34m(\u001b[0m\u001b[0mkey\u001b[0m\u001b[0;34m)\u001b[0m\u001b[0;34m\u001b[0m\u001b[0m\n\u001b[0m\u001b[1;32m   1965\u001b[0m \u001b[0;34m\u001b[0m\u001b[0m\n\u001b[1;32m   1966\u001b[0m     \u001b[0;32mdef\u001b[0m \u001b[0m_getitem_column\u001b[0m\u001b[0;34m(\u001b[0m\u001b[0mself\u001b[0m\u001b[0;34m,\u001b[0m \u001b[0mkey\u001b[0m\u001b[0;34m)\u001b[0m\u001b[0;34m:\u001b[0m\u001b[0;34m\u001b[0m\u001b[0m\n",
      "\u001b[0;32m~/anaconda3/lib/python3.6/site-packages/pandas/core/frame.py\u001b[0m in \u001b[0;36m_getitem_column\u001b[0;34m(self, key)\u001b[0m\n\u001b[1;32m   1969\u001b[0m         \u001b[0;31m# get column\u001b[0m\u001b[0;34m\u001b[0m\u001b[0;34m\u001b[0m\u001b[0m\n\u001b[1;32m   1970\u001b[0m         \u001b[0;32mif\u001b[0m \u001b[0mself\u001b[0m\u001b[0;34m.\u001b[0m\u001b[0mcolumns\u001b[0m\u001b[0;34m.\u001b[0m\u001b[0mis_unique\u001b[0m\u001b[0;34m:\u001b[0m\u001b[0;34m\u001b[0m\u001b[0m\n\u001b[0;32m-> 1971\u001b[0;31m             \u001b[0;32mreturn\u001b[0m \u001b[0mself\u001b[0m\u001b[0;34m.\u001b[0m\u001b[0m_get_item_cache\u001b[0m\u001b[0;34m(\u001b[0m\u001b[0mkey\u001b[0m\u001b[0;34m)\u001b[0m\u001b[0;34m\u001b[0m\u001b[0m\n\u001b[0m\u001b[1;32m   1972\u001b[0m \u001b[0;34m\u001b[0m\u001b[0m\n\u001b[1;32m   1973\u001b[0m         \u001b[0;31m# duplicate columns & possible reduce dimensionality\u001b[0m\u001b[0;34m\u001b[0m\u001b[0;34m\u001b[0m\u001b[0m\n",
      "\u001b[0;32m~/anaconda3/lib/python3.6/site-packages/pandas/core/generic.py\u001b[0m in \u001b[0;36m_get_item_cache\u001b[0;34m(self, item)\u001b[0m\n\u001b[1;32m   1643\u001b[0m         \u001b[0mres\u001b[0m \u001b[0;34m=\u001b[0m \u001b[0mcache\u001b[0m\u001b[0;34m.\u001b[0m\u001b[0mget\u001b[0m\u001b[0;34m(\u001b[0m\u001b[0mitem\u001b[0m\u001b[0;34m)\u001b[0m\u001b[0;34m\u001b[0m\u001b[0m\n\u001b[1;32m   1644\u001b[0m         \u001b[0;32mif\u001b[0m \u001b[0mres\u001b[0m \u001b[0;32mis\u001b[0m \u001b[0;32mNone\u001b[0m\u001b[0;34m:\u001b[0m\u001b[0;34m\u001b[0m\u001b[0m\n\u001b[0;32m-> 1645\u001b[0;31m             \u001b[0mvalues\u001b[0m \u001b[0;34m=\u001b[0m \u001b[0mself\u001b[0m\u001b[0;34m.\u001b[0m\u001b[0m_data\u001b[0m\u001b[0;34m.\u001b[0m\u001b[0mget\u001b[0m\u001b[0;34m(\u001b[0m\u001b[0mitem\u001b[0m\u001b[0;34m)\u001b[0m\u001b[0;34m\u001b[0m\u001b[0m\n\u001b[0m\u001b[1;32m   1646\u001b[0m             \u001b[0mres\u001b[0m \u001b[0;34m=\u001b[0m \u001b[0mself\u001b[0m\u001b[0;34m.\u001b[0m\u001b[0m_box_item_values\u001b[0m\u001b[0;34m(\u001b[0m\u001b[0mitem\u001b[0m\u001b[0;34m,\u001b[0m \u001b[0mvalues\u001b[0m\u001b[0;34m)\u001b[0m\u001b[0;34m\u001b[0m\u001b[0m\n\u001b[1;32m   1647\u001b[0m             \u001b[0mcache\u001b[0m\u001b[0;34m[\u001b[0m\u001b[0mitem\u001b[0m\u001b[0;34m]\u001b[0m \u001b[0;34m=\u001b[0m \u001b[0mres\u001b[0m\u001b[0;34m\u001b[0m\u001b[0m\n",
      "\u001b[0;32m~/anaconda3/lib/python3.6/site-packages/pandas/core/internals.py\u001b[0m in \u001b[0;36mget\u001b[0;34m(self, item, fastpath)\u001b[0m\n\u001b[1;32m   3588\u001b[0m \u001b[0;34m\u001b[0m\u001b[0m\n\u001b[1;32m   3589\u001b[0m             \u001b[0;32mif\u001b[0m \u001b[0;32mnot\u001b[0m \u001b[0misnull\u001b[0m\u001b[0;34m(\u001b[0m\u001b[0mitem\u001b[0m\u001b[0;34m)\u001b[0m\u001b[0;34m:\u001b[0m\u001b[0;34m\u001b[0m\u001b[0m\n\u001b[0;32m-> 3590\u001b[0;31m                 \u001b[0mloc\u001b[0m \u001b[0;34m=\u001b[0m \u001b[0mself\u001b[0m\u001b[0;34m.\u001b[0m\u001b[0mitems\u001b[0m\u001b[0;34m.\u001b[0m\u001b[0mget_loc\u001b[0m\u001b[0;34m(\u001b[0m\u001b[0mitem\u001b[0m\u001b[0;34m)\u001b[0m\u001b[0;34m\u001b[0m\u001b[0m\n\u001b[0m\u001b[1;32m   3591\u001b[0m             \u001b[0;32melse\u001b[0m\u001b[0;34m:\u001b[0m\u001b[0;34m\u001b[0m\u001b[0m\n\u001b[1;32m   3592\u001b[0m                 \u001b[0mindexer\u001b[0m \u001b[0;34m=\u001b[0m \u001b[0mnp\u001b[0m\u001b[0;34m.\u001b[0m\u001b[0marange\u001b[0m\u001b[0;34m(\u001b[0m\u001b[0mlen\u001b[0m\u001b[0;34m(\u001b[0m\u001b[0mself\u001b[0m\u001b[0;34m.\u001b[0m\u001b[0mitems\u001b[0m\u001b[0;34m)\u001b[0m\u001b[0;34m)\u001b[0m\u001b[0;34m[\u001b[0m\u001b[0misnull\u001b[0m\u001b[0;34m(\u001b[0m\u001b[0mself\u001b[0m\u001b[0;34m.\u001b[0m\u001b[0mitems\u001b[0m\u001b[0;34m)\u001b[0m\u001b[0;34m]\u001b[0m\u001b[0;34m\u001b[0m\u001b[0m\n",
      "\u001b[0;32m~/anaconda3/lib/python3.6/site-packages/pandas/core/indexes/base.py\u001b[0m in \u001b[0;36mget_loc\u001b[0;34m(self, key, method, tolerance)\u001b[0m\n\u001b[1;32m   2442\u001b[0m                 \u001b[0;32mreturn\u001b[0m \u001b[0mself\u001b[0m\u001b[0;34m.\u001b[0m\u001b[0m_engine\u001b[0m\u001b[0;34m.\u001b[0m\u001b[0mget_loc\u001b[0m\u001b[0;34m(\u001b[0m\u001b[0mkey\u001b[0m\u001b[0;34m)\u001b[0m\u001b[0;34m\u001b[0m\u001b[0m\n\u001b[1;32m   2443\u001b[0m             \u001b[0;32mexcept\u001b[0m \u001b[0mKeyError\u001b[0m\u001b[0;34m:\u001b[0m\u001b[0;34m\u001b[0m\u001b[0m\n\u001b[0;32m-> 2444\u001b[0;31m                 \u001b[0;32mreturn\u001b[0m \u001b[0mself\u001b[0m\u001b[0;34m.\u001b[0m\u001b[0m_engine\u001b[0m\u001b[0;34m.\u001b[0m\u001b[0mget_loc\u001b[0m\u001b[0;34m(\u001b[0m\u001b[0mself\u001b[0m\u001b[0;34m.\u001b[0m\u001b[0m_maybe_cast_indexer\u001b[0m\u001b[0;34m(\u001b[0m\u001b[0mkey\u001b[0m\u001b[0;34m)\u001b[0m\u001b[0;34m)\u001b[0m\u001b[0;34m\u001b[0m\u001b[0m\n\u001b[0m\u001b[1;32m   2445\u001b[0m \u001b[0;34m\u001b[0m\u001b[0m\n\u001b[1;32m   2446\u001b[0m         \u001b[0mindexer\u001b[0m \u001b[0;34m=\u001b[0m \u001b[0mself\u001b[0m\u001b[0;34m.\u001b[0m\u001b[0mget_indexer\u001b[0m\u001b[0;34m(\u001b[0m\u001b[0;34m[\u001b[0m\u001b[0mkey\u001b[0m\u001b[0;34m]\u001b[0m\u001b[0;34m,\u001b[0m \u001b[0mmethod\u001b[0m\u001b[0;34m=\u001b[0m\u001b[0mmethod\u001b[0m\u001b[0;34m,\u001b[0m \u001b[0mtolerance\u001b[0m\u001b[0;34m=\u001b[0m\u001b[0mtolerance\u001b[0m\u001b[0;34m)\u001b[0m\u001b[0;34m\u001b[0m\u001b[0m\n",
      "\u001b[0;32mpandas/_libs/index.pyx\u001b[0m in \u001b[0;36mpandas._libs.index.IndexEngine.get_loc\u001b[0;34m()\u001b[0m\n",
      "\u001b[0;32mpandas/_libs/index.pyx\u001b[0m in \u001b[0;36mpandas._libs.index.IndexEngine.get_loc\u001b[0;34m()\u001b[0m\n",
      "\u001b[0;32mpandas/_libs/hashtable_class_helper.pxi\u001b[0m in \u001b[0;36mpandas._libs.hashtable.PyObjectHashTable.get_item\u001b[0;34m()\u001b[0m\n",
      "\u001b[0;32mpandas/_libs/hashtable_class_helper.pxi\u001b[0m in \u001b[0;36mpandas._libs.hashtable.PyObjectHashTable.get_item\u001b[0;34m()\u001b[0m\n",
      "\u001b[0;31mKeyError\u001b[0m: 'UT1'"
     ]
    }
   ],
   "source": [
    "##三点资料定初轨(轨道根数)\n",
    "#回声1号\n",
    "\n",
    "#读数据\n",
    "echo_data = pd.read_csv('echo.csv')\n",
    "date = np.array([1965,1,14]) #观测时间\n",
    "#测站坐标                                     \n",
    "H = 0.999102\n",
    "lamuda = 118.82091666 \n",
    "fai = 31.893611111 \n",
    "zhanxin_digu = np.array([lamuda,fai,H])\n",
    "second_all,real_angle_all = ruluesecond(echo_data,date)\n",
    "#print(second_all)\n",
    "t_p = 806.8116 #地球卫星T理论单位为806.8116s\n",
    "t0 = (2451545.0*24*3600+second_all[0]+2451545.0*24*3600+second_all[5])/2 \n",
    "key = [2,4,6]\n",
    "\n",
    "R,r0,v0,r_final,v_final,genshu_final,delta_t=Laplace(echo_data,date,zhanxin_digu,0,t0,second_all,real_angle_all,\\\n",
    "                                                     key,t_p,0)\n",
    "delta_t = delta_t*t_p\n",
    "\n",
    "\n",
    "print('r0(km),v0(km/s):',r0,v0)\n",
    "print('genshu(a,n,e,E,M,da_omiga,xiao_omiga,i):',genshu_final)#a,n,e,E,M,da_omiga,xiao_omiga,i"
   ]
  },
  {
   "cell_type": "markdown",
   "metadata": {},
   "source": [
    "## 再反算星历表给出赤经赤纬的残差"
   ]
  },
  {
   "cell_type": "code",
   "execution_count": null,
   "metadata": {},
   "outputs": [],
   "source": [
    "#反算星历表 给出残差\n",
    "r_all,v_all,r_mo_all2,v_mo_all2,t_all = xinlibiao(genshu_final,t_p,t0,delta_t,0)\n",
    "afa_f,deta_f = afadeta(R,r_all,0,0)\n",
    "rv_fs = pd.DataFrame({\"UT1\":echo_data['UT1'].values,\"r(km)\":r_mo_all2,\"v(km/s)\":v_mo_all2,\"α\":afa_f,\"δ\":deta_f})\n",
    "print(rv_fs)\n",
    "\n",
    "#计算残差\n",
    "afa_f,deta_f = afadeta(R,r_all,0,0)\n",
    "cosdeta_f = np.cos(deta_f/360*(2*np.pi))\n",
    "afa_cosdeta_f = afa_f*cosdeta_f\n",
    "afa_c = echo_data['afa'].values\n",
    "deta_c = echo_data['deta'].values\n",
    "cosdeta_c = np.cos(deta_c/360*(2*np.pi))\n",
    "afa_cosdeta_c = afa_c*cosdeta_c\n",
    "\n",
    "\n",
    "\n",
    "delta_afa_cosdeta = afa_cosdeta_f - afa_cosdeta_c\n",
    "delta_deta = deta_f - deta_c\n",
    "cancha = pd.DataFrame({\"UT1\":echo_data['UT1'].values,\"△αcosδ(degree)\":delta_afa_cosdeta,\"△δ(degree)\":delta_deta})\n",
    "print(cancha)\n",
    "\n",
    "\n"
   ]
  },
  {
   "cell_type": "markdown",
   "metadata": {},
   "source": [
    "# 小行星"
   ]
  },
  {
   "cell_type": "markdown",
   "metadata": {},
   "source": [
    "## 对太阳坐标进行插值"
   ]
  },
  {
   "cell_type": "code",
   "execution_count": null,
   "metadata": {
    "collapsed": true
   },
   "outputs": [],
   "source": [
    "#太阳坐标差值\n",
    "def sun(data):\n",
    "    lens = data.iloc[:,0].size\n",
    "    #print(lens)\n",
    "    day = np.arange(0,lens-1,0.00001)\n",
    "    size = np.arange(0,lens-1,0.00001).shape[0]\n",
    "    sun_newdata = np.zeros((size,5))\n",
    "    for i in range(3): #分别对xyz进行差值\n",
    "        if i==0:\n",
    "            index = 'x'\n",
    "        elif i==1:\n",
    "            index = 'y'\n",
    "        else:\n",
    "            index = 'z'\n",
    "            \n",
    "        x = range(lens)\n",
    "        y = data[index].values\n",
    "        yy = np.interp(day, x, y)\n",
    "        sun_newdata[:,i+2] = yy\n",
    "        #print(yy)\n",
    "    for j in range(size):\n",
    "        if day[j]<6:\n",
    "            sun_newdata[j,0] = int(11)\n",
    "            sun_newdata[j,1] = 25+day[j]\n",
    "        else:\n",
    "            sun_newdata[j,0] = int(12)\n",
    "            sun_newdata[j,1] = 25+day[j]-30\n",
    "            \n",
    "    sundata_new = pd.DataFrame(sun_newdata,columns=['month','day','x','y','z'])        \n",
    "        \n",
    "    return sundata_new\n",
    " #插值后的太阳坐标（TT）\n",
    "\n"
   ]
  },
  {
   "cell_type": "markdown",
   "metadata": {},
   "source": [
    "## 获得 R fai UT1 每一个观测对应的太阳坐标"
   ]
  },
  {
   "cell_type": "code",
   "execution_count": null,
   "metadata": {
    "collapsed": true
   },
   "outputs": [],
   "source": [
    "#获得 R fai UT1 每一个观测对应的太阳坐标\n",
    "def chuli(planetdata,sundata):\n",
    "    lens1 = planetdata.iloc[:,0].size\n",
    "    lens2 = sundata.iloc[:,0].size\n",
    "    #R fai 分离\n",
    "    r = []\n",
    "    fai_all = []\n",
    "    for i in range(lens1):\n",
    "        r1 = np.sqrt((planetdata['Rcos_fai'].values[i])**2+(planetdata['Rsin_fai'].values[i])**2)\n",
    "        cosfai = (planetdata['Rcos_fai'].values[i])/r1\n",
    "        sinfai = (planetdata['Rsin_fai'].values[i])/r1\n",
    "#         if sinfai >=0 and cosfai >=0:#判断fai的象限\n",
    "#             fai = np.arcsin(sinfai)\n",
    "#         elif sinfai >=0 and cosfai <=0:\n",
    "#             fai = np.pi - np.arcsin(sinfai)\n",
    "#         elif sinfai <=0 and cosfai >=0:\n",
    "#             fai = 2*np.pi + np.arcsin(sinfai)\n",
    "#         else:\n",
    "#             fai = np.pi - np.arcsin(sinfai)\n",
    "        fai = math.atan2(sinfai,cosfai)\n",
    "        fai = fai/np.pi*180\n",
    "        fai_all.append(fai)\n",
    "        r.append(r1)\n",
    "    planetdata['R'] = np.array(r)*6471/149597870 #换成以1AU为单位\n",
    "    planetdata['fai'] = np.array(fai_all)\n",
    "    \n",
    "    #找到对应观测的太阳坐标\n",
    "    xyz=np.zeros((lens1,3))\n",
    "    for j in range(lens1):\n",
    "        \n",
    "        if planetdata['day'].values[j]>=7:\n",
    "            index = (int(planetdata['day'].values[j])-25)*100000+(math.modf(planetdata['day'].values[j])[0])*100000\n",
    "        else:\n",
    "            index = (int(planetdata['day'].values[j])+5)*100000+(math.modf(planetdata['day'].values[j])[0])*100000\n",
    "        xyz[j,:] = [sundata['x'].values[int(index)],sundata['y'].values[int(index)],sundata['z'].values[int(index)]]\n",
    "    planetdata['x'] = xyz[:,0]\n",
    "    planetdata['y'] = xyz[:,1]\n",
    "    planetdata['z'] = xyz[:,2]\n",
    "    #print(planetdata_all)\n",
    "    \n",
    "    \n",
    "    #TT 换成 UT\n",
    "    planetdata['year'] = 1998\n",
    "    planetdata['day_final'] = 0\n",
    "    planetdata['UT1'] = 0.\n",
    "    for k in range(lens1):\n",
    "        TT = math.modf(planetdata['day'].values[k])[0]*24*3600\n",
    "        UT = int(planetdata['day'].values[k])+TT1(TT)/3600/24\n",
    "        planetdata['day_final'].values[k] = int(UT) #day_final只显示日期 \n",
    "        #print(math.modf(UT)[0]*24)\n",
    "        planetdata['UT1'].values[k] = math.modf(UT)[0]*24\n",
    "        \n",
    "    #planetdata_all = planetdata[planetdata['day'].values!=3.38649]\n",
    "    return planetdata_all   \n",
    "\n"
   ]
  },
  {
   "cell_type": "markdown",
   "metadata": {},
   "source": [
    "## 三点资料定初轨(轨道根数)"
   ]
  },
  {
   "cell_type": "code",
   "execution_count": null,
   "metadata": {},
   "outputs": [],
   "source": [
    "###### 三点资料定初轨(轨道根数)\n",
    "#小行星\n",
    "\n",
    "#读入小行星数据\n",
    "planet_data = pd.read_csv('planet.csv')\n",
    "#读入太阳坐标数据\n",
    "sun_data = pd.read_csv('sun.csv')\n",
    "\n",
    "\n",
    "#对太阳数据进行差值\n",
    "sun_newdata = sun(sun_data) #插值后的太阳坐标（TT）\n",
    "#print(sun_newdata)\n",
    "\n",
    "#对小行星数据进行处理，获得R,fai,UT1,对应的太阳坐标\n",
    "planet_newdata = chuli(planet_data,sun_newdata)  \n",
    "planet_newdata=planet_newdata.loc[[i for i in range(len(planet_newdata))\\\n",
    "                                   if i not in [1,2,22,23,24,25,26,27,28,29,30,31,32,33,34,35,36,37,38,39]]]\n",
    "#print(planet_newdata)\n",
    "\n",
    "#设定一系列参数\n",
    "date_pl = np.c_[(np.vstack((planet_newdata['year'].values,planet_newdata['month'].values)).T),\\\n",
    "             planet_newdata['day_final'].values.T]  #观测时间\n",
    "#print(date_pl)\n",
    "\n",
    "sun_location =np.c_[(np.vstack((planet_newdata['x'].values,planet_newdata['y'].values)).T),\\\n",
    "             planet_newdata['z'].values.T] \n",
    "\n",
    "#测站坐标                                     \n",
    "H_pl = planet_newdata['R'].values\n",
    "lamuda_pl = planet_newdata['lamuda'].values\n",
    "fai_pl = planet_newdata['fai'].values\n",
    "zhanxin_digu_pl = np.c_[(np.vstack((lamuda_pl,fai_pl)).T),H_pl.T]\n",
    "#print(zhanxin_digu_pl)\n",
    "\n",
    "second_all_pl,real_angle_all_pl = ruluesecond(planet_newdata,date_pl)\n",
    "t_p_pl = 58.1324409*24*3600 #地球卫星T理论单位为58.1324409 平太阳日\n",
    "#print(second_all_pl)\n",
    "\n",
    "day1 = datetime.datetime.strptime('2000-1-1 11:58:55', '%Y-%m-%d %H:%M:%S')\n",
    "day2 = datetime.datetime.strptime('1998-12-4 0:0:0', '%Y-%m-%d %H:%M:%S')\n",
    "delta_second_t0 = (day1-day2).total_seconds()\n",
    "#print(delta_second_t0)\n",
    "t0_pl = 2451545.0*24*3600 - delta_second_t0#设12-04为t0\n",
    "#print(t0_pl)\n",
    "key_pl = [4,8,9]\n",
    "#print(date_pl,zhanxin_digu_pl,sun_location,t0_pl,second_all_pl,key_pl,t_p_pl)\n",
    "R_pl,r0_pl,v0_pl,r_final_pl,v_final_pl,genshu_final_pl,delta_t_pl=Laplace(planet_newdata,date_pl,zhanxin_digu_pl,\\\n",
    "                                                                          sun_location,\\\n",
    "                                                                          t0_pl,second_all_pl,real_angle_all_pl,\\\n",
    "                                                                          key_pl,t_p_pl,1)\n",
    "\n",
    "print(delta_t_pl)\n",
    "delta_t_pl = delta_t_pl*t_p_pl\n",
    "\n",
    "\n",
    "print('r0(km),v0(km/s):',r0_pl,v0_pl)\n",
    "print('genshu(a,n,e,E,M,da_omiga,xiao_omiga,i):',genshu_final_pl)#a,n,e,E,M,da_omiga,xiao_omiga,i"
   ]
  },
  {
   "cell_type": "code",
   "execution_count": null,
   "metadata": {
    "scrolled": false
   },
   "outputs": [],
   "source": [
    "planet_newdata"
   ]
  },
  {
   "cell_type": "code",
   "execution_count": null,
   "metadata": {},
   "outputs": [],
   "source": [
    "from mpl_toolkits.mplot3d import Axes3D\n",
    "ax = plt.subplot(111, projection='3d')  # 创建一个三维的绘图工程\n",
    "#  将数据点分成三部分画，在颜色上有区分度\n",
    "ax.plot(planet_newdata['x'].values, planet_newdata['y'].values, planet_newdata['z'].values, c='y')  # 绘制数据点\n",
    "ax.scatter(0,0,0,c= 'b',s = 10)\n",
    "\n",
    "ax.set_zlabel('Z')  # 坐标轴\n",
    "ax.set_ylabel('Y')\n",
    "ax.set_xlabel('X')\n",
    "plt.show()"
   ]
  },
  {
   "cell_type": "code",
   "execution_count": null,
   "metadata": {},
   "outputs": [],
   "source": [
    "\n",
    "a=np.array([1,2,3])\n",
    "b=np.array([3,4,5])\n",
    "c=np.vstack((a,b)).T\n",
    "d=np.c_[c,b.T]\n",
    "print(d)\n",
    "#a.T.shape"
   ]
  },
  {
   "cell_type": "code",
   "execution_count": null,
   "metadata": {},
   "outputs": [],
   "source": [
    "a=np.array([1,2,3,4])\n",
    "a[1]"
   ]
  },
  {
   "cell_type": "code",
   "execution_count": null,
   "metadata": {},
   "outputs": [],
   "source": [
    "np.arccos(1/2)/np.pi*180"
   ]
  },
  {
   "cell_type": "code",
   "execution_count": null,
   "metadata": {},
   "outputs": [],
   "source": [
    "int(4.0)"
   ]
  },
  {
   "cell_type": "code",
   "execution_count": null,
   "metadata": {},
   "outputs": [],
   "source": [
    "a=[1,2,3]\n",
    "a[0]"
   ]
  },
  {
   "cell_type": "code",
   "execution_count": null,
   "metadata": {
    "collapsed": true
   },
   "outputs": [],
   "source": []
  }
 ],
 "metadata": {
  "kernelspec": {
   "display_name": "Python 3",
   "language": "python",
   "name": "python3"
  },
  "language_info": {
   "codemirror_mode": {
    "name": "ipython",
    "version": 3
   },
   "file_extension": ".py",
   "mimetype": "text/x-python",
   "name": "python",
   "nbconvert_exporter": "python",
   "pygments_lexer": "ipython3",
   "version": "3.6.3"
  },
  "toc": {
   "base_numbering": 1,
   "nav_menu": {},
   "number_sections": true,
   "sideBar": true,
   "skip_h1_title": false,
   "title_cell": "Table of Contents",
   "title_sidebar": "Contents",
   "toc_cell": false,
   "toc_position": {},
   "toc_section_display": true,
   "toc_window_display": false
  },
  "varInspector": {
   "cols": {
    "lenName": 16,
    "lenType": 16,
    "lenVar": 40
   },
   "kernels_config": {
    "python": {
     "delete_cmd_postfix": "",
     "delete_cmd_prefix": "del ",
     "library": "var_list.py",
     "varRefreshCmd": "print(var_dic_list())"
    },
    "r": {
     "delete_cmd_postfix": ") ",
     "delete_cmd_prefix": "rm(",
     "library": "var_list.r",
     "varRefreshCmd": "cat(var_dic_list()) "
    }
   },
   "types_to_exclude": [
    "module",
    "function",
    "builtin_function_or_method",
    "instance",
    "_Feature"
   ],
   "window_display": false
  }
 },
 "nbformat": 4,
 "nbformat_minor": 2
}
