{
 "cells": [
  {
   "cell_type": "markdown",
   "metadata": {},
   "source": [
    "# 拉普拉斯方法定轨道六根数\n",
    "\n",
    "## 1. 已知三次观测的观测坐标，定出某一时刻的位置矢量和速度矢量 ok\n",
    "按照笔记的方法分别推出各个量\n",
    "\n",
    "注意时间单位的选取!\n",
    "\n",
    "## 2. 已知某一时刻的位置矢量和速度矢量，求轨道六根数\n",
    "\n",
    "按照笔记方法,逐步求得：\n",
    "a\n",
    "n()\n",
    "E()\n",
    "e\n",
    "M\n",
    "i Omega w"
   ]
  },
  {
   "cell_type": "code",
   "execution_count": 1,
   "metadata": {
    "collapsed": true
   },
   "outputs": [],
   "source": [
    "import pandas as pd\n",
    "import numpy as np\n",
    "import math\n",
    "import matplotlib.pyplot as plt\n",
    "import datetime\n",
    "import time\n",
    "\n",
    "import DDS_CMpack as DDS\n",
    "\n",
    "%matplotlib inline"
   ]
  },
  {
   "cell_type": "code",
   "execution_count": 2,
   "metadata": {
    "collapsed": true
   },
   "outputs": [],
   "source": [
    "# astronomy constants\n",
    "R_earth = 6371e3 # m\n",
    "\n",
    "M_earth = 5.965e24 # kg\n",
    "G_graviation = 6.672e-11 # N·m^2 /kg^2 \n",
    "\n",
    "au = 149597870e3 # m\n",
    "r_station_earth = 0.999102 #*R_earth\n",
    "r_earth_sun = 1*au\n",
    "\n",
    "time_unit = 806.81163 #806.8116 # SI \n",
    "\n",
    "# miu_GM = 398600.5e-6 # km^3/SI^2"
   ]
  },
  {
   "cell_type": "code",
   "execution_count": 3,
   "metadata": {},
   "outputs": [
    {
     "data": {
      "text/plain": [
       "397984800000000.0"
      ]
     },
     "execution_count": 3,
     "metadata": {},
     "output_type": "execute_result"
    }
   ],
   "source": [
    "miu_GM = G_graviation*M_earth # 国际单位制\n",
    "\n",
    "miu_GM"
   ]
  },
  {
   "cell_type": "code",
   "execution_count": 4,
   "metadata": {},
   "outputs": [
    {
     "data": {
      "text/plain": [
       "(7625.807237219486, 6.113191794664121)"
      ]
     },
     "execution_count": 4,
     "metadata": {},
     "output_type": "execute_result"
    }
   ],
   "source": [
    "# input r0,v0,t0\n",
    "r0 = np.array([-6840.16579265, -1009.61579285,  3216.48004799])*10**3 # unit= m\n",
    "r0_norm = np.sqrt(sum([ i*i for i in r0])) # m\n",
    "\n",
    "v0 = np.array([-1.07349321, -4.73916395, -3.70931952])*10**3 # unit= m/SI\n",
    "v0_norm = np.sqrt(sum([ i*i for i in v0])) # m/SI\n",
    "\n",
    "t0 = 121.0217445 # unit = SI from the first data we have\n",
    "## t0 根据自己的单位去选择。\n",
    "\n",
    "r0_norm/10**3,v0_norm/10**3"
   ]
  },
  {
   "cell_type": "code",
   "execution_count": 5,
   "metadata": {
    "scrolled": true
   },
   "outputs": [
    {
     "data": {
      "text/plain": [
       "0.9322594973289169"
      ]
     },
     "execution_count": 5,
     "metadata": {},
     "output_type": "execute_result"
    }
   ],
   "source": [
    "# get a \n",
    "\n",
    "a = 1/(2/r0_norm - v0_norm**2/miu_GM) # unit = m\n",
    "\n",
    "a/R_earth"
   ]
  },
  {
   "cell_type": "code",
   "execution_count": 6,
   "metadata": {},
   "outputs": [
    {
     "name": "stdout",
     "output_type": "stream",
     "text": [
      "-0.28393016270596894\n",
      "0.004044804134243226\n"
     ]
    },
    {
     "data": {
      "text/plain": [
       "0.2839589719215126"
      ]
     },
     "execution_count": 6,
     "metadata": {},
     "output_type": "execute_result"
    }
   ],
   "source": [
    "# get n\\E then a\n",
    "n = np.sqrt(miu_GM/(a**3))\n",
    "\n",
    "tan_E = (1 - r0_norm/a)*(a**2*n)/(np.dot(r0,v0))\n",
    "\n",
    "e = np.sqrt( (1 - r0_norm/a)**2 + (np.dot(r0,v0) / (n*a**2))**2 )\n",
    "# e = 0.01002\n",
    "\n",
    "print(1 - r0_norm/a)\n",
    "print(np.dot(r0,v0) / (n*a**2))\n",
    "\n",
    "cos_E = (1 - r0_norm/a)/e\n",
    "sin_E = (np.dot(r0,v0) / (a**2*n))/e\n",
    "\n",
    "e"
   ]
  },
  {
   "cell_type": "code",
   "execution_count": 7,
   "metadata": {
    "collapsed": true
   },
   "outputs": [],
   "source": [
    "def arctan2(sinE,cosE):\n",
    "    if sinE >=0 and cosE >=0: # I\n",
    "        output = np.arcsin(sinE)\n",
    "    elif sinE >=0 and cosE <=0: # II\n",
    "        output = np.pi - np.arcsin(sinE)\n",
    "    elif sinE <=0 and cosE >=0: # IV\n",
    "        output = 2*np.pi + np.arcsin(sinE)\n",
    "    else: # III\n",
    "        output = np.pi - np.arcsin(sinE)\n",
    "    return output\n"
   ]
  },
  {
   "cell_type": "code",
   "execution_count": 8,
   "metadata": {},
   "outputs": [
    {
     "name": "stdout",
     "output_type": "stream",
     "text": [
      "-0.5053327708284814 -0.8629245567990342 1.707636248059451\n",
      "3.6713602068150015\n"
     ]
    },
    {
     "data": {
      "text/plain": [
       "210.35344492277665"
      ]
     },
     "execution_count": 8,
     "metadata": {},
     "output_type": "execute_result"
    }
   ],
   "source": [
    "# E1 = np.arcsin(sin_E)\n",
    "# E2 = np.arccos(cos_E)\n",
    "# E3 = np.arctan(tan_E)\n",
    "\n",
    "print(sin_E,cos_E,tan_E)\n",
    "\n",
    "E = arctan2(sin_E,cos_E)\n",
    "print(E)\n",
    "np.degrees(E)"
   ]
  },
  {
   "cell_type": "code",
   "execution_count": 9,
   "metadata": {},
   "outputs": [
    {
     "data": {
      "text/plain": [
       "3.6772767365601564"
      ]
     },
     "execution_count": 9,
     "metadata": {},
     "output_type": "execute_result"
    }
   ],
   "source": [
    "# keplar 定 M\n",
    "M = E - e*sin_E\n",
    "M"
   ]
  },
  {
   "cell_type": "code",
   "execution_count": 10,
   "metadata": {},
   "outputs": [
    {
     "data": {
      "text/plain": [
       "array([ 47.36168524,  31.3703739 , -63.49142414])"
      ]
     },
     "execution_count": 10,
     "metadata": {},
     "output_type": "execute_result"
    }
   ],
   "source": [
    "# 定 i Omega w\n",
    "\n",
    "#### method 1\n",
    "P = (cos_E/r0_norm)*r0 - (sin_E/(a*n))*v0\n",
    "Q = (sin_E/(r0_norm)*np.sqrt(1-e**2))*r0 + ((cos_E - e)/(a*n*np.sqrt(1-e**2)))*v0\n",
    "R = np.cross(P,Q)\n",
    "\n",
    "cos_i = R[2]\n",
    "tan_Omega = -1*R[0]/R[1]\n",
    "\n",
    "# get w ->[-90,+90]\n",
    "tan_w = P[2]/Q[2]\n",
    "\n",
    "############################################################\n",
    "\n",
    "#### method 2\n",
    "h = np.cross(r0,v0)\n",
    "h_norm = np.sqrt(np.dot(h,h))\n",
    "\n",
    "h_A, h_B, h_C = h[0:3]\n",
    "\n",
    "# get cos_i, sin_i\n",
    "cos_i_check = (h_C/h_norm)\n",
    "tan_i = np.sqrt(h_A**2 + h_B**2) / h_C\n",
    "\n",
    "sin_i = tan_i*cos_i_check\n",
    "\n",
    "\n",
    "# get cos_\\sin_Omega\n",
    "sin_Omega = h_A/(h_norm*sin_i)\n",
    "cos_Omega = -h_B/(h_norm*sin_i)\n",
    "\n",
    "# finally get i Omega w\n",
    "\n",
    "i = arctan2(sin_i,cos_i_check)\n",
    "\n",
    "Omega = arctan2(sin_Omega,cos_Omega)\n",
    "\n",
    "w = np.arctan(tan_w)\n",
    "\n",
    "np.degrees(np.array([i,Omega,w]))"
   ]
  },
  {
   "cell_type": "markdown",
   "metadata": {},
   "source": [
    "## 3. 由轨道6根数归算星历表\n",
    "\n",
    "已知：\n",
    "a, n(), E(), e, M, [i, Omega, w] = P,Q\n",
    "\n",
    "t0 = 121.0217445 **# unit = SI from the first data we have**\n",
    "\n",
    "M = M0 + n(t-t0)\n",
    "\n",
    "M = E - esin(E)"
   ]
  },
  {
   "cell_type": "code",
   "execution_count": 121,
   "metadata": {},
   "outputs": [
    {
     "name": "stdout",
     "output_type": "stream",
     "text": [
      "-0.005787275935037951\n",
      "3.6586141786196316\n"
     ]
    }
   ],
   "source": [
    "# calculate keplar equation\n",
    "# 设置初值t0 和我们需要归算的时间t\n",
    "\n",
    "t = 0.124857*time_unit\n",
    "\n",
    "Mt = M + n*(t - t0)\n",
    "\n",
    "print(e*np.sin(Mt))\n",
    "print(Mt)"
   ]
  },
  {
   "cell_type": "code",
   "execution_count": 122,
   "metadata": {
    "scrolled": true
   },
   "outputs": [
    {
     "name": "stdout",
     "output_type": "stream",
     "text": [
      "E: 3.652885305065897\n"
     ]
    }
   ],
   "source": [
    "# 迭代 开普勒方程解 E\n",
    "epsilon = 1e-20\n",
    "key = 0\n",
    "En0 = Mt\n",
    "Enw = [En0]\n",
    "Nwind = 0\n",
    "while key == 0:\n",
    "    Enw.append(Mt + e*np.sin(Enw[Nwind]))\n",
    "\n",
    "    Nwind += 1\n",
    "#     print(Enw[Nwind])\n",
    "    \n",
    "    delta_Enw = np.abs(Enw[Nwind] - Enw[Nwind - 1])\n",
    "#     print(delta_Enw)\n",
    "#     print('------------')\n",
    "    \n",
    "    if delta_Enw < epsilon:\n",
    "        key = 1;\n",
    "        \n",
    "Et = Enw[Nwind]\n",
    "\n",
    "print('E:',Et)"
   ]
  },
  {
   "cell_type": "code",
   "execution_count": 123,
   "metadata": {},
   "outputs": [
    {
     "data": {
      "text/plain": [
       "0.6773680602089371"
      ]
     },
     "execution_count": 123,
     "metadata": {},
     "output_type": "execute_result"
    }
   ],
   "source": [
    "np.cos(i)"
   ]
  },
  {
   "cell_type": "code",
   "execution_count": 144,
   "metadata": {},
   "outputs": [
    {
     "name": "stdout",
     "output_type": "stream",
     "text": [
      "[ 0.69661115 -0.28522569 -0.65831544] [0.60663306 0.72395805 0.32834701]\n",
      "[ 0.69663189 -0.28520094 -0.65830421] [0.60667205 0.72397579 0.32834141]\n"
     ]
    }
   ],
   "source": [
    "# 给出P_new, Q_new\n",
    "P_new = np.array([np.cos(Omega)*np.cos(w) - np.sin(Omega)*np.sin(w)*np.cos(i),\\\n",
    "                 np.sin(Omega)*np.cos(w) + np.cos(Omega)*np.sin(w)*np.cos(i),\\\n",
    "                 np.sin(w)*np.sin(i) ])\n",
    "Q_new = np.array([-np.cos(Omega)*np.sin(w) - np.sin(Omega)*np.cos(w)*np.cos(i),\\\n",
    "                 -np.sin(Omega)*np.sin(w) + np.cos(Omega)*np.cos(w)*np.cos(i),\\\n",
    "                 np.cos(w)*np.sin(i)])\n",
    "\n",
    "print(P,Q)\n",
    "print(P_new,Q_new)"
   ]
  },
  {
   "cell_type": "code",
   "execution_count": 145,
   "metadata": {},
   "outputs": [
    {
     "name": "stdout",
     "output_type": "stream",
     "text": [
      "7855.60391489427 7.081329396931624\n"
     ]
    },
    {
     "data": {
      "text/plain": [
       "(array([-7095980.17697021,  -794371.19035444,  3275141.61643171]),\n",
       " array([-1332.66729448, -5459.24934173, -4308.80732163]))"
      ]
     },
     "execution_count": 145,
     "metadata": {},
     "output_type": "execute_result"
    }
   ],
   "source": [
    "# 归算rt, vt\n",
    "\n",
    "rt = a*(np.cos(Et) - e)*P_new + a*np.sqrt(1 - e**2)*np.sin(Et)*Q_new\n",
    "rt_norm = np.sqrt( np.dot(rt,rt) )\n",
    "\n",
    "vt = -a**2*n/rt_norm*np.sin(Et)*P_new + a**2*n/rt_norm*np.sqrt(1 - e**2)*np.cos(Et)*Q_new\n",
    "vt_norm = np.sqrt( np.dot(vt,vt) )\n",
    "\n",
    "L_rt = rt/ np.sqrt( np.dot(rt,rt))\n",
    "\n",
    "print(rt_norm/10**3,vt_norm/10**3)\n",
    "\n",
    "rt,vt"
   ]
  },
  {
   "cell_type": "code",
   "execution_count": 146,
   "metadata": {},
   "outputs": [
    {
     "data": {
      "text/plain": [
       "array([-0.92159627,  0.38588585, -0.04186193])"
      ]
     },
     "execution_count": 146,
     "metadata": {},
     "output_type": "execute_result"
    }
   ],
   "source": [
    "# 计算赤经赤纬：\n",
    "P_earth = rt\n",
    "station_earth = np.array([-0.81000791, -0.25188507,  0.52786921])*R_earth\n",
    "\n",
    "P_station = P_earth - station_earth\n",
    "\n",
    "L_forecast = P_station/np.sqrt(np.dot(P_station,P_station))\n",
    "\n",
    "L_forecast"
   ]
  },
  {
   "cell_type": "code",
   "execution_count": 83,
   "metadata": {},
   "outputs": [
    {
     "data": {
      "text/plain": [
       "[-0.921558, 0.385984, -0.041788]"
      ]
     },
     "execution_count": 83,
     "metadata": {},
     "output_type": "execute_result"
    }
   ],
   "source": [
    "L = [-0.9152477093203553, -0.0501154444748697, -0.39976252051552885]\n",
    "L = [-0.921558,0.385984,-0.041788]\n",
    "L"
   ]
  },
  {
   "cell_type": "code",
   "execution_count": 12,
   "metadata": {},
   "outputs": [
    {
     "data": {
      "text/plain": [
       "array([1. , 1.5, 2. , 2.5, 3. , 3.5, 4. , 4.5, 5. , 5.5, 6. , 6.5, 7. ,\n",
       "       7.5, 8. , 8.5, 9. , 9.5])"
      ]
     },
     "execution_count": 12,
     "metadata": {},
     "output_type": "execute_result"
    }
   ],
   "source": [
    "np.arange(1,10,0.5)"
   ]
  },
  {
   "cell_type": "code",
   "execution_count": null,
   "metadata": {
    "collapsed": true
   },
   "outputs": [],
   "source": []
  },
  {
   "cell_type": "code",
   "execution_count": null,
   "metadata": {
    "collapsed": true
   },
   "outputs": [],
   "source": []
  }
 ],
 "metadata": {
  "kernelspec": {
   "display_name": "Python 3",
   "language": "python",
   "name": "python3"
  },
  "language_info": {
   "codemirror_mode": {
    "name": "ipython",
    "version": 3
   },
   "file_extension": ".py",
   "mimetype": "text/x-python",
   "name": "python",
   "nbconvert_exporter": "python",
   "pygments_lexer": "ipython3",
   "version": "3.6.3"
  }
 },
 "nbformat": 4,
 "nbformat_minor": 2
}
