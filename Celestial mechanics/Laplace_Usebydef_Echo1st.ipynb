{
 "cells": [
  {
   "cell_type": "markdown",
   "metadata": {},
   "source": [
    "# 拉普拉斯方法定轨道六根数\n",
    "\n",
    "## 1. 已知三次观测的观测坐标，定出某一时刻的位置矢量和速度矢量\n",
    "按照笔记的方法分别推出各个量\n",
    "\n",
    "注意时间单位的选取!"
   ]
  },
  {
   "cell_type": "code",
   "execution_count": 1,
   "metadata": {
    "collapsed": true
   },
   "outputs": [],
   "source": [
    "import pandas as pd\n",
    "import numpy as np\n",
    "import math\n",
    "import matplotlib.pyplot as plt\n",
    "import datetime\n",
    "import time\n",
    "\n",
    "from DDS_Laplace import *\n",
    "\n",
    "import DDS_CMpack as DDS\n",
    "\n",
    "%matplotlib inline"
   ]
  },
  {
   "cell_type": "markdown",
   "metadata": {},
   "source": [
    "## PART 1 星表的format"
   ]
  },
  {
   "cell_type": "code",
   "execution_count": 2,
   "metadata": {
    "collapsed": true
   },
   "outputs": [],
   "source": [
    "# astronomy constants\n",
    "R_earth = 6371\n",
    "au = 149597870\n",
    "r_station_earth = 0.999102 #*R_earth\n",
    "r_earth_sun = 1*au\n",
    "\n",
    "time_unit = 806.81163 #806.8116 # SI \n"
   ]
  },
  {
   "cell_type": "code",
   "execution_count": 6,
   "metadata": {
    "collapsed": true
   },
   "outputs": [],
   "source": [
    "# give 3 observed position\n",
    "# position_fram = pd.DataFrame({'alpha':\\\n",
    "#                         np.array([142.935,157.274166667,171.817916667,183.134166667,\\\n",
    "#                                   208.640416667,219.102083333]),\\\n",
    "#                        'delta':\\\n",
    "#                        np.array([8.521111111,-2.395,-14.508333333,-23.56333333,-40.020277777,-44.998611111]),\\\n",
    "#                        'UT1_hours':np.array([21.575128333,21.60311055,21.631419722,\\\n",
    "#                                              21.654491388,21.714094166,21.742875555])})\n",
    "\n",
    "position_fram = pd.read_csv('Echo1st.csv')\n",
    "\n",
    "# position_fram"
   ]
  },
  {
   "cell_type": "code",
   "execution_count": 8,
   "metadata": {
    "cell_style": "center"
   },
   "outputs": [
    {
     "data": {
      "text/plain": [
       "array([0.        , 0.12485689, 0.25117264, 0.35411861, 0.6200667 ,\n",
       "       0.74848949])"
      ]
     },
     "execution_count": 8,
     "metadata": {},
     "output_type": "execute_result"
    }
   ],
   "source": [
    "# 计算观测数据的儒略日时间和恒星时\n",
    "year = 1965; month = 1; days = 14;\n",
    "UT1_hours = np.array(position_fram['UT1_hours'])\n",
    "jd_t = []\n",
    "SG_t = []\n",
    "for i in range(len(UT1_hours)):\n",
    "    SG_s,jd_s = DDS.UTC2SG(year,month,days,UT1_hours[i])\n",
    "    SG_t.append(SG_s); jd_t.append(jd_s);\n",
    "    \n",
    "SG_array = np.array(SG_t); \n",
    "SG_degree = SG_array%(3600*24)/(3600*24)*360\n",
    "\n",
    "jd_array = np.array(jd_t)\n",
    "delta_t_SI = (UT1_hours - UT1_hours[0])*3600\n",
    "delta_t = delta_t_SI / time_unit\n",
    "position_fram['deltaT'] = delta_t\n",
    "\n",
    "delta_t"
   ]
  },
  {
   "cell_type": "code",
   "execution_count": 9,
   "metadata": {
    "collapsed": true
   },
   "outputs": [],
   "source": [
    "# give the station's lam and phi\n",
    "lam = 118.82091666\n",
    "phi = 31.893611111\n"
   ]
  },
  {
   "cell_type": "code",
   "execution_count": 11,
   "metadata": {},
   "outputs": [
    {
     "data": {
      "text/plain": [
       "[array([-0.81183633, -0.24592818,  0.52786921]),\n",
       " array([-0.81000791, -0.25188507,  0.52786921]),\n",
       " array([-0.80811365, -0.25789772,  0.52786921]),\n",
       " array([-0.80653683, -0.26278746,  0.52786921]),\n",
       " array([-0.80232651, -0.27537441,  0.52786921]),\n",
       " array([-0.80022302, -0.28142853,  0.52786921])]"
      ]
     },
     "execution_count": 11,
     "metadata": {},
     "output_type": "execute_result"
    }
   ],
   "source": [
    "# 需要根据alpha和delta求出所需的测站到地心的RA,DEC\n",
    "station_earth = []\n",
    "for i in range(len(position_fram)):\n",
    "    # give the station's RA and DEC then convert to station_earth\n",
    "    RA_station = SG_degree[i] + lam\n",
    "    DEC_station = phi\n",
    "    station_earth.append(DDS.RADEC2xyz(r_station_earth,RA_station,DEC_station))\n",
    "\n",
    "station_earth"
   ]
  },
  {
   "cell_type": "code",
   "execution_count": 12,
   "metadata": {
    "collapsed": true
   },
   "outputs": [],
   "source": [
    "# position_fram"
   ]
  },
  {
   "cell_type": "code",
   "execution_count": 13,
   "metadata": {},
   "outputs": [
    {
     "data": {
      "text/plain": [
       "[[-0.7891439307993768, 0.5960674272555554, 0.14817381228628504],\n",
       " [-0.9215582970478929, 0.38598449379160416, -0.04178846365477428],\n",
       " [-0.9582566000732619, 0.13778102486286736, -0.25052081271577153],\n",
       " [-0.9152477093203553, -0.0501154444748697, -0.39976252051552885],\n",
       " [-0.6721154419353875, -0.36706452095992986, -0.6430586832976101],\n",
       " [-0.5487447629378402, -0.44598590319844417, -0.7070896402130082]]"
      ]
     },
     "execution_count": 13,
     "metadata": {},
     "output_type": "execute_result"
    }
   ],
   "source": [
    "# add Pj ,Qj to positon_fram_fil\n",
    "Lt = []; Pt = []; Qt = []\n",
    "Lambda = []; Miu = []; Niu = [];\n",
    "\n",
    "#由 delta,alpha 算出 L = [Lambda,Miu,Niu]\n",
    "for j in range(len(position_fram)):\n",
    "    delta = position_fram['delta'].values[j]*2*np.pi/360 ; \n",
    "    alpha = position_fram['alpha'].values[j]*2*np.pi/360;\n",
    "\n",
    "    L = [np.cos(delta)*np.cos(alpha),\\\n",
    "         np.cos(delta)*np.sin(alpha),\\\n",
    "         np.sin(delta)]\n",
    "    \n",
    "    Lambda.append(L[0]); \n",
    "    Miu.append(L[1]);\n",
    "    Niu.append(L[2]);\n",
    "    \n",
    "#     Lambda.append(np.cos(delta)*np.cos(alpha))\n",
    "#     Miu.append(np.cos(delta)*np.sin(alpha))\n",
    "#     Niu.append(np.sin(delta))\n",
    "\n",
    "# 由[Lambda,Miu,Niu] 和 测站-地心矢量归算出 P,Q\n",
    "    Pj = L[2]*station_earth[j][0] - L[0]*station_earth[j][2]\n",
    "    Qj = L[2]*station_earth[j][1] - L[1]*station_earth[j][2]\n",
    "    \n",
    "    Lt.append(L)\n",
    "    Pt.append(Pj)\n",
    "    Qt.append(Qj)\n",
    "#     print(Lt,Pt,Qt)\n",
    "\n",
    "position_fram_New = pd.DataFrame({'jd':jd_array,\n",
    "                                 'SG_d':SG_degree,\n",
    "                                 'P':np.array(Pt),'Q':np.array(Qt),\n",
    "                                  'deltaT_SI':delta_t_SI,\n",
    "                                 'Lambda':np.array(Lambda),\n",
    "                                 'Miu':np.array(Miu),'Niu':np.array(Niu)})\n",
    "\n",
    "Lt "
   ]
  },
  {
   "cell_type": "code",
   "execution_count": 14,
   "metadata": {
    "collapsed": true
   },
   "outputs": [],
   "source": [
    "position_fram_fil = pd.concat([position_fram,position_fram_New],axis=1)"
   ]
  },
  {
   "cell_type": "code",
   "execution_count": 18,
   "metadata": {
    "scrolled": true
   },
   "outputs": [
    {
     "data": {
      "text/html": [
       "<div>\n",
       "<style>\n",
       "    .dataframe thead tr:only-child th {\n",
       "        text-align: right;\n",
       "    }\n",
       "\n",
       "    .dataframe thead th {\n",
       "        text-align: left;\n",
       "    }\n",
       "\n",
       "    .dataframe tbody tr th {\n",
       "        vertical-align: top;\n",
       "    }\n",
       "</style>\n",
       "<table border=\"1\" class=\"dataframe\">\n",
       "  <thead>\n",
       "    <tr style=\"text-align: right;\">\n",
       "      <th></th>\n",
       "      <th>UT1_hours</th>\n",
       "      <th>alpha</th>\n",
       "      <th>delta</th>\n",
       "      <th>year</th>\n",
       "      <th>month</th>\n",
       "      <th>days</th>\n",
       "      <th>deltaT</th>\n",
       "      <th>Lambda</th>\n",
       "      <th>Miu</th>\n",
       "      <th>Niu</th>\n",
       "      <th>P</th>\n",
       "      <th>Q</th>\n",
       "      <th>SG_d</th>\n",
       "      <th>deltaT_SI</th>\n",
       "      <th>jd</th>\n",
       "    </tr>\n",
       "  </thead>\n",
       "  <tbody>\n",
       "    <tr>\n",
       "      <th>0</th>\n",
       "      <td>21.575128</td>\n",
       "      <td>142.935000</td>\n",
       "      <td>8.521111</td>\n",
       "      <td>1965</td>\n",
       "      <td>1</td>\n",
       "      <td>14</td>\n",
       "      <td>0.000000</td>\n",
       "      <td>-0.789144</td>\n",
       "      <td>0.596067</td>\n",
       "      <td>0.148174</td>\n",
       "      <td>0.296272</td>\n",
       "      <td>-0.351086</td>\n",
       "      <td>78.032128</td>\n",
       "      <td>0.000000</td>\n",
       "      <td>-12769.600293</td>\n",
       "    </tr>\n",
       "    <tr>\n",
       "      <th>1</th>\n",
       "      <td>21.603111</td>\n",
       "      <td>157.274167</td>\n",
       "      <td>-2.395000</td>\n",
       "      <td>1965</td>\n",
       "      <td>1</td>\n",
       "      <td>14</td>\n",
       "      <td>0.124857</td>\n",
       "      <td>-0.921558</td>\n",
       "      <td>0.385984</td>\n",
       "      <td>-0.041788</td>\n",
       "      <td>0.520311</td>\n",
       "      <td>-0.193223</td>\n",
       "      <td>78.453011</td>\n",
       "      <td>100.735992</td>\n",
       "      <td>-12769.599128</td>\n",
       "    </tr>\n",
       "    <tr>\n",
       "      <th>2</th>\n",
       "      <td>21.631420</td>\n",
       "      <td>171.817917</td>\n",
       "      <td>-14.508333</td>\n",
       "      <td>1965</td>\n",
       "      <td>1</td>\n",
       "      <td>14</td>\n",
       "      <td>0.251173</td>\n",
       "      <td>-0.958257</td>\n",
       "      <td>0.137781</td>\n",
       "      <td>-0.250521</td>\n",
       "      <td>0.708283</td>\n",
       "      <td>-0.008122</td>\n",
       "      <td>78.878811</td>\n",
       "      <td>202.649004</td>\n",
       "      <td>-12769.597948</td>\n",
       "    </tr>\n",
       "    <tr>\n",
       "      <th>3</th>\n",
       "      <td>21.654491</td>\n",
       "      <td>183.134167</td>\n",
       "      <td>-23.563333</td>\n",
       "      <td>1965</td>\n",
       "      <td>1</td>\n",
       "      <td>14</td>\n",
       "      <td>0.354119</td>\n",
       "      <td>-0.915248</td>\n",
       "      <td>-0.050115</td>\n",
       "      <td>-0.399763</td>\n",
       "      <td>0.805554</td>\n",
       "      <td>0.131507</td>\n",
       "      <td>79.225833</td>\n",
       "      <td>285.707016</td>\n",
       "      <td>-12769.596987</td>\n",
       "    </tr>\n",
       "    <tr>\n",
       "      <th>4</th>\n",
       "      <td>21.714094</td>\n",
       "      <td>208.640417</td>\n",
       "      <td>-40.020278</td>\n",
       "      <td>1965</td>\n",
       "      <td>1</td>\n",
       "      <td>14</td>\n",
       "      <td>0.620067</td>\n",
       "      <td>-0.672115</td>\n",
       "      <td>-0.367065</td>\n",
       "      <td>-0.643059</td>\n",
       "      <td>0.870732</td>\n",
       "      <td>0.370844</td>\n",
       "      <td>80.122323</td>\n",
       "      <td>500.277024</td>\n",
       "      <td>-12769.594503</td>\n",
       "    </tr>\n",
       "    <tr>\n",
       "      <th>5</th>\n",
       "      <td>21.742876</td>\n",
       "      <td>219.102083</td>\n",
       "      <td>-44.998611</td>\n",
       "      <td>1965</td>\n",
       "      <td>1</td>\n",
       "      <td>14</td>\n",
       "      <td>0.748489</td>\n",
       "      <td>-0.548745</td>\n",
       "      <td>-0.445986</td>\n",
       "      <td>-0.707090</td>\n",
       "      <td>0.855495</td>\n",
       "      <td>0.434417</td>\n",
       "      <td>80.555226</td>\n",
       "      <td>603.890028</td>\n",
       "      <td>-12769.593304</td>\n",
       "    </tr>\n",
       "  </tbody>\n",
       "</table>\n",
       "</div>"
      ],
      "text/plain": [
       "   UT1_hours       alpha      delta  year  month  days    deltaT    Lambda  \\\n",
       "0  21.575128  142.935000   8.521111  1965      1    14  0.000000 -0.789144   \n",
       "1  21.603111  157.274167  -2.395000  1965      1    14  0.124857 -0.921558   \n",
       "2  21.631420  171.817917 -14.508333  1965      1    14  0.251173 -0.958257   \n",
       "3  21.654491  183.134167 -23.563333  1965      1    14  0.354119 -0.915248   \n",
       "4  21.714094  208.640417 -40.020278  1965      1    14  0.620067 -0.672115   \n",
       "5  21.742876  219.102083 -44.998611  1965      1    14  0.748489 -0.548745   \n",
       "\n",
       "        Miu       Niu         P         Q       SG_d   deltaT_SI            jd  \n",
       "0  0.596067  0.148174  0.296272 -0.351086  78.032128    0.000000 -12769.600293  \n",
       "1  0.385984 -0.041788  0.520311 -0.193223  78.453011  100.735992 -12769.599128  \n",
       "2  0.137781 -0.250521  0.708283 -0.008122  78.878811  202.649004 -12769.597948  \n",
       "3 -0.050115 -0.399763  0.805554  0.131507  79.225833  285.707016 -12769.596987  \n",
       "4 -0.367065 -0.643059  0.870732  0.370844  80.122323  500.277024 -12769.594503  \n",
       "5 -0.445986 -0.707090  0.855495  0.434417  80.555226  603.890028 -12769.593304  "
      ]
     },
     "execution_count": 18,
     "metadata": {},
     "output_type": "execute_result"
    }
   ],
   "source": [
    "position_fram_fil.to_csv('echo1st_format.csv')\n",
    "position_fram_fil"
   ]
  },
  {
   "cell_type": "markdown",
   "metadata": {},
   "source": [
    "## PART 2 给出t0,算出t0的F,G,进而得出r0,v0"
   ]
  },
  {
   "cell_type": "code",
   "execution_count": 17,
   "metadata": {},
   "outputs": [
    {
     "ename": "KeyError",
     "evalue": "'formatT'",
     "output_type": "error",
     "traceback": [
      "\u001b[0;31m---------------------------------------------------------------------------\u001b[0m",
      "\u001b[0;31mKeyError\u001b[0m                                  Traceback (most recent call last)",
      "\u001b[0;32m~/anaconda3/lib/python3.6/site-packages/pandas/core/indexes/base.py\u001b[0m in \u001b[0;36mget_loc\u001b[0;34m(self, key, method, tolerance)\u001b[0m\n\u001b[1;32m   2441\u001b[0m             \u001b[0;32mtry\u001b[0m\u001b[0;34m:\u001b[0m\u001b[0;34m\u001b[0m\u001b[0m\n\u001b[0;32m-> 2442\u001b[0;31m                 \u001b[0;32mreturn\u001b[0m \u001b[0mself\u001b[0m\u001b[0;34m.\u001b[0m\u001b[0m_engine\u001b[0m\u001b[0;34m.\u001b[0m\u001b[0mget_loc\u001b[0m\u001b[0;34m(\u001b[0m\u001b[0mkey\u001b[0m\u001b[0;34m)\u001b[0m\u001b[0;34m\u001b[0m\u001b[0m\n\u001b[0m\u001b[1;32m   2443\u001b[0m             \u001b[0;32mexcept\u001b[0m \u001b[0mKeyError\u001b[0m\u001b[0;34m:\u001b[0m\u001b[0;34m\u001b[0m\u001b[0m\n",
      "\u001b[0;32mpandas/_libs/index.pyx\u001b[0m in \u001b[0;36mpandas._libs.index.IndexEngine.get_loc\u001b[0;34m()\u001b[0m\n",
      "\u001b[0;32mpandas/_libs/index.pyx\u001b[0m in \u001b[0;36mpandas._libs.index.IndexEngine.get_loc\u001b[0;34m()\u001b[0m\n",
      "\u001b[0;32mpandas/_libs/hashtable_class_helper.pxi\u001b[0m in \u001b[0;36mpandas._libs.hashtable.PyObjectHashTable.get_item\u001b[0;34m()\u001b[0m\n",
      "\u001b[0;32mpandas/_libs/hashtable_class_helper.pxi\u001b[0m in \u001b[0;36mpandas._libs.hashtable.PyObjectHashTable.get_item\u001b[0;34m()\u001b[0m\n",
      "\u001b[0;31mKeyError\u001b[0m: 'formatT'",
      "\nDuring handling of the above exception, another exception occurred:\n",
      "\u001b[0;31mKeyError\u001b[0m                                  Traceback (most recent call last)",
      "\u001b[0;32m<ipython-input-17-36da2933ea60>\u001b[0m in \u001b[0;36m<module>\u001b[0;34m()\u001b[0m\n\u001b[1;32m      2\u001b[0m \u001b[0mobserved_choose\u001b[0m \u001b[0;34m=\u001b[0m \u001b[0;34m[\u001b[0m\u001b[0;36m1\u001b[0m\u001b[0;34m,\u001b[0m\u001b[0;36m3\u001b[0m\u001b[0;34m,\u001b[0m\u001b[0;36m5\u001b[0m\u001b[0;34m]\u001b[0m\u001b[0;34m\u001b[0m\u001b[0m\n\u001b[1;32m      3\u001b[0m \u001b[0;34m\u001b[0m\u001b[0m\n\u001b[0;32m----> 4\u001b[0;31m \u001b[0mr0_a\u001b[0m\u001b[0;34m,\u001b[0m\u001b[0mv0_a\u001b[0m \u001b[0;34m=\u001b[0m \u001b[0mCalculatefort0\u001b[0m\u001b[0;34m(\u001b[0m\u001b[0mposition_fram_fil\u001b[0m\u001b[0;34m,\u001b[0m\u001b[0mobserved_choose\u001b[0m\u001b[0;34m,\u001b[0m\u001b[0mt0\u001b[0m\u001b[0;34m,\u001b[0m\u001b[0;36m1e-13\u001b[0m\u001b[0;34m)\u001b[0m\u001b[0;34m\u001b[0m\u001b[0m\n\u001b[0m",
      "\u001b[0;32m~/Documents/GitHub/dds_python/Celestial mechanics/DDS_Laplace.py\u001b[0m in \u001b[0;36mCalculatefort0\u001b[0;34m(position_fram_fil, obs, t0, epsilon)\u001b[0m\n\u001b[1;32m     25\u001b[0m \u001b[0;34m\u001b[0m\u001b[0m\n\u001b[1;32m     26\u001b[0m     \u001b[0mF0\u001b[0m \u001b[0;34m=\u001b[0m \u001b[0mnp\u001b[0m\u001b[0;34m.\u001b[0m\u001b[0mones\u001b[0m\u001b[0;34m(\u001b[0m\u001b[0mObserve_time\u001b[0m\u001b[0;34m)\u001b[0m\u001b[0;34m.\u001b[0m\u001b[0mtolist\u001b[0m\u001b[0;34m(\u001b[0m\u001b[0;34m)\u001b[0m\u001b[0;34m\u001b[0m\u001b[0m\n\u001b[0;32m---> 27\u001b[0;31m     \u001b[0mG0\u001b[0m \u001b[0;34m=\u001b[0m \u001b[0;34m(\u001b[0m\u001b[0mposition_fram_fil\u001b[0m\u001b[0;34m[\u001b[0m\u001b[0;34m'formatT'\u001b[0m\u001b[0;34m]\u001b[0m\u001b[0;34m.\u001b[0m\u001b[0mvalues\u001b[0m \u001b[0;34m-\u001b[0m \u001b[0mt0\u001b[0m\u001b[0;34m)\u001b[0m\u001b[0;34m.\u001b[0m\u001b[0mtolist\u001b[0m\u001b[0;34m(\u001b[0m\u001b[0;34m)\u001b[0m\u001b[0;34m\u001b[0m\u001b[0m\n\u001b[0m\u001b[1;32m     28\u001b[0m \u001b[0;34m\u001b[0m\u001b[0m\n\u001b[1;32m     29\u001b[0m     \u001b[0mFN0\u001b[0m \u001b[0;34m=\u001b[0m \u001b[0;34m[\u001b[0m\u001b[0;34m]\u001b[0m\u001b[0;34m;\u001b[0m \u001b[0mGN0\u001b[0m \u001b[0;34m=\u001b[0m \u001b[0;34m[\u001b[0m\u001b[0;34m]\u001b[0m\u001b[0;34m\u001b[0m\u001b[0m\n",
      "\u001b[0;32m~/anaconda3/lib/python3.6/site-packages/pandas/core/frame.py\u001b[0m in \u001b[0;36m__getitem__\u001b[0;34m(self, key)\u001b[0m\n\u001b[1;32m   1962\u001b[0m             \u001b[0;32mreturn\u001b[0m \u001b[0mself\u001b[0m\u001b[0;34m.\u001b[0m\u001b[0m_getitem_multilevel\u001b[0m\u001b[0;34m(\u001b[0m\u001b[0mkey\u001b[0m\u001b[0;34m)\u001b[0m\u001b[0;34m\u001b[0m\u001b[0m\n\u001b[1;32m   1963\u001b[0m         \u001b[0;32melse\u001b[0m\u001b[0;34m:\u001b[0m\u001b[0;34m\u001b[0m\u001b[0m\n\u001b[0;32m-> 1964\u001b[0;31m             \u001b[0;32mreturn\u001b[0m \u001b[0mself\u001b[0m\u001b[0;34m.\u001b[0m\u001b[0m_getitem_column\u001b[0m\u001b[0;34m(\u001b[0m\u001b[0mkey\u001b[0m\u001b[0;34m)\u001b[0m\u001b[0;34m\u001b[0m\u001b[0m\n\u001b[0m\u001b[1;32m   1965\u001b[0m \u001b[0;34m\u001b[0m\u001b[0m\n\u001b[1;32m   1966\u001b[0m     \u001b[0;32mdef\u001b[0m \u001b[0m_getitem_column\u001b[0m\u001b[0;34m(\u001b[0m\u001b[0mself\u001b[0m\u001b[0;34m,\u001b[0m \u001b[0mkey\u001b[0m\u001b[0;34m)\u001b[0m\u001b[0;34m:\u001b[0m\u001b[0;34m\u001b[0m\u001b[0m\n",
      "\u001b[0;32m~/anaconda3/lib/python3.6/site-packages/pandas/core/frame.py\u001b[0m in \u001b[0;36m_getitem_column\u001b[0;34m(self, key)\u001b[0m\n\u001b[1;32m   1969\u001b[0m         \u001b[0;31m# get column\u001b[0m\u001b[0;34m\u001b[0m\u001b[0;34m\u001b[0m\u001b[0m\n\u001b[1;32m   1970\u001b[0m         \u001b[0;32mif\u001b[0m \u001b[0mself\u001b[0m\u001b[0;34m.\u001b[0m\u001b[0mcolumns\u001b[0m\u001b[0;34m.\u001b[0m\u001b[0mis_unique\u001b[0m\u001b[0;34m:\u001b[0m\u001b[0;34m\u001b[0m\u001b[0m\n\u001b[0;32m-> 1971\u001b[0;31m             \u001b[0;32mreturn\u001b[0m \u001b[0mself\u001b[0m\u001b[0;34m.\u001b[0m\u001b[0m_get_item_cache\u001b[0m\u001b[0;34m(\u001b[0m\u001b[0mkey\u001b[0m\u001b[0;34m)\u001b[0m\u001b[0;34m\u001b[0m\u001b[0m\n\u001b[0m\u001b[1;32m   1972\u001b[0m \u001b[0;34m\u001b[0m\u001b[0m\n\u001b[1;32m   1973\u001b[0m         \u001b[0;31m# duplicate columns & possible reduce dimensionality\u001b[0m\u001b[0;34m\u001b[0m\u001b[0;34m\u001b[0m\u001b[0m\n",
      "\u001b[0;32m~/anaconda3/lib/python3.6/site-packages/pandas/core/generic.py\u001b[0m in \u001b[0;36m_get_item_cache\u001b[0;34m(self, item)\u001b[0m\n\u001b[1;32m   1643\u001b[0m         \u001b[0mres\u001b[0m \u001b[0;34m=\u001b[0m \u001b[0mcache\u001b[0m\u001b[0;34m.\u001b[0m\u001b[0mget\u001b[0m\u001b[0;34m(\u001b[0m\u001b[0mitem\u001b[0m\u001b[0;34m)\u001b[0m\u001b[0;34m\u001b[0m\u001b[0m\n\u001b[1;32m   1644\u001b[0m         \u001b[0;32mif\u001b[0m \u001b[0mres\u001b[0m \u001b[0;32mis\u001b[0m \u001b[0;32mNone\u001b[0m\u001b[0;34m:\u001b[0m\u001b[0;34m\u001b[0m\u001b[0m\n\u001b[0;32m-> 1645\u001b[0;31m             \u001b[0mvalues\u001b[0m \u001b[0;34m=\u001b[0m \u001b[0mself\u001b[0m\u001b[0;34m.\u001b[0m\u001b[0m_data\u001b[0m\u001b[0;34m.\u001b[0m\u001b[0mget\u001b[0m\u001b[0;34m(\u001b[0m\u001b[0mitem\u001b[0m\u001b[0;34m)\u001b[0m\u001b[0;34m\u001b[0m\u001b[0m\n\u001b[0m\u001b[1;32m   1646\u001b[0m             \u001b[0mres\u001b[0m \u001b[0;34m=\u001b[0m \u001b[0mself\u001b[0m\u001b[0;34m.\u001b[0m\u001b[0m_box_item_values\u001b[0m\u001b[0;34m(\u001b[0m\u001b[0mitem\u001b[0m\u001b[0;34m,\u001b[0m \u001b[0mvalues\u001b[0m\u001b[0;34m)\u001b[0m\u001b[0;34m\u001b[0m\u001b[0m\n\u001b[1;32m   1647\u001b[0m             \u001b[0mcache\u001b[0m\u001b[0;34m[\u001b[0m\u001b[0mitem\u001b[0m\u001b[0;34m]\u001b[0m \u001b[0;34m=\u001b[0m \u001b[0mres\u001b[0m\u001b[0;34m\u001b[0m\u001b[0m\n",
      "\u001b[0;32m~/anaconda3/lib/python3.6/site-packages/pandas/core/internals.py\u001b[0m in \u001b[0;36mget\u001b[0;34m(self, item, fastpath)\u001b[0m\n\u001b[1;32m   3588\u001b[0m \u001b[0;34m\u001b[0m\u001b[0m\n\u001b[1;32m   3589\u001b[0m             \u001b[0;32mif\u001b[0m \u001b[0;32mnot\u001b[0m \u001b[0misnull\u001b[0m\u001b[0;34m(\u001b[0m\u001b[0mitem\u001b[0m\u001b[0;34m)\u001b[0m\u001b[0;34m:\u001b[0m\u001b[0;34m\u001b[0m\u001b[0m\n\u001b[0;32m-> 3590\u001b[0;31m                 \u001b[0mloc\u001b[0m \u001b[0;34m=\u001b[0m \u001b[0mself\u001b[0m\u001b[0;34m.\u001b[0m\u001b[0mitems\u001b[0m\u001b[0;34m.\u001b[0m\u001b[0mget_loc\u001b[0m\u001b[0;34m(\u001b[0m\u001b[0mitem\u001b[0m\u001b[0;34m)\u001b[0m\u001b[0;34m\u001b[0m\u001b[0m\n\u001b[0m\u001b[1;32m   3591\u001b[0m             \u001b[0;32melse\u001b[0m\u001b[0;34m:\u001b[0m\u001b[0;34m\u001b[0m\u001b[0m\n\u001b[1;32m   3592\u001b[0m                 \u001b[0mindexer\u001b[0m \u001b[0;34m=\u001b[0m \u001b[0mnp\u001b[0m\u001b[0;34m.\u001b[0m\u001b[0marange\u001b[0m\u001b[0;34m(\u001b[0m\u001b[0mlen\u001b[0m\u001b[0;34m(\u001b[0m\u001b[0mself\u001b[0m\u001b[0;34m.\u001b[0m\u001b[0mitems\u001b[0m\u001b[0;34m)\u001b[0m\u001b[0;34m)\u001b[0m\u001b[0;34m[\u001b[0m\u001b[0misnull\u001b[0m\u001b[0;34m(\u001b[0m\u001b[0mself\u001b[0m\u001b[0;34m.\u001b[0m\u001b[0mitems\u001b[0m\u001b[0;34m)\u001b[0m\u001b[0;34m]\u001b[0m\u001b[0;34m\u001b[0m\u001b[0m\n",
      "\u001b[0;32m~/anaconda3/lib/python3.6/site-packages/pandas/core/indexes/base.py\u001b[0m in \u001b[0;36mget_loc\u001b[0;34m(self, key, method, tolerance)\u001b[0m\n\u001b[1;32m   2442\u001b[0m                 \u001b[0;32mreturn\u001b[0m \u001b[0mself\u001b[0m\u001b[0;34m.\u001b[0m\u001b[0m_engine\u001b[0m\u001b[0;34m.\u001b[0m\u001b[0mget_loc\u001b[0m\u001b[0;34m(\u001b[0m\u001b[0mkey\u001b[0m\u001b[0;34m)\u001b[0m\u001b[0;34m\u001b[0m\u001b[0m\n\u001b[1;32m   2443\u001b[0m             \u001b[0;32mexcept\u001b[0m \u001b[0mKeyError\u001b[0m\u001b[0;34m:\u001b[0m\u001b[0;34m\u001b[0m\u001b[0m\n\u001b[0;32m-> 2444\u001b[0;31m                 \u001b[0;32mreturn\u001b[0m \u001b[0mself\u001b[0m\u001b[0;34m.\u001b[0m\u001b[0m_engine\u001b[0m\u001b[0;34m.\u001b[0m\u001b[0mget_loc\u001b[0m\u001b[0;34m(\u001b[0m\u001b[0mself\u001b[0m\u001b[0;34m.\u001b[0m\u001b[0m_maybe_cast_indexer\u001b[0m\u001b[0;34m(\u001b[0m\u001b[0mkey\u001b[0m\u001b[0;34m)\u001b[0m\u001b[0;34m)\u001b[0m\u001b[0;34m\u001b[0m\u001b[0m\n\u001b[0m\u001b[1;32m   2445\u001b[0m \u001b[0;34m\u001b[0m\u001b[0m\n\u001b[1;32m   2446\u001b[0m         \u001b[0mindexer\u001b[0m \u001b[0;34m=\u001b[0m \u001b[0mself\u001b[0m\u001b[0;34m.\u001b[0m\u001b[0mget_indexer\u001b[0m\u001b[0;34m(\u001b[0m\u001b[0;34m[\u001b[0m\u001b[0mkey\u001b[0m\u001b[0;34m]\u001b[0m\u001b[0;34m,\u001b[0m \u001b[0mmethod\u001b[0m\u001b[0;34m=\u001b[0m\u001b[0mmethod\u001b[0m\u001b[0;34m,\u001b[0m \u001b[0mtolerance\u001b[0m\u001b[0;34m=\u001b[0m\u001b[0mtolerance\u001b[0m\u001b[0;34m)\u001b[0m\u001b[0;34m\u001b[0m\u001b[0m\n",
      "\u001b[0;32mpandas/_libs/index.pyx\u001b[0m in \u001b[0;36mpandas._libs.index.IndexEngine.get_loc\u001b[0;34m()\u001b[0m\n",
      "\u001b[0;32mpandas/_libs/index.pyx\u001b[0m in \u001b[0;36mpandas._libs.index.IndexEngine.get_loc\u001b[0;34m()\u001b[0m\n",
      "\u001b[0;32mpandas/_libs/hashtable_class_helper.pxi\u001b[0m in \u001b[0;36mpandas._libs.hashtable.PyObjectHashTable.get_item\u001b[0;34m()\u001b[0m\n",
      "\u001b[0;32mpandas/_libs/hashtable_class_helper.pxi\u001b[0m in \u001b[0;36mpandas._libs.hashtable.PyObjectHashTable.get_item\u001b[0;34m()\u001b[0m\n",
      "\u001b[0;31mKeyError\u001b[0m: 'formatT'"
     ]
    }
   ],
   "source": [
    "t0 = 0.5*(position_fram_fil['deltaT'].values[0] + position_fram_fil['deltaT'].values[5])\n",
    "observed_choose = [1,3,5]\n",
    "\n",
    "r0_a,v0_a = Calculatefort0(position_fram_fil,observed_choose,t0,1e-13)"
   ]
  },
  {
   "cell_type": "code",
   "execution_count": 12,
   "metadata": {},
   "outputs": [
    {
     "name": "stdout",
     "output_type": "stream",
     "text": [
      "[-7245.98540944 -1874.17826161  2365.63579833] r0: 7849.400068826888 km =  1.232051494086782 R_earth; h: 1484.1212268268876 km\n",
      "[-0.05590008 -5.20070644 -4.79699883] v0: 7.07542720284154 km/s =  0.8960189851625999 R_earth/[T]\n",
      "301.94499960000485 s\n"
     ]
    }
   ],
   "source": [
    "r0 = np.sqrt(np.dot(r0_a,r0_a))\n",
    "v0 = np.sqrt(np.dot(v0_a,v0_a))\n",
    "\n",
    "print(r0_a*R_earth,'r0:',r0*R_earth,'km = ',r0,'R_earth;','h:',(r0-r_station_earth)*R_earth,'km')\n",
    "\n",
    "print(v0_a*R_earth/time_unit,'v0:',v0*R_earth/time_unit,'km/s = ',v0,'R_earth/[T]')\n",
    "\n",
    "print(t0*time_unit,'s')"
   ]
  },
  {
   "cell_type": "code",
   "execution_count": 14,
   "metadata": {},
   "outputs": [
    {
     "data": {
      "text/plain": [
       "0.9891525688515705"
      ]
     },
     "execution_count": 14,
     "metadata": {},
     "output_type": "execute_result"
    }
   ],
   "source": [
    "v0**2 * r0"
   ]
  },
  {
   "cell_type": "code",
   "execution_count": 15,
   "metadata": {
    "scrolled": true
   },
   "outputs": [
    {
     "data": {
      "text/plain": [
       "array([-7245.98540944, -1874.17826161,  2365.63579833])"
      ]
     },
     "execution_count": 15,
     "metadata": {},
     "output_type": "execute_result"
    }
   ],
   "source": [
    "r0_a*R_earth"
   ]
  },
  {
   "cell_type": "code",
   "execution_count": 16,
   "metadata": {
    "scrolled": true
   },
   "outputs": [
    {
     "data": {
      "text/plain": [
       "array([-0.05590008, -5.20070644, -4.79699883])"
      ]
     },
     "execution_count": 16,
     "metadata": {},
     "output_type": "execute_result"
    }
   ],
   "source": [
    "v0_a*R_earth/time_unit"
   ]
  },
  {
   "cell_type": "markdown",
   "metadata": {},
   "source": [
    "## 2. 已知某一时刻的位置矢量和速度矢量，求轨道六根数\n",
    "\n",
    "按照笔记方法,逐步求得：\n",
    "* a\n",
    "* n()\n",
    "* E()\n",
    "* e\n",
    "* M\n",
    "* i Omega w"
   ]
  },
  {
   "cell_type": "code",
   "execution_count": 17,
   "metadata": {
    "collapsed": true
   },
   "outputs": [],
   "source": [
    "# 从第二步开始，因为不需要用到F,G的计算，所以不用再取理论单位，现在取国际单位制\n",
    "# astronomy constants\n",
    "R_earth = 6371e3 # m\n",
    "\n",
    "M_earth = 5.965e24 # kg\n",
    "G_graviation = 6.672e-11 # N·m^2 /kg^2 \n",
    "\n",
    "au = 149597870e3 # m\n",
    "r_station_earth = 0.999102 #*R_earth\n",
    "r_earth_sun = 1*au\n",
    "\n",
    "time_unit = 806.81163 #806.8116 # SI \n",
    "\n",
    "# miu_GM = 398600.5e-6 # km^3/SI^2\n",
    "\n",
    "miu_GM = G_graviation*M_earth # m^3/SI^2"
   ]
  },
  {
   "cell_type": "code",
   "execution_count": 19,
   "metadata": {},
   "outputs": [
    {
     "name": "stdout",
     "output_type": "stream",
     "text": [
      "a 7751418.3357464885 m\n",
      "n: 0.0009244032824160432 rad/s - Not Output\n",
      "e: 0.02496681410596837 Nan\n",
      "E: 4.181509802684073 rad - Not Output\n",
      "M: 4.203040241507634 rad\n",
      "i,Omega,w: 0.827385156755234 0.5479439050679501 -1.4400860495680883 rad/rad/rad\n"
     ]
    }
   ],
   "source": [
    "a,e,M,i,Omega,w,P,Q,R = Calculatefor6elements(r0_a,v0_a,t0,1)\n"
   ]
  },
  {
   "cell_type": "code",
   "execution_count": 20,
   "metadata": {},
   "outputs": [
    {
     "data": {
      "text/plain": [
       "array([240.81646696,  47.40567751,  31.39487317, -82.51085278])"
      ]
     },
     "execution_count": 20,
     "metadata": {},
     "output_type": "execute_result"
    }
   ],
   "source": [
    "np.degrees(np.array([M,i,Omega,w]))"
   ]
  },
  {
   "cell_type": "markdown",
   "metadata": {},
   "source": [
    "## 3. 由轨道6根数归算星历表\n",
    "\n",
    "已知：\n",
    "* a, # m\n",
    "* n(), # rad/s\n",
    "* E(), # rad\n",
    "* e, # Nan\n",
    "* M, # rad\n",
    "* [i, Omega, w] = P,Q # [rad,rad,rad]\n",
    "\n",
    "t0 = 121.0217445 **# unit = SI from the first data we have**\n",
    "\n",
    "M = M0 + n(t-t0)\n",
    "\n",
    "M = E - esin(E)"
   ]
  },
  {
   "cell_type": "code",
   "execution_count": 19,
   "metadata": {},
   "outputs": [
    {
     "name": "stdout",
     "output_type": "stream",
     "text": [
      "a 7751418.3357464885 e 0.02496681410596837 M 4.203040241507634 0.827385156755234 0.5479439050679501 -1.4400860495680883\n"
     ]
    }
   ],
   "source": [
    "print('a',a,'e',e,'M',M,i,Omega,w)"
   ]
  },
  {
   "cell_type": "code",
   "execution_count": 20,
   "metadata": {},
   "outputs": [
    {
     "data": {
      "text/plain": [
       "0.0009244032824160432"
      ]
     },
     "execution_count": 20,
     "metadata": {},
     "output_type": "execute_result"
    }
   ],
   "source": [
    "# 假设我们已知a,e,M,i,Omega,w,那么E,n均需要从六根数推出来。\n",
    "\n",
    "n = np.sqrt(miu_GM/a**3)\n",
    "\n",
    "n"
   ]
  },
  {
   "cell_type": "code",
   "execution_count": 21,
   "metadata": {},
   "outputs": [
    {
     "name": "stdout",
     "output_type": "stream",
     "text": [
      "6797.017521138283\n"
     ]
    }
   ],
   "source": [
    "# calculate keplar equation\n",
    "# 设置初值t0 和我们需要归算的时间t\n",
    "\n",
    "# 我将计算以整个周期为倍数的时间序列\n",
    "# set T\n",
    "\n",
    "T = 2*np.pi/n\n",
    "print(T)\n"
   ]
  },
  {
   "cell_type": "code",
   "execution_count": 22,
   "metadata": {},
   "outputs": [
    {
     "name": "stdout",
     "output_type": "stream",
     "text": [
      "[-301.9449996 -201.2090184  -99.2959992  -16.2380016  198.3319992\n",
      "  301.9449996]\n",
      "[3.92392129 4.01704196 4.11125069 4.18802978 4.38637899 4.48215919]\n"
     ]
    }
   ],
   "source": [
    "# set t\n",
    "\n",
    "# t = np.arange(-201,T,) # unit = SI\n",
    "\n",
    "t = (position_fram_fil['deltaT'].values - t0)*time_unit\n",
    "\n",
    "t_forecast = t\n",
    "Mt = (M + n*(t))%(2*np.pi)\n",
    "\n",
    "print(t)\n",
    "print(Mt)"
   ]
  },
  {
   "cell_type": "code",
   "execution_count": 23,
   "metadata": {
    "scrolled": true
   },
   "outputs": [
    {
     "name": "stdout",
     "output_type": "stream",
     "text": [
      "3.906630176305218\n",
      "3.9981768034472953\n",
      "4.090951614954833\n",
      "4.166689040743233\n",
      "4.362921294943734\n",
      "4.457995897105813\n"
     ]
    }
   ],
   "source": [
    "# 迭代 开普勒方程解 E\n",
    "Et = []\n",
    "epsilon = 1e-6\n",
    "for M_single in Mt:\n",
    "#     print(M_single)\n",
    "    key = 0\n",
    "    En0 = M_single\n",
    "    Enw = [En0]\n",
    "    Nwind = 0\n",
    "    while key == 0:\n",
    "        Enw.append(M_single + e*np.sin(Enw[Nwind]))\n",
    "\n",
    "        Nwind += 1\n",
    "#         print(Enw[Nwind])\n",
    "\n",
    "        delta_Enw = np.abs(Enw[Nwind] - Enw[Nwind - 1])\n",
    "#         print(delta_Enw)\n",
    "#         print('------------')\n",
    "\n",
    "        if delta_Enw < epsilon:\n",
    "            key = 1;\n",
    "\n",
    "    E_single = Enw[Nwind]\n",
    "    print(E_single)\n",
    "    Et.append(E_single)\n",
    "# print('E:',Et)"
   ]
  },
  {
   "cell_type": "code",
   "execution_count": 24,
   "metadata": {},
   "outputs": [
    {
     "name": "stdout",
     "output_type": "stream",
     "text": [
      "[ 0.46064345 -0.50502068 -0.72990528] [0.79996673 0.59154962 0.0959532 ]\n",
      "[ 0.46081815 -0.50489153 -0.72988436] [0.80036256 0.59178821 0.09595045]\n"
     ]
    }
   ],
   "source": [
    "# 给出P_new, Q_new\n",
    "P_new = np.array([np.cos(Omega)*np.cos(w) - np.sin(Omega)*np.sin(w)*np.cos(i),\\\n",
    "                 np.sin(Omega)*np.cos(w) + np.cos(Omega)*np.sin(w)*np.cos(i),\\\n",
    "                 np.sin(w)*np.sin(i) ])\n",
    "Q_new = np.array([-np.cos(Omega)*np.sin(w) - np.sin(Omega)*np.cos(w)*np.cos(i),\\\n",
    "                 -np.sin(Omega)*np.sin(w) + np.cos(Omega)*np.cos(w)*np.cos(i),\\\n",
    "                 np.cos(w)*np.sin(i)])\n",
    "\n",
    "print(P,Q)\n",
    "print(P_new,Q_new)"
   ]
  },
  {
   "cell_type": "code",
   "execution_count": 25,
   "metadata": {
    "collapsed": true
   },
   "outputs": [],
   "source": [
    "# 归算rt, vt\n",
    "rt = [];vt=[];\n",
    "for Et_single in Et:\n",
    "    rt_single = a*(np.cos(Et_single) - e)*P_new + a*np.sqrt(1 - e**2)*np.sin(Et_single)*Q_new\n",
    "    \n",
    "    rt_single_norm = np.sqrt( np.dot(rt_single,rt_single) )\n",
    "    rt.append(rt_single)\n",
    "    \n",
    "    vt_single = -a**2*n/rt_single_norm*np.sin(Et_single)*P_new \\\n",
    "    + a**2*n/rt_single_norm*np.sqrt(1 - e**2)*np.cos(Et_single)*Q_new\n",
    "    \n",
    "    vt_single_norm = np.sqrt( np.dot(vt_single,vt_single) )\n",
    "    vt.append(rt_single)\n",
    "    \n",
    "#     print(rt_single_norm/10**3,vt_single_norm/10**3)\n",
    "    \n",
    "rt = np.array(rt)\n",
    "vt = np.array(vt)"
   ]
  },
  {
   "cell_type": "code",
   "execution_count": 26,
   "metadata": {
    "collapsed": true
   },
   "outputs": [],
   "source": [
    "# 计算预测的方向矢量L，赤经，赤纬\n",
    "P_earth = rt\n",
    "station_earth = np.array([-0.81000791, -0.25188507,  0.52786921])*R_earth\n",
    "\n",
    "P_station = P_earth - station_earth\n",
    "\n",
    "L_forecast_total = [];\n",
    "Alpha_forecast = [];\n",
    "Delta_forecast = [];\n",
    "Nwind = 0\n",
    "for P_station_single in P_station:\n",
    "    # 计算我们测站的赤经Alpha_forecast 和赤纬Delta_forecast\n",
    "    L_forecast_total.append( P_station_single/np.sqrt(np.dot(P_station_single,P_station_single)) )\n",
    "    \n",
    "    Delta_forecast.append( np.arcsin(L_forecast_total[Nwind][2]) )\n",
    "    Alpha_forecast.append( arctan2(L_forecast_total[Nwind][1]/np.cos(Delta_forecast[Nwind]),\\\n",
    "                                   L_forecast_total[Nwind][0]/np.cos(Delta_forecast[Nwind])) )\n",
    "    \n",
    "    Nwind += 1;\n",
    "\n",
    "##############################################\n",
    "\n",
    "Forecast_fram = pd.DataFrame({'Alpha': np.array(Alpha_forecast),\n",
    "                              'Alpha_d':np.degrees(np.array(Alpha_forecast)),\n",
    "                             'Delta':np.array(Delta_forecast),\n",
    "                              'Delta_d':np.degrees(np.array(Delta_forecast)),\n",
    "                             'deltaT':t_forecast-t_forecast[0],\n",
    "                             'x':rt[:,0],\n",
    "                             'y':rt[:,1],\n",
    "                             'z':rt[:,2],\n",
    "                             'vx':vt[:,0],\n",
    "                             'vy':vt[:,1],\n",
    "                             'vz':vt[:,2]})\n",
    "\n",
    "# print(L_forecast_total)"
   ]
  },
  {
   "cell_type": "code",
   "execution_count": 27,
   "metadata": {
    "scrolled": true
   },
   "outputs": [
    {
     "data": {
      "text/html": [
       "<div>\n",
       "<style>\n",
       "    .dataframe thead tr:only-child th {\n",
       "        text-align: right;\n",
       "    }\n",
       "\n",
       "    .dataframe thead th {\n",
       "        text-align: left;\n",
       "    }\n",
       "\n",
       "    .dataframe tbody tr th {\n",
       "        vertical-align: top;\n",
       "    }\n",
       "</style>\n",
       "<table border=\"1\" class=\"dataframe\">\n",
       "  <thead>\n",
       "    <tr style=\"text-align: right;\">\n",
       "      <th></th>\n",
       "      <th>Alpha</th>\n",
       "      <th>Alpha_d</th>\n",
       "      <th>Delta</th>\n",
       "      <th>Delta_d</th>\n",
       "      <th>deltaT</th>\n",
       "      <th>vx</th>\n",
       "      <th>vy</th>\n",
       "      <th>vz</th>\n",
       "      <th>x</th>\n",
       "      <th>y</th>\n",
       "      <th>z</th>\n",
       "    </tr>\n",
       "  </thead>\n",
       "  <tbody>\n",
       "    <tr>\n",
       "      <th>0</th>\n",
       "      <td>2.498373</td>\n",
       "      <td>143.146252</td>\n",
       "      <td>0.151886</td>\n",
       "      <td>8.702443</td>\n",
       "      <td>0.000000</td>\n",
       "      <td>-6.961152e+06</td>\n",
       "      <td>-2.551088e+05</td>\n",
       "      <td>3.707492e+06</td>\n",
       "      <td>-6.961152e+06</td>\n",
       "      <td>-2.551088e+05</td>\n",
       "      <td>3.707492e+06</td>\n",
       "    </tr>\n",
       "    <tr>\n",
       "      <th>1</th>\n",
       "      <td>2.752704</td>\n",
       "      <td>157.718321</td>\n",
       "      <td>-0.036782</td>\n",
       "      <td>-2.107448</td>\n",
       "      <td>100.735981</td>\n",
       "      <td>-7.115216e+06</td>\n",
       "      <td>-8.038272e+05</td>\n",
       "      <td>3.285322e+06</td>\n",
       "      <td>-7.115216e+06</td>\n",
       "      <td>-8.038272e+05</td>\n",
       "      <td>3.285322e+06</td>\n",
       "    </tr>\n",
       "    <tr>\n",
       "      <th>2</th>\n",
       "      <td>3.019047</td>\n",
       "      <td>172.978645</td>\n",
       "      <td>-0.252186</td>\n",
       "      <td>-14.449184</td>\n",
       "      <td>202.649000</td>\n",
       "      <td>-7.211310e+06</td>\n",
       "      <td>-1.352183e+06</td>\n",
       "      <td>2.830642e+06</td>\n",
       "      <td>-7.211310e+06</td>\n",
       "      <td>-1.352183e+06</td>\n",
       "      <td>2.830642e+06</td>\n",
       "    </tr>\n",
       "    <tr>\n",
       "      <th>3</th>\n",
       "      <td>3.230637</td>\n",
       "      <td>185.101892</td>\n",
       "      <td>-0.414670</td>\n",
       "      <td>-23.758859</td>\n",
       "      <td>285.706998</td>\n",
       "      <td>-7.244362e+06</td>\n",
       "      <td>-1.790804e+06</td>\n",
       "      <td>2.442127e+06</td>\n",
       "      <td>-7.244362e+06</td>\n",
       "      <td>-1.790804e+06</td>\n",
       "      <td>2.442127e+06</td>\n",
       "    </tr>\n",
       "    <tr>\n",
       "      <th>4</th>\n",
       "      <td>3.710786</td>\n",
       "      <td>212.612386</td>\n",
       "      <td>-0.701128</td>\n",
       "      <td>-40.171673</td>\n",
       "      <td>500.276999</td>\n",
       "      <td>-7.139355e+06</td>\n",
       "      <td>-2.870855e+06</td>\n",
       "      <td>1.379838e+06</td>\n",
       "      <td>-7.139355e+06</td>\n",
       "      <td>-2.870855e+06</td>\n",
       "      <td>1.379838e+06</td>\n",
       "    </tr>\n",
       "    <tr>\n",
       "      <th>5</th>\n",
       "      <td>3.904895</td>\n",
       "      <td>223.733979</td>\n",
       "      <td>-0.782428</td>\n",
       "      <td>-44.829838</td>\n",
       "      <td>603.889999</td>\n",
       "      <td>-6.990509e+06</td>\n",
       "      <td>-3.355575e+06</td>\n",
       "      <td>8.454528e+05</td>\n",
       "      <td>-6.990509e+06</td>\n",
       "      <td>-3.355575e+06</td>\n",
       "      <td>8.454528e+05</td>\n",
       "    </tr>\n",
       "  </tbody>\n",
       "</table>\n",
       "</div>"
      ],
      "text/plain": [
       "      Alpha     Alpha_d     Delta    Delta_d      deltaT            vx  \\\n",
       "0  2.498373  143.146252  0.151886   8.702443    0.000000 -6.961152e+06   \n",
       "1  2.752704  157.718321 -0.036782  -2.107448  100.735981 -7.115216e+06   \n",
       "2  3.019047  172.978645 -0.252186 -14.449184  202.649000 -7.211310e+06   \n",
       "3  3.230637  185.101892 -0.414670 -23.758859  285.706998 -7.244362e+06   \n",
       "4  3.710786  212.612386 -0.701128 -40.171673  500.276999 -7.139355e+06   \n",
       "5  3.904895  223.733979 -0.782428 -44.829838  603.889999 -6.990509e+06   \n",
       "\n",
       "             vy            vz             x             y             z  \n",
       "0 -2.551088e+05  3.707492e+06 -6.961152e+06 -2.551088e+05  3.707492e+06  \n",
       "1 -8.038272e+05  3.285322e+06 -7.115216e+06 -8.038272e+05  3.285322e+06  \n",
       "2 -1.352183e+06  2.830642e+06 -7.211310e+06 -1.352183e+06  2.830642e+06  \n",
       "3 -1.790804e+06  2.442127e+06 -7.244362e+06 -1.790804e+06  2.442127e+06  \n",
       "4 -2.870855e+06  1.379838e+06 -7.139355e+06 -2.870855e+06  1.379838e+06  \n",
       "5 -3.355575e+06  8.454528e+05 -6.990509e+06 -3.355575e+06  8.454528e+05  "
      ]
     },
     "execution_count": 27,
     "metadata": {},
     "output_type": "execute_result"
    }
   ],
   "source": [
    "Forecast_fram.to_csv('echo1st_forecast.csv')\n",
    "Forecast_fram\n"
   ]
  },
  {
   "cell_type": "code",
   "execution_count": 28,
   "metadata": {},
   "outputs": [
    {
     "data": {
      "text/html": [
       "<div>\n",
       "<style>\n",
       "    .dataframe thead tr:only-child th {\n",
       "        text-align: right;\n",
       "    }\n",
       "\n",
       "    .dataframe thead th {\n",
       "        text-align: left;\n",
       "    }\n",
       "\n",
       "    .dataframe tbody tr th {\n",
       "        vertical-align: top;\n",
       "    }\n",
       "</style>\n",
       "<table border=\"1\" class=\"dataframe\">\n",
       "  <thead>\n",
       "    <tr style=\"text-align: right;\">\n",
       "      <th></th>\n",
       "      <th>UT1_hours</th>\n",
       "      <th>alpha</th>\n",
       "      <th>delta</th>\n",
       "      <th>year</th>\n",
       "      <th>month</th>\n",
       "      <th>days</th>\n",
       "      <th>deltaT</th>\n",
       "      <th>Lambda</th>\n",
       "      <th>Miu</th>\n",
       "      <th>Niu</th>\n",
       "      <th>P</th>\n",
       "      <th>Q</th>\n",
       "      <th>SG_d</th>\n",
       "      <th>deltaT_SI</th>\n",
       "      <th>jd</th>\n",
       "    </tr>\n",
       "  </thead>\n",
       "  <tbody>\n",
       "    <tr>\n",
       "      <th>0</th>\n",
       "      <td>21.575128</td>\n",
       "      <td>142.935000</td>\n",
       "      <td>8.521111</td>\n",
       "      <td>1965</td>\n",
       "      <td>1</td>\n",
       "      <td>14</td>\n",
       "      <td>0.000000</td>\n",
       "      <td>-0.789144</td>\n",
       "      <td>0.596067</td>\n",
       "      <td>0.148174</td>\n",
       "      <td>0.296272</td>\n",
       "      <td>-0.351086</td>\n",
       "      <td>78.032128</td>\n",
       "      <td>0.000000</td>\n",
       "      <td>-12769.600293</td>\n",
       "    </tr>\n",
       "    <tr>\n",
       "      <th>1</th>\n",
       "      <td>21.603111</td>\n",
       "      <td>157.274167</td>\n",
       "      <td>-2.395000</td>\n",
       "      <td>1965</td>\n",
       "      <td>1</td>\n",
       "      <td>14</td>\n",
       "      <td>0.124857</td>\n",
       "      <td>-0.921558</td>\n",
       "      <td>0.385984</td>\n",
       "      <td>-0.041788</td>\n",
       "      <td>0.520311</td>\n",
       "      <td>-0.193223</td>\n",
       "      <td>78.453011</td>\n",
       "      <td>100.735981</td>\n",
       "      <td>-12769.599128</td>\n",
       "    </tr>\n",
       "    <tr>\n",
       "      <th>2</th>\n",
       "      <td>21.631420</td>\n",
       "      <td>171.817917</td>\n",
       "      <td>-14.508333</td>\n",
       "      <td>1965</td>\n",
       "      <td>1</td>\n",
       "      <td>14</td>\n",
       "      <td>0.251173</td>\n",
       "      <td>-0.958257</td>\n",
       "      <td>0.137781</td>\n",
       "      <td>-0.250521</td>\n",
       "      <td>0.708283</td>\n",
       "      <td>-0.008122</td>\n",
       "      <td>78.878811</td>\n",
       "      <td>202.649000</td>\n",
       "      <td>-12769.597948</td>\n",
       "    </tr>\n",
       "    <tr>\n",
       "      <th>3</th>\n",
       "      <td>21.654491</td>\n",
       "      <td>183.134167</td>\n",
       "      <td>-23.563333</td>\n",
       "      <td>1965</td>\n",
       "      <td>1</td>\n",
       "      <td>14</td>\n",
       "      <td>0.354119</td>\n",
       "      <td>-0.915248</td>\n",
       "      <td>-0.050115</td>\n",
       "      <td>-0.399763</td>\n",
       "      <td>0.805554</td>\n",
       "      <td>0.131507</td>\n",
       "      <td>79.225833</td>\n",
       "      <td>285.706998</td>\n",
       "      <td>-12769.596987</td>\n",
       "    </tr>\n",
       "    <tr>\n",
       "      <th>4</th>\n",
       "      <td>21.714094</td>\n",
       "      <td>208.640417</td>\n",
       "      <td>-40.020278</td>\n",
       "      <td>1965</td>\n",
       "      <td>1</td>\n",
       "      <td>14</td>\n",
       "      <td>0.620067</td>\n",
       "      <td>-0.672115</td>\n",
       "      <td>-0.367065</td>\n",
       "      <td>-0.643059</td>\n",
       "      <td>0.870732</td>\n",
       "      <td>0.370844</td>\n",
       "      <td>80.122323</td>\n",
       "      <td>500.276999</td>\n",
       "      <td>-12769.594503</td>\n",
       "    </tr>\n",
       "    <tr>\n",
       "      <th>5</th>\n",
       "      <td>21.742876</td>\n",
       "      <td>219.102083</td>\n",
       "      <td>-44.998611</td>\n",
       "      <td>1965</td>\n",
       "      <td>1</td>\n",
       "      <td>14</td>\n",
       "      <td>0.748489</td>\n",
       "      <td>-0.548745</td>\n",
       "      <td>-0.445986</td>\n",
       "      <td>-0.707090</td>\n",
       "      <td>0.855495</td>\n",
       "      <td>0.434417</td>\n",
       "      <td>80.555226</td>\n",
       "      <td>603.889999</td>\n",
       "      <td>-12769.593304</td>\n",
       "    </tr>\n",
       "  </tbody>\n",
       "</table>\n",
       "</div>"
      ],
      "text/plain": [
       "   UT1_hours       alpha      delta  year  month  days    deltaT    Lambda  \\\n",
       "0  21.575128  142.935000   8.521111  1965      1    14  0.000000 -0.789144   \n",
       "1  21.603111  157.274167  -2.395000  1965      1    14  0.124857 -0.921558   \n",
       "2  21.631420  171.817917 -14.508333  1965      1    14  0.251173 -0.958257   \n",
       "3  21.654491  183.134167 -23.563333  1965      1    14  0.354119 -0.915248   \n",
       "4  21.714094  208.640417 -40.020278  1965      1    14  0.620067 -0.672115   \n",
       "5  21.742876  219.102083 -44.998611  1965      1    14  0.748489 -0.548745   \n",
       "\n",
       "        Miu       Niu         P         Q       SG_d   deltaT_SI            jd  \n",
       "0  0.596067  0.148174  0.296272 -0.351086  78.032128    0.000000 -12769.600293  \n",
       "1  0.385984 -0.041788  0.520311 -0.193223  78.453011  100.735981 -12769.599128  \n",
       "2  0.137781 -0.250521  0.708283 -0.008122  78.878811  202.649000 -12769.597948  \n",
       "3 -0.050115 -0.399763  0.805554  0.131507  79.225833  285.706998 -12769.596987  \n",
       "4 -0.367065 -0.643059  0.870732  0.370844  80.122323  500.276999 -12769.594503  \n",
       "5 -0.445986 -0.707090  0.855495  0.434417  80.555226  603.889999 -12769.593304  "
      ]
     },
     "execution_count": 28,
     "metadata": {},
     "output_type": "execute_result"
    }
   ],
   "source": [
    "position_fram_fil"
   ]
  },
  {
   "cell_type": "markdown",
   "metadata": {},
   "source": [
    "## 计算残差 见 step3 - echo1st"
   ]
  },
  {
   "cell_type": "code",
   "execution_count": null,
   "metadata": {
    "collapsed": true
   },
   "outputs": [],
   "source": []
  },
  {
   "cell_type": "code",
   "execution_count": null,
   "metadata": {
    "collapsed": true
   },
   "outputs": [],
   "source": []
  }
 ],
 "metadata": {
  "kernelspec": {
   "display_name": "Python 3",
   "language": "python",
   "name": "python3"
  },
  "language_info": {
   "codemirror_mode": {
    "name": "ipython",
    "version": 3
   },
   "file_extension": ".py",
   "mimetype": "text/x-python",
   "name": "python",
   "nbconvert_exporter": "python",
   "pygments_lexer": "ipython3",
   "version": "3.6.3"
  },
  "toc": {
   "base_numbering": 1,
   "nav_menu": {},
   "number_sections": true,
   "sideBar": true,
   "skip_h1_title": false,
   "title_cell": "Table of Contents",
   "title_sidebar": "Contents",
   "toc_cell": false,
   "toc_position": {},
   "toc_section_display": true,
   "toc_window_display": false
  },
  "varInspector": {
   "cols": {
    "lenName": 16,
    "lenType": 16,
    "lenVar": 40
   },
   "kernels_config": {
    "python": {
     "delete_cmd_postfix": "",
     "delete_cmd_prefix": "del ",
     "library": "var_list.py",
     "varRefreshCmd": "print(var_dic_list())"
    },
    "r": {
     "delete_cmd_postfix": ") ",
     "delete_cmd_prefix": "rm(",
     "library": "var_list.r",
     "varRefreshCmd": "cat(var_dic_list()) "
    }
   },
   "oldHeight": 122,
   "position": {
    "height": "144px",
    "left": "894px",
    "right": "20px",
    "top": "120px",
    "width": "350px"
   },
   "types_to_exclude": [
    "module",
    "function",
    "builtin_function_or_method",
    "instance",
    "_Feature"
   ],
   "varInspector_section_display": "block",
   "window_display": false
  }
 },
 "nbformat": 4,
 "nbformat_minor": 2
}
