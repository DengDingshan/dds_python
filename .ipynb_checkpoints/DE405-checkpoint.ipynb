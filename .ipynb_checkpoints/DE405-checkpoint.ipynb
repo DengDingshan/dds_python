{
 "cells": [
  {
   "cell_type": "code",
   "execution_count": 31,
   "metadata": {
    "collapsed": true
   },
   "outputs": [],
   "source": [
    "import numpy as np\n",
    "from jplephem.spk import SPK\n",
    "import time"
   ]
  },
  {
   "cell_type": "code",
   "execution_count": 25,
   "metadata": {
    "collapsed": true
   },
   "outputs": [],
   "source": [
    "kernel = SPK.open('de405.bsp')"
   ]
  },
  {
   "cell_type": "code",
   "execution_count": 26,
   "metadata": {},
   "outputs": [
    {
     "name": "stdout",
     "output_type": "stream",
     "text": [
      "File type NAIF/DAF and format BIG-IEEE with 15 segments:\n",
      "2433282.50..2469807.50  Solar System Barycenter (0) -> Mercury Barycenter (1)\n",
      "2433282.50..2469807.50  Solar System Barycenter (0) -> Venus Barycenter (2)\n",
      "2433282.50..2469807.50  Solar System Barycenter (0) -> Earth Barycenter (3)\n",
      "2433282.50..2469807.50  Solar System Barycenter (0) -> Mars Barycenter (4)\n",
      "2433282.50..2469807.50  Solar System Barycenter (0) -> Jupiter Barycenter (5)\n",
      "2433282.50..2469807.50  Solar System Barycenter (0) -> Saturn Barycenter (6)\n",
      "2433282.50..2469807.50  Solar System Barycenter (0) -> Uranus Barycenter (7)\n",
      "2433282.50..2469807.50  Solar System Barycenter (0) -> Neptune Barycenter (8)\n",
      "2433282.50..2469807.50  Solar System Barycenter (0) -> Pluto Barycenter (9)\n",
      "2433282.50..2469807.50  Solar System Barycenter (0) -> Sun (10)\n",
      "2433282.50..2469807.50  Earth Barycenter (3) -> Moon (301)\n",
      "2433282.50..2469807.50  Earth Barycenter (3) -> Earth (399)\n",
      "2433282.50..2469807.50  Mercury Barycenter (1) -> Mercury (199)\n",
      "2433282.50..2469807.50  Venus Barycenter (2) -> Venus (299)\n",
      "2433282.50..2469807.50  Mars Barycenter (4) -> Mars (499)\n"
     ]
    }
   ],
   "source": [
    "print(kernel)"
   ]
  },
  {
   "cell_type": "code",
   "execution_count": 63,
   "metadata": {},
   "outputs": [
    {
     "data": {
      "text/plain": [
       "array([-2.72009141e+07,  1.32944597e+08,  5.76436519e+07])"
      ]
     },
     "execution_count": 63,
     "metadata": {},
     "output_type": "execute_result"
    }
   ],
   "source": [
    "kernel[0,3].compute(2433282.50)"
   ]
  },
  {
   "cell_type": "code",
   "execution_count": 28,
   "metadata": {},
   "outputs": [
    {
     "data": {
      "text/plain": [
       "2456086.0"
      ]
     },
     "execution_count": 28,
     "metadata": {},
     "output_type": "execute_result"
    }
   ],
   "source": [
    "2451545 + 12*365.25 + 3*31 + 29 + 30 + 6"
   ]
  },
  {
   "cell_type": "code",
   "execution_count": 69,
   "metadata": {
    "scrolled": true
   },
   "outputs": [
    {
     "name": "stdout",
     "output_type": "stream",
     "text": [
      "yeah! 2445867.5 0.9999932216270917\n",
      "[2.13764835e+07 2.37056523e+08 1.03821749e+08] [1.25722913e+07 1.38956846e+08 6.02506714e+07]\n",
      "yeah! 2448786.5 0.999992512323979\n",
      "[3.54193215e+07 2.35778069e+08 1.02856604e+08] [2.02476015e+07 1.38150058e+08 5.98979683e+07]\n",
      "yeah! 2448787.5 0.9999944672753375\n",
      "[2.98972400e+07 2.36348487e+08 1.03298960e+08] [1.77369646e+07 1.38453524e+08 6.00296343e+07]\n",
      "yeah! 2451706.5 0.9999969698385278\n",
      "[4.38733542e+07 2.34646229e+08 1.02149031e+08] [2.53712573e+07 1.37406154e+08 5.95729535e+07]\n",
      "yeah! 2451707.5 0.9999937614953414\n",
      "[3.83765657e+07 2.35382050e+08 1.02663559e+08] [2.28724227e+07 1.37789147e+08 5.97390180e+07]\n",
      "yeah! 2454626.5 0.9999994650647617\n",
      "[5.22831426e+07 2.33261112e+08 1.01330438e+08] [3.04717851e+07 1.36504821e+08 5.91789349e+07]\n",
      "yeah! 2454627.5 0.999990936736698\n",
      "[4.68173945e+07 2.34161877e+08 1.01916705e+08] [2.79876323e+07 1.36967354e+08 5.93793609e+07]\n",
      "yeah! 2456084.5 0.999995003344639\n",
      "[10742186.98369148 38330416.75715211 16754012.2876867 ] [3.79378958e+07 1.34857668e+08 5.84633336e+07]\n",
      "yeah! 2457545.5 0.9999909281746899\n",
      "[6.60471759e+07 2.30435191e+08 9.96912254e+07] [3.80051314e+07 1.34853898e+08 5.84597768e+07]\n",
      "yeah! 2457546.5 0.9999998519967253\n",
      "[6.06485716e+07 2.31615315e+08 1.00398878e+08] [3.55489171e+07 1.35434723e+08 5.87116090e+07]\n",
      "yeah! 2460465.5 0.9999945487443187\n",
      "[7.42850257e+07 2.28365418e+08 9.85765905e+07] [4.29996557e+07 1.33538693e+08 5.78871338e+07]\n",
      "yeah! 2460466.5 0.9999981127490055\n",
      "[6.89341875e+07 2.29708276e+08 9.93546538e+07] [4.05664226e+07 1.34198343e+08 5.81731883e+07]\n",
      "yeah! 2463385.5 0.9999961064598131\n",
      "[8.24448740e+07 2.26051533e+08 9.73564118e+07] [4.79487742e+07 1.32073113e+08 5.72492822e+07]\n",
      "yeah! 2463386.5 0.9999941874036016\n",
      "[7.71481812e+07 2.27555225e+08 9.82036316e+07] [4.55421283e+07 1.32810453e+08 5.75688254e+07]\n",
      "yeah! 2466305.5 0.9999955255955918\n",
      "[9.05144753e+07 2.23481219e+08 9.60250379e+07] [5.28448352e+07 1.30440137e+08 5.65375526e+07]\n",
      "yeah! 2469225.5 0.9999926615937473\n",
      "[9.84786306e+07 2.20665648e+08 9.45889897e+07] [5.76674819e+07 1.28653691e+08 5.57607126e+07]\n",
      "10.210295915603638\n"
     ]
    }
   ],
   "source": [
    "time_start = time.time()\n",
    "for delta_date in range(36525):\n",
    "    date = 2433282.50 + 1 + delta_date\n",
    "    v = kernel[0,2].compute(date) + kernel[2,299].compute(date)\n",
    "    e = kernel[0,3].compute(date) + kernel[3,399].compute(date)\n",
    "    s = kernel[0,10].compute(date)\n",
    "    A = v - e ;B = s - e;\n",
    "    cos = A.dot(B)/(np.sqrt(A.dot(A))*np.sqrt(B.dot(B)))\n",
    "#     delta = np.arccos(cos)\n",
    "    if cos >= 0.99999:\n",
    "        print('yeah!',date,cos)\n",
    "        print(A,B)\n",
    "    \n",
    "print(time.time() - time_start)"
   ]
  },
  {
   "cell_type": "code",
   "execution_count": 44,
   "metadata": {},
   "outputs": [
    {
     "data": {
      "text/plain": [
       "20.409028727770178"
      ]
     },
     "execution_count": 44,
     "metadata": {},
     "output_type": "execute_result"
    }
   ],
   "source": [
    "(2459004.5 - 2451545)/365.5"
   ]
  },
  {
   "cell_type": "code",
   "execution_count": 65,
   "metadata": {},
   "outputs": [
    {
     "data": {
      "text/plain": [
       "0.9999891932763468"
      ]
     },
     "execution_count": 65,
     "metadata": {},
     "output_type": "execute_result"
    }
   ],
   "source": [
    "np.cos(np.arctan((6.955E5)/(1.496E8)))"
   ]
  },
  {
   "cell_type": "code",
   "execution_count": 70,
   "metadata": {},
   "outputs": [
    {
     "data": {
      "text/plain": [
       "2433282.500476666"
      ]
     },
     "execution_count": 70,
     "metadata": {},
     "output_type": "execute_result"
    }
   ],
   "source": [
    "segment = kernel[3,399]\n",
    "segment.start_jd"
   ]
  },
  {
   "cell_type": "code",
   "execution_count": null,
   "metadata": {
    "collapsed": true
   },
   "outputs": [],
   "source": []
  }
 ],
 "metadata": {
  "kernelspec": {
   "display_name": "Python 3",
   "language": "python",
   "name": "python3"
  },
  "language_info": {
   "codemirror_mode": {
    "name": "ipython",
    "version": 3
   },
   "file_extension": ".py",
   "mimetype": "text/x-python",
   "name": "python",
   "nbconvert_exporter": "python",
   "pygments_lexer": "ipython3",
   "version": "3.6.3"
  }
 },
 "nbformat": 4,
 "nbformat_minor": 2
}
