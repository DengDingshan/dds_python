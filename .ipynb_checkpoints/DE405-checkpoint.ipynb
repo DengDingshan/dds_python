{
 "cells": [
  {
   "cell_type": "code",
   "execution_count": 1,
   "metadata": {
    "collapsed": true
   },
   "outputs": [],
   "source": [
    "import numpy as np\n",
    "from jplephem.spk import SPK\n",
    "import de405\n",
    "from jplephem import Ephemeris\n",
    "import time"
   ]
  },
  {
   "cell_type": "code",
   "execution_count": 7,
   "metadata": {
    "collapsed": true
   },
   "outputs": [],
   "source": [
    "kernel = SPK.open('de405.bsp')\n",
    "eph = Ephemeris(de405)"
   ]
  },
  {
   "cell_type": "code",
   "execution_count": 8,
   "metadata": {},
   "outputs": [
    {
     "name": "stdout",
     "output_type": "stream",
     "text": [
      "File type NAIF/DAF and format BIG-IEEE with 15 segments:\n",
      "2433282.50..2469807.50  Solar System Barycenter (0) -> Mercury Barycenter (1)\n",
      "2433282.50..2469807.50  Solar System Barycenter (0) -> Venus Barycenter (2)\n",
      "2433282.50..2469807.50  Solar System Barycenter (0) -> Earth Barycenter (3)\n",
      "2433282.50..2469807.50  Solar System Barycenter (0) -> Mars Barycenter (4)\n",
      "2433282.50..2469807.50  Solar System Barycenter (0) -> Jupiter Barycenter (5)\n",
      "2433282.50..2469807.50  Solar System Barycenter (0) -> Saturn Barycenter (6)\n",
      "2433282.50..2469807.50  Solar System Barycenter (0) -> Uranus Barycenter (7)\n",
      "2433282.50..2469807.50  Solar System Barycenter (0) -> Neptune Barycenter (8)\n",
      "2433282.50..2469807.50  Solar System Barycenter (0) -> Pluto Barycenter (9)\n",
      "2433282.50..2469807.50  Solar System Barycenter (0) -> Sun (10)\n",
      "2433282.50..2469807.50  Earth Barycenter (3) -> Moon (301)\n",
      "2433282.50..2469807.50  Earth Barycenter (3) -> Earth (399)\n",
      "2433282.50..2469807.50  Mercury Barycenter (1) -> Mercury (199)\n",
      "2433282.50..2469807.50  Venus Barycenter (2) -> Venus (299)\n",
      "2433282.50..2469807.50  Mars Barycenter (4) -> Mars (499)\n"
     ]
    }
   ],
   "source": [
    "print(kernel)"
   ]
  },
  {
   "cell_type": "code",
   "execution_count": 40,
   "metadata": {},
   "outputs": [
    {
     "data": {
      "text/plain": [
       "2456086.0"
      ]
     },
     "execution_count": 40,
     "metadata": {},
     "output_type": "execute_result"
    }
   ],
   "source": [
    "2451545.0 + 12*365.25 + 3*31 + 29 + 30 + 6"
   ]
  },
  {
   "cell_type": "code",
   "execution_count": 49,
   "metadata": {
    "scrolled": true
   },
   "outputs": [
    {
     "name": "stdout",
     "output_type": "stream",
     "text": [
      "yeah! 2456084.425 0.9999893408069406\n",
      "yeah! 2456084.45 0.999991718049571\n",
      "yeah! 2456084.475 0.999993605563312\n",
      "yeah! 2456084.5 0.999995003344639\n",
      "yeah! 2456084.525 0.9999959113934752\n",
      "yeah! 2456084.55 0.9999963297132427\n",
      "yeah! 2456084.575 0.9999962583108561\n",
      "yeah! 2456084.6 0.9999956971967349\n",
      "yeah! 2456084.625 0.9999946463847975\n",
      "yeah! 2456084.65 0.9999931058924544\n",
      "yeah! 2456084.675 0.9999910757406119\n",
      "3.735922336578369\n"
     ]
    }
   ],
   "source": [
    "time_start = time.time()\n",
    "for delta_date in range(365*4*10):\n",
    "    date = 2451545.0 + 12*365.25 + delta_date*0.025\n",
    "    v = (eph.position('venus',date)).T[0]\n",
    "#     v2 = kernel[0,2].compute(date) + kernel[2,299].compute(date)\n",
    "    e = (eph.position('earthmoon', date) - eph.position('moon', date)*eph.earth_share).T[0]\n",
    "#     e2 = kernel[0,3].compute(date) + kernel[3,399].compute(date)\n",
    "    s = (eph.position('sun',date)).T[0]\n",
    "#     s2 = kernel[0,10].compute(date)\n",
    "    A = v - e ;B = s - e;\n",
    "#     A2 = v2 - e2;B2 = s2 - e2;\n",
    "    cos = A.dot(B)/(np.sqrt(A.dot(A))*np.sqrt(B.dot(B)))\n",
    "#     cos2 = A2.dot(B2)/(np.sqrt(A2.dot(A2))*np.sqrt(B2.dot(B2)))\n",
    "#     print(cos-cos2)\n",
    "#     print(date,cos)\n",
    "#     delta = 1 - cos\n",
    "    if cos > 0.9999891932763468:\n",
    "        if np.sqrt(A.dot(A)) < np.sqrt(B.dot(B)):\n",
    "            print('yeah!',date,cos)\n",
    "#             print(v,e,s)\n",
    "\n",
    "print(time.time() - time_start)"
   ]
  },
  {
   "cell_type": "code",
   "execution_count": 107,
   "metadata": {},
   "outputs": [
    {
     "data": {
      "text/plain": [
       "-49.965800273597814"
      ]
     },
     "execution_count": 107,
     "metadata": {},
     "output_type": "execute_result"
    }
   ],
   "source": [
    "(2433282.50 - 2451545)/365.5"
   ]
  },
  {
   "cell_type": "code",
   "execution_count": 92,
   "metadata": {},
   "outputs": [
    {
     "data": {
      "text/plain": [
       "0.9999891932763468"
      ]
     },
     "execution_count": 92,
     "metadata": {},
     "output_type": "execute_result"
    }
   ],
   "source": [
    "np.cos(np.arctan((6.955E5)/(1.496E8)))"
   ]
  },
  {
   "cell_type": "code",
   "execution_count": 31,
   "metadata": {},
   "outputs": [
    {
     "data": {
      "text/plain": [
       "0.01215058560962404"
      ]
     },
     "execution_count": 31,
     "metadata": {},
     "output_type": "execute_result"
    }
   ],
   "source": [
    "eph.earth_share"
   ]
  },
  {
   "cell_type": "code",
   "execution_count": null,
   "metadata": {
    "collapsed": true
   },
   "outputs": [],
   "source": []
  }
 ],
 "metadata": {
  "kernelspec": {
   "display_name": "Python 3",
   "language": "python",
   "name": "python3"
  },
  "language_info": {
   "codemirror_mode": {
    "name": "ipython",
    "version": 3
   },
   "file_extension": ".py",
   "mimetype": "text/x-python",
   "name": "python",
   "nbconvert_exporter": "python",
   "pygments_lexer": "ipython3",
   "version": "3.6.3"
  }
 },
 "nbformat": 4,
 "nbformat_minor": 2
}
