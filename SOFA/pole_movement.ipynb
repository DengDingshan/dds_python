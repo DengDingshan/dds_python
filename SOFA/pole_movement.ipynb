{
 "cells": [
  {
   "cell_type": "markdown",
   "metadata": {},
   "source": [
    "计算地球极点的移动\n",
    "\n",
    "等价于\n",
    "\n",
    "计算春分点的移动"
   ]
  },
  {
   "cell_type": "code",
   "execution_count": 2,
   "metadata": {
    "collapsed": true
   },
   "outputs": [],
   "source": [
    "import numpy as np\n",
    "from jplephem import Ephemeris\n",
    "import datetime\n",
    "import ltpecl\n",
    "import ltpequ"
   ]
  },
  {
   "cell_type": "code",
   "execution_count": 4,
   "metadata": {},
   "outputs": [
    {
     "name": "stdout",
     "output_type": "stream",
     "text": [
      "This module 'ltpecl' is auto-generated with f2py (version:2).\n",
      "Functions:\n",
      "  vec = iau_ltpecl(epj)\n",
      ".\n",
      "This module 'ltpequ' is auto-generated with f2py (version:2).\n",
      "Functions:\n",
      "  veq = iau_ltpequ(epj)\n",
      ".\n"
     ]
    }
   ],
   "source": [
    "print(ltpecl.__doc__)\n",
    "print(ltpequ.__doc__)"
   ]
  },
  {
   "cell_type": "code",
   "execution_count": 5,
   "metadata": {
    "collapsed": true
   },
   "outputs": [],
   "source": [
    "year_begin = -300\n",
    "year_end = 2018\n",
    "vec300BC = ltpecl.iau_ltpecl(year_begin)\n",
    "veq300BC = ltpequ.iau_ltpequ(year_begin)\n",
    "vec2018AD = ltpecl.iau_ltpecl(year_end)\n",
    "veq2018AD = ltpequ.iau_ltpequ(year_end)\n",
    "\n",
    "cross300BC = np.cross(veq300BC,vec300BC)\n",
    "cross2018AD = np.cross(veq2018AD,vec2018AD)"
   ]
  },
  {
   "cell_type": "code",
   "execution_count": 6,
   "metadata": {
    "collapsed": true
   },
   "outputs": [],
   "source": [
    "def Rx(x):\n",
    "    import numpy as np\n",
    "    # x is in the unit of deg, while xx is in the unit of rad\n",
    "    xx = x*2*np.pi/360\n",
    "    Rx = np.array([[1,0,0],\\\n",
    "                     [0,np.cos(xx),np.sin(xx)],\\\n",
    "                     [0,-np.sin(xx),np.cos(xx)]])\n",
    "    return Rx\n",
    "\n",
    "def equator2ecliptic(origin,epsilon,key):\n",
    "    # epsilon是黄赤交角\n",
    "    # from equ to ecl , key = 1\n",
    "    # from ec1 to equ , key = 2\n",
    "    # origin是个np.的1x3向量\n",
    "    if key == 1:\n",
    "        output = np.dot(origin,Rx(epsilon).T)\n",
    "    elif key == 2:\n",
    "        output = np.dot(origin,Rx(-epsilon).T)\n",
    "    else:\n",
    "        print('you need to input a key as: \\n from equ to ecl , key = 1' + \\\n",
    "        '\\n from ec1 to equ , key = 2')\n",
    "\n",
    "    return output"
   ]
  },
  {
   "cell_type": "code",
   "execution_count": 16,
   "metadata": {},
   "outputs": [
    {
     "name": "stdout",
     "output_type": "stream",
     "text": [
      "23.439302222222224\n"
     ]
    },
    {
     "data": {
      "text/plain": [
       "(array([0.34141822, 0.21307526, 0.0011194 ]),\n",
       " array([ 3.97735638e-01, -1.74552426e-03, -1.39759533e-06]))"
      ]
     },
     "execution_count": 16,
     "metadata": {},
     "output_type": "execute_result"
    }
   ],
   "source": [
    "epsilon = 84381.488/60/60\n",
    "print(epsilon)\n",
    "\n",
    "ecl300BC = equator2ecliptic(cross300BC,epsilon,1)\n",
    "ecl2018AD = equator2ecliptic(cross2018AD,epsilon,1)\n",
    "\n",
    "ecl300BC,ecl2018AD"
   ]
  },
  {
   "cell_type": "code",
   "execution_count": 14,
   "metadata": {},
   "outputs": [
    {
     "data": {
      "text/plain": [
       "array([ 0.39773564, -0.00174552])"
      ]
     },
     "execution_count": 14,
     "metadata": {},
     "output_type": "execute_result"
    }
   ],
   "source": [
    "ecl_300 = ecl300BC[0:2]\n",
    "ecl2018 = ecl2018AD[0:2]"
   ]
  },
  {
   "cell_type": "code",
   "execution_count": 15,
   "metadata": {},
   "outputs": [
    {
     "data": {
      "text/plain": [
       "(32.219270876838216, 'degree')"
      ]
     },
     "execution_count": 15,
     "metadata": {},
     "output_type": "execute_result"
    }
   ],
   "source": [
    "cos = np.dot(ecl_300,ecl2018)/(np.sqrt(np.dot(ecl_300,ecl_300)) * np.sqrt(np.dot(ecl2018,ecl2018)))\n",
    "np.degrees(np.arccos(cos)),'degree'"
   ]
  },
  {
   "cell_type": "code",
   "execution_count": null,
   "metadata": {
    "collapsed": true
   },
   "outputs": [],
   "source": []
  }
 ],
 "metadata": {
  "kernelspec": {
   "display_name": "Python 3",
   "language": "python",
   "name": "python3"
  },
  "language_info": {
   "codemirror_mode": {
    "name": "ipython",
    "version": 3
   },
   "file_extension": ".py",
   "mimetype": "text/x-python",
   "name": "python",
   "nbconvert_exporter": "python",
   "pygments_lexer": "ipython3",
   "version": "3.6.3"
  }
 },
 "nbformat": 4,
 "nbformat_minor": 2
}
