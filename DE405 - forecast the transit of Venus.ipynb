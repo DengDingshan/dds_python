{
 "cells": [
  {
   "cell_type": "markdown",
   "metadata": {},
   "source": [
    "# 用JPL历表——DE405算金星凌日\n",
    "\n",
    "DE405所用时间为tdb的UT1\n",
    "\n",
    "skyfield 包可以提供我们所需要的时间参数\n",
    "最终从儒略日归算到 UT1\n"
   ]
  },
  {
   "cell_type": "code",
   "execution_count": 26,
   "metadata": {
    "collapsed": true
   },
   "outputs": [],
   "source": [
    "import numpy as np\n",
    "from jplephem.spk import SPK\n",
    "import de405\n",
    "from jplephem import Ephemeris\n",
    "import time\n"
   ]
  },
  {
   "cell_type": "code",
   "execution_count": 27,
   "metadata": {},
   "outputs": [
    {
     "name": "stdout",
     "output_type": "stream",
     "text": [
      "Help on package de405:\n",
      "\n",
      "NAME\n",
      "    de405 - JPL Planetary and Lunar Ephemeris DE405 for the jplephem package.\n",
      "\n",
      "DESCRIPTION\n",
      "    This ephemeris has been the basis for the Astronomical Almanac of the\n",
      "    United States Naval Observatory since 2003 and powers the Jet Propulsion\n",
      "    Laboratory's online HORIZONS service. Coordinates and velocities are\n",
      "    provided for the major planets, the Sun, and Earth's Moon.\n",
      "    \n",
      "    :Name: DE405 (May 1997)\n",
      "    :Years: 1600 through 2200\n",
      "    :Planets: Yes\n",
      "    :Sun/Moon: Yes\n",
      "    :Nutations: Yes\n",
      "    :Librations: Yes\n",
      "    :Report: `Standish (1998) [PDF] <http://iau-comm4.jpl.nasa.gov/de405iom/de405iom.pdf>`_\n",
      "    :Size: 54 MB\n",
      "    \n",
      "    The accuracy of this ephemeris is good; the position of the Earth or\n",
      "    Mars, for example, should be accurate to within 2 km.  But the more\n",
      "    recent `DE421 <http://pypi.python.org/pypi/de421>`_ ephemeris provides\n",
      "    greater accuracy, especially with respect to the Moon, and you should\n",
      "    use it instead if you are planning a space mission.  For missions to\n",
      "    Mercury or Venus, `DE423 <http://pypi.python.org/pypi/de421>`_ will be\n",
      "    an even better choice.\n",
      "    \n",
      "    See `DE406 <http://pypi.python.org/pypi/de406>`_ if you are interested\n",
      "    in a similar ephemeris for dates far in the past or future, or `DE422\n",
      "    <http://pypi.python.org/pypi/de422>`_ if you want high accuracy over a\n",
      "    long time period (and have enough disk space).\n",
      "    \n",
      "    To compute using this ephemeris in Python, see the `jplephem\n",
      "    <http://pypi.python.org/pypi/jplephem>`_ package.\n",
      "\n",
      "PACKAGE CONTENTS\n",
      "\n",
      "\n",
      "FILE\n",
      "    /Users/dengdingshan/anaconda3/lib/python3.6/site-packages/de405/__init__.py\n",
      "\n",
      "\n"
     ]
    }
   ],
   "source": [
    "help(de405)"
   ]
  },
  {
   "cell_type": "code",
   "execution_count": 37,
   "metadata": {},
   "outputs": [
    {
     "data": {
      "text/plain": [
       "219584.0"
      ]
     },
     "execution_count": 37,
     "metadata": {},
     "output_type": "execute_result"
    }
   ],
   "source": [
    "J2000_startJD = 2451545.0\n",
    "JD1600 = 2305424.5\n",
    "JD2200 = 2525008.5\n",
    "\n",
    "delta_year = JD2200 - JD1600\n",
    "delta_year"
   ]
  },
  {
   "cell_type": "code",
   "execution_count": 40,
   "metadata": {
    "scrolled": true
   },
   "outputs": [
    {
     "name": "stdout",
     "output_type": "stream",
     "text": [
      "yeah! 2317110.5 0.999969916322772\n",
      "yeah! 2320030.5 0.9999738604082026\n",
      "yeah! 2322949.5 0.9999138075697116\n",
      "yeah! 2364408.5 0.9999777163404342\n",
      "yeah! 2367328.5 0.9999937082872135\n",
      "yeah! 2370248.5 0.9999111901389153\n",
      "yeah! 2405866.5 0.9999803680752392\n",
      "yeah! 2408786.5 0.9999601866275556\n",
      "yeah! 2411705.5 0.9999222808947831\n",
      "yeah! 2450245.5 0.9999082700965132\n",
      "yeah! 2453164.5 0.9999492311484272\n",
      "yeah! 2456084.5 0.999995003344639\n",
      "yeah! 2459004.5 0.9999456787738176\n",
      "yeah! 2494622.5 0.9999883843847766\n",
      "yeah! 2497542.5 0.9999477779748337\n",
      "yeah! 2500461.5 0.9999240596045589\n",
      "49.30140686035156\n"
     ]
    }
   ],
   "source": [
    "# 计算金星凌日的时间——粗略计算——按天\n",
    "# 金星-地球矢量 和 太阳-地球矢量比较\n",
    "time_start = time.time()\n",
    "Transit_date_raw = []\n",
    "for delta_date in range(int(delta_year)):\n",
    "    date = JD1600 + delta_date\n",
    "    v = (eph.position('venus',date)).T[0]\n",
    "#     v2 = kernel[0,2].compute(date) + kernel[2,299].compute(date)\n",
    "    e = (eph.position('earthmoon', date) - eph.position('moon', date)*eph.earth_share).T[0]\n",
    "#     e2 = kernel[0,3].compute(date) + kernel[3,399].compute(date)\n",
    "    s = (eph.position('sun',date)).T[0]\n",
    "#     s2 = kernel[0,10].compute(date)\n",
    "    A = v - e ;B = s - e;\n",
    "#     A2 = v2 - e2;B2 = s2 - e2;\n",
    "    cos = A.dot(B)/(np.sqrt(A.dot(A))*np.sqrt(B.dot(B)))\n",
    "#     cos2 = A2.dot(B2)/(np.sqrt(A2.dot(A2))*np.sqrt(B2.dot(B2)))\n",
    "\n",
    "    if cos > 0.9999: # 金星进入日地视野锥面 —— 粗略计算\n",
    "        if np.sqrt(A.dot(A)) < np.sqrt(B.dot(B)): # 金星在太阳和地球之间\n",
    "            print('yeah!',date,cos)\n",
    "            Transit_date_raw.append(date)\n",
    "#             print(v,e,s)\n",
    "\n",
    "print(time.time() - time_start)\n"
   ]
  },
  {
   "cell_type": "code",
   "execution_count": 54,
   "metadata": {},
   "outputs": [
    {
     "data": {
      "text/plain": [
       "0.0006944444444444444"
      ]
     },
     "execution_count": 54,
     "metadata": {},
     "output_type": "execute_result"
    }
   ],
   "source": [
    "# 一个儒略日 86400 SI秒，我们需要精确到分钟，就需要\n",
    "1/86400 * 60\n",
    "# 一分钟为0.0007 JDdays\n",
    "# 但是其实我们并不能够获得精确的凌日开始/结束时间，所以我们给出相应的去掉秒数的那个时间就可以了"
   ]
  },
  {
   "cell_type": "code",
   "execution_count": 61,
   "metadata": {},
   "outputs": [
    {
     "name": "stdout",
     "output_type": "stream",
     "text": [
      "[2317110.685]\n",
      "[2317110.753] end\n",
      "[2317110.685, 2320030.13]\n",
      "[2317110.753, 2320030.399] end\n",
      "[2317110.685, 2320030.13]\n",
      "[2317110.753, 2320030.399] end\n",
      "[2317110.685, 2320030.13, 2364408.584]\n",
      "[2317110.753, 2320030.399, 2364408.851] end\n",
      "[2317110.685, 2320030.13, 2364408.584, 2367328.303]\n",
      "[2317110.753, 2320030.399, 2364408.851, 2367328.558] end\n",
      "[2317110.685, 2320030.13, 2364408.584, 2367328.303]\n",
      "[2317110.753, 2320030.399, 2364408.851, 2367328.558] end\n",
      "[2317110.685, 2320030.13, 2364408.584, 2367328.303, 2405866.586]\n",
      "[2317110.753, 2320030.399, 2364408.851, 2367328.558, 2405866.749] end\n",
      "[2317110.685, 2320030.13, 2364408.584, 2367328.303, 2405866.586, 2408786.088]\n",
      "[2317110.753, 2320030.399, 2364408.851, 2367328.558, 2405866.749, 2408786.329] end\n",
      "[2317110.685, 2320030.13, 2364408.584, 2367328.303, 2405866.586, 2408786.088]\n",
      "[2317110.753, 2320030.399, 2364408.851, 2367328.558, 2405866.749, 2408786.329] end\n",
      "[2317110.685, 2320030.13, 2364408.584, 2367328.303, 2405866.586, 2408786.088]\n",
      "[2317110.753, 2320030.399, 2364408.851, 2367328.558, 2405866.749, 2408786.329] end\n",
      "[2317110.685, 2320030.13, 2364408.584, 2367328.303, 2405866.586, 2408786.088, 2453164.718]\n",
      "[2317110.753, 2320030.399, 2364408.851, 2367328.558, 2405866.749, 2408786.329, 2453164.969] end\n",
      "[2317110.685, 2320030.13, 2364408.584, 2367328.303, 2405866.586, 2408786.088, 2453164.718, 2456084.424]\n",
      "[2317110.753, 2320030.399, 2364408.851, 2367328.558, 2405866.749, 2408786.329, 2453164.969, 2456084.694] end\n",
      "[2317110.685, 2320030.13, 2364408.584, 2367328.303, 2405866.586, 2408786.088, 2453164.718, 2456084.424]\n",
      "[2317110.753, 2320030.399, 2364408.851, 2367328.558, 2405866.749, 2408786.329, 2453164.969, 2456084.694] end\n",
      "[2317110.685, 2320030.13, 2364408.584, 2367328.303, 2405866.586, 2408786.088, 2453164.718, 2456084.424, 2494622.509]\n",
      "[2317110.753, 2320030.399, 2364408.851, 2367328.558, 2405866.749, 2408786.329, 2453164.969, 2456084.694, 2494622.722] end\n",
      "[2317110.685, 2320030.13, 2364408.584, 2367328.303, 2405866.586, 2408786.088, 2453164.718, 2456084.424, 2494622.509, 2497542.064]\n",
      "[2317110.753, 2320030.399, 2364408.851, 2367328.558, 2405866.749, 2408786.329, 2453164.969, 2456084.694, 2494622.722, 2497542.269] end\n",
      "[2317110.685, 2320030.13, 2364408.584, 2367328.303, 2405866.586, 2408786.088, 2453164.718, 2456084.424, 2494622.509, 2497542.064]\n",
      "[2317110.753, 2320030.399, 2364408.851, 2367328.558, 2405866.749, 2408786.329, 2453164.969, 2456084.694, 2494622.722, 2497542.269] end\n",
      "4.017771005630493\n"
     ]
    }
   ],
   "source": [
    "# 计算金星凌日，精确到分钟\n",
    "time_start = time.time()\n",
    "Transit_date_accurate_Start = []\n",
    "Transit_date_accurate_End = []\n",
    "bin_date = 0.001\n",
    "for date_raw in Transit_date_raw:\n",
    "    Transit_daytime = []\n",
    "    for delta_date in range(1000): #从粗算的日子去加减0.5天（间隔1天），再取每个间隔为0.001day,获得开始和结束时间\n",
    "        date = date_raw - 0.5 + delta_date*bin_date\n",
    "        v = (eph.position('venus',date)).T[0]\n",
    "    #     v2 = kernel[0,2].compute(date) + kernel[2,299].compute(date)\n",
    "        e = (eph.position('earthmoon', date) - eph.position('moon', date)*eph.earth_share).T[0]\n",
    "    #     e2 = kernel[0,3].compute(date) + kernel[3,399].compute(date)\n",
    "        s = (eph.position('sun',date)).T[0]\n",
    "    #     s2 = kernel[0,10].compute(date)\n",
    "        A = v - e ;B = s - e;\n",
    "    #     A2 = v2 - e2;B2 = s2 - e2;\n",
    "        cos = A.dot(B)/(np.sqrt(A.dot(A))*np.sqrt(B.dot(B)))\n",
    "    #     cos2 = A2.dot(B2)/(np.sqrt(A2.dot(A2))*np.sqrt(B2.dot(B2)))\n",
    "\n",
    "        if cos > 0.999989193276346: # 金星进入日地视野锥面 —— 精确计算\n",
    "            if np.sqrt(A.dot(A)) < np.sqrt(B.dot(B)): # 金星在太阳和地球之间\n",
    "#                 print('yeah!',date,cos)\n",
    "                Transit_daytime.append(date)\n",
    "    if len(Transit_daytime) != 0:\n",
    "        Transit_date_accurate_Start.append(np.min(np.array(Transit_daytime)))\n",
    "        Transit_date_accurate_End.append(np.max(np.array(Transit_daytime)))\n",
    "    print(Transit_date_accurate_Start)\n",
    "    print(Transit_date_accurate_End,'end')\n",
    "print(time.time() - time_start)"
   ]
  },
  {
   "cell_type": "markdown",
   "metadata": {},
   "source": [
    "# II. 把儒略日转化为ut1"
   ]
  },
  {
   "cell_type": "code",
   "execution_count": 42,
   "metadata": {},
   "outputs": [
    {
     "name": "stderr",
     "output_type": "stream",
     "text": [
      "\r",
      "[#################################] 100% deltat.preds\n"
     ]
    }
   ],
   "source": [
    "# 使用skyfield包（注意需要科学上网下载deltat表）\n",
    "from skyfield.api import load\n",
    "import skyfield\n",
    "import datetime\n",
    "\n",
    "ts = skyfield.api.load.timescale()"
   ]
  },
  {
   "cell_type": "code",
   "execution_count": 52,
   "metadata": {},
   "outputs": [
    {
     "name": "stdout",
     "output_type": "stream",
     "text": [
      "1599-12-08 23:59:17.817000+00:00\n"
     ]
    }
   ],
   "source": [
    "# Example\n",
    "t = ts.tdb(jd=2305424.5)\n",
    "tt = t.utc_datetime()\n",
    "print(tt)\n",
    "\n"
   ]
  },
  {
   "cell_type": "code",
   "execution_count": 67,
   "metadata": {
    "scrolled": false
   },
   "outputs": [
    {
     "name": "stdout",
     "output_type": "stream",
     "text": [
      "1\n",
      "1631-12-07 04:25:41.817000+00:00\n",
      "1631-12-07 06:03:37.017000+00:00\n",
      "----------\n",
      "2\n",
      "1639-12-04 15:06:29.817000+00:00\n",
      "1639-12-04 21:33:51.417000+00:00\n",
      "----------\n",
      "3\n",
      "1761-06-06 02:00:15.415000+00:00\n",
      "1761-06-06 08:24:44.215000+00:00\n",
      "----------\n",
      "4\n",
      "1769-06-03 19:15:37.015000+00:00\n",
      "1769-06-04 01:22:49.015000+00:00\n",
      "----------\n",
      "5\n",
      "1874-12-09 02:03:08.217000+00:00\n",
      "1874-12-09 05:57:51.417000+00:00\n",
      "----------\n",
      "6\n",
      "1882-12-06 14:06:01.017000+00:00\n",
      "1882-12-06 19:53:03.417000+00:00\n",
      "----------\n",
      "7\n",
      "2004-06-08 05:12:51.015000+00:00\n",
      "2004-06-08 11:14:17.415000+00:00\n",
      "----------\n",
      "8\n",
      "2012-06-05 22:09:27.415000+00:00\n",
      "2012-06-06 04:38:15.415000+00:00\n",
      "----------\n",
      "9\n",
      "2117-12-11 00:11:48.417000+00:00\n",
      "2117-12-11 05:18:31.617000+00:00\n",
      "----------\n",
      "10\n",
      "2125-12-08 13:31:00.417000+00:00\n",
      "2125-12-08 18:26:12.417000+00:00\n",
      "----------\n"
     ]
    }
   ],
   "source": [
    "utc_start = []\n",
    "utc_end = []\n",
    "for i in range(len(Transit_date_accurate_Start)):\n",
    "    \n",
    "    for JDdate in Transit_date_accurate_Start:\n",
    "        t_single = ts.tdb(jd = JDdate)\n",
    "        utc_start.append(t_single.utc_datetime())\n",
    "\n",
    "    for JDdate in Transit_date_accurate_End:\n",
    "        t_single = ts.tdb(jd = JDdate)\n",
    "        utc_end.append(t_single.utc_datetime())\n",
    "    print(i+1)\n",
    "    print(utc_start[i])\n",
    "    print(utc_end[i])\n",
    "    print('----------')\n"
   ]
  },
  {
   "cell_type": "code",
   "execution_count": 107,
   "metadata": {},
   "outputs": [
    {
     "data": {
      "text/plain": [
       "-49.965800273597814"
      ]
     },
     "execution_count": 107,
     "metadata": {},
     "output_type": "execute_result"
    }
   ],
   "source": [
    "(2433282.50 - 2451545)/365.5"
   ]
  },
  {
   "cell_type": "code",
   "execution_count": 92,
   "metadata": {},
   "outputs": [
    {
     "data": {
      "text/plain": [
       "0.9999891932763468"
      ]
     },
     "execution_count": 92,
     "metadata": {},
     "output_type": "execute_result"
    }
   ],
   "source": [
    "np.cos(np.arctan((6.955E5)/(1.496E8)))"
   ]
  },
  {
   "cell_type": "code",
   "execution_count": 31,
   "metadata": {},
   "outputs": [
    {
     "data": {
      "text/plain": [
       "0.01215058560962404"
      ]
     },
     "execution_count": 31,
     "metadata": {},
     "output_type": "execute_result"
    }
   ],
   "source": [
    "eph.earth_share"
   ]
  },
  {
   "cell_type": "code",
   "execution_count": null,
   "metadata": {
    "collapsed": true
   },
   "outputs": [],
   "source": []
  }
 ],
 "metadata": {
  "kernelspec": {
   "display_name": "Python 3",
   "language": "python",
   "name": "python3"
  },
  "language_info": {
   "codemirror_mode": {
    "name": "ipython",
    "version": 3
   },
   "file_extension": ".py",
   "mimetype": "text/x-python",
   "name": "python",
   "nbconvert_exporter": "python",
   "pygments_lexer": "ipython3",
   "version": "3.6.3"
  }
 },
 "nbformat": 4,
 "nbformat_minor": 2
}
