{
 "cells": [
  {
   "cell_type": "code",
   "execution_count": 31,
   "metadata": {
    "collapsed": true
   },
   "outputs": [],
   "source": [
    "import numpy as np\n",
    "from jplephem.spk import SPK\n",
    "import time"
   ]
  },
  {
   "cell_type": "code",
   "execution_count": 25,
   "metadata": {
    "collapsed": true
   },
   "outputs": [],
   "source": [
    "kernel = SPK.open('de405.bsp')"
   ]
  },
  {
   "cell_type": "code",
   "execution_count": 26,
   "metadata": {},
   "outputs": [
    {
     "name": "stdout",
     "output_type": "stream",
     "text": [
      "File type NAIF/DAF and format BIG-IEEE with 15 segments:\n",
      "2433282.50..2469807.50  Solar System Barycenter (0) -> Mercury Barycenter (1)\n",
      "2433282.50..2469807.50  Solar System Barycenter (0) -> Venus Barycenter (2)\n",
      "2433282.50..2469807.50  Solar System Barycenter (0) -> Earth Barycenter (3)\n",
      "2433282.50..2469807.50  Solar System Barycenter (0) -> Mars Barycenter (4)\n",
      "2433282.50..2469807.50  Solar System Barycenter (0) -> Jupiter Barycenter (5)\n",
      "2433282.50..2469807.50  Solar System Barycenter (0) -> Saturn Barycenter (6)\n",
      "2433282.50..2469807.50  Solar System Barycenter (0) -> Uranus Barycenter (7)\n",
      "2433282.50..2469807.50  Solar System Barycenter (0) -> Neptune Barycenter (8)\n",
      "2433282.50..2469807.50  Solar System Barycenter (0) -> Pluto Barycenter (9)\n",
      "2433282.50..2469807.50  Solar System Barycenter (0) -> Sun (10)\n",
      "2433282.50..2469807.50  Earth Barycenter (3) -> Moon (301)\n",
      "2433282.50..2469807.50  Earth Barycenter (3) -> Earth (399)\n",
      "2433282.50..2469807.50  Mercury Barycenter (1) -> Mercury (199)\n",
      "2433282.50..2469807.50  Venus Barycenter (2) -> Venus (299)\n",
      "2433282.50..2469807.50  Mars Barycenter (4) -> Mars (499)\n"
     ]
    }
   ],
   "source": [
    "print(kernel)"
   ]
  },
  {
   "cell_type": "code",
   "execution_count": 63,
   "metadata": {},
   "outputs": [
    {
     "data": {
      "text/plain": [
       "array([-2.72009141e+07,  1.32944597e+08,  5.76436519e+07])"
      ]
     },
     "execution_count": 63,
     "metadata": {},
     "output_type": "execute_result"
    }
   ],
   "source": [
    "kernel[0,3].compute(2433282.50)"
   ]
  },
  {
   "cell_type": "code",
   "execution_count": 28,
   "metadata": {},
   "outputs": [
    {
     "data": {
      "text/plain": [
       "2456086.0"
      ]
     },
     "execution_count": 28,
     "metadata": {},
     "output_type": "execute_result"
    }
   ],
   "source": [
    "2451545 + 12*365.25 + 3*31 + 29 + 30 + 6"
   ]
  },
  {
   "cell_type": "code",
   "execution_count": 105,
   "metadata": {
    "scrolled": true
   },
   "outputs": [
    {
     "name": "stdout",
     "output_type": "stream",
     "text": [
      "yeah! 2456084.5 0.999995003344639\n",
      "[-27568119.0403795  -96794233.50528169 -41827730.92094239] [-3.83103060e+07 -1.35124650e+08 -5.85817432e+07] [-372410.19946035 -266981.93919819 -118409.64125584]\n",
      "yeah! 2453164.75 0.9999919834249656\n",
      "[-22628500.0810582  -97561869.43276632 -42433089.31343979] [-3.16868171e+07 -1.36376126e+08 -5.91376224e+07] [ 593197.49337586 -237282.02834439 -116354.39324538]\n",
      "38.60043168067932\n"
     ]
    }
   ],
   "source": [
    "time_start = time.time()\n",
    "for delta_date in range(36525*4):\n",
    "    date = 2469807.50 - 1 - delta_date*0.25\n",
    "    v = kernel[0,2].compute(date) + kernel[2,299].compute(date)\n",
    "    e = kernel[0,3].compute(date) + kernel[3,399].compute(date)\n",
    "    s = kernel[0,10].compute(date)\n",
    "    A = v - e ;B = s - e;\n",
    "    cos = A.dot(B)/(np.sqrt(A.dot(A))*np.sqrt(B.dot(B)))\n",
    "#     delta = 1 - cos\n",
    "    if cos > 0.9999891932763468:\n",
    "        if np.sqrt(A.dot(A)) < np.sqrt(B.dot(B)):\n",
    "            print('yeah!',date,cos)\n",
    "            print(v,e,s)\n",
    "\n",
    "print(time.time() - time_start)"
   ]
  },
  {
   "cell_type": "code",
   "execution_count": 107,
   "metadata": {},
   "outputs": [
    {
     "data": {
      "text/plain": [
       "-49.965800273597814"
      ]
     },
     "execution_count": 107,
     "metadata": {},
     "output_type": "execute_result"
    }
   ],
   "source": [
    "(2433282.50 - 2451545)/365.5"
   ]
  },
  {
   "cell_type": "code",
   "execution_count": 92,
   "metadata": {},
   "outputs": [
    {
     "data": {
      "text/plain": [
       "0.9999891932763468"
      ]
     },
     "execution_count": 92,
     "metadata": {},
     "output_type": "execute_result"
    }
   ],
   "source": [
    "np.cos(np.arctan((6.955E5)/(1.496E8)))"
   ]
  },
  {
   "cell_type": "code",
   "execution_count": 70,
   "metadata": {},
   "outputs": [
    {
     "data": {
      "text/plain": [
       "2433282.500476666"
      ]
     },
     "execution_count": 70,
     "metadata": {},
     "output_type": "execute_result"
    }
   ],
   "source": [
    "segment = kernel[3,399]\n",
    "segment.start_jd"
   ]
  },
  {
   "cell_type": "code",
   "execution_count": 100,
   "metadata": {},
   "outputs": [
    {
     "data": {
      "text/plain": [
       "-10.9"
      ]
     },
     "execution_count": 100,
     "metadata": {},
     "output_type": "execute_result"
    }
   ],
   "source": [
    "a = np.array([1.1,2,3])\n",
    "b = np.array([-3,-2.3,-1])\n",
    "a.dot(b)"
   ]
  },
  {
   "cell_type": "code",
   "execution_count": null,
   "metadata": {
    "collapsed": true
   },
   "outputs": [],
   "source": []
  }
 ],
 "metadata": {
  "kernelspec": {
   "display_name": "Python 3",
   "language": "python",
   "name": "python3"
  },
  "language_info": {
   "codemirror_mode": {
    "name": "ipython",
    "version": 3
   },
   "file_extension": ".py",
   "mimetype": "text/x-python",
   "name": "python",
   "nbconvert_exporter": "python",
   "pygments_lexer": "ipython3",
   "version": "3.6.3"
  }
 },
 "nbformat": 4,
 "nbformat_minor": 2
}
